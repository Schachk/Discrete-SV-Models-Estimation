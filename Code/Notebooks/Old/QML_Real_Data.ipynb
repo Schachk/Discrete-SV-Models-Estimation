{
 "cells": [
  {
   "cell_type": "markdown",
   "id": "1ae41d89",
   "metadata": {},
   "source": [
    "## Volatility Risk Premium - Stochastic Volatility"
   ]
  },
  {
   "cell_type": "code",
   "execution_count": 1,
   "id": "895c3e59",
   "metadata": {},
   "outputs": [],
   "source": [
    "USER_PATH <- \"D:/Softwares/\"\n",
    "USER_PATH2 <- \"D:/Softwares/GitHub/Discrete-SV-Models-Estimation/Code/\" # Change only here\n",
    "ILLUS_PATH <- paste0(USER_PATH2, \"Illustration/\")\n",
    "DATA_INPUT_PATH <- paste0(USER_PATH,\"GitHub/Systemic_Risk_Measures/Code/Python/Data_Extraction/\")\n",
    "FUNCTION_PATH <- paste0(USER_PATH, \"GitHub/Systemic_Risk_Measures/Code/R/Functions/\")"
   ]
  },
  {
   "cell_type": "code",
   "execution_count": 2,
   "id": "c125cbc3",
   "metadata": {},
   "outputs": [],
   "source": [
    "source(paste0(FUNCTION_PATH, \"CoVaR_project2.R\"))\n",
    "source(paste0(FUNCTION_PATH, \"CoVaR_Functions.R\"))"
   ]
  },
  {
   "cell_type": "code",
   "execution_count": 3,
   "id": "1873ae3c",
   "metadata": {},
   "outputs": [
    {
     "name": "stderr",
     "output_type": "stream",
     "text": [
      "\n",
      "Attaching package: 'dplyr'\n",
      "\n",
      "\n",
      "The following objects are masked from 'package:stats':\n",
      "\n",
      "    filter, lag\n",
      "\n",
      "\n",
      "The following objects are masked from 'package:base':\n",
      "\n",
      "    intersect, setdiff, setequal, union\n",
      "\n",
      "\n",
      "Warning message:\n",
      "\"package 'tidyquant' was built under R version 4.1.3\"\n",
      "Loading required package: lubridate\n",
      "\n",
      "\n",
      "Attaching package: 'lubridate'\n",
      "\n",
      "\n",
      "The following objects are masked from 'package:base':\n",
      "\n",
      "    date, intersect, setdiff, union\n",
      "\n",
      "\n",
      "Loading required package: PerformanceAnalytics\n",
      "\n",
      "Warning message:\n",
      "\"package 'PerformanceAnalytics' was built under R version 4.1.3\"\n",
      "Loading required package: xts\n",
      "\n",
      "Loading required package: zoo\n",
      "\n",
      "\n",
      "Attaching package: 'zoo'\n",
      "\n",
      "\n",
      "The following objects are masked from 'package:base':\n",
      "\n",
      "    as.Date, as.Date.numeric\n",
      "\n",
      "\n",
      "\n",
      "Attaching package: 'xts'\n",
      "\n",
      "\n",
      "The following objects are masked from 'package:dplyr':\n",
      "\n",
      "    first, last\n",
      "\n",
      "\n",
      "\n",
      "Attaching package: 'PerformanceAnalytics'\n",
      "\n",
      "\n",
      "The following object is masked from 'package:graphics':\n",
      "\n",
      "    legend\n",
      "\n",
      "\n",
      "Loading required package: quantmod\n",
      "\n",
      "Loading required package: TTR\n",
      "\n",
      "Registered S3 method overwritten by 'quantmod':\n",
      "  method            from\n",
      "  as.zoo.data.frame zoo \n",
      "\n",
      "\u001b[30m==\u001b[39m \u001b[30mNeed to Learn tidyquant?\u001b[39m \u001b[30m====================================================\u001b[39m\u001b[34m\n",
      "Business Science offers a 1-hour course - Learning Lab #9: Performance Analysis & Portfolio Optimization with tidyquant!\n",
      "\u001b[39m\u001b[34m</> Learn more at: https://university.business-science.io/p/learning-labs-pro </>\u001b[39m\n",
      "\n",
      "-- \u001b[1mAttaching packages\u001b[22m --------------------------------------- tidyverse 1.3.1 --\n",
      "\n",
      "\u001b[32mv\u001b[39m \u001b[34mtidyr  \u001b[39m 1.2.0     \u001b[32mv\u001b[39m \u001b[34mstringr\u001b[39m 1.4.0\n",
      "\u001b[32mv\u001b[39m \u001b[34mreadr  \u001b[39m 2.1.2     \u001b[32mv\u001b[39m \u001b[34mforcats\u001b[39m 0.5.1\n",
      "\u001b[32mv\u001b[39m \u001b[34mpurrr  \u001b[39m 0.3.4     \n",
      "\n",
      "-- \u001b[1mConflicts\u001b[22m ------------------------------------------ tidyverse_conflicts() --\n",
      "\u001b[31mx\u001b[39m \u001b[34mlubridate\u001b[39m::\u001b[32mas.difftime()\u001b[39m masks \u001b[34mbase\u001b[39m::as.difftime()\n",
      "\u001b[31mx\u001b[39m \u001b[34mlubridate\u001b[39m::\u001b[32mdate()\u001b[39m        masks \u001b[34mbase\u001b[39m::date()\n",
      "\u001b[31mx\u001b[39m \u001b[34mdplyr\u001b[39m::\u001b[32mfilter()\u001b[39m          masks \u001b[34mstats\u001b[39m::filter()\n",
      "\u001b[31mx\u001b[39m \u001b[34mxts\u001b[39m::\u001b[32mfirst()\u001b[39m             masks \u001b[34mdplyr\u001b[39m::first()\n",
      "\u001b[31mx\u001b[39m \u001b[34mlubridate\u001b[39m::\u001b[32mintersect()\u001b[39m   masks \u001b[34mbase\u001b[39m::intersect()\n",
      "\u001b[31mx\u001b[39m \u001b[34mdplyr\u001b[39m::\u001b[32mlag()\u001b[39m             masks \u001b[34mstats\u001b[39m::lag()\n",
      "\u001b[31mx\u001b[39m \u001b[34mxts\u001b[39m::\u001b[32mlast()\u001b[39m              masks \u001b[34mdplyr\u001b[39m::last()\n",
      "\u001b[31mx\u001b[39m \u001b[34mlubridate\u001b[39m::\u001b[32msetdiff()\u001b[39m     masks \u001b[34mbase\u001b[39m::setdiff()\n",
      "\u001b[31mx\u001b[39m \u001b[34mlubridate\u001b[39m::\u001b[32munion()\u001b[39m       masks \u001b[34mbase\u001b[39m::union()\n",
      "\n",
      "\n",
      "Attaching package: 'reshape2'\n",
      "\n",
      "\n",
      "The following object is masked from 'package:tidyr':\n",
      "\n",
      "    smiths\n",
      "\n",
      "\n",
      "\n",
      "Attaching package: 'MASS'\n",
      "\n",
      "\n",
      "The following object is masked from 'package:dplyr':\n",
      "\n",
      "    select\n",
      "\n",
      "\n",
      "\n",
      "Please cite as: \n",
      "\n",
      "\n",
      " Hlavac, Marek (2022). stargazer: Well-Formatted Regression and Summary Statistics Tables.\n",
      "\n",
      " R package version 5.2.3. https://CRAN.R-project.org/package=stargazer \n",
      "\n",
      "\n"
     ]
    }
   ],
   "source": [
    "library(ggplot2)\n",
    "library(dplyr)\n",
    "library(tidyquant)\n",
    "library(stats)\n",
    "library(tibble)\n",
    "library(base)\n",
    "library(tidyverse)\n",
    "library(reshape2)\n",
    "library(pbivnorm)\n",
    "library(MASS)\n",
    "library(stargazer)"
   ]
  },
  {
   "cell_type": "code",
   "execution_count": 4,
   "id": "96babd3c",
   "metadata": {},
   "outputs": [],
   "source": [
    "LR_uc_test <- function(Hit_conso, alpha, chi_level){\n",
    "   \n",
    "    # Initialisation\n",
    "    LR_uc<-c()\n",
    "    LR_uc_v<-c()\n",
    "    M<-length(Hit_conso[,1])\n",
    "    n<-length(Hit_conso[1,])\n",
    "   \n",
    "    # Model\n",
    "    for (j in 1:M){\n",
    "        # Data preparation\n",
    "        Hit<-Hit_conso[j,]\n",
    "        sum_Hit<-sum(Hit)\n",
    "        mean_Hit<-mean(Hit)\n",
    "       \n",
    "        num<-alpha**sum_Hit * (1-alpha)**(n-sum_Hit)\n",
    "        den<-mean_Hit**sum_Hit * (1-mean_Hit)**(n-sum_Hit)\n",
    "        LR_uc[j]<-(-2)*log(num/den)\n",
    "       \n",
    "        if(LR_uc[j]>chi_level){      # For alpha1 = 0.01\n",
    "            LR_uc_v[j]<-1\n",
    "        } else {\n",
    "            LR_uc_v[j]<-0\n",
    "        }\n",
    "    }\n",
    "    Test_uc<-mean(LR_uc_v)\n",
    "    list(Test_uc=Test_uc, LR_uc=LR_uc)\n",
    "}\n",
    "\n",
    "LR_ind_test <- function(Hit_conso, alpha, chi_level){\n",
    "    # Initialisation\n",
    "    LR_ind<-c()\n",
    "    LR_ind_v<-c()\n",
    "    M<-length(Hit_conso[,1])\n",
    "    n<-length(Hit_conso[1,])\n",
    "   \n",
    "    # Model\n",
    "    for (j in 1:M){\n",
    "        # Data preparation\n",
    "        Hit<-Hit_conso[j,]\n",
    "        sum_Hit<-sum(Hit)\n",
    "        mean_Hit<-mean(Hit)\n",
    "        n_10<-0\n",
    "        n_11<-0\n",
    "        n_01<-0\n",
    "        n_00<-0\n",
    "       \n",
    "        # Model\n",
    "        for (t in 1:(length(Hit)-1)){\n",
    "            if (Hit[t]==1 & Hit[t+1]==0){\n",
    "                n_10<-n_10+1\n",
    "            }\n",
    "            else if (Hit[t]==1 & Hit[t+1]==1){\n",
    "                n_11<-n_11+1\n",
    "            }\n",
    "            else if (Hit[t]==0 & Hit[t+1]==1){\n",
    "                n_01<-n_01+1\n",
    "            }\n",
    "            else if (Hit[t]==0 & Hit[t+1]==0){\n",
    "                n_00<-n_00+1\n",
    "            }\n",
    "        }\n",
    "        pi_obs<-sum(Hit)/length(Hit)\n",
    "        pi_01<-n_01/(n_00+n_01)\n",
    "        pi_11<-n_11/(n_10+n_11)\n",
    "        num<-pi_obs**sum_Hit * (1-pi_obs)**(length(Hit)-sum_Hit)\n",
    "        den<-pi_01**n_01 * (1-pi_01)**n_00 * pi_11**n_11 * (1-pi_11)**n_10\n",
    "        LR_ind[j]<-(-2)*log(num/den)\n",
    "       \n",
    "        if(LR_ind[j]>chi_level){\n",
    "            LR_ind_v[j]<-1\n",
    "        } else {\n",
    "            LR_ind_v[j]<-0\n",
    "        }\n",
    "    }\n",
    "    Test_ind<-mean(LR_ind_v)\n",
    "    list(Test_ind=Test_ind, LR_ind=LR_ind)\n",
    "}\n",
    "\n",
    "LR_cc_test <- function(LR_uc_conso, LR_ind_conso, alpha, chi2_level){\n",
    "    # Initialisation\n",
    "    LR_cc<-c()\n",
    "    LR_cc_v<-c()\n",
    "    M<-length(LR_uc_conso)\n",
    "       \n",
    "    # Model\n",
    "    for (j in 1:M){\n",
    "        # Data preparation\n",
    "        LR_uc<-LR_uc_conso[j]\n",
    "        LR_ind<-LR_ind_conso[j]\n",
    "       \n",
    "        # Model\n",
    "        LR_cc[j]<-LR_uc+LR_ind\n",
    "       \n",
    "        if(LR_cc[j]>chi2_level){\n",
    "            LR_cc_v[j]<-1\n",
    "        } else {\n",
    "            LR_cc_v[j]<-0\n",
    "        }\n",
    "    }\n",
    "    Test_cc<-mean(LR_cc_v)\n",
    "    list(Test_cc=Test_cc, LR_cc=LR_cc)\n",
    "}\n",
    "\n",
    "alpha_crit <- function(eps_conso, VaR_mat, alpha, M){\n",
    "        # Initialisation\n",
    "    emp_mean_cond<-c()\n",
    "    M<-length(eps_conso[1,])\n",
    "    n<-length(eps_conso[,1])\n",
    "   \n",
    "    # Model\n",
    "    for (j in 1:M){\n",
    "        eps <- epsilon_conso[,j]\n",
    "        eps <- (eps+0.00001) * 100\n",
    "        VaR<-VaR_mat[j,]\n",
    "        mean_cond<-0\n",
    "\n",
    "        for (t in 1:n){\n",
    "            temp<-(1-alpha)*max((-1)*(eps[t]-VaR[t]),0) + alpha*max((eps[t]-VaR[t]),0)  \n",
    "            mean_cond<-mean_cond + (1/n)*temp\n",
    "        }    \n",
    "        emp_mean_cond[j]<-mean_cond\n",
    "    }\n",
    "    list(crit=emp_mean_cond)\n",
    "}"
   ]
  },
  {
   "cell_type": "markdown",
   "id": "fb070cdd",
   "metadata": {},
   "source": [
    "#### 0) Load Real Data"
   ]
  },
  {
   "cell_type": "code",
   "execution_count": 5,
   "id": "8b02b83f",
   "metadata": {},
   "outputs": [],
   "source": [
    "returns <- read.csv(paste0(DATA_INPUT_PATH, 'RD_RETURNS.csv'))\n",
    "# returns <- read.csv(paste0(DATA_INPUT_PATH, 'RD_RETURNS_01.csv'))\n",
    "returns <- returns[,2:length(returns[1,])]\n",
    "vix <- read.csv(paste0(DATA_INPUT_PATH, 'VIX_DATA.csv'))"
   ]
  },
  {
   "cell_type": "code",
   "execution_count": 6,
   "id": "181798dd",
   "metadata": {},
   "outputs": [],
   "source": [
    "DATE <- returns[,1]\n",
    "data_returns <- returns[,2:length(returns[1,])]\n",
    "system <- data_returns[,1]\n",
    "stocks <- data_returns[,2:length(data_returns[1,])]\n",
    "tickers <- colnames(stocks)\n",
    "M <- length(tickers)\n",
    "date_vix <- vix[,1]\n",
    "vix_ret <- vix[,2]\n",
    "vix_dat <- vix[,5]"
   ]
  },
  {
   "cell_type": "markdown",
   "id": "18681088",
   "metadata": {},
   "source": [
    "#### I) QML Method"
   ]
  },
  {
   "cell_type": "code",
   "execution_count": 7,
   "id": "73707621",
   "metadata": {},
   "outputs": [],
   "source": [
    "obj_sv <- function(theta, epsilon){\n",
    "    alpha_t <- c()\n",
    "    P_t <- c()\n",
    "    F_t <- c()\n",
    "    K_t <- c()\n",
    "    omega <- theta[1]\n",
    "    beta <- theta[2]\n",
    "    sigma <- theta[3]\n",
    "    mu_Z <- -1.270\n",
    "    sigma_Z <- sqrt(pi**2/2)\n",
    "    \n",
    "    a0 <- 0\n",
    "    beta0 <- 0.8\n",
    "    P0 <- sigma**2\n",
    "    F0 <- P0 + sigma_Z**2\n",
    "    \n",
    "    T <- length(epsilon)\n",
    "    y_t <- log(epsilon**2)\n",
    "    \n",
    "    alpha_t[1] <- beta0 * a0 + omega\n",
    "    P_t[1] <- beta**2 * P0 + sigma**2\n",
    "    K_t[1] <- beta * P0 * 1/F0\n",
    "    \n",
    "    for (t in 2:T){\n",
    "        F_t[t-1] <- P_t[t-1] + sigma_Z**2\n",
    "        K_t[t] <- beta * P_t[t-1] * 1/F_t[t-1]\n",
    "        alpha_t[t] <- beta * alpha_t[t-1] + K_t[t] *\n",
    "            (y_t[t-1] - alpha_t[t-1] - mu_Z) + omega\n",
    "        P_t[t] <- beta**2 * P_t[t-1] - K_t[t]**2 * F_t[t-1] + sigma**2\n",
    "    }\n",
    "    F_t[T] <- P_t[T-1] + sigma_Z**2\n",
    "    qml <- -T/2 * log(2*pi) - 1/2*sum(log(F_t) +\n",
    "        (log(epsilon**2) - alpha_t - mu_Z)**2 / F_t)\n",
    "    -qml\n",
    "}"
   ]
  },
  {
   "cell_type": "code",
   "execution_count": 8,
   "id": "75a9d03c",
   "metadata": {},
   "outputs": [],
   "source": [
    "estim_sv <- function(theta0, epsilon){\n",
    "    valinit <- theta0\n",
    "    lower <- c(-Inf, 0, 0)\n",
    "    upper <- c(Inf, 0.999, Inf)\n",
    "    res <- nlminb(valinit, obj_sv, lower=lower,\n",
    "                  upper=upper, epsilon=epsilon)\n",
    "    theta_hat <- res$par[1:3]\n",
    "    theta_hat\n",
    "}"
   ]
  },
  {
   "cell_type": "code",
   "execution_count": 9,
   "id": "d12eab15",
   "metadata": {},
   "outputs": [],
   "source": [
    "# stocks <- stocks[,5]\n",
    "stocks <- system"
   ]
  },
  {
   "cell_type": "code",
   "execution_count": 10,
   "id": "357195a2",
   "metadata": {},
   "outputs": [],
   "source": [
    "selection <- 2500:3000\n",
    "epsilon <- stocks[stocks!=0] * 100\n",
    "epsilon <- epsilon[selection]\n",
    "DATE <- as.Date(returns[selection,1])\n",
    "DATE_VIX <- as.Date(date_vix)\n",
    "T <- length(epsilon)"
   ]
  },
  {
   "cell_type": "code",
   "execution_count": 11,
   "id": "b9741fc4",
   "metadata": {},
   "outputs": [
    {
     "data": {
      "image/png": "[encoded data removed]",
      "text/plain": [
       "plot without title"
      ]
     },
     "metadata": {
      "image/png": {
       "height": 420,
       "width": 420
      }
     },
     "output_type": "display_data"
    }
   ],
   "source": [
    "plot(epsilon, type='l')"
   ]
  },
  {
   "cell_type": "code",
   "execution_count": 12,
   "id": "22886779",
   "metadata": {},
   "outputs": [
    {
     "data": {
      "image/png": "[encoded data removed]",
      "text/plain": [
       "plot without title"
      ]
     },
     "metadata": {
      "image/png": {
       "height": 420,
       "width": 420
      }
     },
     "output_type": "display_data"
    }
   ],
   "source": [
    "plot(vix_dat, type='l')\n"
   ]
  },
  {
   "cell_type": "code",
   "execution_count": null,
   "id": "555ba281",
   "metadata": {},
   "outputs": [],
   "source": []
  },
  {
   "cell_type": "code",
   "execution_count": 13,
   "id": "62268615",
   "metadata": {},
   "outputs": [],
   "source": [
    "# Estimation Inputs\n",
    "omega0 <- -0.6\n",
    "beta0 <- 0.9\n",
    "sigma0 <- 0.5\n",
    "theta0 <- c(omega0, beta0, sigma0)"
   ]
  },
  {
   "cell_type": "markdown",
   "id": "8c35f02f",
   "metadata": {},
   "source": [
    "### A/ Stochastic Volatility Model"
   ]
  },
  {
   "cell_type": "code",
   "execution_count": 14,
   "id": "9ed492c3",
   "metadata": {},
   "outputs": [
    {
     "data": {
      "text/html": [
       "<style>\n",
       ".list-inline {list-style: none; margin:0; padding: 0}\n",
       ".list-inline>li {display: inline-block}\n",
       ".list-inline>li:not(:last-child)::after {content: \"\\00b7\"; padding: 0 .5ex}\n",
       "</style>\n",
       "<ol class=list-inline><li>-0.00518198821190124</li><li>0.963468259389495</li><li>0.385038143735347</li></ol>\n"
      ],
      "text/latex": [
       "\\begin{enumerate*}\n",
       "\\item -0.00518198821190124\n",
       "\\item 0.963468259389495\n",
       "\\item 0.385038143735347\n",
       "\\end{enumerate*}\n"
      ],
      "text/markdown": [
       "1. -0.00518198821190124\n",
       "2. 0.963468259389495\n",
       "3. 0.385038143735347\n",
       "\n",
       "\n"
      ],
      "text/plain": [
       "[1] -0.005181988  0.963468259  0.385038144"
      ]
     },
     "metadata": {},
     "output_type": "display_data"
    }
   ],
   "source": [
    "estimation <- estim_sv(theta0, epsilon)\n",
    "theta_hat <- estimation\n",
    "theta_hat"
   ]
  },
  {
   "cell_type": "code",
   "execution_count": 15,
   "id": "cf9dc1d5",
   "metadata": {},
   "outputs": [],
   "source": [
    "alpha_t <- c()\n",
    "P_t <- c()\n",
    "F_t <- c()\n",
    "K_t <- c()\n",
    "omega <- theta_hat[1]\n",
    "beta <- theta_hat[2]\n",
    "sigma <- theta_hat[3]\n",
    "mu_Z <- -1.270\n",
    "sigma_Z <- sqrt(pi**2/2)\n",
    "    \n",
    "a0 <- 0\n",
    "beta0 <- 0.8\n",
    "P0 <- sigma**2\n",
    "F0 <- P0 + sigma_Z**2\n",
    "    \n",
    "T <- length(epsilon)\n",
    "y_t <- log(epsilon**2)\n",
    "    \n",
    "alpha_t[1] <- beta0 * a0 + omega\n",
    "P_t[1] <- beta**2 * P0 + sigma**2\n",
    "K_t[1] <- beta * P0 * 1/F0\n",
    "    \n",
    "for (t in 2:T){\n",
    "    F_t[t-1] <- P_t[t-1] + sigma_Z**2\n",
    "    K_t[t] <- beta * P_t[t-1] * 1/F_t[t-1]\n",
    "    alpha_t[t] <- beta * alpha_t[t-1] + K_t[t] *\n",
    "            (y_t[t-1] - alpha_t[t-1] - mu_Z) + omega\n",
    "    P_t[t] <- beta**2 * P_t[t-1] - K_t[t]**2 * F_t[t-1] + sigma**2\n",
    "}"
   ]
  },
  {
   "cell_type": "markdown",
   "id": "36560ecf",
   "metadata": {},
   "source": [
    "## GARCH Model"
   ]
  },
  {
   "cell_type": "code",
   "execution_count": 16,
   "id": "ddd103b3",
   "metadata": {},
   "outputs": [],
   "source": [
    "omega_0 <- -0.6\n",
    "alpha_0 <- 0.1\n",
    "beta_0 <- 0.85"
   ]
  },
  {
   "cell_type": "code",
   "execution_count": 17,
   "id": "b522c2a8",
   "metadata": {},
   "outputs": [],
   "source": [
    "# Initialisation\n",
    "sigma2_hat <- c()\n",
    "eta_hat <- c()\n",
    "\n",
    "estimation <- estimgarch11(omega_0, alpha_0, beta_0, epsilon)\n",
    "theta_hat_g <- estimation$coef\n",
    "\n",
    "omega_hat_g <- theta_hat_g[1]\n",
    "alpha_hat_g <- theta_hat_g[2]\n",
    "beta_hat_g <- theta_hat_g[3]\n",
    "\n",
    "sigma2_hat[1]<-omega_hat_g\n",
    "eta_hat[1] <- epsilon[1] / sqrt(sigma2_hat[1])\n",
    "for (i in 2:T){\n",
    "    sigma2_hat[i]<-omega_hat_g + alpha_hat_g * epsilon[i-1]**2 + beta_hat_g * sigma2_hat[i-1]\n",
    "    eta_hat[i] <- epsilon[i] / sqrt(sigma2_hat[i])\n",
    "}"
   ]
  },
  {
   "cell_type": "code",
   "execution_count": 18,
   "id": "a3a34e18",
   "metadata": {},
   "outputs": [],
   "source": [
    "# Load Data\n",
    "t<-1:T\n",
    "col_names<-c('t', 'returns', 'stochastic volatility', 'garch volatility')\n",
    "confidence_tab <- as.data.frame(epsilon)\n",
    "confidence_tab <- cbind(confidence_tab, sqrt(exp(alpha_t)))\n",
    "confidence_tab <- cbind(confidence_tab, sqrt(sigma2_hat))\n",
    "confidence_tab <- cbind(t, confidence_tab)\n",
    "colnames(confidence_tab) <- col_names\n",
    "confidence_tab <- melt(confidence_tab, id=\"t\")\n",
    "confidence_tab <- cbind(rep(DATE[1:T]), confidence_tab)\n",
    "colnames(confidence_tab) <- c('Date', 't', 'variable', 'value')"
   ]
  },
  {
   "cell_type": "code",
   "execution_count": 19,
   "id": "330d07f5",
   "metadata": {},
   "outputs": [],
   "source": [
    "options(repr.plot.width = 10, repr.plot.height = 5, repr.plot.res = 100)\n",
    "confidence_chart <-ggplot(data=confidence_tab, aes(x=Date, y=value, colour=variable))+\n",
    "    geom_line(lwd=0.5)+\n",
    "    theme_classic()+\n",
    "    scale_color_manual(name = \"Variables\", values= c('black', 'blue', 'red'),\n",
    "                       labels = c('Returns', 'Stochastic Volatility', 'Garch Volatility'))+\n",
    "    labs(title = \"S&P 500 Returns vs. Stochastic & GARCH Volatility\"\n",
    "         , x = \"Time\", y=\"Value\")+\n",
    "    theme(\n",
    "        axis.title = element_text(size =12),\n",
    "        axis.text = element_text(size = 12, color = 'black')\n",
    "    )"
   ]
  },
  {
   "cell_type": "code",
   "execution_count": 20,
   "id": "17436d2a",
   "metadata": {},
   "outputs": [
    {
     "data": {
      "image/png": "[encoded data removed]",
      "text/plain": [
       "plot without title"
      ]
     },
     "metadata": {
      "image/png": {
       "height": 250,
       "width": 500
      }
     },
     "output_type": "display_data"
    }
   ],
   "source": [
    "confidence_chart"
   ]
  },
  {
   "cell_type": "code",
   "execution_count": 21,
   "id": "43321e89",
   "metadata": {},
   "outputs": [],
   "source": [
    "# pdf(file=paste0(ILLUS_PATH, \"QML_volat_RD.pdf\"),width=10, height=5)\n",
    "# confidence_chart\n",
    "# dev.off()"
   ]
  },
  {
   "cell_type": "code",
   "execution_count": 22,
   "id": "8c3c90da",
   "metadata": {},
   "outputs": [],
   "source": [
    "vix_100 <- vix_dat[1:501] / mean(vix_dat[1:501]) * 100\n",
    "garch_100 <- sqrt(sigma2_hat) / mean(sqrt(sigma2_hat)) * 100"
   ]
  },
  {
   "cell_type": "code",
   "execution_count": 23,
   "id": "62d7c6e2",
   "metadata": {},
   "outputs": [
    {
     "data": {
      "text/html": [
       "501"
      ],
      "text/latex": [
       "501"
      ],
      "text/markdown": [
       "501"
      ],
      "text/plain": [
       "[1] 501"
      ]
     },
     "metadata": {},
     "output_type": "display_data"
    }
   ],
   "source": [
    "length(vix_100)"
   ]
  },
  {
   "cell_type": "code",
   "execution_count": 24,
   "id": "2783d0b3",
   "metadata": {},
   "outputs": [],
   "source": [
    "# Load Data\n",
    "t<-1:T\n",
    "col_names<-c('t', 'vix', 'garch volatility')\n",
    "confidence_tab_vix <- as.data.frame(vix_100)\n",
    "confidence_tab_vix <- cbind(confidence_tab_vix, garch_100)\n",
    "confidence_tab_vix <- cbind(t, confidence_tab_vix)\n",
    "colnames(confidence_tab_vix) <- col_names\n",
    "confidence_tab_vix <- melt(confidence_tab_vix, id=\"t\")\n",
    "confidence_tab_vix <- cbind(rep(DATE[1:T]), confidence_tab_vix)\n",
    "colnames(confidence_tab_vix) <- c('Date', 't', 'variable', 'value')"
   ]
  },
  {
   "cell_type": "code",
   "execution_count": 25,
   "id": "a9e99724",
   "metadata": {},
   "outputs": [],
   "source": [
    "options(repr.plot.width = 10, repr.plot.height = 5, repr.plot.res = 100)\n",
    "confidence_chart_vix <-ggplot(data=confidence_tab_vix, aes(x=Date, y=value, colour=variable))+\n",
    "    geom_line(lwd=0.5)+\n",
    "    theme_classic()+\n",
    "    scale_color_manual(name = \"Variables\", values= c('blue', 'red'),\n",
    "                       labels = c('Vix', 'GARCH Volatility'))+\n",
    "    labs(title = \"S&P 500 Returns vs. VIX\"\n",
    "         , x = \"Time\", y=\"Value\")+\n",
    "    theme(\n",
    "        axis.title = element_text(size =12),\n",
    "        axis.text = element_text(size = 12, color = 'black')\n",
    "    )"
   ]
  },
  {
   "cell_type": "code",
   "execution_count": 26,
   "id": "a59b2c5a",
   "metadata": {},
   "outputs": [
    {
     "data": {
      "image/png": "[encoded data removed]",
      "text/plain": [
       "plot without title"
      ]
     },
     "metadata": {
      "image/png": {
       "height": 250,
       "width": 500
      }
     },
     "output_type": "display_data"
    }
   ],
   "source": [
    "confidence_chart_vix"
   ]
  },
  {
   "cell_type": "markdown",
   "id": "a2d89e9a",
   "metadata": {},
   "source": [
    "#### Spread"
   ]
  },
  {
   "cell_type": "code",
   "execution_count": 27,
   "id": "b6f312cf",
   "metadata": {},
   "outputs": [],
   "source": [
    "# Load Data\n",
    "t<-1:T\n",
    "col_names<-c('t', 'volatility risk premium', 'zero line')\n",
    "confidence_tab_spread <- as.data.frame(vix_100 - garch_100)\n",
    "confidence_tab_spread <- cbind(confidence_tab_spread, rep(0, 501))\n",
    "confidence_tab_spread <- cbind(t, confidence_tab_spread)\n",
    "colnames(confidence_tab_spread) <- col_names\n",
    "confidence_tab_spread <- melt(confidence_tab_spread, id=\"t\")\n",
    "confidence_tab_spread <- cbind(rep(DATE[1:T]), confidence_tab_spread)\n",
    "colnames(confidence_tab_spread) <- c('Date', 't', 'variable', 'value')"
   ]
  },
  {
   "cell_type": "code",
   "execution_count": 28,
   "id": "80db9982",
   "metadata": {},
   "outputs": [],
   "source": [
    "options(repr.plot.width = 10, repr.plot.height = 5, repr.plot.res = 100)\n",
    "confidence_chart_spread <-ggplot(data=confidence_tab_spread, aes(x=Date, y=value, colour=variable))+\n",
    "    geom_line(lwd=0.5)+\n",
    "    theme_classic()+\n",
    "    scale_color_manual(name = \"Variables\", values= c('black', 'red'),\n",
    "                       labels = c('Volatility Risk Premium', 'Zero Line'))+\n",
    "    labs(title = \"Volatility Risk Premium\"\n",
    "         , x = \"Time\", y=\"Value\")+\n",
    "    theme(\n",
    "        axis.title = element_text(size =12),\n",
    "        axis.text = element_text(size = 12, color = 'black')\n",
    "    )"
   ]
  },
  {
   "cell_type": "code",
   "execution_count": 29,
   "id": "97fecc16",
   "metadata": {},
   "outputs": [
    {
     "data": {
      "image/png": "[encoded data removed]",
      "text/plain": [
       "plot without title"
      ]
     },
     "metadata": {
      "image/png": {
       "height": 250,
       "width": 500
      }
     },
     "output_type": "display_data"
    }
   ],
   "source": [
    "confidence_chart_spread"
   ]
  },
  {
   "cell_type": "markdown",
   "id": "ecae16c6",
   "metadata": {},
   "source": [
    "#### Risk"
   ]
  },
  {
   "cell_type": "markdown",
   "id": "218f227c",
   "metadata": {},
   "source": [
    "#### A/ Stochastic Volatility"
   ]
  },
  {
   "cell_type": "code",
   "execution_count": 70,
   "id": "9dfce90d",
   "metadata": {},
   "outputs": [],
   "source": [
    "alpha1 <- 0.01\n",
    "eta_hat <- epsilon / sqrt(exp(alpha_t))\n",
    "xi_hat <- quantile(eta_hat, probs = seq(0, 1, 0.01))[alpha1*100+1]\n",
    "VaR_SV <- sqrt(exp(alpha_t)) * xi_hat"
   ]
  },
  {
   "cell_type": "markdown",
   "id": "2c0efd4b",
   "metadata": {},
   "source": [
    "#### B/ GARCH"
   ]
  },
  {
   "cell_type": "code",
   "execution_count": 71,
   "id": "f4ad4447",
   "metadata": {},
   "outputs": [],
   "source": [
    "eta_hat_g <- epsilon / sqrt(sigma2_hat)\n",
    "xi_hat_g <- quantile(eta_hat_g, probs = seq(0, 1, 0.01))[alpha1*100+1]\n",
    "VaR_G <- sqrt(sigma2_hat) * xi_hat_g"
   ]
  },
  {
   "cell_type": "markdown",
   "id": "009b2f6c",
   "metadata": {},
   "source": [
    "#### C/ UNCONDITIONAL"
   ]
  },
  {
   "cell_type": "code",
   "execution_count": 72,
   "id": "b7ade95c",
   "metadata": {},
   "outputs": [],
   "source": [
    "VaR_U <- quantile(epsilon, probs = seq(0, 1, 0.01))[alpha1*100+1]"
   ]
  },
  {
   "cell_type": "code",
   "execution_count": 73,
   "id": "9d96d5f3",
   "metadata": {},
   "outputs": [
    {
     "name": "stderr",
     "output_type": "stream",
     "text": [
      "Warning message in data.frame(..., check.names = FALSE):\n",
      "\"row names were found from a short variable and have been discarded\"\n"
     ]
    }
   ],
   "source": [
    "col_names<-c('t', 'returns', 'VaR_SV', 'VaR_G', 'VaR_U')\n",
    "confidence_tab_var <- as.data.frame(epsilon)\n",
    "confidence_tab_var <- cbind(confidence_tab_var, VaR_SV)\n",
    "confidence_tab_var <- cbind(confidence_tab_var, VaR_G)\n",
    "confidence_tab_var <- cbind(confidence_tab_var, VaR_U)\n",
    "confidence_tab_var <- cbind(t, confidence_tab_var)\n",
    "colnames(confidence_tab_var) <- col_names\n",
    "confidence_tab_var <- melt(confidence_tab_var, id=\"t\")\n",
    "confidence_tab_var <- cbind(rep(DATE[1:T]), confidence_tab_var)\n",
    "colnames(confidence_tab_var) <- c('Date', 't', 'variable', 'value')"
   ]
  },
  {
   "cell_type": "code",
   "execution_count": 74,
   "id": "b9512987",
   "metadata": {},
   "outputs": [],
   "source": [
    "options(repr.plot.width = 10, repr.plot.height = 5, repr.plot.res = 100)\n",
    "confidence_chart_var <-ggplot(data=confidence_tab_var, aes(x=Date, y=value, colour=variable))+\n",
    "    geom_line(lwd=0.5)+\n",
    "    theme_classic()+\n",
    "    scale_color_manual(name = \"Variables\", values= c('black', 'red', 'blue', 'cyan'),\n",
    "                       labels = c('Returns', '-VaR SV', '-VaR Garch', '-Unconditional VaR'))+\n",
    "    labs(title = \"Returns vs. VaR\"\n",
    "         , x = \"Time\", y=\"Value\")+\n",
    "    theme(\n",
    "        axis.title = element_text(size =12),\n",
    "        axis.text = element_text(size = 12, color = 'black')\n",
    "    )"
   ]
  },
  {
   "cell_type": "code",
   "execution_count": 75,
   "id": "9d1c87c4",
   "metadata": {},
   "outputs": [
    {
     "data": {
      "image/png": "[encoded data removed]",
      "text/plain": [
       "plot without title"
      ]
     },
     "metadata": {
      "image/png": {
       "height": 250,
       "width": 500
      }
     },
     "output_type": "display_data"
    }
   ],
   "source": [
    "confidence_chart_var"
   ]
  },
  {
   "cell_type": "code",
   "execution_count": 76,
   "id": "1816a959",
   "metadata": {},
   "outputs": [],
   "source": [
    "# pdf(file=paste0(ILLUS_PATH, \"VaR_RD_005.pdf\"),width=10, height=5)\n",
    "# confidence_chart_var\n",
    "# dev.off()"
   ]
  },
  {
   "cell_type": "code",
   "execution_count": null,
   "id": "9ebcefcd",
   "metadata": {},
   "outputs": [],
   "source": []
  },
  {
   "cell_type": "markdown",
   "id": "b8a036a8",
   "metadata": {},
   "source": [
    "### Expected Shortfall"
   ]
  },
  {
   "cell_type": "code",
   "execution_count": 77,
   "id": "7320c6ea",
   "metadata": {},
   "outputs": [],
   "source": [
    "ES_g <- c()\n",
    "id_g <- c()\n",
    "ES_sv <- c()\n",
    "id_sv <- c()\n",
    "\n",
    "ES_u <- rep(quantile(epsilon, probs = seq(0, 1, 0.01))[alpha1*100+1], 500)\n",
    "\n",
    "for (t in 1:T){\n",
    "    if (eta_hat_g[t] < xi_hat_g){\n",
    "        id_g[t] <- 1\n",
    "    } else {\n",
    "        id_g[t] <- 0\n",
    "    }\n",
    "}   \n",
    "eta_hat_g_mod <- id_g * eta_hat_g\n",
    "eta_hat_g_mod <- eta_hat_g_mod[eta_hat_g_mod!=0]\n",
    "\n",
    "ES_g <- mean(eta_hat_g_mod) * sqrt(exp(alpha_t))\n",
    "\n",
    "for (t in 1:T){\n",
    "    if (eta_hat[t] < xi_hat){\n",
    "        id_sv[t] <- 1\n",
    "    } else {\n",
    "        id_sv[t] <- 0\n",
    "    }\n",
    "}   \n",
    "\n",
    "eta_hat_sv_mod <- id_sv * eta_hat\n",
    "eta_hat_sv_mod <- eta_hat_sv_mod[eta_hat_sv_mod!=0]\n",
    "\n",
    "ES_sv <- mean(eta_hat_sv_mod) * sqrt(sigma2_hat)"
   ]
  },
  {
   "cell_type": "code",
   "execution_count": 78,
   "id": "3b1b4b6b",
   "metadata": {},
   "outputs": [
    {
     "data": {
      "image/png": "[encoded data removed]",
      "text/plain": [
       "plot without title"
      ]
     },
     "metadata": {
      "image/png": {
       "height": 250,
       "width": 500
      }
     },
     "output_type": "display_data"
    }
   ],
   "source": [
    "plot(epsilon, type='l', col='black')\n",
    "lines(ES_sv, type='l', col='blue')\n",
    "lines(ES_g, type='l', col='red')\n",
    "lines(ES_u, type='l', col='cyan')"
   ]
  },
  {
   "cell_type": "code",
   "execution_count": 79,
   "id": "8d856b34",
   "metadata": {},
   "outputs": [],
   "source": [
    "# Load Data\n",
    "t<-1:T\n",
    "col_names<-c('t', 'Log-Returns', 'ES Stochastic Volatility', 'ES GARCH', 'ES Unconditional')\n",
    "es_tab <- as.data.frame(epsilon[1:T])\n",
    "es_tab <- cbind(es_tab, ES_sv[1:T])\n",
    "es_tab <- cbind(es_tab, ES_g[1:T])\n",
    "es_tab <- cbind(es_tab, ES_u[1:T])\n",
    "es_tab <- cbind(t, es_tab)\n",
    "colnames(es_tab) <- col_names\n",
    "es_tab <- melt(es_tab, id=\"t\")\n",
    "es_tab <- cbind(rep(DATE[1:T]), es_tab)\n",
    "colnames(es_tab) <- c('Date', 't', 'variable', 'value')"
   ]
  },
  {
   "cell_type": "code",
   "execution_count": 80,
   "id": "e386ebf8",
   "metadata": {},
   "outputs": [],
   "source": [
    "options(repr.plot.width = 10, repr.plot.height = 5, repr.plot.res = 100)\n",
    "es_chart <-ggplot(data=es_tab, aes(x=Date, y=value, colour=variable))+\n",
    "    geom_line(lwd=0.5)+\n",
    "    theme_classic()+\n",
    "    scale_color_manual(name = \"Variables\", values= c('black', 'red', 'blue', 'cyan'),\n",
    "                       labels = c('Returns', 'Expected Shortfall SV',\n",
    "                                  'Expected  Shortfall Garch',\n",
    "                                  'Expected Shortfall VaR'))+\n",
    "    labs(title = \"Returns vs. Expected Shortfall\"\n",
    "         , x = \"Time\", y=\"Value\")+\n",
    "    theme(\n",
    "        axis.title = element_text(size =12),\n",
    "        axis.text = element_text(size = 12, color = 'black')\n",
    "    )"
   ]
  },
  {
   "cell_type": "code",
   "execution_count": 81,
   "id": "1f7c4835",
   "metadata": {},
   "outputs": [
    {
     "name": "stderr",
     "output_type": "stream",
     "text": [
      "Warning message:\n",
      "\"Removed 1 row(s) containing missing values (geom_path).\"\n"
     ]
    },
    {
     "data": {
      "image/png": "[encoded data removed]",
      "text/plain": [
       "plot without title"
      ]
     },
     "metadata": {
      "image/png": {
       "height": 250,
       "width": 500
      }
     },
     "output_type": "display_data"
    }
   ],
   "source": [
    "es_chart"
   ]
  },
  {
   "cell_type": "code",
   "execution_count": 82,
   "id": "2dfe9e6c",
   "metadata": {},
   "outputs": [
    {
     "name": "stderr",
     "output_type": "stream",
     "text": [
      "Warning message:\n",
      "\"Removed 1 row(s) containing missing values (geom_path).\"\n"
     ]
    },
    {
     "data": {
      "text/html": [
       "<strong>png:</strong> 2"
      ],
      "text/latex": [
       "\\textbf{png:} 2"
      ],
      "text/markdown": [
       "**png:** 2"
      ],
      "text/plain": [
       "png \n",
       "  2 "
      ]
     },
     "metadata": {},
     "output_type": "display_data"
    }
   ],
   "source": [
    "pdf(file=paste0(ILLUS_PATH, \"ES_RD_001.pdf\"),width=10, height=5)\n",
    "es_chart\n",
    "dev.off()"
   ]
  },
  {
   "cell_type": "markdown",
   "id": "abedec65",
   "metadata": {},
   "source": [
    "### Monte Carlo - on Real Data"
   ]
  },
  {
   "cell_type": "code",
   "execution_count": 643,
   "id": "55314f5c",
   "metadata": {},
   "outputs": [],
   "source": [
    "T <- 3000\n",
    "n <- 250\n",
    "N <- T+n\n",
    "M <- length(returns[1,]) - 1\n",
    "epsilon_conso <- returns[,2:(M+1)]"
   ]
  },
  {
   "cell_type": "code",
   "execution_count": 644,
   "id": "2b7d1deb",
   "metadata": {},
   "outputs": [],
   "source": [
    "# Initialistation\n",
    "sigma2_hat_g <- matrix(0, nrow=M, ncol=N)\n",
    "eta_hat_g <- matrix(0, nrow=M, ncol=N)\n",
    "VaR_mat_g <- matrix(0, nrow=M, ncol=N)\n",
    "xi_hat_g <- c()\n",
    "    \n",
    "sigma2_hat_sv <- matrix(0, nrow=M, ncol=N)\n",
    "eta_hat_sv <- matrix(0, nrow=M, ncol=N)\n",
    "VaR_mat_sv <- matrix(0, nrow=M, ncol=N)\n",
    "xi_hat_sv <- c()\n",
    "\n",
    "VaR_mat_u <- matrix(0, nrow=M, ncol=N)\n",
    "\n",
    "for (j in 1:M){\n",
    "    epsilon <- epsilon_conso[,j]\n",
    "    epsilon <- (epsilon+0.00001) * 100\n",
    "    \n",
    "    ## 1) Stochastic Volatility Model\n",
    "    estimation <- estim_sv(theta0, epsilon)\n",
    "    theta_hat <- estimation\n",
    "    theta_hat\n",
    "    \n",
    "    alpha_t <- c()\n",
    "    P_t <- c()\n",
    "    F_t <- c()\n",
    "    K_t <- c()\n",
    "    omega <- theta_hat[1]\n",
    "    beta <- theta_hat[2]\n",
    "    sigma <- theta_hat[3]\n",
    "    mu_Z <- -1.270\n",
    "    sigma_Z <- sqrt(pi**2/2)\n",
    "    \n",
    "    a0 <- 0\n",
    "    beta0 <- 0.8\n",
    "    P0 <- sigma**2\n",
    "    F0 <- P0 + sigma_Z**2\n",
    "    \n",
    "    y_t <- log(epsilon**2)\n",
    "    \n",
    "    alpha_t[1] <- beta0 * a0 + omega\n",
    "    P_t[1] <- beta**2 * P0 + sigma**2\n",
    "    K_t[1] <- beta * P0 * 1/F0\n",
    "    \n",
    "    for (i in 2:N){\n",
    "        F_t[i-1] <- P_t[i-1] + sigma_Z**2\n",
    "        K_t[i] <- beta * P_t[i-1] * 1/F_t[i-1]\n",
    "        alpha_t[i] <- beta * alpha_t[i-1] + K_t[i] *\n",
    "                (y_t[i-1] - alpha_t[i-1] - mu_Z) + omega\n",
    "        P_t[i] <- beta**2 * P_t[i-1] - K_t[i]**2 * F_t[i-1] + sigma**2\n",
    "    }\n",
    "    \n",
    "    sigma2_hat_sv[j,] <- exp(alpha_t)\n",
    "    eta_hat_sv[j,] <- epsilon / sqrt(exp(alpha_t))\n",
    "    xi_hat_sv[j] <- quantile(eta_hat_sv[j,1:T], probs = seq(0, 1, 0.01))[alpha1*100+1]\n",
    "    VaR_mat_sv[j,] <- xi_hat_sv[j] * sqrt(sigma2_hat_sv[j,])\n",
    "    \n",
    "    ## 2) GARCH\n",
    "    estimation_g <- estimgarch11(omega_0, alpha_0, beta_0, epsilon)\n",
    "    theta_hat_g <- estimation_g$coef\n",
    "\n",
    "    omega_hat_g <- theta_hat_g[1]\n",
    "    alpha_hat_g <- theta_hat_g[2]\n",
    "    beta_hat_g <- theta_hat_g[3]\n",
    "\n",
    "    sigma2_hat_g[j,1]<-omega_hat_g\n",
    "    eta_hat_g[j,1] <- epsilon[1] / sqrt(sigma2_hat_g[j,1])\n",
    "    for (i in 2:N){\n",
    "        sigma2_hat_g[j,i]<-omega_hat_g + alpha_hat_g * epsilon[i-1]**2 +\n",
    "            beta_hat_g * sigma2_hat_g[j,i-1]\n",
    "        eta_hat_g[j,i] <- epsilon[i] / sqrt(sigma2_hat_g[j,i])\n",
    "    }\n",
    "    xi_hat_g[j] <- quantile(eta_hat_g[j,1:T], probs = seq(0, 1, 0.01))[alpha1*100+1]\n",
    "    VaR_mat_g[j,] <- xi_hat_g[j] * sqrt(sigma2_hat_g[j,])\n",
    "    \n",
    "    ## 3) unconditional Model\n",
    "    VaR_mat_u[j,] <- quantile(epsilon[1:T], probs = seq(0, 1, 0.01))[alpha1*100+1]\n",
    "}"
   ]
  },
  {
   "cell_type": "code",
   "execution_count": 645,
   "id": "b44d619c",
   "metadata": {},
   "outputs": [
    {
     "data": {
      "image/png": "[encoded data removed]",
      "text/plain": [
       "plot without title"
      ]
     },
     "metadata": {
      "image/png": {
       "height": 250,
       "width": 500
      }
     },
     "output_type": "display_data"
    }
   ],
   "source": [
    "z <- 4\n",
    "epsilon <- epsilon_conso[,z]\n",
    "epsilon <- (epsilon+0.00001) * 100\n",
    "plot(epsilon, type='l', col='black')\n",
    "lines(sqrt(sigma2_hat_g[z,]), type='l', col='blue')\n",
    "lines(sqrt(sigma2_hat_sv[z,]), type='l', col='red')"
   ]
  },
  {
   "cell_type": "code",
   "execution_count": 646,
   "id": "5c2c1c2e",
   "metadata": {},
   "outputs": [
    {
     "data": {
      "image/png": "[encoded data removed]",
      "text/plain": [
       "plot without title"
      ]
     },
     "metadata": {
      "image/png": {
       "height": 250,
       "width": 500
      }
     },
     "output_type": "display_data"
    }
   ],
   "source": [
    "z <- 4\n",
    "plot(epsilon, type='l', col='black')\n",
    "lines(VaR_mat_g[z,], type='l', col='blue')\n",
    "lines(VaR_mat_sv[z,], type='l', col='red')"
   ]
  },
  {
   "cell_type": "markdown",
   "id": "c2617275",
   "metadata": {},
   "source": [
    "## Functions"
   ]
  },
  {
   "cell_type": "code",
   "execution_count": 647,
   "id": "41b4aeb3",
   "metadata": {},
   "outputs": [],
   "source": [
    "Hit_conso_g <- matrix(0, nrow=M, ncol=n)\n",
    "Hit_conso_sv <- matrix(0, nrow=M, ncol=n)\n",
    "Hit_conso_u <- matrix(0, nrow=M, ncol=n)\n",
    "\n",
    "for (j in 1:M){\n",
    "    epsilon <- epsilon_conso[,j]\n",
    "    epsilon <- (epsilon+0.00001) * 100\n",
    "    VaR_g <- VaR_mat_g[j,]\n",
    "    VaR_sv <- VaR_mat_sv[j,]\n",
    "    VaR_u <- VaR_mat_u[j,]\n",
    "    for (t in (T+1):N){\n",
    "        if (epsilon[t] < VaR_g[t]){\n",
    "            Hit_conso_g[j,t-T] <- 1\n",
    "        }\n",
    "        if (epsilon[t] < VaR_sv[t]){\n",
    "            Hit_conso_sv[j,t-T] <- 1\n",
    "        }\n",
    "        if (epsilon[t] < VaR_u[t]){\n",
    "            Hit_conso_u[j,t-T] <- 1\n",
    "        }\n",
    "    }\n",
    "}"
   ]
  },
  {
   "cell_type": "markdown",
   "id": "deafbc31",
   "metadata": {},
   "source": [
    "### Backtests"
   ]
  },
  {
   "cell_type": "code",
   "execution_count": 648,
   "id": "82cf44b2",
   "metadata": {},
   "outputs": [],
   "source": [
    "chi_level <- c(3.841)"
   ]
  },
  {
   "cell_type": "code",
   "execution_count": 649,
   "id": "a66cd3a0",
   "metadata": {},
   "outputs": [
    {
     "data": {
      "text/html": [
       "0.207521826729349"
      ],
      "text/latex": [
       "0.207521826729349"
      ],
      "text/markdown": [
       "0.207521826729349"
      ],
      "text/plain": [
       "[1] 0.2075218"
      ]
     },
     "metadata": {},
     "output_type": "display_data"
    }
   ],
   "source": [
    "# STOCHASTIC VOLATILITY MODEL\n",
    "########################################\n",
    "###### UNCONDITIONAL COVERAGE TEST #####\n",
    "########################################\n",
    "\n",
    "UC_test_SV <- LR_uc_test(Hit_conso_sv, alpha1, chi_level)\n",
    "\n",
    "UC_test_SV$Test_uc # To be compared with 5%"
   ]
  },
  {
   "cell_type": "code",
   "execution_count": 650,
   "id": "481144c0",
   "metadata": {},
   "outputs": [
    {
     "data": {
      "text/html": [
       "0.107454667562122"
      ],
      "text/latex": [
       "0.107454667562122"
      ],
      "text/markdown": [
       "0.107454667562122"
      ],
      "text/plain": [
       "[1] 0.1074547"
      ]
     },
     "metadata": {},
     "output_type": "display_data"
    }
   ],
   "source": [
    "# GARCH MODEL\n",
    "########################################\n",
    "###### UNCONDITIONAL COVERAGE TEST #####\n",
    "########################################\n",
    "\n",
    "UC_test_G <- LR_uc_test(Hit_conso_g, alpha1, chi_level)\n",
    "\n",
    "UC_test_G$Test_uc # To be compared with 5%"
   ]
  },
  {
   "cell_type": "code",
   "execution_count": 651,
   "id": "b76ae61c",
   "metadata": {},
   "outputs": [
    {
     "data": {
      "text/html": [
       "0.409670920080591"
      ],
      "text/latex": [
       "0.409670920080591"
      ],
      "text/markdown": [
       "0.409670920080591"
      ],
      "text/plain": [
       "[1] 0.4096709"
      ]
     },
     "metadata": {},
     "output_type": "display_data"
    }
   ],
   "source": [
    "# unconditional MODEL\n",
    "########################################\n",
    "###### UNCONDITIONAL COVERAGE TEST #####\n",
    "########################################\n",
    "\n",
    "UC_test_U <- LR_uc_test(Hit_conso_u, alpha1, chi_level)\n",
    "\n",
    "UC_test_U$Test_uc # To be compared with 5%"
   ]
  },
  {
   "cell_type": "code",
   "execution_count": 652,
   "id": "7c24a150",
   "metadata": {},
   "outputs": [
    {
     "data": {
      "text/html": [
       "0.0174613834788449"
      ],
      "text/latex": [
       "0.0174613834788449"
      ],
      "text/markdown": [
       "0.0174613834788449"
      ],
      "text/plain": [
       "[1] 0.01746138"
      ]
     },
     "metadata": {},
     "output_type": "display_data"
    }
   ],
   "source": [
    "# STOCHASTIC VOLATILITY MODEL\n",
    "########################################\n",
    "########## INDEPENDENCE TEST ###########\n",
    "########################################\n",
    "\n",
    "Ind_test_SV <- LR_ind_test(Hit_conso_sv, alpha1, chi_level)\n",
    "\n",
    "Ind_test_SV$Test_ind # To be compared with 5%"
   ]
  },
  {
   "cell_type": "code",
   "execution_count": 653,
   "id": "6fbb0494",
   "metadata": {},
   "outputs": [
    {
     "data": {
      "text/html": [
       "0.0134318334452653"
      ],
      "text/latex": [
       "0.0134318334452653"
      ],
      "text/markdown": [
       "0.0134318334452653"
      ],
      "text/plain": [
       "[1] 0.01343183"
      ]
     },
     "metadata": {},
     "output_type": "display_data"
    }
   ],
   "source": [
    "# GARCH MODEL\n",
    "########################################\n",
    "########## INDEPENDENCE TEST ###########\n",
    "########################################\n",
    "\n",
    "Ind_test_G <- LR_ind_test(Hit_conso_g, alpha1, chi_level)\n",
    "\n",
    "Ind_test_G$Test_ind # To be compared with 5%"
   ]
  },
  {
   "cell_type": "code",
   "execution_count": 654,
   "id": "17b080da",
   "metadata": {},
   "outputs": [
    {
     "data": {
      "text/html": [
       "0.0167897918065816"
      ],
      "text/latex": [
       "0.0167897918065816"
      ],
      "text/markdown": [
       "0.0167897918065816"
      ],
      "text/plain": [
       "[1] 0.01678979"
      ]
     },
     "metadata": {},
     "output_type": "display_data"
    }
   ],
   "source": [
    "# UNCONDITIONAL MODEL\n",
    "########################################\n",
    "########## INDEPENDENCE TEST ###########\n",
    "########################################\n",
    "\n",
    "Ind_test_U <- LR_ind_test(Hit_conso_u, alpha1, chi_level)\n",
    "\n",
    "Ind_test_U$Test_ind # To be compared with 5%"
   ]
  },
  {
   "cell_type": "code",
   "execution_count": 891,
   "id": "782e8013",
   "metadata": {},
   "outputs": [
    {
     "name": "stdout",
     "output_type": "stream",
     "text": [
      "[1] 1\n",
      "[1] 2\n",
      "[1] 3\n",
      "[1] 4\n",
      "[1] 5\n"
     ]
    }
   ],
   "source": [
    "for (k in 1:5){\n",
    "    print(k)\n",
    "}"
   ]
  },
  {
   "cell_type": "code",
   "execution_count": 661,
   "id": "dc573531",
   "metadata": {},
   "outputs": [],
   "source": [
    "chi_level2 <- 5.991"
   ]
  },
  {
   "cell_type": "code",
   "execution_count": 662,
   "id": "d75d7b07",
   "metadata": {},
   "outputs": [],
   "source": [
    "CC_test_G <- LR_cc_test(UC_test_G$LR_uc, Ind_test_G$LR_ind, alpha1, chi_level2)$Test_cc\n",
    "CC_test_SV <- LR_cc_test(UC_test_SV$LR_uc, Ind_test_SV$LR_ind, alpha1, chi_level2)$Test_cc\n",
    "CC_test_U <- LR_cc_test(UC_test_U$LR_uc, Ind_test_U$LR_ind, alpha1, chi_level2)$Test_cc"
   ]
  },
  {
   "cell_type": "code",
   "execution_count": null,
   "id": "2f31cc52",
   "metadata": {},
   "outputs": [],
   "source": []
  },
  {
   "cell_type": "code",
   "execution_count": 663,
   "id": "61bf641e",
   "metadata": {},
   "outputs": [],
   "source": [
    "alpha_crit_g <- alpha_crit((epsilon_conso[(T+1):N,]+0.00001) * 100, VaR_mat_g[,(T+1):N], alpha1)\n",
    "alpha_crit_sv <- alpha_crit((epsilon_conso[(T+1):N,]+0.00001) * 100, VaR_mat_sv[,(T+1):N], alpha1)\n",
    "alpha_crit_u <- alpha_crit((epsilon_conso[(T+1):N,]+0.00001) * 100, VaR_mat_u[,(T+1):N], alpha1)"
   ]
  },
  {
   "cell_type": "code",
   "execution_count": 664,
   "id": "09563acc",
   "metadata": {},
   "outputs": [],
   "source": [
    "results_SV <- c(UC_test_SV$Test_uc, Ind_test_SV$Test_ind, CC_test_SV, mean(alpha_crit_sv$crit))\n",
    "results_GARCH <- c(UC_test_G$Test_uc, Ind_test_G$Test_ind, CC_test_G, mean(alpha_crit_g$crit))\n",
    "results_U <- c(UC_test_U$Test_uc, Ind_test_U$Test_ind, CC_test_U, mean(alpha_crit_u$crit))"
   ]
  },
  {
   "cell_type": "markdown",
   "id": "d406c88c",
   "metadata": {},
   "source": [
    "#### Results"
   ]
  },
  {
   "cell_type": "code",
   "execution_count": 665,
   "id": "452b8c1e",
   "metadata": {},
   "outputs": [],
   "source": [
    "Test_table <- matrix(0, nrow=3, ncol=4)\n",
    "row_name <- c('SV Model', 'GARCH Model', 'Unconditional Model')\n",
    "col_name <- c('UC', 'Ind.', 'CC', 'alpha-criterion')\n",
    "Test_table[1,] <- results_SV\n",
    "Test_table[2,] <- results_GARCH\n",
    "Test_table[3,] <- results_U\n",
    "Test_table <- as.data.frame(Test_table)\n",
    "rownames(Test_table) <- row_name\n",
    "colnames(Test_table) <- col_name"
   ]
  },
  {
   "cell_type": "code",
   "execution_count": 666,
   "id": "4e3387f0",
   "metadata": {},
   "outputs": [
    {
     "data": {
      "text/html": [
       "<table class=\"dataframe\">\n",
       "<caption>A data.frame: 3 × 4</caption>\n",
       "<thead>\n",
       "\t<tr><th></th><th scope=col>UC</th><th scope=col>Ind.</th><th scope=col>CC</th><th scope=col>alpha-criterion</th></tr>\n",
       "\t<tr><th></th><th scope=col>&lt;dbl&gt;</th><th scope=col>&lt;dbl&gt;</th><th scope=col>&lt;dbl&gt;</th><th scope=col>&lt;dbl&gt;</th></tr>\n",
       "</thead>\n",
       "<tbody>\n",
       "\t<tr><th scope=row>SV Model</th><td>0.208</td><td>0.017</td><td>0.021</td><td>0.171</td></tr>\n",
       "\t<tr><th scope=row>GARCH Model</th><td>0.107</td><td>0.013</td><td>0.013</td><td>0.199</td></tr>\n",
       "\t<tr><th scope=row>Unconditional Model</th><td>0.410</td><td>0.017</td><td>0.020</td><td>0.155</td></tr>\n",
       "</tbody>\n",
       "</table>\n"
      ],
      "text/latex": [
       "A data.frame: 3 × 4\n",
       "\\begin{tabular}{r|llll}\n",
       "  & UC & Ind. & CC & alpha-criterion\\\\\n",
       "  & <dbl> & <dbl> & <dbl> & <dbl>\\\\\n",
       "\\hline\n",
       "\tSV Model & 0.208 & 0.017 & 0.021 & 0.171\\\\\n",
       "\tGARCH Model & 0.107 & 0.013 & 0.013 & 0.199\\\\\n",
       "\tUnconditional Model & 0.410 & 0.017 & 0.020 & 0.155\\\\\n",
       "\\end{tabular}\n"
      ],
      "text/markdown": [
       "\n",
       "A data.frame: 3 × 4\n",
       "\n",
       "| <!--/--> | UC &lt;dbl&gt; | Ind. &lt;dbl&gt; | CC &lt;dbl&gt; | alpha-criterion &lt;dbl&gt; |\n",
       "|---|---|---|---|---|\n",
       "| SV Model | 0.208 | 0.017 | 0.021 | 0.171 |\n",
       "| GARCH Model | 0.107 | 0.013 | 0.013 | 0.199 |\n",
       "| Unconditional Model | 0.410 | 0.017 | 0.020 | 0.155 |\n",
       "\n"
      ],
      "text/plain": [
       "                    UC    Ind.  CC    alpha-criterion\n",
       "SV Model            0.208 0.017 0.021 0.171          \n",
       "GARCH Model         0.107 0.013 0.013 0.199          \n",
       "Unconditional Model 0.410 0.017 0.020 0.155          "
      ]
     },
     "metadata": {},
     "output_type": "display_data"
    }
   ],
   "source": [
    "Test_table <- round_df(Test_table, 3)\n",
    "Test_table"
   ]
  },
  {
   "cell_type": "code",
   "execution_count": 660,
   "id": "fe5925af",
   "metadata": {},
   "outputs": [
    {
     "name": "stdout",
     "output_type": "stream",
     "text": [
      "\n",
      "% Table created by stargazer v.5.2.3 by Marek Hlavac, Social Policy Institute. E-mail: marek.hlavac at gmail.com\n",
      "% Date and time: Fri, Sep 09, 2022 - 6:45:12 PM\n",
      "\\begin{table}[!htbp] \\centering \n",
      "  \\caption{Backtesting Results - alpha=0.01} \n",
      "  \\label{} \n",
      "\\begin{tabular}{@{\\extracolsep{5pt}} ccccc} \n",
      "\\\\[-1.8ex]\\hline \n",
      "\\hline \\\\[-1.8ex] \n",
      "A & b & c & CC & alpha-criterion \\\\ \n",
      "\\hline \\\\[-1.8ex] \n",
      "SV Model & $0.208$ & $0.017$ & $0.238$ & $0.171$ \\\\ \n",
      "GARCH Model & $0.107$ & $0.013$ & $0.148$ & $0.199$ \\\\ \n",
      "Unconditional Model & $0.410$ & $0.017$ & $0.441$ & $0.155$ \\\\ \n",
      "\\hline \\\\[-1.8ex] \n",
      "\\end{tabular} \n",
      "\\end{table} \n"
     ]
    }
   ],
   "source": [
    "stargazer(Test_table,  summary=FALSE, covariate.labels=c(\"A\",\"b\",\"c\"),\n",
    "          title = \"Backtesting Results - alpha=0.01\",\n",
    "out = paste0(ILLUS_PATH, \"BTEST_Results_SV_001.tex\"))"
   ]
  },
  {
   "cell_type": "code",
   "execution_count": null,
   "id": "a359efcb",
   "metadata": {},
   "outputs": [],
   "source": []
  },
  {
   "cell_type": "code",
   "execution_count": null,
   "id": "8e19fbc4",
   "metadata": {},
   "outputs": [],
   "source": []
  },
  {
   "cell_type": "code",
   "execution_count": null,
   "id": "334a923f",
   "metadata": {},
   "outputs": [],
   "source": []
  },
  {
   "cell_type": "code",
   "execution_count": null,
   "id": "cbed6541",
   "metadata": {},
   "outputs": [],
   "source": []
  },
  {
   "cell_type": "code",
   "execution_count": null,
   "id": "968a7d95",
   "metadata": {},
   "outputs": [],
   "source": []
  },
  {
   "cell_type": "code",
   "execution_count": null,
   "id": "0c4376ed",
   "metadata": {},
   "outputs": [],
   "source": []
  },
  {
   "cell_type": "code",
   "execution_count": null,
   "id": "f850b39a",
   "metadata": {},
   "outputs": [],
   "source": []
  },
  {
   "cell_type": "code",
   "execution_count": null,
   "id": "c7016257",
   "metadata": {},
   "outputs": [],
   "source": []
  },
  {
   "cell_type": "code",
   "execution_count": null,
   "id": "94b5d19f",
   "metadata": {},
   "outputs": [],
   "source": []
  },
  {
   "cell_type": "code",
   "execution_count": null,
   "id": "df5a2d49",
   "metadata": {},
   "outputs": [],
   "source": []
  },
  {
   "cell_type": "code",
   "execution_count": null,
   "id": "ba82fdc1",
   "metadata": {},
   "outputs": [],
   "source": []
  },
  {
   "cell_type": "code",
   "execution_count": null,
   "id": "76f28f07",
   "metadata": {},
   "outputs": [],
   "source": []
  },
  {
   "cell_type": "code",
   "execution_count": null,
   "id": "f06f4664",
   "metadata": {},
   "outputs": [],
   "source": []
  },
  {
   "cell_type": "code",
   "execution_count": null,
   "id": "a4705d32",
   "metadata": {},
   "outputs": [],
   "source": []
  }
 ],
 "metadata": {
  "kernelspec": {
   "display_name": "R",
   "language": "R",
   "name": "ir"
  },
  "language_info": {
   "codemirror_mode": "r",
   "file_extension": ".r",
   "mimetype": "text/x-r-source",
   "name": "R",
   "pygments_lexer": "r",
   "version": "4.1.2"
  }
 },
 "nbformat": 4,
 "nbformat_minor": 5
}
