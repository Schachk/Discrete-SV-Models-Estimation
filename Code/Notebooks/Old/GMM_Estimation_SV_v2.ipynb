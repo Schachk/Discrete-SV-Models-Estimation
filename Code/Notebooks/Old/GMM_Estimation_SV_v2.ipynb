{
 "cells": [
  {
   "cell_type": "markdown",
   "id": "a6135927",
   "metadata": {},
   "source": [
    "### Generalized Methods of Moments Estimation of Stochastic Volatility Models - Andersen & Sorensen (1996)"
   ]
  },
  {
   "cell_type": "code",
   "execution_count": null,
   "id": "5d1e37dc",
   "metadata": {},
   "outputs": [],
   "source": []
  },
  {
   "cell_type": "markdown",
   "id": "4918c443",
   "metadata": {},
   "source": [
    "#### TODO: Find the correct lag number & find the best (or a correct) weighting matrix estimator"
   ]
  },
  {
   "cell_type": "code",
   "execution_count": null,
   "id": "299d3b11",
   "metadata": {},
   "outputs": [],
   "source": []
  },
  {
   "cell_type": "code",
   "execution_count": 27,
   "id": "bcf4978f",
   "metadata": {},
   "outputs": [],
   "source": [
    "library(MASS)"
   ]
  },
  {
   "cell_type": "code",
   "execution_count": 28,
   "id": "9e346430",
   "metadata": {},
   "outputs": [],
   "source": [
    "sv_simul <- function(theta, log_sigma0, T){\n",
    "    y_t <- c()\n",
    "    log_sigma2 <- c()\n",
    "    omega <- theta[1]\n",
    "    beta <- theta[2]\n",
    "    sigma_u <- theta[3]\n",
    "    \n",
    "    mean <- matrix(c(0,0), nrow=2, ncol=1)\n",
    "    std <- matrix(c(1, 0, 0, 1), nrow=2, ncol=2)\n",
    "    resid <- mvrnorm(T, mean, std)\n",
    "    z_t <- resid[,1]\n",
    "    u_t <- resid[,2]\n",
    "    \n",
    "    log_sigma2[1] <- omega + beta * log_sigma0 + sigma_u * u_t[1]\n",
    "    y_t[1] <- sqrt(exp(log_sigma2[1])) * z_t[1]\n",
    "    \n",
    "    for (t in 2:T){\n",
    "        log_sigma2[t] <- omega + beta * log_sigma2[t-1] + sigma_u * u_t[t]\n",
    "        y_t[t] <- sqrt(exp(log_sigma2[t])) * z_t[t]\n",
    "    }\n",
    "\n",
    "    sigma_t <- sqrt(exp(log_sigma2))\n",
    "    \n",
    "    list(y_t, sigma_t)\n",
    "}"
   ]
  },
  {
   "cell_type": "code",
   "execution_count": 29,
   "id": "7fb0f1f6",
   "metadata": {},
   "outputs": [],
   "source": [
    "# Inputs\n",
    "T <- 3000\n",
    "omega <- -0.736\n",
    "beta <- 0.9\n",
    "sigma_u <- 0.363\n",
    "theta <- c(omega, beta, sigma_u) \n",
    "log_sigma0 <- -0.1"
   ]
  },
  {
   "cell_type": "code",
   "execution_count": 30,
   "id": "675b4332",
   "metadata": {},
   "outputs": [],
   "source": [
    "data <- sv_simul(theta, log_sigma0, T)\n",
    "y_t <- unlist(data[1])\n",
    "sigma_t <- unlist(data[2])"
   ]
  },
  {
   "cell_type": "code",
   "execution_count": 31,
   "id": "3a40da51",
   "metadata": {},
   "outputs": [
    {
     "data": {
      "image/png": "[encoded data removed]",
      "text/plain": [
       "plot without title"
      ]
     },
     "metadata": {
      "image/png": {
       "height": 420,
       "width": 420
      }
     },
     "output_type": "display_data"
    }
   ],
   "source": [
    "selection <- 1:300\n",
    "plot(y_t[selection], type='l')\n",
    "lines(sigma_t[selection], type='l', col='red')"
   ]
  },
  {
   "cell_type": "markdown",
   "id": "2da46225",
   "metadata": {},
   "source": [
    "### Estimation Method"
   ]
  },
  {
   "cell_type": "markdown",
   "id": "89a30e8b",
   "metadata": {},
   "source": [
    "###### Analytical Expression"
   ]
  },
  {
   "cell_type": "code",
   "execution_count": 32,
   "id": "228d823a",
   "metadata": {},
   "outputs": [],
   "source": [
    "simple_moment <- function(r, mu, sigma2){\n",
    "    result <- exp(r * mu/2 + r**2 * sigma2 / 8)\n",
    "    result\n",
    "}"
   ]
  },
  {
   "cell_type": "code",
   "execution_count": 33,
   "id": "36a074bc",
   "metadata": {},
   "outputs": [],
   "source": [
    "double_moment <- function(i, r, s, mu, sigma2){\n",
    "    moment1 <- simple_moment(r, mu, sigma2)\n",
    "    moment2 <- simple_moment(s, mu, sigma2)\n",
    "    result <- moment1 * moment2 * exp(r * s * beta**i * sigma2/4)\n",
    "    result\n",
    "}"
   ]
  },
  {
   "cell_type": "code",
   "execution_count": 34,
   "id": "cf2f2c15",
   "metadata": {},
   "outputs": [
    {
     "data": {
      "text/html": [
       "<style>\n",
       ".list-inline {list-style: none; margin:0; padding: 0}\n",
       ".list-inline>li {display: inline-block}\n",
       ".list-inline>li:not(:last-child)::after {content: \"\\00b7\"; padding: 0 .5ex}\n",
       "</style>\n",
       "<ol class=list-inline><li>-0.736</li><li>0.9</li><li>0.363</li></ol>\n"
      ],
      "text/latex": [
       "\\begin{enumerate*}\n",
       "\\item -0.736\n",
       "\\item 0.9\n",
       "\\item 0.363\n",
       "\\end{enumerate*}\n"
      ],
      "text/markdown": [
       "1. -0.736\n",
       "2. 0.9\n",
       "3. 0.363\n",
       "\n",
       "\n"
      ],
      "text/plain": [
       "[1] -0.736  0.900  0.363"
      ]
     },
     "metadata": {},
     "output_type": "display_data"
    }
   ],
   "source": [
    "theta"
   ]
  },
  {
   "cell_type": "code",
   "execution_count": 35,
   "id": "46182eec",
   "metadata": {},
   "outputs": [
    {
     "data": {
      "text/html": [
       "0.693521052631579"
      ],
      "text/latex": [
       "0.693521052631579"
      ],
      "text/markdown": [
       "0.693521052631579"
      ],
      "text/plain": [
       "[1] 0.6935211"
      ]
     },
     "metadata": {},
     "output_type": "display_data"
    }
   ],
   "source": [
    "mu <- omega / (1 - beta)\n",
    "sigma2 <- sigma_u**2 / (1-beta**2)\n",
    "sigma2"
   ]
  },
  {
   "cell_type": "code",
   "execution_count": 36,
   "id": "9265c660",
   "metadata": {},
   "outputs": [],
   "source": [
    "obj_GMM <- function(theta, para_nb, j, y_t, L_T){\n",
    "    \n",
    "    T <- length(y_t)\n",
    "    omega <- theta[1]\n",
    "    beta <- theta[2]\n",
    "    sigma_u <- theta[3]\n",
    "\n",
    "    A_vec <- matrix(0, nrow=mom_nb, ncol=1)\n",
    "    M_T <- matrix(0, nrow=mom_nb, ncol=1)\n",
    "    m_t <- matrix(0, nrow=T, ncol=mom_nb)\n",
    "\n",
    "    mu <- omega / (1 - beta)\n",
    "    sigma2 <- sigma_u**2 / (1-beta**2)\n",
    "    A_vec[1,1] <- sqrt(2*pi) * simple_moment(1, mu, sigma2)\n",
    "    A_vec[2,1] <- simple_moment(2, mu, sigma2)\n",
    "    A_vec[3,1] <- 2*sqrt(2/pi) * simple_moment(3, mu, sigma2)\n",
    "    A_vec[4,1] <- 3 * simple_moment(4, mu, sigma2)\n",
    "\n",
    "    for (i in 1:10){\n",
    "        A_vec[4+i,1] <- 2/pi * double_moment(i, 1, 1, mu, sigma2)\n",
    "        A_vec[14+i,1] <- double_moment(i, 2, 2, mu, sigma2)\n",
    "    }\n",
    "\n",
    "    m_t[,1] <- abs(y_t)\n",
    "    m_t[,2] <- y_t**2\n",
    "    m_t[,3] <- abs(y_t**3)\n",
    "    m_t[,4] <- y_t**4\n",
    "    \n",
    "    M_T[1,] <- mean(m_t[(j+1):T, 1])\n",
    "    M_T[2,] <- mean(m_t[(j+1):T, 1])\n",
    "    M_T[3,] <- mean(m_t[(j+1):T, 1])\n",
    "    M_T[4,] <- mean(m_t[(j+1):T, 1])\n",
    "    \n",
    "    for (i in 1:10){\n",
    "        m_t[,4+i] <- abs(y_t[(i+1):T] * y_t[1:(T-i)])\n",
    "        m_t[,14+i] <- abs(y_t[(i+1):T]**2 * y_t[1:(T-i)]**2)\n",
    "        \n",
    "        M_T[4+i,] <- mean(m_t[,4+i])\n",
    "        M_T[14+i,] <- mean(m_t[,14+i])\n",
    "    }\n",
    "    \n",
    "    # Computation of Nabla\n",
    "    Gamma_T <- c()\n",
    "    for (z in 1:(2*(T-1))){\n",
    "        j_int <- z - (T-1)\n",
    "        1: T * sum((m_t[(j_int+1):T,] - A_vec[,1]) %*%\n",
    "                   t((m_t[1:(T-j_int),] - A_vec[,1])))\n",
    "    }\n",
    "    \n",
    "    \n",
    "    k_vec <- c()\n",
    "    for (z in 1:(2*(T-1))){\n",
    "        if (z < L_T){\n",
    "            k_vec[z] <- 1 - z / L_T\n",
    "        }\n",
    "        else {\n",
    "            k_vec[z] <- 0\n",
    "        }\n",
    "    }\n",
    "    \n",
    "    Nabla <- diag(mom_nb)\n",
    "    Nabla_inv <- solve(Nabla)\n",
    "    \n",
    "    result <- t(M_T - A_vec) %*% Nabla_inv %*% (M_T - A_vec)\n",
    "}"
   ]
  },
  {
   "cell_type": "code",
   "execution_count": 37,
   "id": "416a9743",
   "metadata": {},
   "outputs": [],
   "source": [
    "estim_GMM <- function(theta_init, para_nb, j, y_t, L_T){\n",
    "    valinit <- theta_init\n",
    "    lower = c(-Inf, 0, 0)\n",
    "    upper = c(Inf, 1, Inf)\n",
    "    res <- nlminb(valinit, obj_GMM, lower=lower, upper=upper, para_nb=para_nb,\n",
    "                  j=j, y_t=y_t, L_T=L_T)\n",
    "    omega <- res$par[1]\n",
    "    beta <- res$par[2]\n",
    "    sigma_u <- res$par[3]\n",
    "    list(coef=c(omega, beta, sigma_u))\n",
    "}"
   ]
  },
  {
   "cell_type": "code",
   "execution_count": 38,
   "id": "ddd61021",
   "metadata": {},
   "outputs": [],
   "source": [
    "theta_init <- c(-0.5, 0.85, 0.3)\n",
    "mom_nb <- 24\n",
    "j <- 0"
   ]
  },
  {
   "cell_type": "markdown",
   "id": "c870cfdc",
   "metadata": {},
   "source": [
    "# Check algorithm running time\n",
    "start.time <- Sys.time()"
   ]
  },
  {
   "cell_type": "code",
   "execution_count": 39,
   "id": "e9788138",
   "metadata": {},
   "outputs": [
    {
     "ename": "ERROR",
     "evalue": "Error in m_t[, 4 + i] <- abs(y_t[(i + 1):T] * y_t[1:(T - i)]): number of items to replace is not a multiple of replacement length\n",
     "output_type": "error",
     "traceback": [
      "Error in m_t[, 4 + i] <- abs(y_t[(i + 1):T] * y_t[1:(T - i)]): number of items to replace is not a multiple of replacement length\nTraceback:\n",
      "1. estim_GMM(theta_init, para_nb, j, y_t)",
      "2. nlminb(valinit, obj_GMM, lower = lower, upper = upper, para_nb = para_nb, \n .     j = j, y_t = y_t, L_T = L_T)   # at line 5-6 of file <text>",
      "3. objective(.par, ...)"
     ]
    }
   ],
   "source": [
    "estimation <- estim_GMM(theta_init, para_nb, j, y_t)\n",
    "theta_hat <- estimation$coef\n",
    "theta_hat <- matrix(theta_hat)"
   ]
  },
  {
   "cell_type": "code",
   "execution_count": 43,
   "id": "965b645a",
   "metadata": {},
   "outputs": [
    {
     "ename": "ERROR",
     "evalue": "Error in m_t[, 4 + i] <- abs(y_t[(i + 1):T] * y_t[1:(T - i)]): number of items to replace is not a multiple of replacement length\n",
     "output_type": "error",
     "traceback": [
      "Error in m_t[, 4 + i] <- abs(y_t[(i + 1):T] * y_t[1:(T - i)]): number of items to replace is not a multiple of replacement length\nTraceback:\n",
      "1. estim_GMM(theta_init, para_nb, j, y_t)",
      "2. nlminb(valinit, obj_GMM, lower = lower, upper = upper, para_nb = para_nb, \n .     j = j, y_t = y_t, L_T = L_T)   # at line 5-6 of file <text>",
      "3. objective(.par, ...)"
     ]
    }
   ],
   "source": [
    "estim_GMM(theta_init, para_nb, j, y_t)"
   ]
  },
  {
   "cell_type": "code",
   "execution_count": null,
   "id": "54ee4cdb",
   "metadata": {},
   "outputs": [],
   "source": [
    "theta_hat\n",
    "theta"
   ]
  },
  {
   "cell_type": "code",
   "execution_count": null,
   "id": "ffb63a7e",
   "metadata": {},
   "outputs": [],
   "source": [
    "end.time <- Sys.time()\n",
    "time.taken<-round(end.time-start.time,2)\n",
    "time.taken"
   ]
  },
  {
   "cell_type": "markdown",
   "id": "caf5bcfc",
   "metadata": {},
   "source": [
    "#### Monte Carlo Experiment"
   ]
  },
  {
   "cell_type": "code",
   "execution_count": null,
   "id": "aea41031",
   "metadata": {},
   "outputs": [],
   "source": [
    "# Inputs\n",
    "M <- 1000"
   ]
  },
  {
   "cell_type": "code",
   "execution_count": null,
   "id": "034029ec",
   "metadata": {},
   "outputs": [],
   "source": [
    "spread_conso <- matrix(0, nrow=M, ncol=3)\n",
    "\n",
    "for (j in 1:M){\n",
    "    # Simulation\n",
    "    data <- sv_simul(theta, log_sigma0, T)\n",
    "    y_t <- unlist(data[1])\n",
    "    sigma_t <- unlist(data[2])\n",
    "    \n",
    "    estimation <- estim_GMM(theta_init, para_nb, j, y_t)\n",
    "    theta_hat <- estimation$coef\n",
    "    theta_hat <- matrix(theta_hat)\n",
    "    \n",
    "    spread_conso[j,] <- theta_hat - theta\n",
    "}"
   ]
  },
  {
   "cell_type": "code",
   "execution_count": null,
   "id": "d2eb3fe2",
   "metadata": {},
   "outputs": [],
   "source": [
    "boxplot(spread_conso[,1])\n",
    "boxplot(spread_conso[,2])\n",
    "boxplot(spread_conso[,3])"
   ]
  },
  {
   "cell_type": "code",
   "execution_count": null,
   "id": "783ddf1d",
   "metadata": {},
   "outputs": [],
   "source": [
    "mean(spread_conso[,1])\n",
    "mean(spread_conso[,2])\n",
    "mean(spread_conso[,3])"
   ]
  }
 ],
 "metadata": {
  "kernelspec": {
   "display_name": "R",
   "language": "R",
   "name": "ir"
  },
  "language_info": {
   "codemirror_mode": "r",
   "file_extension": ".r",
   "mimetype": "text/x-r-source",
   "name": "R",
   "pygments_lexer": "r",
   "version": "4.1.2"
  }
 },
 "nbformat": 4,
 "nbformat_minor": 5
}
