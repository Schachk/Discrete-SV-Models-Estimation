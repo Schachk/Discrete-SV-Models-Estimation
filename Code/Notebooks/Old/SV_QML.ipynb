{
 "cells": [
  {
   "cell_type": "markdown",
   "id": "787f4ae5",
   "metadata": {},
   "source": [
    "## QML Estimation"
   ]
  },
  {
   "cell_type": "markdown",
   "id": "ebc4b432",
   "metadata": {},
   "source": [
    "$\n",
    "y_t = \\mu + \\epsilon_t \\\\\n",
    "\\epsilon_t \\sim \\mathcal{N}(0, \\sigma^2_{\\epsilon} exp(h_t)) \\\\\n",
    "h_{t+1} = \\mu + \\phi(h_{t} - \\mu) + \\xi_t \\\\\n",
    "    \\textrm{where } \\xi_t \\sim \\mathcal{N}(0, \\sigma^2_{\\xi})\n",
    "$"
   ]
  },
  {
   "cell_type": "code",
   "execution_count": 1,
   "id": "c06da863",
   "metadata": {},
   "outputs": [],
   "source": [
    "import numpy as np\n",
    "import pandas as pd\n",
    "import random as rd\n",
    "import math\n",
    "import matplotlib.pyplot as plt"
   ]
  },
  {
   "cell_type": "markdown",
   "id": "9aec2e83",
   "metadata": {},
   "source": [
    "##### i) Simulate the Model"
   ]
  },
  {
   "cell_type": "code",
   "execution_count": 2,
   "id": "847afacc",
   "metadata": {},
   "outputs": [],
   "source": [
    "from SV_Functions import sv_simul, sv_simul_v2"
   ]
  },
  {
   "cell_type": "code",
   "execution_count": 8,
   "id": "23d1ca78",
   "metadata": {},
   "outputs": [],
   "source": [
    "# Inputs\n",
    "μ = 0\n",
    "ϕ = 0.4\n",
    "σ1 = 1\n",
    "σ2 = 0.76\n",
    "T = 500\n",
    "h0 = 0"
   ]
  },
  {
   "cell_type": "code",
   "execution_count": null,
   "id": "4301e514",
   "metadata": {},
   "outputs": [],
   "source": [
    "data = sv_simul_v2(μ, ϕ, σ1, σ2, T, h0)\n",
    "y = data[0]\n",
    "h = data[1]\n",
    "ϵ = data[2]"
   ]
  },
  {
   "cell_type": "code",
   "execution_count": null,
   "id": "7857a47f",
   "metadata": {},
   "outputs": [],
   "source": [
    "plt.plot(range(T), r)"
   ]
  },
  {
   "cell_type": "code",
   "execution_count": null,
   "id": "abd515a3",
   "metadata": {},
   "outputs": [],
   "source": [
    "plt.plot(range(T), h)"
   ]
  },
  {
   "cell_type": "markdown",
   "id": "2888f55d",
   "metadata": {},
   "source": [
    "##### 2) Linearize the Model"
   ]
  },
  {
   "cell_type": "markdown",
   "id": "f60aa33f",
   "metadata": {},
   "source": [
    "$\n",
    "ln(y_t^2) =  h_t + ln(\\epsilon_t^2) = h_t + ln(\\sigma_{\\epsilon}^2) + ln(e_t^2), \\textrm{ with } e_t \\sim \\mathcal{N}(0, 1) \\\\\n",
    "c_t \\approx ln(y_t^2) - ln(\\sigma_{\\epsilon}^2) + 1.2704 \\\\\n",
    "d_t = \\frac{1}{2} \\pi^2\n",
    "$"
   ]
  },
  {
   "cell_type": "code",
   "execution_count": null,
   "id": "c2ac0861",
   "metadata": {},
   "outputs": [],
   "source": [
    "log2_y = np.log(np.square(y))"
   ]
  },
  {
   "cell_type": "code",
   "execution_count": null,
   "id": "31da88bb",
   "metadata": {},
   "outputs": [],
   "source": [
    "np.log(2)"
   ]
  },
  {
   "cell_type": "code",
   "execution_count": null,
   "id": "6c5353cb",
   "metadata": {},
   "outputs": [],
   "source": []
  },
  {
   "cell_type": "code",
   "execution_count": null,
   "id": "bd463b2c",
   "metadata": {},
   "outputs": [],
   "source": []
  },
  {
   "cell_type": "code",
   "execution_count": null,
   "id": "13d3f2f9",
   "metadata": {},
   "outputs": [],
   "source": []
  },
  {
   "cell_type": "markdown",
   "id": "a6334852",
   "metadata": {},
   "source": [
    "### QML Estimation (Francq, Zakoian)"
   ]
  },
  {
   "cell_type": "markdown",
   "id": "91c898ed",
   "metadata": {},
   "source": [
    "##### canonical SV Model"
   ]
  },
  {
   "cell_type": "markdown",
   "id": "1e505f05",
   "metadata": {},
   "source": [
    "$\n",
    "\\epsilon_t = \\sqrt{h_t} \\eta_t \\\\\n",
    "log(h_t) = \\omega + \\beta log(h_{t-1}) + \\sigma v_t\n",
    "$\n",
    "\n",
    "$\n",
    "\\eta_t \\sim \\mathcal{N}(0,1) \\\\\n",
    "v_t \\sim \\mathcal{N}(0,1)\n",
    "$"
   ]
  },
  {
   "cell_type": "markdown",
   "id": "404b2e06",
   "metadata": {},
   "source": [
    "##### State-space model"
   ]
  },
  {
   "cell_type": "markdown",
   "id": "e4bd2a81",
   "metadata": {},
   "source": [
    "$\n",
    "log (\\epsilon_t^2) = log (h_t) + \\mu_Z + u_t \\\\\n",
    "log (h_t) = \\beta log (h_{t-1}) + \\omega + \\sigma v_t\n",
    "$"
   ]
  },
  {
   "cell_type": "code",
   "execution_count": 26,
   "id": "84476807",
   "metadata": {},
   "outputs": [],
   "source": [
    "def sv_simul_can(ω, β, σ, log_h0):\n",
    "    η = np.random.normal(0, 1, T)\n",
    "    v  = np.random.normal(0, 1, T)\n",
    "    ϵ = []\n",
    "    log_h = []\n",
    "\n",
    "    log_h.append(ω + β * log_h0 + σ * v[0])\n",
    "    ϵ.append(np.sqrt(np.exp(log_h[0])) * η[0])\n",
    "\n",
    "    for t in range(1, T):\n",
    "        log_h.append(ω + β * log_h[t-1] + σ * v[t])\n",
    "        ϵ.append(np.sqrt(np.exp(log_h[t])) * η[t])\n",
    "        \n",
    "    return ϵ, log_h"
   ]
  },
  {
   "cell_type": "code",
   "execution_count": 27,
   "id": "3f9b7515",
   "metadata": {},
   "outputs": [],
   "source": [
    "# Inputs\n",
    "ω = 1e-3\n",
    "β = 0.8\n",
    "log_h0 = 0\n",
    "σ = 0.76\n",
    "T = 500"
   ]
  },
  {
   "cell_type": "code",
   "execution_count": 28,
   "id": "8808213d",
   "metadata": {},
   "outputs": [],
   "source": [
    "data = sv_simul_can(ω, β, σ, log_h0)\n",
    "ϵ_t = data[0]\n",
    "log_h_t = data[1]"
   ]
  },
  {
   "cell_type": "code",
   "execution_count": 33,
   "id": "acd046ba",
   "metadata": {},
   "outputs": [],
   "source": [
    "def obj_sv(θ, ϵ_t):\n",
    "    α_t = np.empty(0)\n",
    "    P_t = np.empty(0)\n",
    "    F_t = np.empty(0)\n",
    "    K_t = np.empty(0)\n",
    "    ω = θ[0]\n",
    "    β = θ[1]\n",
    "    σ = θ[2]\n",
    "    μ_Z = -1.270\n",
    "    σ_Z = np.pi**2 / 2\n",
    "    a0 = 0.7\n",
    "    P0 = 0\n",
    "    T = len(ϵ_t)\n",
    "    \n",
    "    α_t = np.append(α_t, β * a0 + ω)\n",
    "    P_t = np.append(P_t, β**2 * P0 + σ**2)\n",
    "    K_t = np.append(K_t, 0)\n",
    "    \n",
    "    for t in range(1,T):\n",
    "        F_t = np.append(F_t, P_t[t-1] + σ_Z**2)\n",
    "        K_t = np.append(K_t, β * P_t[t-1] * 1/F_t[t-1])\n",
    "        α_t = np.append(α_t, β * α_t[t-1] + K_t[t] * (ϵ_t[t-1] - α_t[t-1] - μ_Z) + ω)\n",
    "        P_t = np.append(P_t, β**2 * P_t[t-1] - K_t[t]**2 * F_t[t-1] + σ**2)\n",
    "    F_t = np.append(F_t, P_t[T-1] + σ_Z**2)\n",
    "    \n",
    "    qml = T/2 * np.log(2*np.pi) - 1/2 * np.sum(np.square(np.log(F_t) + (np.log(np.square(ϵ_t)) - α_t - μ_Z)) / F_t)\n",
    "    return qml"
   ]
  },
  {
   "cell_type": "code",
   "execution_count": 34,
   "id": "cd944227",
   "metadata": {},
   "outputs": [
    {
     "data": {
      "text/plain": [
       "297.9827726171092"
      ]
     },
     "execution_count": 34,
     "metadata": {},
     "output_type": "execute_result"
    }
   ],
   "source": [
    "ω0 = 1e-3\n",
    "β0 = 0.7\n",
    "σ0 = 0.6\n",
    "θ0 = [ω0, β0, σ0]\n",
    "obj_sv(θ0, ϵ_t)"
   ]
  },
  {
   "cell_type": "code",
   "execution_count": 35,
   "id": "4a90615d",
   "metadata": {},
   "outputs": [],
   "source": [
    "import scipy as sp"
   ]
  },
  {
   "cell_type": "code",
   "execution_count": 36,
   "id": "e8f9c668",
   "metadata": {},
   "outputs": [],
   "source": [
    "def estim_sv(ω0, β0, σ0, ϵ_t):\n",
    "    valinit = [ω0, β0, σ0]\n",
    "    res = minimize(obj_sv, valinit, args=(ϵ_t)) \n",
    "    est_param = res.x\n",
    "    ω_hat = est_param[0]\n",
    "    β_hat = est_param[1]\n",
    "    σ_hat = est_param[2]\n",
    "    likeli = res.fun\n",
    "    return ω_hat, β_hat, σ_hat, likeli"
   ]
  },
  {
   "cell_type": "code",
   "execution_count": 37,
   "id": "dec3db7c",
   "metadata": {},
   "outputs": [
    {
     "data": {
      "text/plain": [
       "(-23566660.77250515,\n",
       " -157.36127520497496,\n",
       " -3568.2762555361883,\n",
       " -10406909734.646652)"
      ]
     },
     "execution_count": 37,
     "metadata": {},
     "output_type": "execute_result"
    }
   ],
   "source": [
    "estim_sv(ω0, β0, σ0, ϵ_t)"
   ]
  },
  {
   "cell_type": "code",
   "execution_count": null,
   "id": "81b87eaa",
   "metadata": {},
   "outputs": [],
   "source": []
  },
  {
   "cell_type": "markdown",
   "id": "d7b3d051",
   "metadata": {},
   "source": [
    "### Estimate GARCH Models"
   ]
  },
  {
   "cell_type": "code",
   "execution_count": 3,
   "id": "bf0ef8ba",
   "metadata": {},
   "outputs": [],
   "source": [
    "def garch_simul(θ, T):\n",
    "    η = np.random.normal(0, 1, T)\n",
    "    ϵ_t = np.empty(0)\n",
    "    σ2 = np.empty(0)\n",
    "    ω = θ[0]\n",
    "    α = θ[1]\n",
    "    β = θ[2]\n",
    "    \n",
    "    ϵ_t = np.append(ϵ_t, np.sqrt(ω) * η[0])\n",
    "    σ2 = np.append(σ2, ω)\n",
    "    \n",
    "    for t in range(1, T):\n",
    "        σ2 = np.append(σ2, ω + α * ϵ_t[t-1]**2 + β * σ2[t-1])\n",
    "        ϵ_t = np.append(ϵ_t, np.sqrt(σ2[t]) * η[t])\n",
    "        \n",
    "    return ϵ_t, σ2"
   ]
  },
  {
   "cell_type": "code",
   "execution_count": 4,
   "id": "1cb46c92",
   "metadata": {},
   "outputs": [],
   "source": [
    "def obj_garch(θ, ϵ_t):\n",
    "    ω = θ[0]\n",
    "    α = θ[1]\n",
    "    β = θ[2]\n",
    "    T = len(ϵ_t)\n",
    "    σ2 = np.empty(0)\n",
    "    \n",
    "    σ2= np.append(σ2, ω)\n",
    "    for t in range(1,T):\n",
    "        σ2 = np.append(σ2, ω + α * ϵ_t[t-1]**2 + β * σ2[t-1])\n",
    "    qml = np.mean(np.log(σ2[1:T]) + np.square(ϵ_t[1:T]) / σ2[1:T])\n",
    "    return qml"
   ]
  },
  {
   "cell_type": "code",
   "execution_count": 5,
   "id": "cc869a13",
   "metadata": {},
   "outputs": [],
   "source": [
    "def estim_garch(θ, ϵ_t):\n",
    "    valinit = θ\n",
    "    res = minimize(obj_garch, valinit, args=(ϵ_t), bounds=((1e-4, math.inf), (0, math.inf), (0, 0.999))) \n",
    "    θ_hat = res.x\n",
    "    likeli = res.fun\n",
    "    return θ_hat, likeli"
   ]
  },
  {
   "cell_type": "code",
   "execution_count": 6,
   "id": "e73dda45",
   "metadata": {},
   "outputs": [],
   "source": [
    "ω = 1e-3\n",
    "α = 0.05\n",
    "β = 0.9\n",
    "θ = ω, α, β"
   ]
  },
  {
   "cell_type": "code",
   "execution_count": 9,
   "id": "3cb45664",
   "metadata": {},
   "outputs": [],
   "source": [
    "results = garch_simul(θ, T)\n",
    "ϵ_t = results[0]\n",
    "σ2 = results[1]"
   ]
  },
  {
   "cell_type": "code",
   "execution_count": 11,
   "id": "22d71eab",
   "metadata": {},
   "outputs": [
    {
     "data": {
      "text/plain": [
       "[<matplotlib.lines.Line2D at 0x20dc30fdb80>]"
      ]
     },
     "execution_count": 11,
     "metadata": {},
     "output_type": "execute_result"
    },
    {
     "data": {
      "image/png": "[encoded data removed]",
      "text/plain": [
       "<Figure size 432x288 with 1 Axes>"
      ]
     },
     "metadata": {
      "needs_background": "light"
     },
     "output_type": "display_data"
    }
   ],
   "source": [
    "plt.plot(range(T), ϵ_t)\n",
    "plt.plot(range(T), np.sqrt(σ2))"
   ]
  },
  {
   "cell_type": "code",
   "execution_count": 12,
   "id": "4a32e4f6",
   "metadata": {},
   "outputs": [],
   "source": [
    "ω0 = 1e-3\n",
    "α0 = 0.1\n",
    "β0 = 0.8\n",
    "θ0 = ω0, α0, β0"
   ]
  },
  {
   "cell_type": "code",
   "execution_count": 20,
   "id": "5b50ceef",
   "metadata": {},
   "outputs": [
    {
     "data": {
      "text/plain": [
       "array([ 0.00065813,  0.04029309, -0.06813606])"
      ]
     },
     "execution_count": 20,
     "metadata": {},
     "output_type": "execute_result"
    }
   ],
   "source": [
    "estimation = estim_garch(θ0, ϵ_t)\n",
    "θ_hat = estimation[0]\n",
    "θ_hat - θ"
   ]
  },
  {
   "cell_type": "code",
   "execution_count": null,
   "id": "fef4b7fd",
   "metadata": {},
   "outputs": [],
   "source": []
  },
  {
   "cell_type": "code",
   "execution_count": null,
   "id": "5d223640",
   "metadata": {},
   "outputs": [],
   "source": []
  },
  {
   "cell_type": "code",
   "execution_count": null,
   "id": "8aafbdd1",
   "metadata": {},
   "outputs": [],
   "source": [
    "α"
   ]
  },
  {
   "cell_type": "code",
   "execution_count": null,
   "id": "0d0cc60f",
   "metadata": {},
   "outputs": [],
   "source": [
    "sp.optimize.minimize(fun, x0, args=(), method=None, jac=None, hess=None, hessp=None,\n",
    "                        bounds=None, constraints=(), tol=None, callback=None, options=None)"
   ]
  },
  {
   "cell_type": "code",
   "execution_count": null,
   "id": "43e94bf6",
   "metadata": {},
   "outputs": [],
   "source": [
    "def square_fun(x):\n",
    "    return x**2 + x + 2"
   ]
  },
  {
   "cell_type": "code",
   "execution_count": 16,
   "id": "49a5e495",
   "metadata": {},
   "outputs": [],
   "source": [
    "from scipy.optimize import minimize"
   ]
  },
  {
   "cell_type": "code",
   "execution_count": null,
   "id": "2a639955",
   "metadata": {},
   "outputs": [],
   "source": [
    "x0 = 1\n",
    "a = minimize(square_fun, 0, method='BFGS')"
   ]
  },
  {
   "cell_type": "code",
   "execution_count": null,
   "id": "adaa594b",
   "metadata": {},
   "outputs": [],
   "source": [
    "def mini(paramt, a):\n",
    "    x, y, z = paramt\n",
    "    return x**2 + y**2 + z**2 + a"
   ]
  },
  {
   "cell_type": "code",
   "execution_count": null,
   "id": "06e86140",
   "metadata": {},
   "outputs": [],
   "source": [
    "first_guess = [0.5, 0.5, 0.5]"
   ]
  },
  {
   "cell_type": "code",
   "execution_count": null,
   "id": "fc57b98a",
   "metadata": {},
   "outputs": [],
   "source": [
    "res = minimize(mini, first_guess, args=(5))"
   ]
  },
  {
   "cell_type": "code",
   "execution_count": null,
   "id": "7b3d7310",
   "metadata": {},
   "outputs": [],
   "source": [
    "res"
   ]
  },
  {
   "cell_type": "code",
   "execution_count": null,
   "id": "ae566c58",
   "metadata": {},
   "outputs": [],
   "source": []
  },
  {
   "cell_type": "code",
   "execution_count": null,
   "id": "ea14aece",
   "metadata": {},
   "outputs": [],
   "source": [
    "import scipy"
   ]
  },
  {
   "cell_type": "code",
   "execution_count": null,
   "id": "78ded210",
   "metadata": {},
   "outputs": [],
   "source": [
    "# Estimation\n",
    "\n",
    "# Inputs\n",
    "ω_0 = 1e-3\n",
    "β_0 = 0.7\n",
    "σ_0 = 0.6\n",
    "\n",
    "α_t = []\n",
    "P_t = []\n",
    "F_t = []\n",
    "\n",
    "θ_0 = [ω_0, β_0, σ_0]\n",
    "\n",
    "for t in range(T):\n",
    "    log_like = -T/2 * np.log(2*np.pi) - 1/2 *\n",
    "        np.sum(np.log(F_t[t] + (np.log(ϵ**2) - α_t[t]) - μ_Z)**2 / F_T[t])\n",
    "\n"
   ]
  },
  {
   "cell_type": "code",
   "execution_count": null,
   "id": "40eed19a",
   "metadata": {},
   "outputs": [],
   "source": []
  }
 ],
 "metadata": {
  "kernelspec": {
   "display_name": "Python 3 (ipykernel)",
   "language": "python",
   "name": "python3"
  },
  "language_info": {
   "codemirror_mode": {
    "name": "ipython",
    "version": 3
   },
   "file_extension": ".py",
   "mimetype": "text/x-python",
   "name": "python",
   "nbconvert_exporter": "python",
   "pygments_lexer": "ipython3",
   "version": "3.9.7"
  }
 },
 "nbformat": 4,
 "nbformat_minor": 5
}
