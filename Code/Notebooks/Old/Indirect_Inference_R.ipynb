{
 "cells": [
  {
   "cell_type": "markdown",
   "id": "58f3fad8",
   "metadata": {},
   "source": [
    "#### Indirect Inference"
   ]
  },
  {
   "cell_type": "code",
   "execution_count": 14,
   "id": "3d3deae4",
   "metadata": {},
   "outputs": [],
   "source": [
    "# Real Model\n",
    "mu <- 0\n",
    "rho <- 0.9\n",
    "sigma2 <- 0.32**2\n",
    "theta <- c(mu, rho, sigma2)\n",
    "h0 <- mu\n",
    "T <- 2000"
   ]
  },
  {
   "cell_type": "code",
   "execution_count": 15,
   "id": "e7da6a0f",
   "metadata": {},
   "outputs": [],
   "source": [
    "sv_simul <- function(theta, h0, T){\n",
    "    y_t = c()\n",
    "    h_t = c()\n",
    "    mu <- theta[1]\n",
    "    rho <- theta[2]\n",
    "    sigma2 <- theta[3]\n",
    "    \n",
    "    u_t <- rnorm(T, 0, 1)\n",
    "    v_t <- rnorm(T, 0, sqrt(sigma2))\n",
    "    \n",
    "    h_t[1] <- mu + rho * h0 + v_t[1]\n",
    "    y_t[1] <- exp(0.5 * h_t[1]) * u_t[1]\n",
    "    \n",
    "    for (t in 2:T){\n",
    "        h_t[t] <- mu + rho * h_t[t-1] + v_t[t]\n",
    "        y_t[t] <- exp(0.5 * h_t[t]) * u_t[t]\n",
    "    }\n",
    "    list(y_t, h_t)\n",
    "}"
   ]
  },
  {
   "cell_type": "code",
   "execution_count": 16,
   "id": "69059690",
   "metadata": {},
   "outputs": [
    {
     "data": {
      "text/html": [
       "<style>\n",
       ".list-inline {list-style: none; margin:0; padding: 0}\n",
       ".list-inline>li {display: inline-block}\n",
       ".list-inline>li:not(:last-child)::after {content: \"\\00b7\"; padding: 0 .5ex}\n",
       "</style>\n",
       "<ol class=list-inline><li>0</li><li>0.9</li><li>0.1024</li></ol>\n"
      ],
      "text/latex": [
       "\\begin{enumerate*}\n",
       "\\item 0\n",
       "\\item 0.9\n",
       "\\item 0.1024\n",
       "\\end{enumerate*}\n"
      ],
      "text/markdown": [
       "1. 0\n",
       "2. 0.9\n",
       "3. 0.1024\n",
       "\n",
       "\n"
      ],
      "text/plain": [
       "[1] 0.0000 0.9000 0.1024"
      ]
     },
     "metadata": {},
     "output_type": "display_data"
    }
   ],
   "source": [
    "theta\n",
    "data <- sv_simul(theta, h0, T)\n",
    "y_t <- unlist(data[1])\n",
    "h_t <- unlist(data[2])"
   ]
  },
  {
   "cell_type": "code",
   "execution_count": 17,
   "id": "f3984b71",
   "metadata": {},
   "outputs": [
    {
     "data": {
      "image/png": "[encoded data removed]",
      "text/plain": [
       "plot without title"
      ]
     },
     "metadata": {
      "image/png": {
       "height": 420,
       "width": 420
      }
     },
     "output_type": "display_data"
    }
   ],
   "source": [
    "selection <- 1:500\n",
    "plot(y_t[selection], type='l')\n",
    "lines(sqrt(exp(h_t[selection])), type='l', col='red')"
   ]
  },
  {
   "cell_type": "markdown",
   "id": "0908dd43",
   "metadata": {},
   "source": [
    "### Auxiliary Model"
   ]
  },
  {
   "cell_type": "code",
   "execution_count": 18,
   "id": "01199428",
   "metadata": {},
   "outputs": [],
   "source": [
    "alpha_init <- c(0.1, 0.5, 0.5, 5)"
   ]
  },
  {
   "cell_type": "markdown",
   "id": "55d445df",
   "metadata": {},
   "source": [
    "##### 1st version"
   ]
  },
  {
   "cell_type": "code",
   "execution_count": 19,
   "id": "d38a3ea5",
   "metadata": {},
   "outputs": [],
   "source": [
    "obj_aux_arma <- function(alpha, x_t){\n",
    "    T <- length(x_t)\n",
    "    w_t <- c()\n",
    "    alpha_star <- alpha[1:3]\n",
    "    alpha0 <- alpha_star[1]\n",
    "    alpha1 <- alpha_star[2]\n",
    "    alpha2 <- alpha_star[3]\n",
    "    nu2 <- alpha[4]\n",
    "    w0 <- 0\n",
    "    x0 <- alpha0 / (1 - alpha1)\n",
    "    \n",
    "    w_t[1] <- x_t[1] - alpha0 - alpha1*x0 + alpha2*w0\n",
    "    for (t in 2:T){\n",
    "        w_t[t] <- x_t[t] - alpha0 - alpha1 * x_t[t-1] + alpha2 * w_t[t-1]    \n",
    "    }\n",
    "    pml <- -1/2 * log(2*pi) - 1/2 * log(nu2) - 1/(2*T*nu2) * sum(w_t**2)\n",
    "    -pml\n",
    "}"
   ]
  },
  {
   "cell_type": "code",
   "execution_count": 20,
   "id": "17534c5b",
   "metadata": {},
   "outputs": [],
   "source": [
    "estim_aux_arma <- function(alpha_init, y_t){\n",
    "    valinit <- alpha_init\n",
    "    lower = c(-Inf, -1, -1, 1e-2)\n",
    "    upper = c(Inf, 2, 2, 10)\n",
    "    x_t <- log((y_t+0.0001)**2)\n",
    "    res <- nlminb(valinit, obj_aux_arma, lower=lower, upper=upper, x_t=x_t)\n",
    "    alpha0 <- res$par[1]\n",
    "    alpha1 <- res$par[2]\n",
    "    alpha2 <- res$par[3]\n",
    "    nu2 <- res$par[4]\n",
    "    list(coef=c(alpha0, alpha1, alpha2, nu2))\n",
    "}"
   ]
  },
  {
   "cell_type": "code",
   "execution_count": 21,
   "id": "80f821d4",
   "metadata": {},
   "outputs": [],
   "source": [
    "estimation <- estim_aux_arma(alpha_init, y_t)\n",
    "alpha_hat <- estimation$coef\n",
    "alpha_hat <- matrix(alpha_hat)"
   ]
  },
  {
   "cell_type": "code",
   "execution_count": 22,
   "id": "30555da4",
   "metadata": {},
   "outputs": [
    {
     "data": {
      "text/html": [
       "<table class=\"dataframe\">\n",
       "<caption>A matrix: 4 × 1 of type dbl</caption>\n",
       "<tbody>\n",
       "\t<tr><td>-0.1850789</td></tr>\n",
       "\t<tr><td> 0.8589006</td></tr>\n",
       "\t<tr><td> 0.7784180</td></tr>\n",
       "\t<tr><td> 5.4272932</td></tr>\n",
       "</tbody>\n",
       "</table>\n"
      ],
      "text/latex": [
       "A matrix: 4 × 1 of type dbl\n",
       "\\begin{tabular}{l}\n",
       "\t -0.1850789\\\\\n",
       "\t  0.8589006\\\\\n",
       "\t  0.7784180\\\\\n",
       "\t  5.4272932\\\\\n",
       "\\end{tabular}\n"
      ],
      "text/markdown": [
       "\n",
       "A matrix: 4 × 1 of type dbl\n",
       "\n",
       "| -0.1850789 |\n",
       "|  0.8589006 |\n",
       "|  0.7784180 |\n",
       "|  5.4272932 |\n",
       "\n"
      ],
      "text/plain": [
       "     [,1]      \n",
       "[1,] -0.1850789\n",
       "[2,]  0.8589006\n",
       "[3,]  0.7784180\n",
       "[4,]  5.4272932"
      ]
     },
     "metadata": {},
     "output_type": "display_data"
    }
   ],
   "source": [
    "alpha_hat"
   ]
  },
  {
   "cell_type": "markdown",
   "id": "0bd0a3e7",
   "metadata": {},
   "source": [
    "### Simulations"
   ]
  },
  {
   "cell_type": "code",
   "execution_count": 23,
   "id": "0f3a6f8c",
   "metadata": {},
   "outputs": [],
   "source": [
    "# Inputs\n",
    "H <- 50\n",
    "h0 <- 0.0001\n",
    "theta0 <- c(0, 0.7, 0.5**2)"
   ]
  },
  {
   "cell_type": "code",
   "execution_count": 24,
   "id": "1857de07",
   "metadata": {},
   "outputs": [],
   "source": [
    "minim_crit_arma <- function(theta, T, H, h0, alpha_init, alpha_hat){\n",
    "    theta_o <- theta\n",
    "    data_sim <- sv_simul(theta_o, h0, T*H)\n",
    "    y_sim <- unlist(data_sim[1])\n",
    "    estimation_o <- estim_aux_arma(alpha_init, y_sim)\n",
    "    alpha_sim <- estimation_o$coef\n",
    "    alpha_sim <- matrix(alpha_sim, nrow=4, ncol=1)\n",
    "    Omega <- diag(4)*1\n",
    "    crit <- as.numeric(t(alpha_hat - alpha_sim) %*% Omega %*% (alpha_hat - alpha_sim))\n",
    "    crit\n",
    "}"
   ]
  },
  {
   "cell_type": "code",
   "execution_count": 25,
   "id": "065f4655",
   "metadata": {},
   "outputs": [],
   "source": [
    "estim_sv_ind_inf_arma <- function(theta0, T, H, h0, alpha_init, alpha_hat){\n",
    "    mu <- theta0[1]\n",
    "    rho <- theta0[2]\n",
    "    sigma2 <- theta0[3]\n",
    "    valinit <- c(mu, rho, sigma2)\n",
    "    lower <- c(-.0001, 0.5, 0)\n",
    "    upper <- c(.0001, 1, 0.5)\n",
    "    res <- nlminb(valinit, minim_crit_arma, lower=lower, upper=upper,\n",
    "                  T=T, H=H, h0=h0, alpha_init=alpha_init, alpha_hat=alpha_hat)\n",
    "    theta_hat <- res$par\n",
    "    theta_hat\n",
    "}"
   ]
  },
  {
   "cell_type": "code",
   "execution_count": null,
   "id": "46ac8e23",
   "metadata": {},
   "outputs": [],
   "source": []
  },
  {
   "cell_type": "code",
   "execution_count": null,
   "id": "68811654",
   "metadata": {},
   "outputs": [
    {
     "name": "stderr",
     "output_type": "stream",
     "text": [
      "Warning message in optim(valinit, minim_crit_arma, lower = lower, upper = upper, :\n",
      "\"bounds can only be used with method L-BFGS-B (or Brent)\"\n"
     ]
    }
   ],
   "source": [
    "    mu <- theta0[1]\n",
    "    rho <- theta0[2]\n",
    "    sigma2 <- theta0[3]\n",
    "    valinit <- c(mu, rho, sigma2)\n",
    "    lower <- c(-.0001, 0.5, 0)\n",
    "    upper <- c(.0001, 1, 0.5)\n",
    "    res <- optim(valinit, minim_crit_arma, lower=lower, upper=upper,\n",
    "                  T=T, H=H, h0=h0, alpha_init=alpha_init, alpha_hat=alpha_hat)\n",
    "    res"
   ]
  },
  {
   "cell_type": "code",
   "execution_count": null,
   "id": "a5090813",
   "metadata": {},
   "outputs": [],
   "source": []
  },
  {
   "cell_type": "code",
   "execution_count": null,
   "id": "1a1b1742",
   "metadata": {},
   "outputs": [],
   "source": []
  },
  {
   "cell_type": "code",
   "execution_count": null,
   "id": "a9aaef48",
   "metadata": {
    "scrolled": true
   },
   "outputs": [],
   "source": [
    "    mu <- theta0[1]\n",
    "    rho <- theta0[2]\n",
    "    sigma2 <- theta0[3]\n",
    "    valinit <- c(mu, rho, sigma2)\n",
    "    lower <- c(-.0001, 0.5, 0)\n",
    "    upper <- c(.0001, 1, 0.5)\n",
    "    res <- nlminb(valinit, minim_crit_arma, lower=lower, upper=upper,\n",
    "                  T=T, H=H, h0=h0, alpha_init=alpha_init, alpha_hat=alpha_hat)\n",
    "    res"
   ]
  },
  {
   "cell_type": "code",
   "execution_count": null,
   "id": "4a3e54e3",
   "metadata": {},
   "outputs": [],
   "source": []
  },
  {
   "cell_type": "code",
   "execution_count": null,
   "id": "78b19167",
   "metadata": {},
   "outputs": [],
   "source": []
  },
  {
   "cell_type": "code",
   "execution_count": 96,
   "id": "958f13b9",
   "metadata": {},
   "outputs": [],
   "source": [
    "start.time <- Sys.time()"
   ]
  },
  {
   "cell_type": "code",
   "execution_count": 100,
   "id": "6cc13d5a",
   "metadata": {},
   "outputs": [
    {
     "data": {
      "text/html": [
       "<style>\n",
       ".list-inline {list-style: none; margin:0; padding: 0}\n",
       ".list-inline>li {display: inline-block}\n",
       ".list-inline>li:not(:last-child)::after {content: \"\\00b7\"; padding: 0 .5ex}\n",
       "</style>\n",
       "<ol class=list-inline><li>0</li><li>0.7</li><li>0.25</li></ol>\n"
      ],
      "text/latex": [
       "\\begin{enumerate*}\n",
       "\\item 0\n",
       "\\item 0.7\n",
       "\\item 0.25\n",
       "\\end{enumerate*}\n"
      ],
      "text/markdown": [
       "1. 0\n",
       "2. 0.7\n",
       "3. 0.25\n",
       "\n",
       "\n"
      ],
      "text/plain": [
       "[1] 0.00 0.70 0.25"
      ]
     },
     "metadata": {},
     "output_type": "display_data"
    }
   ],
   "source": [
    "theta0"
   ]
  },
  {
   "cell_type": "code",
   "execution_count": 97,
   "id": "d7ae08e3",
   "metadata": {},
   "outputs": [
    {
     "data": {
      "text/html": [
       "<style>\n",
       ".list-inline {list-style: none; margin:0; padding: 0}\n",
       ".list-inline>li {display: inline-block}\n",
       ".list-inline>li:not(:last-child)::after {content: \"\\00b7\"; padding: 0 .5ex}\n",
       "</style>\n",
       "<ol class=list-inline><li>0</li><li>0.9</li><li>0.1024</li></ol>\n"
      ],
      "text/latex": [
       "\\begin{enumerate*}\n",
       "\\item 0\n",
       "\\item 0.9\n",
       "\\item 0.1024\n",
       "\\end{enumerate*}\n"
      ],
      "text/markdown": [
       "1. 0\n",
       "2. 0.9\n",
       "3. 0.1024\n",
       "\n",
       "\n"
      ],
      "text/plain": [
       "[1] 0.0000 0.9000 0.1024"
      ]
     },
     "metadata": {},
     "output_type": "display_data"
    },
    {
     "data": {
      "text/html": [
       "<style>\n",
       ".list-inline {list-style: none; margin:0; padding: 0}\n",
       ".list-inline>li {display: inline-block}\n",
       ".list-inline>li:not(:last-child)::after {content: \"\\00b7\"; padding: 0 .5ex}\n",
       "</style>\n",
       "<ol class=list-inline><li>-5.94405709965505e-06</li><li>-0.200001740968372</li><li>0.147599330532181</li></ol>\n"
      ],
      "text/latex": [
       "\\begin{enumerate*}\n",
       "\\item -5.94405709965505e-06\n",
       "\\item -0.200001740968372\n",
       "\\item 0.147599330532181\n",
       "\\end{enumerate*}\n"
      ],
      "text/markdown": [
       "1. -5.94405709965505e-06\n",
       "2. -0.200001740968372\n",
       "3. 0.147599330532181\n",
       "\n",
       "\n"
      ],
      "text/plain": [
       "[1] -5.944057e-06 -2.000017e-01  1.475993e-01"
      ]
     },
     "metadata": {},
     "output_type": "display_data"
    }
   ],
   "source": [
    "theta\n",
    "data <- sv_simul(theta, h0, T)\n",
    "y_t <- unlist(data[1])\n",
    "h_t <- unlist(data[2])\n",
    "\n",
    "estimation <- estim_aux_arma(alpha_init, y_t)\n",
    "alpha_hat <- estimation$coef\n",
    "alpha_hat <- matrix(alpha_hat, nrow=4, ncol=1)\n",
    "\n",
    "estimation_arma <- estim_sv_ind_inf_arma(theta0, T, H, h0, alpha_init, alpha_hat);\n",
    "theta_hat <- estimation_arma\n",
    "theta_hat - theta"
   ]
  },
  {
   "cell_type": "code",
   "execution_count": 98,
   "id": "60300632",
   "metadata": {},
   "outputs": [
    {
     "data": {
      "text/plain": [
       "Time difference of 1.76 mins"
      ]
     },
     "metadata": {},
     "output_type": "display_data"
    }
   ],
   "source": [
    "end.time <- Sys.time()\n",
    "time.taken<-round(end.time-start.time,2)\n",
    "time.taken"
   ]
  },
  {
   "cell_type": "code",
   "execution_count": 99,
   "id": "b12b66ad",
   "metadata": {},
   "outputs": [
    {
     "data": {
      "text/html": [
       "<style>\n",
       ".list-inline {list-style: none; margin:0; padding: 0}\n",
       ".list-inline>li {display: inline-block}\n",
       ".list-inline>li:not(:last-child)::after {content: \"\\00b7\"; padding: 0 .5ex}\n",
       "</style>\n",
       "<ol class=list-inline><li>0</li><li>0.7</li><li>0.25</li></ol>\n"
      ],
      "text/latex": [
       "\\begin{enumerate*}\n",
       "\\item 0\n",
       "\\item 0.7\n",
       "\\item 0.25\n",
       "\\end{enumerate*}\n"
      ],
      "text/markdown": [
       "1. 0\n",
       "2. 0.7\n",
       "3. 0.25\n",
       "\n",
       "\n"
      ],
      "text/plain": [
       "[1] 0.00 0.70 0.25"
      ]
     },
     "metadata": {},
     "output_type": "display_data"
    },
    {
     "data": {
      "text/html": [
       "<style>\n",
       ".list-inline {list-style: none; margin:0; padding: 0}\n",
       ".list-inline>li {display: inline-block}\n",
       ".list-inline>li:not(:last-child)::after {content: \"\\00b7\"; padding: 0 .5ex}\n",
       "</style>\n",
       "<ol class=list-inline><li>-5.94405709965505e-06</li><li>0.699998259031628</li><li>0.249999330532181</li></ol>\n"
      ],
      "text/latex": [
       "\\begin{enumerate*}\n",
       "\\item -5.94405709965505e-06\n",
       "\\item 0.699998259031628\n",
       "\\item 0.249999330532181\n",
       "\\end{enumerate*}\n"
      ],
      "text/markdown": [
       "1. -5.94405709965505e-06\n",
       "2. 0.699998259031628\n",
       "3. 0.249999330532181\n",
       "\n",
       "\n"
      ],
      "text/plain": [
       "[1] -5.944057e-06  6.999983e-01  2.499993e-01"
      ]
     },
     "metadata": {},
     "output_type": "display_data"
    },
    {
     "data": {
      "text/html": [
       "<style>\n",
       ".list-inline {list-style: none; margin:0; padding: 0}\n",
       ".list-inline>li {display: inline-block}\n",
       ".list-inline>li:not(:last-child)::after {content: \"\\00b7\"; padding: 0 .5ex}\n",
       "</style>\n",
       "<ol class=list-inline><li>0</li><li>0.9</li><li>0.1024</li></ol>\n"
      ],
      "text/latex": [
       "\\begin{enumerate*}\n",
       "\\item 0\n",
       "\\item 0.9\n",
       "\\item 0.1024\n",
       "\\end{enumerate*}\n"
      ],
      "text/markdown": [
       "1. 0\n",
       "2. 0.9\n",
       "3. 0.1024\n",
       "\n",
       "\n"
      ],
      "text/plain": [
       "[1] 0.0000 0.9000 0.1024"
      ]
     },
     "metadata": {},
     "output_type": "display_data"
    }
   ],
   "source": [
    "theta0\n",
    "theta_hat\n",
    "theta"
   ]
  },
  {
   "cell_type": "markdown",
   "id": "ffa1fa73",
   "metadata": {},
   "source": [
    "### Monte Carlo Experiment"
   ]
  },
  {
   "cell_type": "code",
   "execution_count": 79,
   "id": "3c728353",
   "metadata": {},
   "outputs": [],
   "source": [
    "start.time <- Sys.time()"
   ]
  },
  {
   "cell_type": "code",
   "execution_count": 80,
   "id": "04229d95",
   "metadata": {},
   "outputs": [],
   "source": [
    "# Inputs\n",
    "M <- 50"
   ]
  },
  {
   "cell_type": "code",
   "execution_count": null,
   "id": "af13c72e",
   "metadata": {},
   "outputs": [],
   "source": [
    "spread_conso <- matrix(0, nrow=M, ncol=3)\n",
    "\n",
    "for (j in 1:M){\n",
    "    # Simulation\n",
    "    data <- sv_simul(theta, h0, T)\n",
    "    y_t <- unlist(data[1])\n",
    "    h_t <- unlist(data[2])\n",
    "    \n",
    "    # Estimation of the Auxiliary Model\n",
    "    estimation <- estim_aux_arma(alpha_init, y_t)\n",
    "    alpha_hat <- estimation$coef\n",
    "    alpha_hat <- matrix(alpha_hat)\n",
    "    \n",
    "    # Estimation of the Auxiliary Model Simulated\n",
    "    estimation <- estim_sv_ind_inf_arma(theta0, T, H, h0, alpha_init, alpha_hat)\n",
    "    theta_hat <- estimation\n",
    "    \n",
    "    spread_conso[j,] <- theta_hat - theta\n",
    "}"
   ]
  },
  {
   "cell_type": "code",
   "execution_count": null,
   "id": "6819378a",
   "metadata": {},
   "outputs": [],
   "source": [
    "end.time <- Sys.time()\n",
    "time.taken<-round(end.time-start.time,2)\n",
    "time.taken"
   ]
  },
  {
   "cell_type": "code",
   "execution_count": null,
   "id": "a436d40e",
   "metadata": {},
   "outputs": [],
   "source": [
    "mean(spread_conso[,1])\n",
    "mean(spread_conso[,2])\n",
    "mean(spread_conso[,3])"
   ]
  },
  {
   "cell_type": "code",
   "execution_count": null,
   "id": "97e2d18a",
   "metadata": {},
   "outputs": [],
   "source": [
    "boxplot(spread_conso[,1])\n",
    "boxplot(spread_conso[,2])\n",
    "boxplot(spread_conso[,3])"
   ]
  },
  {
   "cell_type": "code",
   "execution_count": null,
   "id": "8edfe1b3",
   "metadata": {},
   "outputs": [],
   "source": [
    "mean(spread_conso[,1])\n",
    "mean(spread_conso[,2])\n",
    "mean(spread_conso[,3])"
   ]
  },
  {
   "cell_type": "code",
   "execution_count": null,
   "id": "2b95d516",
   "metadata": {},
   "outputs": [],
   "source": [
    "theta\n",
    "theta_hat\n",
    "theta_0"
   ]
  }
 ],
 "metadata": {
  "kernelspec": {
   "display_name": "R",
   "language": "R",
   "name": "ir"
  },
  "language_info": {
   "codemirror_mode": "r",
   "file_extension": ".r",
   "mimetype": "text/x-r-source",
   "name": "R",
   "pygments_lexer": "r",
   "version": "4.1.2"
  }
 },
 "nbformat": 4,
 "nbformat_minor": 5
}
