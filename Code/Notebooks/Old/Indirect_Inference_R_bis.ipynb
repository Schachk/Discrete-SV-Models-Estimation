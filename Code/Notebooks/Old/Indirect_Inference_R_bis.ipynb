{
 "cells": [
  {
   "cell_type": "markdown",
   "id": "58f3fad8",
   "metadata": {},
   "source": [
    "#### Indirect Inference"
   ]
  },
  {
   "cell_type": "code",
   "execution_count": 2,
   "id": "3d3deae4",
   "metadata": {},
   "outputs": [],
   "source": [
    "# Real Model\n",
    "mu <- 0\n",
    "rho <- 0.9\n",
    "sigma2 <- 0.32**2\n",
    "theta <- c(mu, rho, sigma2)\n",
    "h0 <- mu\n",
    "T <- 2000"
   ]
  },
  {
   "cell_type": "code",
   "execution_count": 3,
   "id": "e7da6a0f",
   "metadata": {},
   "outputs": [],
   "source": [
    "sv_simul <- function(theta, h0, T){\n",
    "    y_t = c()\n",
    "    h_t = c()\n",
    "    mu <- theta[1]\n",
    "    rho <- theta[2]\n",
    "    sigma2 <- theta[3]\n",
    "    \n",
    "    u_t <- rnorm(T, 0, 1)\n",
    "    v_t <- rnorm(T, 0, sqrt(sigma2))\n",
    "    \n",
    "    h_t[1] <- mu + rho * h0 + v_t[1]\n",
    "    y_t[1] <- exp(0.5 * h_t[1]) * u_t[1]\n",
    "    \n",
    "    for (t in 2:T){\n",
    "        h_t[t] <- mu + rho * h_t[t-1] + v_t[t]\n",
    "        y_t[t] <- exp(0.5 * h_t[t]) * u_t[t]\n",
    "    }\n",
    "    list(y_t, h_t)\n",
    "}"
   ]
  },
  {
   "cell_type": "code",
   "execution_count": 4,
   "id": "69059690",
   "metadata": {},
   "outputs": [],
   "source": [
    "data <- sv_simul(theta, h0, T)\n",
    "y_t <- unlist(data[1])\n",
    "h_t <- unlist(data[2])"
   ]
  },
  {
   "cell_type": "code",
   "execution_count": 5,
   "id": "f3984b71",
   "metadata": {},
   "outputs": [
    {
     "data": {
      "image/png": "[encoded data removed]",
      "text/plain": [
       "plot without title"
      ]
     },
     "metadata": {
      "image/png": {
       "height": 420,
       "width": 420
      }
     },
     "output_type": "display_data"
    }
   ],
   "source": [
    "selection <- 1:200\n",
    "plot(y_t[selection], type='l')\n",
    "lines(sqrt(exp(h_t[selection])), type='l', col='red')"
   ]
  },
  {
   "cell_type": "code",
   "execution_count": 6,
   "id": "d3a74462",
   "metadata": {},
   "outputs": [
    {
     "data": {
      "text/html": [
       "0"
      ],
      "text/latex": [
       "0"
      ],
      "text/markdown": [
       "0"
      ],
      "text/plain": [
       "[1] 0"
      ]
     },
     "metadata": {},
     "output_type": "display_data"
    }
   ],
   "source": [
    "sum(y_t == 0)"
   ]
  },
  {
   "cell_type": "markdown",
   "id": "0908dd43",
   "metadata": {},
   "source": [
    "### Auxiliary Model"
   ]
  },
  {
   "cell_type": "code",
   "execution_count": 7,
   "id": "01199428",
   "metadata": {},
   "outputs": [],
   "source": [
    "alpha_init <- c(0.1, 0.5, 0.5, 5)"
   ]
  },
  {
   "cell_type": "code",
   "execution_count": null,
   "id": "b438edb3",
   "metadata": {},
   "outputs": [],
   "source": []
  },
  {
   "cell_type": "code",
   "execution_count": 8,
   "id": "e08e6dfe",
   "metadata": {},
   "outputs": [],
   "source": [
    "x_t <- log(y_t**2) * (y_t!=0)\n",
    "    x_t <- x_t[x_t!=0]"
   ]
  },
  {
   "cell_type": "code",
   "execution_count": 13,
   "id": "351d4ce4",
   "metadata": {},
   "outputs": [
    {
     "data": {
      "text/html": [
       "<style>\n",
       ".dl-inline {width: auto; margin:0; padding: 0}\n",
       ".dl-inline>dt, .dl-inline>dd {float: none; width: auto; display: inline-block}\n",
       ".dl-inline>dt::after {content: \":\\0020\"; padding-right: .5ex}\n",
       ".dl-inline>dt:not(:first-of-type) {padding-left: .5ex}\n",
       "</style><dl class=dl-inline><dt>ar1</dt><dd>0.0960421864052972</dd><dt>ar2</dt><dd>0.111763503571361</dd><dt>ar3</dt><dd>0.131631562333005</dd><dt>ar4</dt><dd>0.0687511895315047</dd><dt>ar5</dt><dd>0.0784189364550856</dd><dt>ar6</dt><dd>0.0800821889497987</dd><dt>ar7</dt><dd>0.0504822540699058</dd><dt>ar8</dt><dd>0.0652556884645875</dd><dt>ar9</dt><dd>0.0442200912481742</dd><dt>ar10</dt><dd>0.0403782444808927</dd></dl>\n"
      ],
      "text/latex": [
       "\\begin{description*}\n",
       "\\item[ar1] 0.0960421864052972\n",
       "\\item[ar2] 0.111763503571361\n",
       "\\item[ar3] 0.131631562333005\n",
       "\\item[ar4] 0.0687511895315047\n",
       "\\item[ar5] 0.0784189364550856\n",
       "\\item[ar6] 0.0800821889497987\n",
       "\\item[ar7] 0.0504822540699058\n",
       "\\item[ar8] 0.0652556884645875\n",
       "\\item[ar9] 0.0442200912481742\n",
       "\\item[ar10] 0.0403782444808927\n",
       "\\end{description*}\n"
      ],
      "text/markdown": [
       "ar1\n",
       ":   0.0960421864052972ar2\n",
       ":   0.111763503571361ar3\n",
       ":   0.131631562333005ar4\n",
       ":   0.0687511895315047ar5\n",
       ":   0.0784189364550856ar6\n",
       ":   0.0800821889497987ar7\n",
       ":   0.0504822540699058ar8\n",
       ":   0.0652556884645875ar9\n",
       ":   0.0442200912481742ar10\n",
       ":   0.0403782444808927\n",
       "\n"
      ],
      "text/plain": [
       "       ar1        ar2        ar3        ar4        ar5        ar6        ar7 \n",
       "0.09604219 0.11176350 0.13163156 0.06875119 0.07841894 0.08008219 0.05048225 \n",
       "       ar8        ar9       ar10 \n",
       "0.06525569 0.04422009 0.04037824 "
      ]
     },
     "metadata": {},
     "output_type": "display_data"
    }
   ],
   "source": [
    "arma10 <- arima(x_t, order = c(10, 0, 0), include.mean = FALSE)  # uses ARIMA(p,d,q) specification\n",
    "arma_coefarma10$coef"
   ]
  },
  {
   "cell_type": "code",
   "execution_count": null,
   "id": "3bb2980e",
   "metadata": {},
   "outputs": [],
   "source": []
  },
  {
   "cell_type": "code",
   "execution_count": null,
   "id": "300860c6",
   "metadata": {},
   "outputs": [],
   "source": []
  },
  {
   "cell_type": "markdown",
   "id": "55d445df",
   "metadata": {},
   "source": [
    "##### 1st version"
   ]
  },
  {
   "cell_type": "code",
   "execution_count": 95,
   "id": "d38a3ea5",
   "metadata": {},
   "outputs": [],
   "source": [
    "obj_aux_ar <- function(alpha, x_t){\n",
    "    T <- length(x_t)\n",
    "    w_t <- c()\n",
    "    alpha_star <- alpha[1:3]\n",
    "    alpha0 <- alpha_star[1]\n",
    "    alpha1 <- alpha_star[2]\n",
    "    alpha2 <- alpha_star[3]\n",
    "    nu2 <- alpha[4]\n",
    "    w0 <- 0\n",
    "    x0 <- alpha0 / (1 - alpha1)\n",
    "    \n",
    "    w_t[1] <- x_t[1] - alpha0 - alpha1*x0 + alpha2*w0\n",
    "    for (t in 2:T){\n",
    "        w_t[t] = x_t[t] - alpha0 - alpha1 * x_t[t-1] + alpha2 * w_t[t-1]    \n",
    "    }\n",
    "    pml <- -1/2 * log(2*pi) - 1/2 * log(nu2) - 1/(2*T*nu2) * sum(w_t**2)\n",
    "    -pml\n",
    "}"
   ]
  },
  {
   "cell_type": "code",
   "execution_count": 96,
   "id": "17534c5b",
   "metadata": {},
   "outputs": [],
   "source": [
    "estim_aux_arma <- function(alpha_init, y_t){\n",
    "    valinit <- alpha_init\n",
    "    lower = c(-1, -0.2, -0.2, 1e-2)\n",
    "    upper = c(1, 2, 2, 10)\n",
    "    x_t <- log(y_t**2) * (y_t!=0)\n",
    "    x_t <- x_t[x_t!=0]\n",
    "    res <- nlminb(valinit, obj_aux_arma, lower=lower, upper=upper, x_t=x_t)\n",
    "    alpha0 <- res$par[1]\n",
    "    alpha1 <- res$par[2]\n",
    "    alpha2 <- res$par[3]\n",
    "    nu2 <- res$par[4]\n",
    "    list(coef=c(alpha0, alpha1, alpha2, nu2))\n",
    "}"
   ]
  },
  {
   "cell_type": "code",
   "execution_count": 97,
   "id": "80f821d4",
   "metadata": {},
   "outputs": [],
   "source": [
    "estimation <- estim_aux_arma(alpha_init, y_t)\n",
    "alpha_hat <- estimation$coef\n",
    "alpha_hat <- matrix(alpha_hat)"
   ]
  },
  {
   "cell_type": "code",
   "execution_count": 98,
   "id": "fe1a1a9c",
   "metadata": {},
   "outputs": [
    {
     "data": {
      "text/html": [
       "<table class=\"dataframe\">\n",
       "<caption>A matrix: 4 × 1 of type dbl</caption>\n",
       "<tbody>\n",
       "\t<tr><td>-0.1497240</td></tr>\n",
       "\t<tr><td> 0.8802482</td></tr>\n",
       "\t<tr><td> 0.8075766</td></tr>\n",
       "\t<tr><td> 5.5993499</td></tr>\n",
       "</tbody>\n",
       "</table>\n"
      ],
      "text/latex": [
       "A matrix: 4 × 1 of type dbl\n",
       "\\begin{tabular}{l}\n",
       "\t -0.1497240\\\\\n",
       "\t  0.8802482\\\\\n",
       "\t  0.8075766\\\\\n",
       "\t  5.5993499\\\\\n",
       "\\end{tabular}\n"
      ],
      "text/markdown": [
       "\n",
       "A matrix: 4 × 1 of type dbl\n",
       "\n",
       "| -0.1497240 |\n",
       "|  0.8802482 |\n",
       "|  0.8075766 |\n",
       "|  5.5993499 |\n",
       "\n"
      ],
      "text/plain": [
       "     [,1]      \n",
       "[1,] -0.1497240\n",
       "[2,]  0.8802482\n",
       "[3,]  0.8075766\n",
       "[4,]  5.5993499"
      ]
     },
     "metadata": {},
     "output_type": "display_data"
    }
   ],
   "source": [
    "alpha_hat"
   ]
  },
  {
   "cell_type": "markdown",
   "id": "0bd0a3e7",
   "metadata": {},
   "source": [
    "### Simulations"
   ]
  },
  {
   "cell_type": "code",
   "execution_count": 99,
   "id": "0f3a6f8c",
   "metadata": {},
   "outputs": [],
   "source": [
    "# Inputs\n",
    "H <- 16\n",
    "h0 <- 0.0001\n",
    "theta0 <- c(0, 0.8, 0.4**2)"
   ]
  },
  {
   "cell_type": "code",
   "execution_count": 100,
   "id": "1857de07",
   "metadata": {},
   "outputs": [],
   "source": [
    "minim_crit_arma <- function(theta, T, H, h0, alpha_init, alpha_hat){\n",
    "    data_sim <- sv_simul(theta, h0, T*H)\n",
    "    y_sim <- unlist(data_sim[1])\n",
    "    estimation <- estim_aux_arma(alpha_init, y_sim)\n",
    "    alpha_sim <- estimation$coef\n",
    "    alpha_sim <- matrix(alpha_sim, nrow=4, ncol=1)\n",
    "    Omega <- diag(4)*1\n",
    "    crit <- as.numeric(t(alpha_hat - alpha_sim) %*% Omega %*% (alpha_hat - alpha_sim))\n",
    "    crit\n",
    "}"
   ]
  },
  {
   "cell_type": "code",
   "execution_count": 101,
   "id": "065f4655",
   "metadata": {},
   "outputs": [],
   "source": [
    "estim_sv_ind_inf_arma <- function(theta0, T, H, h0, alpha_init, alpha_hat){\n",
    "    valinit <- theta0\n",
    "    lower <- c(-.0001, 0.5, 0)\n",
    "    upper <- c(.0001, 1, 0.5)\n",
    "    res <- nlminb(valinit, minim_crit_arma, lower=lower, upper=upper,\n",
    "                  T=T, H=H, h0=h0, alpha_init=alpha_init, alpha_hat=alpha_hat)\n",
    "    theta_hat <- res$par\n",
    "    theta_hat\n",
    "}"
   ]
  },
  {
   "cell_type": "code",
   "execution_count": 102,
   "id": "7a05ef91",
   "metadata": {},
   "outputs": [],
   "source": [
    "start.time <- Sys.time()"
   ]
  },
  {
   "cell_type": "code",
   "execution_count": null,
   "id": "d7ae08e3",
   "metadata": {},
   "outputs": [],
   "source": [
    "estimation <- estim_sv_ind_inf_arma(theta0, T, H, h0, alpha_init, alpha_hat);\n",
    "theta_hat <- estimation\n",
    "theta_hat - theta"
   ]
  },
  {
   "cell_type": "code",
   "execution_count": null,
   "id": "79eed13b",
   "metadata": {},
   "outputs": [],
   "source": [
    "end.time <- Sys.time()\n",
    "time.taken<-round(end.time-start.time,2)\n",
    "time.taken"
   ]
  },
  {
   "cell_type": "code",
   "execution_count": null,
   "id": "b12b66ad",
   "metadata": {},
   "outputs": [],
   "source": [
    "theta0\n",
    "theta_hat\n",
    "theta"
   ]
  },
  {
   "cell_type": "markdown",
   "id": "ffa1fa73",
   "metadata": {},
   "source": [
    "### Monte Carlo Experiment"
   ]
  },
  {
   "cell_type": "code",
   "execution_count": 74,
   "id": "3c728353",
   "metadata": {},
   "outputs": [],
   "source": [
    "start.time <- Sys.time()"
   ]
  },
  {
   "cell_type": "code",
   "execution_count": 75,
   "id": "04229d95",
   "metadata": {},
   "outputs": [],
   "source": [
    "# Inputs\n",
    "M <- 10"
   ]
  },
  {
   "cell_type": "code",
   "execution_count": null,
   "id": "af13c72e",
   "metadata": {},
   "outputs": [
    {
     "name": "stderr",
     "output_type": "stream",
     "text": [
      "Warning message in nlminb(valinit, obj_aux_arma, lower = lower, upper = upper, x_t = x_t):\n",
      "\"NA/NaN function evaluation\"\n",
      "Warning message in nlminb(valinit, obj_aux_arma, lower = lower, upper = upper, x_t = x_t):\n",
      "\"NA/NaN function evaluation\"\n",
      "Warning message in nlminb(valinit, obj_aux_arma, lower = lower, upper = upper, x_t = x_t):\n",
      "\"NA/NaN function evaluation\"\n",
      "Warning message in nlminb(valinit, obj_aux_arma, lower = lower, upper = upper, x_t = x_t):\n",
      "\"NA/NaN function evaluation\"\n",
      "Warning message in nlminb(valinit, obj_aux_arma, lower = lower, upper = upper, x_t = x_t):\n",
      "\"NA/NaN function evaluation\"\n",
      "Warning message in nlminb(valinit, obj_aux_arma, lower = lower, upper = upper, x_t = x_t):\n",
      "\"NA/NaN function evaluation\"\n",
      "Warning message in nlminb(valinit, obj_aux_arma, lower = lower, upper = upper, x_t = x_t):\n",
      "\"NA/NaN function evaluation\"\n",
      "Warning message in nlminb(valinit, obj_aux_arma, lower = lower, upper = upper, x_t = x_t):\n",
      "\"NA/NaN function evaluation\"\n",
      "Warning message in nlminb(valinit, obj_aux_arma, lower = lower, upper = upper, x_t = x_t):\n",
      "\"NA/NaN function evaluation\"\n",
      "Warning message in nlminb(valinit, obj_aux_arma, lower = lower, upper = upper, x_t = x_t):\n",
      "\"NA/NaN function evaluation\"\n",
      "Warning message in nlminb(valinit, obj_aux_arma, lower = lower, upper = upper, x_t = x_t):\n",
      "\"NA/NaN function evaluation\"\n",
      "Warning message in nlminb(valinit, obj_aux_arma, lower = lower, upper = upper, x_t = x_t):\n",
      "\"NA/NaN function evaluation\"\n",
      "Warning message in nlminb(valinit, obj_aux_arma, lower = lower, upper = upper, x_t = x_t):\n",
      "\"NA/NaN function evaluation\"\n",
      "Warning message in nlminb(valinit, obj_aux_arma, lower = lower, upper = upper, x_t = x_t):\n",
      "\"NA/NaN function evaluation\"\n",
      "Warning message in nlminb(valinit, obj_aux_arma, lower = lower, upper = upper, x_t = x_t):\n",
      "\"NA/NaN function evaluation\"\n",
      "Warning message in nlminb(valinit, obj_aux_arma, lower = lower, upper = upper, x_t = x_t):\n",
      "\"NA/NaN function evaluation\"\n",
      "Warning message in nlminb(valinit, obj_aux_arma, lower = lower, upper = upper, x_t = x_t):\n",
      "\"NA/NaN function evaluation\"\n",
      "Warning message in nlminb(valinit, obj_aux_arma, lower = lower, upper = upper, x_t = x_t):\n",
      "\"NA/NaN function evaluation\"\n",
      "Warning message in nlminb(valinit, obj_aux_arma, lower = lower, upper = upper, x_t = x_t):\n",
      "\"NA/NaN function evaluation\"\n",
      "Warning message in nlminb(valinit, obj_aux_arma, lower = lower, upper = upper, x_t = x_t):\n",
      "\"NA/NaN function evaluation\"\n",
      "Warning message in nlminb(valinit, obj_aux_arma, lower = lower, upper = upper, x_t = x_t):\n",
      "\"NA/NaN function evaluation\"\n",
      "Warning message in nlminb(valinit, obj_aux_arma, lower = lower, upper = upper, x_t = x_t):\n",
      "\"NA/NaN function evaluation\"\n",
      "Warning message in nlminb(valinit, obj_aux_arma, lower = lower, upper = upper, x_t = x_t):\n",
      "\"NA/NaN function evaluation\"\n",
      "Warning message in nlminb(valinit, obj_aux_arma, lower = lower, upper = upper, x_t = x_t):\n",
      "\"NA/NaN function evaluation\"\n",
      "Warning message in nlminb(valinit, obj_aux_arma, lower = lower, upper = upper, x_t = x_t):\n",
      "\"NA/NaN function evaluation\"\n",
      "Warning message in nlminb(valinit, obj_aux_arma, lower = lower, upper = upper, x_t = x_t):\n",
      "\"NA/NaN function evaluation\"\n",
      "Warning message in nlminb(valinit, obj_aux_arma, lower = lower, upper = upper, x_t = x_t):\n",
      "\"NA/NaN function evaluation\"\n",
      "Warning message in nlminb(valinit, obj_aux_arma, lower = lower, upper = upper, x_t = x_t):\n",
      "\"NA/NaN function evaluation\"\n",
      "Warning message in nlminb(valinit, obj_aux_arma, lower = lower, upper = upper, x_t = x_t):\n",
      "\"NA/NaN function evaluation\"\n",
      "Warning message in nlminb(valinit, obj_aux_arma, lower = lower, upper = upper, x_t = x_t):\n",
      "\"NA/NaN function evaluation\"\n",
      "Warning message in nlminb(valinit, obj_aux_arma, lower = lower, upper = upper, x_t = x_t):\n",
      "\"NA/NaN function evaluation\"\n",
      "Warning message in nlminb(valinit, obj_aux_arma, lower = lower, upper = upper, x_t = x_t):\n",
      "\"NA/NaN function evaluation\"\n",
      "Warning message in nlminb(valinit, obj_aux_arma, lower = lower, upper = upper, x_t = x_t):\n",
      "\"NA/NaN function evaluation\"\n",
      "Warning message in nlminb(valinit, obj_aux_arma, lower = lower, upper = upper, x_t = x_t):\n",
      "\"NA/NaN function evaluation\"\n",
      "Warning message in nlminb(valinit, obj_aux_arma, lower = lower, upper = upper, x_t = x_t):\n",
      "\"NA/NaN function evaluation\"\n"
     ]
    }
   ],
   "source": [
    "spread_conso <- matrix(0, nrow=M, ncol=3)\n",
    "\n",
    "for (j in 1:M){\n",
    "    # Simulation\n",
    "    data <- sv_simul(theta, h0, T)\n",
    "    y_t <- unlist(data[1])\n",
    "    h_t <- unlist(data[2])\n",
    "    \n",
    "    # Estimation of the Auxiliary Model\n",
    "    estimation <- estim_aux_arma(alpha_init, y_t)\n",
    "    alpha_hat <- estimation$coef\n",
    "    alpha_hat <- matrix(alpha_hat)\n",
    "    \n",
    "    # Estimation of the Auxiliary Model Simulated\n",
    "    estimation <- estim_sv_ind_inf_arma(theta0, T, H, h0, alpha_init, alpha_hat)\n",
    "    theta_hat <- estimation\n",
    "    \n",
    "    spread_conso[j,] <- theta_hat - theta\n",
    "}"
   ]
  },
  {
   "cell_type": "code",
   "execution_count": null,
   "id": "6819378a",
   "metadata": {},
   "outputs": [],
   "source": [
    "end.time <- Sys.time()\n",
    "time.taken<-round(end.time-start.time,2)\n",
    "time.taken"
   ]
  },
  {
   "cell_type": "code",
   "execution_count": null,
   "id": "a436d40e",
   "metadata": {},
   "outputs": [],
   "source": [
    "mean(spread_conso[,1])\n",
    "mean(spread_conso[,2])\n",
    "mean(spread_conso[,3])"
   ]
  },
  {
   "cell_type": "code",
   "execution_count": null,
   "id": "97e2d18a",
   "metadata": {},
   "outputs": [],
   "source": [
    "boxplot(spread_conso[,1])\n",
    "boxplot(spread_conso[,2])\n",
    "boxplot(spread_conso[,3])"
   ]
  },
  {
   "cell_type": "code",
   "execution_count": null,
   "id": "8edfe1b3",
   "metadata": {},
   "outputs": [],
   "source": [
    "mean(spread_conso[,1])\n",
    "mean(spread_conso[,2])\n",
    "mean(spread_conso[,3])"
   ]
  },
  {
   "cell_type": "code",
   "execution_count": null,
   "id": "2b95d516",
   "metadata": {},
   "outputs": [],
   "source": [
    "theta\n",
    "theta_hat"
   ]
  }
 ],
 "metadata": {
  "kernelspec": {
   "display_name": "R",
   "language": "R",
   "name": "ir"
  },
  "language_info": {
   "codemirror_mode": "r",
   "file_extension": ".r",
   "mimetype": "text/x-r-source",
   "name": "R",
   "pygments_lexer": "r",
   "version": "4.1.2"
  }
 },
 "nbformat": 4,
 "nbformat_minor": 5
}
