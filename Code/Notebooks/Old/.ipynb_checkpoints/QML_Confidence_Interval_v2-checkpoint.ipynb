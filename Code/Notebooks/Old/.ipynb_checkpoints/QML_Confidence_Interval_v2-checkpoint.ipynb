{
 "cells": [
  {
   "cell_type": "markdown",
   "id": "1ae41d89",
   "metadata": {},
   "source": [
    "## Confidence interval - Stochastic Volatility"
   ]
  },
  {
   "cell_type": "code",
   "execution_count": 20,
   "id": "895c3e59",
   "metadata": {},
   "outputs": [],
   "source": [
    "USER_PATH <- \"D:/Softwares/\"\n",
    "USER_PATH2 <- \"D:/Softwares/GitHub/Discrete-SV-Models-Estimation/Code/\" # Change only here\n",
    "ILLUS_PATH <- paste0(USER_PATH2, \"Illustration/\")\n",
    "DATA_INPUT_PATH <- paste0(USER_PATH,\"GitHub/Systemic_Risk_Measures/Code/Python/Data_Extraction/\")\n",
    "FUNCTION_PATH <- paste0(USER_PATH, \"GitHub/Systemic_Risk_Measures/Code/R/Functions/\")"
   ]
  },
  {
   "cell_type": "code",
   "execution_count": 21,
   "id": "c125cbc3",
   "metadata": {},
   "outputs": [],
   "source": [
    "source(paste0(FUNCTION_PATH, \"CoVaR_project2.R\"))\n",
    "source(paste0(FUNCTION_PATH, \"CoVaR_Functions.R\"))"
   ]
  },
  {
   "cell_type": "code",
   "execution_count": 22,
   "id": "1873ae3c",
   "metadata": {},
   "outputs": [],
   "source": [
    "library(ggplot2)\n",
    "library(dplyr)\n",
    "library(tidyquant)\n",
    "library(stats)\n",
    "library(tibble)\n",
    "library(base)\n",
    "library(tidyverse)\n",
    "library(reshape2)\n",
    "library(pbivnorm)\n",
    "library(MASS)\n",
    "library(stargazer)"
   ]
  },
  {
   "cell_type": "markdown",
   "id": "18681088",
   "metadata": {},
   "source": [
    "#### I) QML Method"
   ]
  },
  {
   "cell_type": "code",
   "execution_count": 23,
   "id": "848497f4",
   "metadata": {},
   "outputs": [],
   "source": [
    "sv_simul_can <- function(theta, log_h0, T){\n",
    "    epsilon <- c()\n",
    "    log_h <- c()\n",
    "    omega <- theta[1]\n",
    "    beta <- theta[2]\n",
    "    sigma <- theta[3]\n",
    "    eta <- rnorm(T, 0, 1)\n",
    "    nu <- rnorm(T, 0, 1)\n",
    "    \n",
    "    log_h[1] <- omega + beta * log_h0 + sigma * nu[1]\n",
    "    epsilon[1] <- sqrt(exp(log_h[1])) * eta[1]\n",
    "    \n",
    "    for (t in 2:T){\n",
    "        log_h[t] <- omega + beta * log_h[t-1] + sigma * nu[t]\n",
    "        epsilon[t] <- sqrt(exp(log_h[t])) * eta[t]\n",
    "    }\n",
    "    list(epsilon, log_h)\n",
    "}"
   ]
  },
  {
   "cell_type": "code",
   "execution_count": 24,
   "id": "73707621",
   "metadata": {},
   "outputs": [],
   "source": [
    "obj_sv <- function(theta, epsilon){\n",
    "    alpha_t <- c()\n",
    "    P_t <- c()\n",
    "    F_t <- c()\n",
    "    K_t <- c()\n",
    "    omega <- theta[1]\n",
    "    beta <- theta[2]\n",
    "    sigma <- theta[3]\n",
    "    mu_Z <- -1.270\n",
    "    sigma_Z <- sqrt(pi**2/2)\n",
    "    \n",
    "    a0 <- 0\n",
    "    beta0 <- 0.8\n",
    "    P0 <- sigma**2\n",
    "    F0 <- P0 + sigma_Z**2\n",
    "    \n",
    "    T <- length(epsilon)\n",
    "    y_t <- log(epsilon**2)\n",
    "    \n",
    "    alpha_t[1] <- beta0 * a0 + omega\n",
    "    P_t[1] <- beta**2 * P0 + sigma**2\n",
    "    K_t[1] <- beta * P0 * 1/F0\n",
    "    \n",
    "    for (t in 2:T){\n",
    "        F_t[t-1] <- P_t[t-1] + sigma_Z**2\n",
    "        K_t[t] <- beta * P_t[t-1] * 1/F_t[t-1]\n",
    "        alpha_t[t] <- beta * alpha_t[t-1] + K_t[t] *\n",
    "            (y_t[t-1] - alpha_t[t-1] - mu_Z) + omega\n",
    "        P_t[t] <- beta**2 * P_t[t-1] - K_t[t]**2 * F_t[t-1] + sigma**2\n",
    "    }\n",
    "    F_t[T] <- P_t[T-1] + sigma_Z**2\n",
    "    qml <- -T/2 * log(2*pi) - 1/2*sum(log(F_t) +\n",
    "        (log(epsilon**2) - alpha_t - mu_Z)**2 / F_t)\n",
    "    -qml\n",
    "}"
   ]
  },
  {
   "cell_type": "code",
   "execution_count": 25,
   "id": "75a9d03c",
   "metadata": {},
   "outputs": [],
   "source": [
    "estim_sv <- function(theta0, epsilon){\n",
    "    valinit <- theta0\n",
    "    lower <- c(-Inf, 0, 0)\n",
    "    upper <- c(Inf, 0.999, Inf)\n",
    "    res <- nlminb(valinit, obj_sv, lower=lower,\n",
    "                  upper=upper, epsilon=epsilon)\n",
    "    theta_hat <- res$par[1:3]\n",
    "    theta_hat\n",
    "}"
   ]
  },
  {
   "cell_type": "code",
   "execution_count": null,
   "id": "2a557a5e",
   "metadata": {},
   "outputs": [],
   "source": []
  },
  {
   "cell_type": "code",
   "execution_count": 26,
   "id": "93187245",
   "metadata": {},
   "outputs": [],
   "source": [
    "# Inputs\n",
    "omega <- -0.736\n",
    "beta <- 0.9\n",
    "sigma <- 0.363\n",
    "theta <- c(omega, beta, sigma)\n",
    "\n",
    "# Estimation Inputs\n",
    "omega0 <- -0.6\n",
    "beta0 <- 0.9\n",
    "sigma0 <- 0.5\n",
    "theta0 <- c(omega0, beta0, sigma0)\n",
    "\n",
    "theta <- c(omega, beta, sigma)\n",
    "log_h0 <- omega\n",
    "T <- 3000\n",
    "n <- 250\n",
    "N <- T + n\n",
    "M <- 1\n",
    "S <- 21\n",
    "\n",
    "alpha <- 0.05\n",
    "alpha_l <- 0.025\n",
    "alpha_h <- 0.0975"
   ]
  },
  {
   "cell_type": "code",
   "execution_count": 27,
   "id": "9fd2b817",
   "metadata": {},
   "outputs": [],
   "source": [
    "# Check algorithm running time\n",
    "start.time <- Sys.time()"
   ]
  },
  {
   "cell_type": "code",
   "execution_count": 28,
   "id": "7c7143e9",
   "metadata": {},
   "outputs": [],
   "source": [
    "# Initialistation\n",
    "sigma2_hat_conso <- matrix(0, nrow=M, ncol=N)\n",
    "eta_hat_conso <- matrix(0, nrow=M, ncol=N)\n",
    "epsilon_conso <- matrix(0, nrow=M, ncol=N)\n",
    "VaR_mat <- matrix(0, nrow=M, ncol=N)\n",
    "VaR_true <- matrix(0, nrow=M, ncol=N)\n",
    "xi_hat <- c()\n",
    "eta_boot <- c()\n",
    "xi_boot <- c()\n",
    "lower_bound <- matrix(0, nrow=M, ncol=N)\n",
    "upper_bound <- matrix(0, nrow=M, ncol=N)\n",
    "\n",
    "set.seed(123)\n",
    "\n",
    "for (j in 1:M){\n",
    "    epsilon <- c()\n",
    "    log_h <- c()\n",
    "    omega <- theta[1]\n",
    "    beta <- theta[2]\n",
    "    sigma <- theta[3]\n",
    "    eta <- rnorm(N, 0, 1)\n",
    "    nu <- rnorm(N, 0, 1)\n",
    "    \n",
    "    log_h[1] <- omega + beta * log_h0 + sigma * nu[1]\n",
    "    epsilon[1] <- sqrt(exp(log_h[1])) * eta[1]\n",
    "    \n",
    "    for (t in 2:N){\n",
    "        log_h[t] <- omega + beta * log_h[t-1] + sigma * nu[t]\n",
    "        epsilon[t] <- sqrt(exp(log_h[t])) * eta[t]\n",
    "    }\n",
    "    \n",
    "    epsilon <- (epsilon+0.00001)\n",
    "    epsilon_conso[j,] <- epsilon\n",
    "    VaR_true[j,] <- (quantile(eta, probs = seq(0, 1, 0.01))[alpha*100+1]) * sqrt(exp(log_h))\n",
    "    \n",
    "    ## 1) Stochastic Volatility Model\n",
    "    estimation <- estim_sv(theta0, epsilon)\n",
    "    theta_hat <- estimation\n",
    "    theta_hat\n",
    "    \n",
    "    alpha_t <- c()\n",
    "    P_t <- c()\n",
    "    F_t <- c()\n",
    "    K_t <- c()\n",
    "    omega <- theta_hat[1]\n",
    "    beta <- theta_hat[2]\n",
    "    sigma <- theta_hat[3]\n",
    "    mu_Z <- -1.270\n",
    "    sigma_Z <- sqrt(pi**2/2)\n",
    "    \n",
    "    a0 <- 0\n",
    "    beta0 <- 0.8\n",
    "    P0 <- sigma**2\n",
    "    F0 <- P0 + sigma_Z**2\n",
    "    \n",
    "    y_t <- log(epsilon**2)\n",
    "    \n",
    "    alpha_t[1] <- beta0 * a0 + omega\n",
    "    P_t[1] <- beta**2 * P0 + sigma**2\n",
    "    K_t[1] <- beta * P0 * 1/F0\n",
    "    \n",
    "    for (i in 2:N){\n",
    "        F_t[i-1] <- P_t[i-1] + sigma_Z**2\n",
    "        K_t[i] <- beta * P_t[i-1] * 1/F_t[i-1]\n",
    "        alpha_t[i] <- beta * alpha_t[i-1] + K_t[i] *\n",
    "                (y_t[i-1] - alpha_t[i-1] - mu_Z) + omega\n",
    "        P_t[i] <- beta**2 * P_t[i-1] - K_t[i]**2 * F_t[i-1] + sigma**2\n",
    "    }\n",
    "    \n",
    "    sigma2_hat_conso[j,] <- exp(alpha_t)\n",
    "    eta_hat_conso[j,] <- epsilon / sqrt(exp(alpha_t))\n",
    "    xi_hat[j] <- quantile(eta_hat_conso[j,1:T], probs = seq(0, 1, 0.01))[alpha*100+1]\n",
    "    VaR_mat[j,] <- xi_hat[j] * sqrt(sigma2_hat_conso[j,])\n",
    "    \n",
    "    eta_hat <- eta_hat_conso[j,]\n",
    "    \n",
    "    # Confidence Interval - Bootstrap\n",
    "    for (t in 1:N){\n",
    "        for (s in 1:S){\n",
    "            index <- floor(runif(T, min=1, max=T+1))\n",
    "            eta_boot <- eta_hat[index]\n",
    "            xi_boot[s] <- quantile(eta_boot, probs = seq(0, 1, 0.001))[alpha*1000+1]\n",
    "        }\n",
    "        eps_boot <- sqrt(sigma2_hat_conso[j,t]) * xi_boot\n",
    "        lower_bound[j,t] <- quantile(eps_boot, probs = seq(0, 1, 0.001))[alpha_l*1000+1]\n",
    "        upper_bound[j,t] <- quantile(eps_boot, probs = seq(0, 1, 0.001))[alpha_h*1000+1]\n",
    "    }\n",
    "}"
   ]
  },
  {
   "cell_type": "code",
   "execution_count": 29,
   "id": "96597502",
   "metadata": {},
   "outputs": [
    {
     "data": {
      "text/plain": [
       "Time difference of 6.13 mins"
      ]
     },
     "metadata": {},
     "output_type": "display_data"
    }
   ],
   "source": [
    "end.time <- Sys.time()\n",
    "time.taken<-round(end.time-start.time,2)\n",
    "time.taken"
   ]
  },
  {
   "cell_type": "code",
   "execution_count": 30,
   "id": "399cea28",
   "metadata": {},
   "outputs": [],
   "source": [
    "VaR_true[j,] <- (quantile(eta, probs = seq(0, 1, 0.01))[alpha*100+1]) * sqrt(exp(log_h))"
   ]
  },
  {
   "cell_type": "code",
   "execution_count": 33,
   "id": "61d9ef90",
   "metadata": {},
   "outputs": [
    {
     "data": {
      "image/png": "[encoded data removed]",
      "text/plain": [
       "plot without title"
      ]
     },
     "metadata": {
      "image/png": {
       "height": 420,
       "width": 420
      }
     },
     "output_type": "display_data"
    }
   ],
   "source": [
    "z <- 1\n",
    "selection <- 2000:2500\n",
    "plot(epsilon_conso[z,selection], type='l', col='black')\n",
    "lines(VaR_mat[z,selection], type='l', col='blue')\n",
    "lines(VaR_true[z,selection], type='l', col='red')\n",
    "lines(lower_bound[z,selection], type='l', col='cyan')\n",
    "lines(upper_bound[z,selection], type='l', col='cyan')"
   ]
  },
  {
   "cell_type": "code",
   "execution_count": null,
   "id": "bfc0836a",
   "metadata": {},
   "outputs": [],
   "source": [
    "count <- c()\n",
    "for (t in 1:N){\n",
    "    if ()\n",
    "}"
   ]
  },
  {
   "cell_type": "code",
   "execution_count": null,
   "id": "c2891ec7",
   "metadata": {},
   "outputs": [],
   "source": []
  },
  {
   "cell_type": "code",
   "execution_count": null,
   "id": "e3a62d7a",
   "metadata": {},
   "outputs": [],
   "source": []
  },
  {
   "cell_type": "code",
   "execution_count": null,
   "id": "1894cb65",
   "metadata": {},
   "outputs": [],
   "source": []
  },
  {
   "cell_type": "code",
   "execution_count": null,
   "id": "d9f44c12",
   "metadata": {},
   "outputs": [],
   "source": []
  },
  {
   "cell_type": "code",
   "execution_count": null,
   "id": "2c9ceb2c",
   "metadata": {},
   "outputs": [],
   "source": []
  },
  {
   "cell_type": "code",
   "execution_count": null,
   "id": "efee6d11",
   "metadata": {},
   "outputs": [],
   "source": []
  },
  {
   "cell_type": "code",
   "execution_count": null,
   "id": "e7fc33f7",
   "metadata": {},
   "outputs": [],
   "source": []
  },
  {
   "cell_type": "code",
   "execution_count": null,
   "id": "d12eab15",
   "metadata": {},
   "outputs": [],
   "source": [
    "# stocks <- stocks[,5]\n",
    "stocks <- system"
   ]
  },
  {
   "cell_type": "code",
   "execution_count": null,
   "id": "357195a2",
   "metadata": {},
   "outputs": [],
   "source": [
    "selection <- 2500:3000\n",
    "epsilon <- stocks[stocks!=0] * 100\n",
    "epsilon <- epsilon[selection]\n",
    "DATE <- as.Date(returns[selection,1])\n",
    "DATE_VIX <- as.Date(date_vix)\n",
    "T <- length(epsilon)"
   ]
  },
  {
   "cell_type": "code",
   "execution_count": null,
   "id": "b9741fc4",
   "metadata": {},
   "outputs": [],
   "source": [
    "plot(epsilon, type='l')"
   ]
  },
  {
   "cell_type": "code",
   "execution_count": null,
   "id": "22886779",
   "metadata": {},
   "outputs": [],
   "source": [
    "plot(vix_dat, type='l')\n"
   ]
  },
  {
   "cell_type": "code",
   "execution_count": null,
   "id": "555ba281",
   "metadata": {},
   "outputs": [],
   "source": []
  },
  {
   "cell_type": "code",
   "execution_count": null,
   "id": "62268615",
   "metadata": {},
   "outputs": [],
   "source": [
    "# Estimation Inputs\n",
    "omega0 <- -0.6\n",
    "beta0 <- 0.9\n",
    "sigma0 <- 0.5\n",
    "theta0 <- c(omega0, beta0, sigma0)"
   ]
  },
  {
   "cell_type": "markdown",
   "id": "8c35f02f",
   "metadata": {},
   "source": [
    "### A/ Stochastic Volatility Model"
   ]
  },
  {
   "cell_type": "code",
   "execution_count": null,
   "id": "9ed492c3",
   "metadata": {},
   "outputs": [],
   "source": [
    "estimation <- estim_sv(theta0, epsilon)\n",
    "theta_hat <- estimation\n",
    "theta_hat"
   ]
  },
  {
   "cell_type": "code",
   "execution_count": null,
   "id": "cf9dc1d5",
   "metadata": {},
   "outputs": [],
   "source": [
    "alpha_t <- c()\n",
    "P_t <- c()\n",
    "F_t <- c()\n",
    "K_t <- c()\n",
    "omega <- theta_hat[1]\n",
    "beta <- theta_hat[2]\n",
    "sigma <- theta_hat[3]\n",
    "mu_Z <- -1.270\n",
    "sigma_Z <- sqrt(pi**2/2)\n",
    "    \n",
    "a0 <- 0\n",
    "beta0 <- 0.8\n",
    "P0 <- sigma**2\n",
    "F0 <- P0 + sigma_Z**2\n",
    "    \n",
    "T <- length(epsilon)\n",
    "y_t <- log(epsilon**2)\n",
    "    \n",
    "alpha_t[1] <- beta0 * a0 + omega\n",
    "P_t[1] <- beta**2 * P0 + sigma**2\n",
    "K_t[1] <- beta * P0 * 1/F0\n",
    "    \n",
    "for (t in 2:T){\n",
    "    F_t[t-1] <- P_t[t-1] + sigma_Z**2\n",
    "    K_t[t] <- beta * P_t[t-1] * 1/F_t[t-1]\n",
    "    alpha_t[t] <- beta * alpha_t[t-1] + K_t[t] *\n",
    "            (y_t[t-1] - alpha_t[t-1] - mu_Z) + omega\n",
    "    P_t[t] <- beta**2 * P_t[t-1] - K_t[t]**2 * F_t[t-1] + sigma**2\n",
    "}"
   ]
  },
  {
   "cell_type": "markdown",
   "id": "36560ecf",
   "metadata": {},
   "source": [
    "## GARCH Model"
   ]
  },
  {
   "cell_type": "code",
   "execution_count": null,
   "id": "ddd103b3",
   "metadata": {},
   "outputs": [],
   "source": [
    "omega_0 <- -0.6\n",
    "alpha_0 <- 0.1\n",
    "beta_0 <- 0.85"
   ]
  },
  {
   "cell_type": "code",
   "execution_count": null,
   "id": "b522c2a8",
   "metadata": {},
   "outputs": [],
   "source": [
    "# Initialisation\n",
    "sigma2_hat <- c()\n",
    "eta_hat <- c()\n",
    "\n",
    "estimation <- estimgarch11(omega_0, alpha_0, beta_0, epsilon)\n",
    "theta_hat_g <- estimation$coef\n",
    "\n",
    "omega_hat_g <- theta_hat_g[1]\n",
    "alpha_hat_g <- theta_hat_g[2]\n",
    "beta_hat_g <- theta_hat_g[3]\n",
    "\n",
    "sigma2_hat[1]<-omega_hat_g\n",
    "eta_hat[1] <- epsilon[1] / sqrt(sigma2_hat[1])\n",
    "for (i in 2:T){\n",
    "    sigma2_hat[i]<-omega_hat_g + alpha_hat_g * epsilon[i-1]**2 + beta_hat_g * sigma2_hat[i-1]\n",
    "    eta_hat[i] <- epsilon[i] / sqrt(sigma2_hat[i])\n",
    "}"
   ]
  },
  {
   "cell_type": "code",
   "execution_count": null,
   "id": "a3a34e18",
   "metadata": {},
   "outputs": [],
   "source": [
    "# Load Data\n",
    "t<-1:T\n",
    "col_names<-c('t', 'returns', 'stochastic volatility', 'garch volatility')\n",
    "confidence_tab <- as.data.frame(epsilon)\n",
    "confidence_tab <- cbind(confidence_tab, sqrt(exp(alpha_t)))\n",
    "confidence_tab <- cbind(confidence_tab, sqrt(sigma2_hat))\n",
    "confidence_tab <- cbind(t, confidence_tab)\n",
    "colnames(confidence_tab) <- col_names\n",
    "confidence_tab <- melt(confidence_tab, id=\"t\")\n",
    "confidence_tab <- cbind(rep(DATE[1:T]), confidence_tab)\n",
    "colnames(confidence_tab) <- c('Date', 't', 'variable', 'value')"
   ]
  },
  {
   "cell_type": "code",
   "execution_count": null,
   "id": "330d07f5",
   "metadata": {},
   "outputs": [],
   "source": [
    "options(repr.plot.width = 10, repr.plot.height = 5, repr.plot.res = 100)\n",
    "confidence_chart <-ggplot(data=confidence_tab, aes(x=Date, y=value, colour=variable))+\n",
    "    geom_line(lwd=0.5)+\n",
    "    theme_classic()+\n",
    "    scale_color_manual(name = \"Variables\", values= c('black', 'blue', 'red'),\n",
    "                       labels = c('Returns', 'Stochastic Volatility', 'Garch Volatility'))+\n",
    "    labs(title = \"S&P 500 Returns vs. Stochastic & GARCH Volatility\"\n",
    "         , x = \"Time\", y=\"Value\")+\n",
    "    theme(\n",
    "        axis.title = element_text(size =12),\n",
    "        axis.text = element_text(size = 12, color = 'black')\n",
    "    )"
   ]
  },
  {
   "cell_type": "code",
   "execution_count": null,
   "id": "17436d2a",
   "metadata": {},
   "outputs": [],
   "source": [
    "confidence_chart"
   ]
  },
  {
   "cell_type": "code",
   "execution_count": null,
   "id": "43321e89",
   "metadata": {},
   "outputs": [],
   "source": [
    "# pdf(file=paste0(ILLUS_PATH, \"QML_volat_RD.pdf\"),width=10, height=5)\n",
    "# confidence_chart\n",
    "# dev.off()"
   ]
  },
  {
   "cell_type": "code",
   "execution_count": null,
   "id": "8c3c90da",
   "metadata": {},
   "outputs": [],
   "source": [
    "vix_100 <- vix_dat[1:501] / mean(vix_dat[1:501]) * 100\n",
    "garch_100 <- sqrt(sigma2_hat) / mean(sqrt(sigma2_hat)) * 100"
   ]
  },
  {
   "cell_type": "code",
   "execution_count": null,
   "id": "62d7c6e2",
   "metadata": {},
   "outputs": [],
   "source": [
    "length(vix_100)"
   ]
  },
  {
   "cell_type": "code",
   "execution_count": null,
   "id": "2783d0b3",
   "metadata": {},
   "outputs": [],
   "source": [
    "# Load Data\n",
    "t<-1:T\n",
    "col_names<-c('t', 'vix', 'garch volatility')\n",
    "confidence_tab_vix <- as.data.frame(vix_100)\n",
    "confidence_tab_vix <- cbind(confidence_tab_vix, garch_100)\n",
    "confidence_tab_vix <- cbind(t, confidence_tab_vix)\n",
    "colnames(confidence_tab_vix) <- col_names\n",
    "confidence_tab_vix <- melt(confidence_tab_vix, id=\"t\")\n",
    "confidence_tab_vix <- cbind(rep(DATE[1:T]), confidence_tab_vix)\n",
    "colnames(confidence_tab_vix) <- c('Date', 't', 'variable', 'value')"
   ]
  },
  {
   "cell_type": "code",
   "execution_count": null,
   "id": "a9e99724",
   "metadata": {},
   "outputs": [],
   "source": [
    "options(repr.plot.width = 10, repr.plot.height = 5, repr.plot.res = 100)\n",
    "confidence_chart_vix <-ggplot(data=confidence_tab_vix, aes(x=Date, y=value, colour=variable))+\n",
    "    geom_line(lwd=0.5)+\n",
    "    theme_classic()+\n",
    "    scale_color_manual(name = \"Variables\", values= c('blue', 'red'),\n",
    "                       labels = c('Vix', 'GARCH Volatility'))+\n",
    "    labs(title = \"S&P 500 Returns vs. VIX\"\n",
    "         , x = \"Time\", y=\"Value\")+\n",
    "    theme(\n",
    "        axis.title = element_text(size =12),\n",
    "        axis.text = element_text(size = 12, color = 'black')\n",
    "    )"
   ]
  },
  {
   "cell_type": "code",
   "execution_count": null,
   "id": "a59b2c5a",
   "metadata": {},
   "outputs": [],
   "source": [
    "confidence_chart_vix"
   ]
  },
  {
   "cell_type": "markdown",
   "id": "a2d89e9a",
   "metadata": {},
   "source": [
    "#### Spread"
   ]
  },
  {
   "cell_type": "code",
   "execution_count": null,
   "id": "b6f312cf",
   "metadata": {},
   "outputs": [],
   "source": [
    "# Load Data\n",
    "t<-1:T\n",
    "col_names<-c('t', 'volatility risk premium', 'zero line')\n",
    "confidence_tab_spread <- as.data.frame(vix_100 - garch_100)\n",
    "confidence_tab_spread <- cbind(confidence_tab_spread, rep(0, 501))\n",
    "confidence_tab_spread <- cbind(t, confidence_tab_spread)\n",
    "colnames(confidence_tab_spread) <- col_names\n",
    "confidence_tab_spread <- melt(confidence_tab_spread, id=\"t\")\n",
    "confidence_tab_spread <- cbind(rep(DATE[1:T]), confidence_tab_spread)\n",
    "colnames(confidence_tab_spread) <- c('Date', 't', 'variable', 'value')"
   ]
  },
  {
   "cell_type": "code",
   "execution_count": null,
   "id": "80db9982",
   "metadata": {},
   "outputs": [],
   "source": [
    "options(repr.plot.width = 10, repr.plot.height = 5, repr.plot.res = 100)\n",
    "confidence_chart_spread <-ggplot(data=confidence_tab_spread, aes(x=Date, y=value, colour=variable))+\n",
    "    geom_line(lwd=0.5)+\n",
    "    theme_classic()+\n",
    "    scale_color_manual(name = \"Variables\", values= c('black', 'red'),\n",
    "                       labels = c('Volatility Risk Premium', 'Zero Line'))+\n",
    "    labs(title = \"Volatility Risk Premium\"\n",
    "         , x = \"Time\", y=\"Value\")+\n",
    "    theme(\n",
    "        axis.title = element_text(size =12),\n",
    "        axis.text = element_text(size = 12, color = 'black')\n",
    "    )"
   ]
  },
  {
   "cell_type": "code",
   "execution_count": null,
   "id": "97fecc16",
   "metadata": {},
   "outputs": [],
   "source": [
    "confidence_chart_spread"
   ]
  },
  {
   "cell_type": "markdown",
   "id": "ecae16c6",
   "metadata": {},
   "source": [
    "#### Risk"
   ]
  },
  {
   "cell_type": "markdown",
   "id": "218f227c",
   "metadata": {},
   "source": [
    "#### A/ Stochastic Volatility"
   ]
  },
  {
   "cell_type": "code",
   "execution_count": null,
   "id": "9dfce90d",
   "metadata": {},
   "outputs": [],
   "source": [
    "alpha1 <- 0.20\n",
    "eta_hat <- epsilon / sqrt(exp(alpha_t))\n",
    "xi_hat <- quantile(eta_hat, probs = seq(0, 1, 0.01))[alpha1*100+1]\n",
    "VaR_SV <- sqrt(exp(alpha_t)) * xi_hat"
   ]
  },
  {
   "cell_type": "markdown",
   "id": "2c0efd4b",
   "metadata": {},
   "source": [
    "#### B/ GARCH"
   ]
  },
  {
   "cell_type": "code",
   "execution_count": null,
   "id": "f4ad4447",
   "metadata": {},
   "outputs": [],
   "source": [
    "eta_hat_g <- epsilon / sqrt(sigma2_hat)\n",
    "xi_hat_g <- quantile(eta_hat_g, probs = seq(0, 1, 0.01))[alpha1*100+1]\n",
    "VaR_G <- sqrt(sigma2_hat) * xi_hat_g"
   ]
  },
  {
   "cell_type": "markdown",
   "id": "972fe090",
   "metadata": {},
   "source": [
    "#### C/ UNCONDITIONAL"
   ]
  },
  {
   "cell_type": "code",
   "execution_count": null,
   "id": "c715d347",
   "metadata": {},
   "outputs": [],
   "source": [
    "VaR_U <- quantile(epsilon, probs = seq(0, 1, 0.01))[alpha1*100+1]"
   ]
  },
  {
   "cell_type": "code",
   "execution_count": null,
   "id": "9d96d5f3",
   "metadata": {},
   "outputs": [],
   "source": [
    "col_names<-c('t', 'returns', 'VaR_SV', 'VaR_G', 'VaR_U')\n",
    "confidence_tab_var <- as.data.frame(epsilon)\n",
    "confidence_tab_var <- cbind(confidence_tab_var, VaR_SV)\n",
    "confidence_tab_var <- cbind(confidence_tab_var, VaR_G)\n",
    "confidence_tab_var <- cbind(confidence_tab_var, VaR_U)\n",
    "confidence_tab_var <- cbind(t, confidence_tab_var)\n",
    "colnames(confidence_tab_var) <- col_names\n",
    "confidence_tab_var <- melt(confidence_tab_var, id=\"t\")\n",
    "confidence_tab_var <- cbind(rep(DATE[1:T]), confidence_tab_var)\n",
    "colnames(confidence_tab_var) <- c('Date', 't', 'variable', 'value')"
   ]
  },
  {
   "cell_type": "code",
   "execution_count": null,
   "id": "c448d908",
   "metadata": {},
   "outputs": [],
   "source": [
    "options(repr.plot.width = 10, repr.plot.height = 5, repr.plot.res = 100)\n",
    "confidence_chart_var <-ggplot(data=confidence_tab_var, aes(x=Date, y=value, colour=variable))+\n",
    "    geom_line(lwd=0.5)+\n",
    "    theme_classic()+\n",
    "    scale_color_manual(name = \"Variables\", values= c('black', 'red', 'blue', 'cyan'),\n",
    "                       labels = c('Returns', '-VaR SV', '-VaR Garch', '-Unconditional VaR'))+\n",
    "    labs(title = \"Returns vs. VaR\"\n",
    "         , x = \"Time\", y=\"Value\")+\n",
    "    theme(\n",
    "        axis.title = element_text(size =12),\n",
    "        axis.text = element_text(size = 12, color = 'black')\n",
    "    )"
   ]
  },
  {
   "cell_type": "code",
   "execution_count": null,
   "id": "736d8d67",
   "metadata": {},
   "outputs": [],
   "source": [
    "confidence_chart_var"
   ]
  },
  {
   "cell_type": "code",
   "execution_count": null,
   "id": "1816a959",
   "metadata": {},
   "outputs": [],
   "source": [
    "pdf(file=paste0(ILLUS_PATH, \"VaR_RD_020.pdf\"),width=10, height=5)\n",
    "confidence_chart_var\n",
    "dev.off()"
   ]
  },
  {
   "cell_type": "code",
   "execution_count": null,
   "id": "db461a47",
   "metadata": {},
   "outputs": [],
   "source": []
  },
  {
   "cell_type": "markdown",
   "id": "a7e08327",
   "metadata": {},
   "source": [
    "### Expected Shortfall"
   ]
  },
  {
   "cell_type": "code",
   "execution_count": null,
   "id": "44e002c4",
   "metadata": {},
   "outputs": [],
   "source": [
    "ES_g <- c()\n",
    "id_g <- c()\n",
    "ES_sv <- c()\n",
    "id_sv <- c()\n",
    "\n",
    "ES_u <- rep(quantile(epsilon, probs = seq(0, 1, 0.01))[alpha1*100+1], 500)\n",
    "\n",
    "for (t in 1:T){\n",
    "    if (eta_hat_g[t] < xi_hat_g){\n",
    "        id_g[t] <- 1\n",
    "    } else {\n",
    "        id_g[t] <- 0\n",
    "    }\n",
    "}   \n",
    "eta_hat_g_mod <- id_g * eta_hat_g\n",
    "eta_hat_g_mod <- eta_hat_g_mod[eta_hat_g_mod!=0]\n",
    "\n",
    "ES_g <- mean(eta_hat_g_mod) * sqrt(exp(alpha_t))\n",
    "\n",
    "for (t in 1:T){\n",
    "    if (eta_hat[t] < xi_hat){\n",
    "        id_sv[t] <- 1\n",
    "    } else {\n",
    "        id_sv[t] <- 0\n",
    "    }\n",
    "}   \n",
    "\n",
    "eta_hat_sv_mod <- id_sv * eta_hat\n",
    "eta_hat_sv_mod <- eta_hat_sv_mod[eta_hat_sv_mod!=0]\n",
    "\n",
    "ES_sv <- mean(eta_hat_sv_mod) * sqrt(sigma2_hat)"
   ]
  },
  {
   "cell_type": "code",
   "execution_count": null,
   "id": "a669dba2",
   "metadata": {},
   "outputs": [],
   "source": [
    "plot(epsilon, type='l', col='black')\n",
    "lines(ES_sv, type='l', col='blue')\n",
    "lines(ES_g, type='l', col='red')\n",
    "lines(ES_u, type='l', col='cyan')"
   ]
  },
  {
   "cell_type": "code",
   "execution_count": null,
   "id": "d201eb0c",
   "metadata": {},
   "outputs": [],
   "source": [
    "# Load Data\n",
    "t<-1:T\n",
    "col_names<-c('t', 'Log-Returns', 'ES Stochastic Volatility', 'ES GARCH', 'ES Unconditional')\n",
    "es_tab <- as.data.frame(epsilon[1:T])\n",
    "es_tab <- cbind(es_tab, ES_sv[1:T])\n",
    "es_tab <- cbind(es_tab, ES_g[1:T])\n",
    "es_tab <- cbind(es_tab, ES_u[1:T])\n",
    "es_tab <- cbind(t, es_tab)\n",
    "colnames(es_tab) <- col_names\n",
    "es_tab <- melt(es_tab, id=\"t\")\n",
    "es_tab <- cbind(rep(DATE[1:T]), es_tab)\n",
    "colnames(es_tab) <- c('Date', 't', 'variable', 'value')"
   ]
  },
  {
   "cell_type": "code",
   "execution_count": null,
   "id": "07921837",
   "metadata": {},
   "outputs": [],
   "source": [
    "options(repr.plot.width = 10, repr.plot.height = 5, repr.plot.res = 100)\n",
    "es_chart <-ggplot(data=es_tab, aes(x=Date, y=value, colour=variable))+\n",
    "    geom_line(lwd=0.5)+\n",
    "    theme_classic()+\n",
    "    scale_color_manual(name = \"Variables\", values= c('black', 'red', 'blue', 'cyan'),\n",
    "                       labels = c('Returns', 'Expected Shortfall SV',\n",
    "                                  'Expected  Shortfall Garch',\n",
    "                                  'Expected Shortfall VaR'))+\n",
    "    labs(title = \"Returns vs. Expected Shortfall\"\n",
    "         , x = \"Time\", y=\"Value\")+\n",
    "    theme(\n",
    "        axis.title = element_text(size =12),\n",
    "        axis.text = element_text(size = 12, color = 'black')\n",
    "    )"
   ]
  },
  {
   "cell_type": "code",
   "execution_count": null,
   "id": "2d82523d",
   "metadata": {},
   "outputs": [],
   "source": [
    "es_chart"
   ]
  },
  {
   "cell_type": "code",
   "execution_count": null,
   "id": "cf669ce1",
   "metadata": {},
   "outputs": [],
   "source": [
    "pdf(file=paste0(ILLUS_PATH, \"ES_RD_020.pdf\"),width=10, height=5)\n",
    "es_chart\n",
    "dev.off()"
   ]
  },
  {
   "cell_type": "markdown",
   "id": "abedec65",
   "metadata": {},
   "source": [
    "### Monte Carlo - on Real Data"
   ]
  },
  {
   "cell_type": "code",
   "execution_count": null,
   "id": "55314f5c",
   "metadata": {},
   "outputs": [],
   "source": [
    "T <- 3000\n",
    "n <- 250\n",
    "N <- T+n\n",
    "M <- length(returns[1,]) - 1\n",
    "epsilon_conso <- returns[,2:(M+1)]"
   ]
  },
  {
   "cell_type": "code",
   "execution_count": null,
   "id": "2b7d1deb",
   "metadata": {},
   "outputs": [],
   "source": [
    "# Initialistation\n",
    "sigma2_hat_g <- matrix(0, nrow=M, ncol=N)\n",
    "eta_hat_g <- matrix(0, nrow=M, ncol=N)\n",
    "VaR_mat_g <- matrix(0, nrow=M, ncol=N)\n",
    "xi_hat_g <- c()\n",
    "    \n",
    "sigma2_hat_sv <- matrix(0, nrow=M, ncol=N)\n",
    "eta_hat_sv <- matrix(0, nrow=M, ncol=N)\n",
    "VaR_mat_sv <- matrix(0, nrow=M, ncol=N)\n",
    "xi_hat_sv <- c()\n",
    "\n",
    "VaR_mat_u <- matrix(0, nrow=M, ncol=N)\n",
    "\n",
    "for (j in 1:M){\n",
    "    epsilon <- epsilon_conso[,j]\n",
    "    epsilon <- (epsilon+0.00001) * 100\n",
    "    \n",
    "    ## 1) Stochastic Volatility Model\n",
    "    estimation <- estim_sv(theta0, epsilon)\n",
    "    theta_hat <- estimation\n",
    "    theta_hat\n",
    "    \n",
    "    alpha_t <- c()\n",
    "    P_t <- c()\n",
    "    F_t <- c()\n",
    "    K_t <- c()\n",
    "    omega <- theta_hat[1]\n",
    "    beta <- theta_hat[2]\n",
    "    sigma <- theta_hat[3]\n",
    "    mu_Z <- -1.270\n",
    "    sigma_Z <- sqrt(pi**2/2)\n",
    "    \n",
    "    a0 <- 0\n",
    "    beta0 <- 0.8\n",
    "    P0 <- sigma**2\n",
    "    F0 <- P0 + sigma_Z**2\n",
    "    \n",
    "    y_t <- log(epsilon**2)\n",
    "    \n",
    "    alpha_t[1] <- beta0 * a0 + omega\n",
    "    P_t[1] <- beta**2 * P0 + sigma**2\n",
    "    K_t[1] <- beta * P0 * 1/F0\n",
    "    \n",
    "    for (i in 2:N){\n",
    "        F_t[i-1] <- P_t[i-1] + sigma_Z**2\n",
    "        K_t[i] <- beta * P_t[i-1] * 1/F_t[i-1]\n",
    "        alpha_t[i] <- beta * alpha_t[i-1] + K_t[i] *\n",
    "                (y_t[i-1] - alpha_t[i-1] - mu_Z) + omega\n",
    "        P_t[i] <- beta**2 * P_t[i-1] - K_t[i]**2 * F_t[i-1] + sigma**2\n",
    "    }\n",
    "    \n",
    "    sigma2_hat_sv[j,] <- exp(alpha_t)\n",
    "    eta_hat_sv[j,] <- epsilon / sqrt(exp(alpha_t))\n",
    "    xi_hat_sv[j] <- quantile(eta_hat_sv[j,1:T], probs = seq(0, 1, 0.01))[alpha1*100+1]\n",
    "    VaR_mat_sv[j,] <- xi_hat_sv[j] * sqrt(sigma2_hat_sv[j,])\n",
    "    \n",
    "    ## 2) GARCH\n",
    "    estimation_g <- estimgarch11(omega_0, alpha_0, beta_0, epsilon)\n",
    "    theta_hat_g <- estimation_g$coef\n",
    "\n",
    "    omega_hat_g <- theta_hat_g[1]\n",
    "    alpha_hat_g <- theta_hat_g[2]\n",
    "    beta_hat_g <- theta_hat_g[3]\n",
    "\n",
    "    sigma2_hat_g[j,1]<-omega_hat_g\n",
    "    eta_hat_g[j,1] <- epsilon[1] / sqrt(sigma2_hat_g[j,1])\n",
    "    for (i in 2:N){\n",
    "        sigma2_hat_g[j,i]<-omega_hat_g + alpha_hat_g * epsilon[i-1]**2 +\n",
    "            beta_hat_g * sigma2_hat_g[j,i-1]\n",
    "        eta_hat_g[j,i] <- epsilon[i] / sqrt(sigma2_hat_g[j,i])\n",
    "    }\n",
    "    xi_hat_g[j] <- quantile(eta_hat_g[j,1:T], probs = seq(0, 1, 0.01))[alpha1*100+1]\n",
    "    VaR_mat_g[j,] <- xi_hat_g[j] * sqrt(sigma2_hat_g[j,])\n",
    "    \n",
    "    ## 3) unconditional Model\n",
    "    VaR_mat_u[j,] <- quantile(epsilon[1:T], probs = seq(0, 1, 0.01))[alpha1*100+1]\n",
    "}"
   ]
  },
  {
   "cell_type": "code",
   "execution_count": null,
   "id": "2f6fd3f6",
   "metadata": {},
   "outputs": [],
   "source": [
    "z <- 4\n",
    "epsilon <- epsilon_conso[,z]\n",
    "epsilon <- (epsilon+0.00001) * 100\n",
    "plot(epsilon, type='l', col='black')\n",
    "lines(sqrt(sigma2_hat_g[z,]), type='l', col='blue')\n",
    "lines(sqrt(sigma2_hat_sv[z,]), type='l', col='red')"
   ]
  },
  {
   "cell_type": "code",
   "execution_count": null,
   "id": "cf9f31f3",
   "metadata": {},
   "outputs": [],
   "source": [
    "z <- 4\n",
    "plot(epsilon, type='l', col='black')\n",
    "lines(VaR_mat_g[z,], type='l', col='blue')\n",
    "lines(VaR_mat_sv[z,], type='l', col='red')"
   ]
  },
  {
   "cell_type": "markdown",
   "id": "c2617275",
   "metadata": {},
   "source": [
    "## Functions"
   ]
  },
  {
   "cell_type": "code",
   "execution_count": null,
   "id": "d1a8fa60",
   "metadata": {},
   "outputs": [],
   "source": [
    "Hit_conso_g <- matrix(0, nrow=M, ncol=n)\n",
    "Hit_conso_sv <- matrix(0, nrow=M, ncol=n)\n",
    "Hit_conso_u <- matrix(0, nrow=M, ncol=n)\n",
    "\n",
    "for (j in 1:M){\n",
    "    epsilon <- epsilon_conso[,j]\n",
    "    epsilon <- (epsilon+0.00001) * 100\n",
    "    VaR_g <- VaR_mat_g[j,]\n",
    "    VaR_sv <- VaR_mat_sv[j,]\n",
    "    VaR_u <- VaR_mat_u[j,]\n",
    "    for (t in (T+1):N){\n",
    "        if (epsilon[t] < VaR_g[t]){\n",
    "            Hit_conso_g[j,t-T] <- 1\n",
    "        }\n",
    "        if (epsilon[t] < VaR_sv[t]){\n",
    "            Hit_conso_sv[j,t-T] <- 1\n",
    "        }\n",
    "        if (epsilon[t] < VaR_u[t]){\n",
    "            Hit_conso_u[j,t-T] <- 1\n",
    "        }\n",
    "    }\n",
    "}"
   ]
  },
  {
   "cell_type": "markdown",
   "id": "deafbc31",
   "metadata": {},
   "source": [
    "### Backtests"
   ]
  },
  {
   "cell_type": "code",
   "execution_count": null,
   "id": "82cf44b2",
   "metadata": {},
   "outputs": [],
   "source": [
    "chi_level <- c(3.841)"
   ]
  },
  {
   "cell_type": "code",
   "execution_count": null,
   "id": "a66cd3a0",
   "metadata": {},
   "outputs": [],
   "source": [
    "# STOCHASTIC VOLATILITY MODEL\n",
    "########################################\n",
    "###### UNCONDITIONAL COVERAGE TEST #####\n",
    "########################################\n",
    "\n",
    "UC_test_SV <- LR_uc_test(Hit_conso_sv, alpha1, chi_level)\n",
    "\n",
    "UC_test_SV$Test_uc # To be compared with 5%"
   ]
  },
  {
   "cell_type": "code",
   "execution_count": null,
   "id": "481144c0",
   "metadata": {},
   "outputs": [],
   "source": [
    "# GARCH MODEL\n",
    "########################################\n",
    "###### UNCONDITIONAL COVERAGE TEST #####\n",
    "########################################\n",
    "\n",
    "UC_test_G <- LR_uc_test(Hit_conso_g, alpha1, chi_level)\n",
    "\n",
    "UC_test_G$Test_uc # To be compared with 5%"
   ]
  },
  {
   "cell_type": "code",
   "execution_count": null,
   "id": "e556e8f0",
   "metadata": {},
   "outputs": [],
   "source": [
    "# unconditional MODEL\n",
    "########################################\n",
    "###### UNCONDITIONAL COVERAGE TEST #####\n",
    "########################################\n",
    "\n",
    "UC_test_U <- LR_uc_test(Hit_conso_u, alpha1, chi_level)\n",
    "\n",
    "UC_test_U$Test_uc # To be compared with 5%"
   ]
  },
  {
   "cell_type": "code",
   "execution_count": null,
   "id": "7c24a150",
   "metadata": {},
   "outputs": [],
   "source": [
    "# STOCHASTIC VOLATILITY MODEL\n",
    "########################################\n",
    "########## INDEPENDENCE TEST ###########\n",
    "########################################\n",
    "\n",
    "Ind_test_SV <- LR_ind_test(Hit_conso_sv, alpha1, chi_level)\n",
    "\n",
    "Ind_test_SV$Test_ind # To be compared with 5%"
   ]
  },
  {
   "cell_type": "code",
   "execution_count": null,
   "id": "6fbb0494",
   "metadata": {},
   "outputs": [],
   "source": [
    "# GARCH MODEL\n",
    "########################################\n",
    "########## INDEPENDENCE TEST ###########\n",
    "########################################\n",
    "\n",
    "Ind_test_G <- LR_ind_test(Hit_conso_g, alpha1, chi_level)\n",
    "\n",
    "Ind_test_G$Test_ind # To be compared with 5%"
   ]
  },
  {
   "cell_type": "code",
   "execution_count": null,
   "id": "7c2c3d12",
   "metadata": {},
   "outputs": [],
   "source": [
    "# UNCONDITIONAL MODEL\n",
    "########################################\n",
    "########## INDEPENDENCE TEST ###########\n",
    "########################################\n",
    "\n",
    "Ind_test_U <- LR_ind_test(Hit_conso_u, alpha1, chi_level)\n",
    "\n",
    "Ind_test_U$Test_ind # To be compared with 5%"
   ]
  },
  {
   "cell_type": "code",
   "execution_count": null,
   "id": "4e9db2a1",
   "metadata": {},
   "outputs": [],
   "source": [
    "chi_level2 <- 5.991"
   ]
  },
  {
   "cell_type": "code",
   "execution_count": null,
   "id": "ca815ffc",
   "metadata": {},
   "outputs": [],
   "source": [
    "CC_test_G <- LR_cc_test(UC_test_G$LR_uc, Ind_test_G$LR_ind, alpha1, chi_level2)$Test_cc\n",
    "CC_test_SV <- LR_cc_test(UC_test_SV$LR_uc, Ind_test_SV$LR_ind, alpha1, chi_level2)$Test_cc\n",
    "CC_test_U <- LR_cc_test(UC_test_U$LR_uc, Ind_test_U$LR_ind, alpha1, chi_level2)$Test_cc"
   ]
  },
  {
   "cell_type": "code",
   "execution_count": null,
   "id": "cccf9973",
   "metadata": {},
   "outputs": [],
   "source": []
  },
  {
   "cell_type": "code",
   "execution_count": null,
   "id": "61bf641e",
   "metadata": {},
   "outputs": [],
   "source": [
    "alpha_crit_g <- alpha_crit((epsilon_conso[(T+1):N,]+0.00001) * 100, VaR_mat_g[,(T+1):N], alpha1)\n",
    "alpha_crit_sv <- alpha_crit((epsilon_conso[(T+1):N,]+0.00001) * 100, VaR_mat_sv[,(T+1):N], alpha1)\n",
    "alpha_crit_u <- alpha_crit((epsilon_conso[(T+1):N,]+0.00001) * 100, VaR_mat_u[,(T+1):N], alpha1)"
   ]
  },
  {
   "cell_type": "code",
   "execution_count": null,
   "id": "09563acc",
   "metadata": {},
   "outputs": [],
   "source": [
    "results_SV <- c(UC_test_SV$Test_uc, Ind_test_SV$Test_ind, CC_test_SV, mean(alpha_crit_sv$crit))\n",
    "results_GARCH <- c(UC_test_G$Test_uc, Ind_test_G$Test_ind, CC_test_G, mean(alpha_crit_g$crit))\n",
    "results_U <- c(UC_test_U$Test_uc, Ind_test_U$Test_ind, CC_test_U, mean(alpha_crit_u$crit))"
   ]
  },
  {
   "cell_type": "markdown",
   "id": "b4e1dca7",
   "metadata": {},
   "source": [
    "#### Results"
   ]
  },
  {
   "cell_type": "code",
   "execution_count": null,
   "id": "42fe6a57",
   "metadata": {},
   "outputs": [],
   "source": [
    "Test_table <- matrix(0, nrow=3, ncol=4)\n",
    "row_name <- c('SV Model', 'GARCH Model', 'Unconditional Model')\n",
    "col_name <- c('UC', 'Ind.', 'CC', 'alpha-criterion')\n",
    "Test_table[1,] <- results_SV\n",
    "Test_table[2,] <- results_GARCH\n",
    "Test_table[3,] <- results_U\n",
    "Test_table <- as.data.frame(Test_table)\n",
    "rownames(Test_table) <- row_name\n",
    "colnames(Test_table) <- col_name"
   ]
  },
  {
   "cell_type": "code",
   "execution_count": null,
   "id": "02717f5d",
   "metadata": {},
   "outputs": [],
   "source": [
    "Test_table <- round_df(Test_table, 3)\n",
    "Test_table"
   ]
  },
  {
   "cell_type": "code",
   "execution_count": null,
   "id": "8cf279ce",
   "metadata": {},
   "outputs": [],
   "source": [
    "stargazer(Test_table,  summary=FALSE, covariate.labels=c(\"A\",\"b\",\"c\"),\n",
    "          title = \"Backtesting Results - alpha=0.01\",\n",
    "out = paste0(ILLUS_PATH, \"BTEST_Results_SV_001.tex\"))"
   ]
  },
  {
   "cell_type": "code",
   "execution_count": null,
   "id": "c059857f",
   "metadata": {},
   "outputs": [],
   "source": []
  },
  {
   "cell_type": "code",
   "execution_count": null,
   "id": "b18e3720",
   "metadata": {},
   "outputs": [],
   "source": []
  },
  {
   "cell_type": "code",
   "execution_count": null,
   "id": "ba7c5c47",
   "metadata": {},
   "outputs": [],
   "source": []
  },
  {
   "cell_type": "code",
   "execution_count": null,
   "id": "a032d755",
   "metadata": {},
   "outputs": [],
   "source": []
  },
  {
   "cell_type": "code",
   "execution_count": null,
   "id": "51c085fb",
   "metadata": {},
   "outputs": [],
   "source": []
  },
  {
   "cell_type": "code",
   "execution_count": null,
   "id": "7f8e0dc3",
   "metadata": {},
   "outputs": [],
   "source": []
  },
  {
   "cell_type": "code",
   "execution_count": null,
   "id": "35906d3c",
   "metadata": {},
   "outputs": [],
   "source": []
  },
  {
   "cell_type": "code",
   "execution_count": null,
   "id": "bf396aa7",
   "metadata": {},
   "outputs": [],
   "source": []
  },
  {
   "cell_type": "code",
   "execution_count": null,
   "id": "995cacd6",
   "metadata": {},
   "outputs": [],
   "source": []
  },
  {
   "cell_type": "code",
   "execution_count": null,
   "id": "cf5251f5",
   "metadata": {},
   "outputs": [],
   "source": []
  },
  {
   "cell_type": "code",
   "execution_count": null,
   "id": "004094a1",
   "metadata": {},
   "outputs": [],
   "source": []
  },
  {
   "cell_type": "code",
   "execution_count": null,
   "id": "6920676c",
   "metadata": {},
   "outputs": [],
   "source": []
  },
  {
   "cell_type": "code",
   "execution_count": null,
   "id": "f8142df4",
   "metadata": {},
   "outputs": [],
   "source": []
  },
  {
   "cell_type": "code",
   "execution_count": null,
   "id": "b0a73d5d",
   "metadata": {},
   "outputs": [],
   "source": []
  }
 ],
 "metadata": {
  "kernelspec": {
   "display_name": "R",
   "language": "R",
   "name": "ir"
  },
  "language_info": {
   "codemirror_mode": "r",
   "file_extension": ".r",
   "mimetype": "text/x-r-source",
   "name": "R",
   "pygments_lexer": "r",
   "version": "4.1.2"
  }
 },
 "nbformat": 4,
 "nbformat_minor": 5
}
