{
 "cells": [
  {
   "cell_type": "markdown",
   "id": "a6135927",
   "metadata": {},
   "source": [
    "### Generalized Methods of Moments Estimation of Stochastic Volatility Models - Andersen & Sorensen (1996)"
   ]
  },
  {
   "cell_type": "code",
   "execution_count": 94,
   "id": "bcf4978f",
   "metadata": {},
   "outputs": [],
   "source": [
    "library(MASS)"
   ]
  },
  {
   "cell_type": "code",
   "execution_count": 95,
   "id": "9e346430",
   "metadata": {},
   "outputs": [],
   "source": [
    "sv_simul <- function(theta, log_sigma0, T){\n",
    "    y_t <- c()\n",
    "    log_sigma2 <- c()\n",
    "    omega <- theta[1]\n",
    "    beta <- theta[2]\n",
    "    sigma_u <- theta[3]\n",
    "    \n",
    "    mean <- matrix(c(0,0), nrow=2, ncol=1)\n",
    "    std <- matrix(c(1, 0, 0, 1), nrow=2, ncol=2)\n",
    "    resid <- mvrnorm(T, mean, std)\n",
    "    z_t <- resid[,1]\n",
    "    u_t <- resid[,2]\n",
    "    \n",
    "    log_sigma2[1] <- omega + beta * log_sigma0 + sigma_u * u_t[1]\n",
    "    y_t[1] <- sqrt(exp(log_sigma2[1])) * z_t[1]\n",
    "    \n",
    "    for (t in 2:T){\n",
    "        log_sigma2[t] <- omega + beta * log_sigma2[t-1] + sigma_u * u_t[t]\n",
    "        y_t[t] <- sqrt(exp(log_sigma2[t])) * z_t[t]\n",
    "    }\n",
    "\n",
    "    sigma_t <- sqrt(exp(log_sigma2))\n",
    "    \n",
    "    list(y_t, sigma_t)\n",
    "}"
   ]
  },
  {
   "cell_type": "code",
   "execution_count": 96,
   "id": "7fb0f1f6",
   "metadata": {},
   "outputs": [],
   "source": [
    "# Inputs\n",
    "T <- 3000\n",
    "omega <- -0.736\n",
    "beta <- 0.9\n",
    "sigma_u <- 0.363\n",
    "theta <- c(omega, beta, sigma_u) \n",
    "log_sigma0 <- omega"
   ]
  },
  {
   "cell_type": "code",
   "execution_count": 97,
   "id": "675b4332",
   "metadata": {},
   "outputs": [],
   "source": [
    "data <- sv_simul(theta, log_sigma0, T)\n",
    "y_t <- unlist(data[1])\n",
    "sigma_t <- unlist(data[2])"
   ]
  },
  {
   "cell_type": "code",
   "execution_count": 98,
   "id": "3a40da51",
   "metadata": {},
   "outputs": [
    {
     "data": {
      "image/png": "[encoded data removed]",
      "text/plain": [
       "plot without title"
      ]
     },
     "metadata": {
      "image/png": {
       "height": 420,
       "width": 420
      }
     },
     "output_type": "display_data"
    }
   ],
   "source": [
    "selection <- 1:300\n",
    "plot(y_t[selection], type='l')\n",
    "lines(sigma_t[selection], type='l', col='red')"
   ]
  },
  {
   "cell_type": "markdown",
   "id": "b3925fa0",
   "metadata": {},
   "source": [
    "### Estimation Method"
   ]
  },
  {
   "cell_type": "markdown",
   "id": "38f35a1a",
   "metadata": {},
   "source": [
    "###### Analytical Expression"
   ]
  },
  {
   "cell_type": "code",
   "execution_count": 99,
   "id": "6f8c6f65",
   "metadata": {},
   "outputs": [],
   "source": [
    "simple_moment <- function(r, mu, sigma2){\n",
    "    result <- exp(r * mu/2 + r**2 * sigma2 / 8)\n",
    "    result\n",
    "}"
   ]
  },
  {
   "cell_type": "code",
   "execution_count": 100,
   "id": "0f7290ae",
   "metadata": {},
   "outputs": [],
   "source": [
    "double_moment <- function(i, r, s, mu, sigma2){\n",
    "    moment1 <- simple_moment(r, mu, sigma2)\n",
    "    moment2 <- simple_moment(s, mu, sigma2)\n",
    "    result <- moment1 * moment2 * exp(r * s * beta**i * sigma2/4)\n",
    "    result\n",
    "}"
   ]
  },
  {
   "cell_type": "code",
   "execution_count": 101,
   "id": "d72aa273",
   "metadata": {},
   "outputs": [
    {
     "data": {
      "text/html": [
       "<style>\n",
       ".list-inline {list-style: none; margin:0; padding: 0}\n",
       ".list-inline>li {display: inline-block}\n",
       ".list-inline>li:not(:last-child)::after {content: \"\\00b7\"; padding: 0 .5ex}\n",
       "</style>\n",
       "<ol class=list-inline><li>-0.736</li><li>0.9</li><li>0.363</li></ol>\n"
      ],
      "text/latex": [
       "\\begin{enumerate*}\n",
       "\\item -0.736\n",
       "\\item 0.9\n",
       "\\item 0.363\n",
       "\\end{enumerate*}\n"
      ],
      "text/markdown": [
       "1. -0.736\n",
       "2. 0.9\n",
       "3. 0.363\n",
       "\n",
       "\n"
      ],
      "text/plain": [
       "[1] -0.736  0.900  0.363"
      ]
     },
     "metadata": {},
     "output_type": "display_data"
    }
   ],
   "source": [
    "theta"
   ]
  },
  {
   "cell_type": "code",
   "execution_count": 102,
   "id": "fab4bd8f",
   "metadata": {},
   "outputs": [
    {
     "data": {
      "text/html": [
       "0.693521052631579"
      ],
      "text/latex": [
       "0.693521052631579"
      ],
      "text/markdown": [
       "0.693521052631579"
      ],
      "text/plain": [
       "[1] 0.6935211"
      ]
     },
     "metadata": {},
     "output_type": "display_data"
    }
   ],
   "source": [
    "mu <- omega / (1 - beta)\n",
    "sigma2 <- sigma_u**2 / (1-beta**2)\n",
    "sigma2"
   ]
  },
  {
   "cell_type": "code",
   "execution_count": 103,
   "id": "dcdd96d2",
   "metadata": {},
   "outputs": [],
   "source": [
    "obj_GMM <- function(theta, para_nb, j, y_t){\n",
    "\n",
    "    T <- length(y_t)\n",
    "    omega <- theta[1]\n",
    "    beta <- theta[2]\n",
    "    sigma_u <- theta[3]\n",
    "    \n",
    "    Nabla <- diag(param_nb)\n",
    "    Nabla_inv <- solve(Nabla)\n",
    "\n",
    "    A_vec <- matrix(0, nrow=param_nb, ncol=1)\n",
    "    m_t <- matrix(0, nrow=param_nb, ncol=T)\n",
    "    M_T <- matrix(0, nrow=param_nb, ncol=1)\n",
    "\n",
    "    mu <- omega / (1 - beta)\n",
    "    sigma2 <- sigma_u**2 / (1-beta**2)\n",
    "    A_vec[1,1] <- sqrt(2*pi) * simple_moment(1, mu, sigma2)\n",
    "    A_vec[2,1] <- simple_moment(2, mu, sigma2)\n",
    "    A_vec[3,1] <- 2*sqrt(2/pi) * simple_moment(3, mu, sigma2)\n",
    "    A_vec[4,1] <- 3 * simple_moment(4, mu, sigma2)\n",
    "\n",
    "    for (i in 1:10){\n",
    "        A_vec[4+i,1] <- 2/pi * double_moment(i, 1, 1, mu, sigma2)\n",
    "        A_vec[14+i,1] <- double_moment(i, 2, 2, mu, sigma2)\n",
    "    }\n",
    "\n",
    "    for (t in 1:T){\n",
    "        m_t[1,t] <- mean(abs(y_t[1:t]))\n",
    "        m_t[2,t] <- mean(y_t[1:t]**2)\n",
    "        m_t[3,t] <- mean(abs(y_t[1:t]**3))\n",
    "        m_t[4,t] <- mean(y_t[1:t]**4)\n",
    "        for (i in 1:10){\n",
    "            if (t > i){\n",
    "                m_t[4+i,t] <- mean(abs(y_t[(i+1):t] * y_t[1:(t-i)]))\n",
    "                m_t[14+i,t] <- mean(abs(y_t[(i+1):t]**2 * y_t[1:(t-i)]**2))\n",
    "            }\n",
    "            if (t <= i){\n",
    "                m_t[4+i,t] <- mean(y_t[(i+1):t] **2)\n",
    "                m_t[14+i,t] <- mean(y_t[(i+1):t]**4)\n",
    "            }\n",
    "        }\n",
    "    }\n",
    "    \n",
    "    for (i in 1:param_nb){\n",
    "        M_T[i,1] <- sum(m_t[i,(j+1):T]) / T-j\n",
    "    }\n",
    "    \n",
    "    result <- t(M_T - A_vec) %*% Nabla_inv %*% (M_T - A_vec)\n",
    "}"
   ]
  },
  {
   "cell_type": "code",
   "execution_count": 104,
   "id": "0e466c79",
   "metadata": {},
   "outputs": [],
   "source": [
    "estim_GMM <- function(theta_init, para_nb, j, y_t){\n",
    "    valinit <- theta_init\n",
    "    lower = c(-Inf, 0, 0)\n",
    "    upper = c(Inf, 1, Inf)\n",
    "    res <- nlminb(valinit, obj_GMM, lower=lower, upper=upper, para_nb=para_nb,\n",
    "                  j=j, y_t=y_t)\n",
    "    omega <- res$par[1]\n",
    "    beta <- res$par[2]\n",
    "    sigma_u <- res$par[3]\n",
    "    list(coef=c(omega, beta, sigma_u))\n",
    "}"
   ]
  },
  {
   "cell_type": "code",
   "execution_count": 105,
   "id": "5d2e37a6",
   "metadata": {},
   "outputs": [],
   "source": [
    "theta_init <- c(-0.5, 0.85, 0.3)\n",
    "param_nb <- 24\n",
    "j <- 0"
   ]
  },
  {
   "cell_type": "code",
   "execution_count": 106,
   "id": "6c98432a",
   "metadata": {},
   "outputs": [],
   "source": [
    "# Check algorithm running time\n",
    "start.time <- Sys.time()"
   ]
  },
  {
   "cell_type": "code",
   "execution_count": 107,
   "id": "2e4bbb8c",
   "metadata": {},
   "outputs": [
    {
     "name": "stderr",
     "output_type": "stream",
     "text": [
      "Warning message in nlminb(valinit, obj_GMM, lower = lower, upper = upper, para_nb = para_nb, :\n",
      "\"NA/NaN function evaluation\"\n"
     ]
    }
   ],
   "source": [
    "estimation <- estim_GMM(theta_init, para_nb, j, y_t)\n",
    "theta_hat <- estimation$coef\n",
    "theta_hat <- matrix(theta_hat)"
   ]
  },
  {
   "cell_type": "code",
   "execution_count": 108,
   "id": "f54f15c3",
   "metadata": {},
   "outputs": [
    {
     "data": {
      "text/html": [
       "<table class=\"dataframe\">\n",
       "<caption>A matrix: 3 × 1 of type dbl</caption>\n",
       "<tbody>\n",
       "\t<tr><td>-0.4815896</td></tr>\n",
       "\t<tr><td> 0.9558201</td></tr>\n",
       "\t<tr><td> 0.7550176</td></tr>\n",
       "</tbody>\n",
       "</table>\n"
      ],
      "text/latex": [
       "A matrix: 3 × 1 of type dbl\n",
       "\\begin{tabular}{l}\n",
       "\t -0.4815896\\\\\n",
       "\t  0.9558201\\\\\n",
       "\t  0.7550176\\\\\n",
       "\\end{tabular}\n"
      ],
      "text/markdown": [
       "\n",
       "A matrix: 3 × 1 of type dbl\n",
       "\n",
       "| -0.4815896 |\n",
       "|  0.9558201 |\n",
       "|  0.7550176 |\n",
       "\n"
      ],
      "text/plain": [
       "     [,1]      \n",
       "[1,] -0.4815896\n",
       "[2,]  0.9558201\n",
       "[3,]  0.7550176"
      ]
     },
     "metadata": {},
     "output_type": "display_data"
    }
   ],
   "source": [
    "theta_hat"
   ]
  },
  {
   "cell_type": "code",
   "execution_count": 109,
   "id": "1659a451",
   "metadata": {},
   "outputs": [
    {
     "data": {
      "text/plain": [
       "Time difference of 10.06 mins"
      ]
     },
     "metadata": {},
     "output_type": "display_data"
    }
   ],
   "source": [
    "end.time <- Sys.time()\n",
    "time.taken<-round(end.time-start.time,2)\n",
    "time.taken"
   ]
  }
 ],
 "metadata": {
  "kernelspec": {
   "display_name": "R",
   "language": "R",
   "name": "ir"
  },
  "language_info": {
   "codemirror_mode": "r",
   "file_extension": ".r",
   "mimetype": "text/x-r-source",
   "name": "R",
   "pygments_lexer": "r",
   "version": "4.1.2"
  }
 },
 "nbformat": 4,
 "nbformat_minor": 5
}
