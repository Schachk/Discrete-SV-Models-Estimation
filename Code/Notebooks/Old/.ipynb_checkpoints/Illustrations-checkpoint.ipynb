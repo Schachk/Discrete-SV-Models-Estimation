{
 "cells": [
  {
   "cell_type": "markdown",
   "id": "2f4c64f3",
   "metadata": {},
   "source": [
    "### A few Illustrations"
   ]
  },
  {
   "cell_type": "code",
   "execution_count": 348,
   "id": "cfba0858",
   "metadata": {},
   "outputs": [],
   "source": [
    "USER_PATH <- \"D:/Softwares/\"\n",
    "USER_PATH2 <- \"D:/Softwares/GitHub/Discrete-SV-Models-Estimation/Code/\" # Change only here\n",
    "ILLUS_PATH <- paste0(USER_PATH2, \"Illustration/\")\n",
    "DATA_INPUT_PATH <- paste0(USER_PATH,\"GitHub/Systemic_Risk_Measures/Code/Python/Data_Extraction/\")\n",
    "FUNCTION_PATH <- paste0(USER_PATH, \"GitHub/Systemic_Risk_Measures/Code/R/Functions/\")"
   ]
  },
  {
   "cell_type": "code",
   "execution_count": 349,
   "id": "d5c21f1d",
   "metadata": {},
   "outputs": [],
   "source": [
    "source(paste0(FUNCTION_PATH, \"CoVaR_project2.R\"))\n",
    "source(paste0(FUNCTION_PATH, \"CoVaR_Functions.R\"))"
   ]
  },
  {
   "cell_type": "code",
   "execution_count": 350,
   "id": "7ac5dbc1",
   "metadata": {},
   "outputs": [],
   "source": [
    "library(ggplot2)\n",
    "library(dplyr)\n",
    "library(tidyquant)\n",
    "library(stats)\n",
    "library(tibble)\n",
    "library(base)\n",
    "library(tidyverse)\n",
    "library(reshape2)\n",
    "library(pbivnorm)\n",
    "library(MASS)\n",
    "library(stargazer)"
   ]
  },
  {
   "cell_type": "code",
   "execution_count": 351,
   "id": "12e98ce2",
   "metadata": {},
   "outputs": [],
   "source": [
    "sv_simul_can <- function(theta, log_h0){\n",
    "    epsilon <- c()\n",
    "    log_h <- c()\n",
    "    omega <- theta[1]\n",
    "    beta <- theta[2]\n",
    "    sigma <- theta[3]\n",
    "    eta <- rnorm(T, 0, 1)\n",
    "    nu <- rnorm(T, 0, 1)\n",
    "    \n",
    "    log_h[1] <- omega + beta * log_h0 + sigma * nu[1]\n",
    "    epsilon[1] <- sqrt(exp(log_h[1])) * eta[1]\n",
    "    \n",
    "    for (t in 2:T){\n",
    "        log_h[t] <- omega + beta * log_h[t-1] + sigma * nu[t]\n",
    "        epsilon[t] <- sqrt(exp(log_h[t])) * eta[t]\n",
    "    }\n",
    "    list(epsilon, log_h)\n",
    "}"
   ]
  },
  {
   "cell_type": "code",
   "execution_count": 352,
   "id": "b6c49419",
   "metadata": {},
   "outputs": [],
   "source": [
    "# Inputs\n",
    "# omega <- -0.736\n",
    "# beta <- 0.9\n",
    "# sigma <- 0.363\n",
    "\n",
    "omega <- 0\n",
    "beta <- 0.99\n",
    "sigma <- 0.2\n",
    "\n",
    "theta <- c(omega, beta, sigma)\n",
    "log_h0 <- omega\n",
    "T <- 3000"
   ]
  },
  {
   "cell_type": "code",
   "execution_count": 353,
   "id": "05252aac",
   "metadata": {},
   "outputs": [],
   "source": [
    "set.seed(123)\n",
    "data <- sv_simul_can(theta, log_h0)\n",
    "epsilon <- unlist(data[1])\n",
    "log_h <- unlist(data[2])"
   ]
  },
  {
   "cell_type": "code",
   "execution_count": 354,
   "id": "95defa38",
   "metadata": {},
   "outputs": [
    {
     "data": {
      "image/png": "[encoded data removed]",
      "text/plain": [
       "plot without title"
      ]
     },
     "metadata": {
      "image/png": {
       "height": 250,
       "width": 500
      }
     },
     "output_type": "display_data"
    }
   ],
   "source": [
    "selection <- 1:500\n",
    "plot(epsilon[selection], type='l', col='black')\n",
    "lines(sqrt(exp(log_h))[selection], type='l', col='red')"
   ]
  },
  {
   "cell_type": "code",
   "execution_count": 355,
   "id": "88d33a55",
   "metadata": {},
   "outputs": [],
   "source": [
    "obj_sv <- function(theta, epsilon){\n",
    "    alpha_t <- c()\n",
    "    P_t <- c()\n",
    "    F_t <- c()\n",
    "    K_t <- c()\n",
    "    omega <- theta[1]\n",
    "    beta <- theta[2]\n",
    "    sigma <- theta[3]\n",
    "    mu_Z <- -1.270\n",
    "    sigma_Z <- sqrt(pi**2/2)\n",
    "    \n",
    "    a0 <- 0\n",
    "    beta0 <- 0.8\n",
    "    P0 <- sigma**2\n",
    "    F0 <- P0 + sigma_Z**2\n",
    "    \n",
    "    T <- length(epsilon)\n",
    "    y_t <- log(epsilon**2)\n",
    "    \n",
    "    alpha_t[1] <- beta0 * a0 + omega\n",
    "    P_t[1] <- beta**2 * P0 + sigma**2\n",
    "    K_t[1] <- beta * P0 * 1/F0\n",
    "    \n",
    "    for (t in 2:T){\n",
    "        F_t[t-1] <- P_t[t-1] + sigma_Z**2\n",
    "        K_t[t] <- beta * P_t[t-1] * 1/F_t[t-1]\n",
    "        alpha_t[t] <- beta * alpha_t[t-1] + K_t[t] *\n",
    "            (y_t[t-1] - alpha_t[t-1] - mu_Z) + omega\n",
    "        P_t[t] <- beta**2 * P_t[t-1] - K_t[t]**2 * F_t[t-1] + sigma**2\n",
    "    }\n",
    "    F_t[T] <- P_t[T-1] + sigma_Z**2\n",
    "    qml <- -T/2 * log(2*pi) - 1/2*sum(log(F_t) +\n",
    "        (log(epsilon**2) - alpha_t - mu_Z)**2 / F_t)\n",
    "    -qml\n",
    "}"
   ]
  },
  {
   "cell_type": "code",
   "execution_count": 356,
   "id": "e2cd9534",
   "metadata": {},
   "outputs": [],
   "source": [
    "estim_sv <- function(theta0, epsilon){\n",
    "    valinit <- theta0\n",
    "    lower <- c(-Inf, 0, 0)\n",
    "    upper <- c(Inf, 0.999, Inf)\n",
    "    res <- nlminb(valinit, obj_sv, lower=lower,\n",
    "                  upper=upper, epsilon=epsilon)\n",
    "    theta_hat <- res$par[1:3]\n",
    "    theta_hat\n",
    "}"
   ]
  },
  {
   "cell_type": "code",
   "execution_count": 357,
   "id": "2d954a1c",
   "metadata": {},
   "outputs": [],
   "source": [
    "# Estimation Inputs\n",
    "omega0 <- -0.6\n",
    "beta0 <- 0.9\n",
    "sigma0 <- 0.5\n",
    "theta0 <- c(omega0, beta0, sigma0)"
   ]
  },
  {
   "cell_type": "code",
   "execution_count": 358,
   "id": "b26b450e",
   "metadata": {},
   "outputs": [
    {
     "data": {
      "text/html": [
       "<style>\n",
       ".list-inline {list-style: none; margin:0; padding: 0}\n",
       ".list-inline>li {display: inline-block}\n",
       ".list-inline>li:not(:last-child)::after {content: \"\\00b7\"; padding: 0 .5ex}\n",
       "</style>\n",
       "<ol class=list-inline><li>-0.00146994092138186</li><li>0.983865487003352</li><li>0.178266757464025</li></ol>\n"
      ],
      "text/latex": [
       "\\begin{enumerate*}\n",
       "\\item -0.00146994092138186\n",
       "\\item 0.983865487003352\n",
       "\\item 0.178266757464025\n",
       "\\end{enumerate*}\n"
      ],
      "text/markdown": [
       "1. -0.00146994092138186\n",
       "2. 0.983865487003352\n",
       "3. 0.178266757464025\n",
       "\n",
       "\n"
      ],
      "text/plain": [
       "[1] -0.001469941  0.983865487  0.178266757"
      ]
     },
     "metadata": {},
     "output_type": "display_data"
    }
   ],
   "source": [
    "estimation <- estim_sv(theta0, epsilon)\n",
    "theta_hat <- estimation\n",
    "theta_hat"
   ]
  },
  {
   "cell_type": "code",
   "execution_count": 359,
   "id": "68fcc5aa",
   "metadata": {},
   "outputs": [],
   "source": [
    "alpha_t <- c()\n",
    "P_t <- c()\n",
    "F_t <- c()\n",
    "K_t <- c()\n",
    "omega <- theta_hat[1]\n",
    "beta <- theta_hat[2]\n",
    "sigma <- theta_hat[3]\n",
    "mu_Z <- -1.270\n",
    "sigma_Z <- sqrt(pi**2/2)\n",
    "    \n",
    "a0 <- 0\n",
    "beta0 <- 0.8\n",
    "P0 <- sigma**2\n",
    "F0 <- P0 + sigma_Z**2\n",
    "    \n",
    "T <- length(epsilon)\n",
    "y_t <- log(epsilon**2)\n",
    "    \n",
    "alpha_t[1] <- beta0 * a0 + omega\n",
    "P_t[1] <- beta**2 * P0 + sigma**2\n",
    "K_t[1] <- beta * P0 * 1/F0\n",
    "    \n",
    "for (t in 2:T){\n",
    "    F_t[t-1] <- P_t[t-1] + sigma_Z**2\n",
    "    K_t[t] <- beta * P_t[t-1] * 1/F_t[t-1]\n",
    "    alpha_t[t] <- beta * alpha_t[t-1] + K_t[t] *\n",
    "            (y_t[t-1] - alpha_t[t-1] - mu_Z) + omega\n",
    "    P_t[t] <- beta**2 * P_t[t-1] - K_t[t]**2 * F_t[t-1] + sigma**2\n",
    "}"
   ]
  },
  {
   "cell_type": "code",
   "execution_count": 360,
   "id": "78e11f10",
   "metadata": {},
   "outputs": [],
   "source": [
    "alpha_conso <- c(0.01, 0.05, 0.1, 0.2, 0.3)\n",
    "VaR_SV_conso <- matrix(0, nrow=length(alpha_conso), ncol=T)\n",
    "i <- 0\n",
    "for (alpha1 in alpha_conso){\n",
    "    i <- i+1\n",
    "    eta_hat <- epsilon / sqrt(exp(alpha_t))\n",
    "    xi_hat <- quantile(eta_hat, probs = seq(0, 1, 0.01))[alpha1*100+1]\n",
    "    VaR_SV_conso[i,] <- sqrt(exp(alpha_t)) * xi_hat\n",
    "}"
   ]
  },
  {
   "cell_type": "code",
   "execution_count": 361,
   "id": "54fec5f4",
   "metadata": {},
   "outputs": [],
   "source": [
    "epsilon <- epsilon[selection]\n",
    "VaR_SV <- VaR_SV_conso[,selection]"
   ]
  },
  {
   "cell_type": "code",
   "execution_count": 362,
   "id": "c849eef3",
   "metadata": {},
   "outputs": [
    {
     "data": {
      "image/png": "[encoded data removed]",
      "text/plain": [
       "plot without title"
      ]
     },
     "metadata": {
      "image/png": {
       "height": 250,
       "width": 500
      }
     },
     "output_type": "display_data"
    },
    {
     "data": {
      "image/png": "[encoded data removed]",
      "text/plain": [
       "plot without title"
      ]
     },
     "metadata": {
      "image/png": {
       "height": 250,
       "width": 500
      }
     },
     "output_type": "display_data"
    }
   ],
   "source": [
    "plot(VaR_SV[1,])\n",
    "plot(VaR_SV[2,])"
   ]
  },
  {
   "cell_type": "code",
   "execution_count": 363,
   "id": "c854bb6e",
   "metadata": {},
   "outputs": [],
   "source": [
    "t<-selection\n",
    "col_names<-c('t', 'returns', '-VaR SV(0.01)',\n",
    "                                 '-VaR SV(0.05)', '-VaR SV(0.1)',\n",
    "                                 '-VaR SV(0.2)', '-VaR SV(0.3)')\n",
    "confidence_tab_var <- as.data.frame(epsilon)\n",
    "confidence_tab_var <- cbind(confidence_tab_var, VaR_SV[1,])\n",
    "confidence_tab_var <- cbind(confidence_tab_var, VaR_SV[2,])\n",
    "confidence_tab_var <- cbind(confidence_tab_var, VaR_SV[3,])\n",
    "confidence_tab_var <- cbind(confidence_tab_var, VaR_SV[4,])\n",
    "confidence_tab_var <- cbind(confidence_tab_var, VaR_SV[5,])\n",
    "confidence_tab_var <- cbind(t, confidence_tab_var)\n",
    "colnames(confidence_tab_var) <- col_names\n",
    "confidence_tab_var <- melt(confidence_tab_var, id=\"t\")"
   ]
  },
  {
   "cell_type": "code",
   "execution_count": null,
   "id": "67de0579",
   "metadata": {},
   "outputs": [],
   "source": [
    "options(repr.plot.width = 10, repr.plot.height = 5, repr.plot.res = 100)\n",
    "confidence_chart_var <-ggplot(data=confidence_tab_var, aes(x=t, y=value, colour=variable))+\n",
    "    geom_line(lwd=0.5)+\n",
    "    theme_classic()+\n",
    "    scale_color_manual(name = \"Variables\", values= c('black', 'red', 'blue',\n",
    "                                                     'cyan', 'purple', 'darkgreen'),\n",
    "                       labels = c('Returns', '-VaR SV(0.01)',\n",
    "                                 '-VaR SV(0.05)', '-VaR SV(0.1)',\n",
    "                                 '-VaR SV(0.2)', '-VaR SV(0.3)'))+\n",
    "    labs(title = \"Returns vs. VaR\"\n",
    "         , x = \"Time\", y=\"Value\")+\n",
    "    theme(\n",
    "        axis.title = element_text(size =12),\n",
    "        axis.text = element_text(size = 12, color = 'black')\n",
    "    )"
   ]
  },
  {
   "cell_type": "code",
   "execution_count": 364,
   "id": "ad2b4f33",
   "metadata": {},
   "outputs": [
    {
     "data": {
      "image/png": "[encoded data removed]",
      "text/plain": [
       "plot without title"
      ]
     },
     "metadata": {
      "image/png": {
       "height": 250,
       "width": 500
      }
     },
     "output_type": "display_data"
    }
   ],
   "source": [
    "confidence_chart_var"
   ]
  },
  {
   "cell_type": "code",
   "execution_count": 365,
   "id": "68d79860",
   "metadata": {},
   "outputs": [],
   "source": [
    "# pdf(file=paste0(ILLUS_PATH, \"Illus_VAR.pdf\"),width=10, height=5)\n",
    "# confidence_chart_var\n",
    "# dev.off()"
   ]
  },
  {
   "cell_type": "code",
   "execution_count": null,
   "id": "688934e3",
   "metadata": {},
   "outputs": [],
   "source": []
  },
  {
   "cell_type": "markdown",
   "id": "bee8e3ee",
   "metadata": {},
   "source": [
    "### Smooth versus Chaotic Returns"
   ]
  },
  {
   "cell_type": "code",
   "execution_count": null,
   "id": "5d65d322",
   "metadata": {},
   "outputs": [],
   "source": []
  },
  {
   "cell_type": "code",
   "execution_count": 366,
   "id": "8a758128",
   "metadata": {},
   "outputs": [],
   "source": [
    "mu1 <- 0.04\n",
    "omega1 <- 0\n",
    "beta1 <- 0.99\n",
    "sigma1 <- 0\n",
    "\n",
    "mu2 <- 0.05\n",
    "omega2 <- 0.003\n",
    "beta2 <- 0.4\n",
    "sigma2 <- 1.8\n",
    "\n",
    "theta1 <- c(omega1, beta1, sigma1)\n",
    "theta2 <- c(omega2, beta2, sigma2)\n",
    "log_h01 <- omega1\n",
    "log_h02 <- omega2\n",
    "T <- 3000"
   ]
  },
  {
   "cell_type": "code",
   "execution_count": 375,
   "id": "0cc82b6b",
   "metadata": {},
   "outputs": [],
   "source": [
    "set.seed(121)\n",
    "\n",
    "data1 <- sv_simul_can(theta1, log_h01)\n",
    "data2 <- sv_simul_can(theta2, log_h02)\n",
    "epsilon1 <- (unlist(data1[1]) - mean(unlist(data1[1])) + mu1) / 100 + 1\n",
    "epsilon2 <- (unlist(data2[1]) - mean(unlist(data2[1])) + mu2) / 100 + 1"
   ]
  },
  {
   "cell_type": "code",
   "execution_count": 376,
   "id": "15693e6d",
   "metadata": {},
   "outputs": [
    {
     "data": {
      "image/png": "[encoded data removed]",
      "text/plain": [
       "plot without title"
      ]
     },
     "metadata": {
      "image/png": {
       "height": 250,
       "width": 500
      }
     },
     "output_type": "display_data"
    }
   ],
   "source": [
    "plot(epsilon1, type='l')\n",
    "lines(epsilon2, type='l', col='blue')"
   ]
  },
  {
   "cell_type": "code",
   "execution_count": 403,
   "id": "172c10f2",
   "metadata": {},
   "outputs": [
    {
     "data": {
      "text/html": [
       "0.00997290978779035"
      ],
      "text/latex": [
       "0.00997290978779035"
      ],
      "text/markdown": [
       "0.00997290978779035"
      ],
      "text/plain": [
       "[1] 0.00997291"
      ]
     },
     "metadata": {},
     "output_type": "display_data"
    },
    {
     "data": {
      "text/html": [
       "0.0253772538142041"
      ],
      "text/latex": [
       "0.0253772538142041"
      ],
      "text/markdown": [
       "0.0253772538142041"
      ],
      "text/plain": [
       "[1] 0.02537725"
      ]
     },
     "metadata": {},
     "output_type": "display_data"
    }
   ],
   "source": [
    "sd(epsilon1 - 1)\n",
    "sd(epsilon2 - 1)"
   ]
  },
  {
   "cell_type": "code",
   "execution_count": 379,
   "id": "a43d2689",
   "metadata": {},
   "outputs": [],
   "source": [
    "price1 <- cumprod(epsilon1) * 100\n",
    "price2 <- cumprod(epsilon2) * 100"
   ]
  },
  {
   "cell_type": "code",
   "execution_count": 380,
   "id": "e27c39a0",
   "metadata": {},
   "outputs": [
    {
     "data": {
      "image/png": "[encoded data removed]",
      "text/plain": [
       "plot without title"
      ]
     },
     "metadata": {
      "image/png": {
       "height": 250,
       "width": 500
      }
     },
     "output_type": "display_data"
    }
   ],
   "source": [
    "plot(price1, type='l')\n",
    "lines(price2, type='l', col='blue')"
   ]
  },
  {
   "cell_type": "code",
   "execution_count": 396,
   "id": "6e7312ba",
   "metadata": {},
   "outputs": [],
   "source": [
    "t<-1:T\n",
    "col_names<-c('t', '\"smooth\" returns', '\"chaotic returns\"')\n",
    "CAGR_tab <- as.data.frame(price1)\n",
    "CAGR_tab <- cbind(CAGR_tab, price2)\n",
    "CAGR_tab <- cbind(t, CAGR_tab)\n",
    "colnames(CAGR_tab) <- col_names\n",
    "CAGR_tab <- melt(CAGR_tab, id=\"t\")"
   ]
  },
  {
   "cell_type": "code",
   "execution_count": 397,
   "id": "0b736b83",
   "metadata": {},
   "outputs": [],
   "source": [
    "options(repr.plot.width = 10, repr.plot.height = 5, repr.plot.res = 100)\n",
    "CAGR_chart <-ggplot(data=CAGR_tab, aes(x=t, y=value, colour=variable))+\n",
    "    geom_line(lwd=0.5)+\n",
    "    theme_classic()+\n",
    "    scale_color_manual(name = \"Variables\", values= c('black', 'red'),\n",
    "                       labels = c('\"smooth\" returns', '\"chaotic returns\"'))+\n",
    "    labs(title = \"Smooth vs. Chaotic Returns\"\n",
    "         , x = \"Time\", y=\"Value\")+\n",
    "    theme(\n",
    "        axis.title = element_text(size =12),\n",
    "        axis.text = element_text(size = 12, color = 'black')\n",
    "    )"
   ]
  },
  {
   "cell_type": "code",
   "execution_count": 398,
   "id": "183f9002",
   "metadata": {},
   "outputs": [
    {
     "data": {
      "image/png": "[encoded data removed]",
      "text/plain": [
       "plot without title"
      ]
     },
     "metadata": {
      "image/png": {
       "height": 250,
       "width": 500
      }
     },
     "output_type": "display_data"
    }
   ],
   "source": [
    "CAGR_chart"
   ]
  },
  {
   "cell_type": "code",
   "execution_count": 399,
   "id": "1b940498",
   "metadata": {},
   "outputs": [
    {
     "data": {
      "text/html": [
       "<strong>png:</strong> 2"
      ],
      "text/latex": [
       "\\textbf{png:} 2"
      ],
      "text/markdown": [
       "**png:** 2"
      ],
      "text/plain": [
       "png \n",
       "  2 "
      ]
     },
     "metadata": {},
     "output_type": "display_data"
    }
   ],
   "source": [
    "pdf(file=paste0(ILLUS_PATH, \"CAGR_CHART.pdf\"),width=10, height=5)\n",
    "CAGR_chart\n",
    "dev.off()"
   ]
  },
  {
   "cell_type": "code",
   "execution_count": 381,
   "id": "f05e843d",
   "metadata": {},
   "outputs": [],
   "source": [
    "year <- 3000/250"
   ]
  },
  {
   "cell_type": "code",
   "execution_count": 385,
   "id": "246ce88d",
   "metadata": {},
   "outputs": [],
   "source": [
    "CAGR_1 <- (price1[T] / price1[1])^(1/year) - 1\n",
    "CAGR_2 <- (price2[T] / price2[1])^(1/year) - 1"
   ]
  },
  {
   "cell_type": "code",
   "execution_count": 386,
   "id": "8ad27a33",
   "metadata": {},
   "outputs": [
    {
     "data": {
      "text/html": [
       "0.0917094246252037"
      ],
      "text/latex": [
       "0.0917094246252037"
      ],
      "text/markdown": [
       "0.0917094246252037"
      ],
      "text/plain": [
       "[1] 0.09170942"
      ]
     },
     "metadata": {},
     "output_type": "display_data"
    },
    {
     "data": {
      "text/html": [
       "0.0467436064447153"
      ],
      "text/latex": [
       "0.0467436064447153"
      ],
      "text/markdown": [
       "0.0467436064447153"
      ],
      "text/plain": [
       "[1] 0.04674361"
      ]
     },
     "metadata": {},
     "output_type": "display_data"
    }
   ],
   "source": [
    "CAGR_1\n",
    "CAGR_2"
   ]
  },
  {
   "cell_type": "code",
   "execution_count": 384,
   "id": "c134c333",
   "metadata": {},
   "outputs": [
    {
     "data": {
      "text/html": [
       "285.963296620436"
      ],
      "text/latex": [
       "285.963296620436"
      ],
      "text/markdown": [
       "285.963296620436"
      ],
      "text/plain": [
       "[1] 285.9633"
      ]
     },
     "metadata": {},
     "output_type": "display_data"
    }
   ],
   "source": [
    "price1[T]"
   ]
  }
 ],
 "metadata": {
  "kernelspec": {
   "display_name": "R",
   "language": "R",
   "name": "ir"
  },
  "language_info": {
   "codemirror_mode": "r",
   "file_extension": ".r",
   "mimetype": "text/x-r-source",
   "name": "R",
   "pygments_lexer": "r",
   "version": "4.1.2"
  }
 },
 "nbformat": 4,
 "nbformat_minor": 5
}
