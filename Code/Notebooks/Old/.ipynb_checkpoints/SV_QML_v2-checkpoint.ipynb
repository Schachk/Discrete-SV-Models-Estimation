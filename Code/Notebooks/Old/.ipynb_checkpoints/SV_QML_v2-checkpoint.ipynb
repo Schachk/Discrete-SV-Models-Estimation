{
 "cells": [
  {
   "cell_type": "markdown",
   "id": "787f4ae5",
   "metadata": {},
   "source": [
    "## QML Estimation"
   ]
  },
  {
   "cell_type": "markdown",
   "id": "ebc4b432",
   "metadata": {},
   "source": [
    "$\n",
    "y_t = \\mu + \\epsilon_t \\\\\n",
    "\\epsilon_t \\sim \\mathcal{N}(0, \\sigma^2_{\\epsilon} exp(h_t)) \\\\\n",
    "h_{t+1} = \\mu + \\phi(h_{t} - \\mu) + \\xi_t \\\\\n",
    "    \\textrm{where } \\xi_t \\sim \\mathcal{N}(0, \\sigma^2_{\\xi})\n",
    "$"
   ]
  },
  {
   "cell_type": "code",
   "execution_count": 335,
   "id": "c06da863",
   "metadata": {},
   "outputs": [],
   "source": [
    "import numpy as np\n",
    "import pandas as pd\n",
    "import random as rd\n",
    "import math\n",
    "import scipy as sp\n",
    "import matplotlib.pyplot as plt"
   ]
  },
  {
   "cell_type": "markdown",
   "id": "9aec2e83",
   "metadata": {},
   "source": [
    "##### i) Simulate the Model"
   ]
  },
  {
   "cell_type": "code",
   "execution_count": 336,
   "id": "847afacc",
   "metadata": {},
   "outputs": [],
   "source": [
    "from SV_Functions import sv_simul, sv_simul_v2\n",
    "from scipy.optimize import minimize"
   ]
  },
  {
   "cell_type": "markdown",
   "id": "a6334852",
   "metadata": {},
   "source": [
    "### QML Estimation (Francq, Zakoian)"
   ]
  },
  {
   "cell_type": "markdown",
   "id": "91c898ed",
   "metadata": {},
   "source": [
    "##### canonical SV Model"
   ]
  },
  {
   "cell_type": "markdown",
   "id": "1e505f05",
   "metadata": {},
   "source": [
    "$\n",
    "\\epsilon_t = \\sqrt{h_t} \\eta_t \\\\\n",
    "log(h_t) = \\omega + \\beta log(h_{t-1}) + \\sigma v_t\n",
    "$\n",
    "\n",
    "$\n",
    "\\eta_t \\sim \\mathcal{N}(0,1) \\\\\n",
    "v_t \\sim \\mathcal{N}(0,1)\n",
    "$"
   ]
  },
  {
   "cell_type": "markdown",
   "id": "404b2e06",
   "metadata": {},
   "source": [
    "##### State-space model"
   ]
  },
  {
   "cell_type": "markdown",
   "id": "e4bd2a81",
   "metadata": {},
   "source": [
    "$\n",
    "log (\\epsilon_t^2) = log (h_t) + \\mu_Z + u_t \\\\\n",
    "log (h_t) = \\beta log (h_{t-1}) + \\omega + \\sigma v_t\n",
    "$"
   ]
  },
  {
   "cell_type": "code",
   "execution_count": 337,
   "id": "84476807",
   "metadata": {},
   "outputs": [],
   "source": [
    "def sv_simul_can(θ, log_h0):\n",
    "    ω = θ[0]\n",
    "    α = θ[1]\n",
    "    σ = θ[2]\n",
    "    η = np.random.normal(0, 1, T)\n",
    "    v  = np.random.normal(0, 1, T)\n",
    "    ϵ_t = np.empty(0)\n",
    "    log_h = np.empty(0)\n",
    "\n",
    "    log_h = np.append(log_h, ω + β * log_h0 + σ * v[0])\n",
    "    ϵ_t = np.append(ϵ_t, np.sqrt(np.exp(log_h[0])) * η[0])\n",
    "\n",
    "    for t in range(1, T):\n",
    "        log_h = np.append(log_h, ω + β * log_h[t-1] + σ * v[t])\n",
    "        ϵ_t = np.append(ϵ_t, np.sqrt(np.exp(log_h[t])) * η[t])\n",
    "        \n",
    "    return ϵ_t, log_h"
   ]
  },
  {
   "cell_type": "code",
   "execution_count": 338,
   "id": "3f9b7515",
   "metadata": {},
   "outputs": [],
   "source": [
    "# Inputs\n",
    "ω = 1e-3\n",
    "β = 0.9\n",
    "σ = 0.7\n",
    "θ = ω, β, σ\n",
    "log_h0 = ω\n",
    "T = 500"
   ]
  },
  {
   "cell_type": "code",
   "execution_count": 339,
   "id": "8808213d",
   "metadata": {},
   "outputs": [],
   "source": [
    "data = sv_simul_can(θ, log_h0)\n",
    "ϵ_t = data[0]\n",
    "log_h = data[1]"
   ]
  },
  {
   "cell_type": "code",
   "execution_count": 340,
   "id": "b97935a6",
   "metadata": {},
   "outputs": [
    {
     "data": {
      "text/plain": [
       "[<matplotlib.lines.Line2D at 0x19d68930e50>]"
      ]
     },
     "execution_count": 340,
     "metadata": {},
     "output_type": "execute_result"
    },
    {
     "data": {
      "image/png": "[encoded data removed]",
      "text/plain": [
       "<Figure size 432x288 with 1 Axes>"
      ]
     },
     "metadata": {
      "needs_background": "light"
     },
     "output_type": "display_data"
    }
   ],
   "source": [
    "plt.plot(range(T), ϵ_t)\n",
    "plt.plot(range(T), np.sqrt(np.exp(log_h)))"
   ]
  },
  {
   "cell_type": "code",
   "execution_count": 341,
   "id": "acd046ba",
   "metadata": {},
   "outputs": [],
   "source": [
    "def obj_sv(θ, ϵ_t):\n",
    "    α_t = np.empty(0)\n",
    "    P_t = np.empty(0)\n",
    "    F_t = np.empty(0)\n",
    "    K_t = np.empty(0)\n",
    "    ω = θ[0]\n",
    "    β = θ[1]\n",
    "    σ = θ[2]\n",
    "    μ_Z = -1.270\n",
    "    σ_Z = np.pi**2 / 2\n",
    "    a0 = 0\n",
    "    β0 = 0.8\n",
    "    P0 = σ**2\n",
    "    F0 = P0 + σ_Z**2\n",
    "    T = len(ϵ_t)\n",
    "    y_t = np.log(np.square(ϵ_t))\n",
    "    \n",
    "    α_t = np.append(α_t, β0 * a0 + ω)\n",
    "    P_t = np.append(P_t, σ**2)\n",
    "    K_t = np.append(K_t, β * P0 * 1/F0)\n",
    "    \n",
    "    for t in range(1,T):\n",
    "        F_t = np.append(F_t, P_t[t-1] + σ_Z**2)\n",
    "        K_t = np.append(K_t, β * P_t[t-1] * 1/F_t[t-1])\n",
    "        α_t = np.append(α_t, β * α_t[t-1] + K_t[t] * (y_t[t-1] - α_t[t-1] - μ_Z) + ω)\n",
    "        P_t = np.append(P_t, β**2 * P_t[t-1] - K_t[t]**2 * F_t[t-1] + σ**2)\n",
    "    F_t = np.append(F_t, P_t[T-1] + σ_Z**2)\n",
    "    \n",
    "    qml = -T/2 * np.log(2*np.pi) - 1/2 * np.sum(np.log(F_t) + np.square((np.log(np.square(ϵ_t)) - α_t - μ_Z)) / F_t)\n",
    "    return -qml"
   ]
  },
  {
   "cell_type": "code",
   "execution_count": 342,
   "id": "e8f9c668",
   "metadata": {},
   "outputs": [],
   "source": [
    "def estim_sv(θ0, ϵ_t):\n",
    "    valinit = θ0\n",
    "    res = minimize(obj_sv, valinit, args=(ϵ_t), bounds=((1e-5, math.inf), (0, 0.99), (0, math.inf))) \n",
    "    θ_hat = res.x\n",
    "    likeli = res.fun\n",
    "    return θ_hat, likeli"
   ]
  },
  {
   "cell_type": "code",
   "execution_count": 343,
   "id": "7a7021e9",
   "metadata": {},
   "outputs": [],
   "source": [
    "ω0 = 1e-3\n",
    "β0 = 0.85\n",
    "σ0 = 0.9\n",
    "θ0 = ω0, β0, σ0"
   ]
  },
  {
   "cell_type": "code",
   "execution_count": 344,
   "id": "dec3db7c",
   "metadata": {},
   "outputs": [
    {
     "data": {
      "text/plain": [
       "array([0.16404192, 0.79270831, 0.        ])"
      ]
     },
     "execution_count": 344,
     "metadata": {},
     "output_type": "execute_result"
    }
   ],
   "source": [
    "estimation = estim_sv(θ0, ϵ_t)\n",
    "θ_hat = estimation[0]\n",
    "θ_hat"
   ]
  },
  {
   "cell_type": "markdown",
   "id": "35374358",
   "metadata": {},
   "source": [
    "### SV Model Estimation - Monte Carlo"
   ]
  },
  {
   "cell_type": "code",
   "execution_count": 345,
   "id": "9e3770a6",
   "metadata": {},
   "outputs": [],
   "source": [
    "M = 100"
   ]
  },
  {
   "cell_type": "code",
   "execution_count": null,
   "id": "978f276e",
   "metadata": {},
   "outputs": [],
   "source": [
    "ω_spread = np.empty(0)\n",
    "β_spread = np.empty(0)\n",
    "σ_spread = np.empty(0)\n",
    "for j in range(M):\n",
    "    results = garch_simul(θ, T)\n",
    "    ϵ_t = results[0]\n",
    "    estimation = estim_garch(θ0, ϵ_t)\n",
    "    θ_hat = estimation[0]\n",
    "    ω_hat = θ_hat[0]\n",
    "    β_hat = θ_hat[1]\n",
    "    σ_hat = θ_hat[2]\n",
    "    ω_spread = np.append(ω_spread, ω_hat - ω)\n",
    "    β_spread = np.append(β_spread, β_hat - β)\n",
    "    σ_spread = np.append(σ_spread, σ_hat - σ)"
   ]
  },
  {
   "cell_type": "code",
   "execution_count": null,
   "id": "2f4ec47b",
   "metadata": {},
   "outputs": [],
   "source": [
    "plt.boxplot(ω_spread)\n",
    "np.seterr(divide = 'ignore') "
   ]
  },
  {
   "cell_type": "code",
   "execution_count": null,
   "id": "39fe8356",
   "metadata": {},
   "outputs": [],
   "source": [
    "plt.boxplot(α_spread)\n",
    "np.seterr(divide = 'ignore') "
   ]
  },
  {
   "cell_type": "code",
   "execution_count": null,
   "id": "8132337f",
   "metadata": {},
   "outputs": [],
   "source": [
    "plt.boxplot(β_spread)\n",
    "np.seterr(divide = 'ignore') "
   ]
  },
  {
   "cell_type": "markdown",
   "id": "d7b3d051",
   "metadata": {},
   "source": [
    "### Estimate GARCH Models"
   ]
  },
  {
   "cell_type": "code",
   "execution_count": 74,
   "id": "bf0ef8ba",
   "metadata": {},
   "outputs": [],
   "source": [
    "def garch_simul(θ, T):\n",
    "    η = np.random.normal(0, 1, T)\n",
    "    ϵ_t = np.empty(0)\n",
    "    σ2 = np.empty(0)\n",
    "    ω = θ[0]\n",
    "    α = θ[1]\n",
    "    β = θ[2]\n",
    "    \n",
    "    ϵ_t = np.append(ϵ_t, np.sqrt(ω) * η[0])\n",
    "    σ2 = np.append(σ2, ω)\n",
    "    \n",
    "    for t in range(1, T):\n",
    "        σ2 = np.append(σ2, ω + α * ϵ_t[t-1]**2 + β * σ2[t-1])\n",
    "        ϵ_t = np.append(ϵ_t, np.sqrt(σ2[t]) * η[t])\n",
    "        \n",
    "    return ϵ_t, σ2"
   ]
  },
  {
   "cell_type": "code",
   "execution_count": 75,
   "id": "1cb46c92",
   "metadata": {},
   "outputs": [],
   "source": [
    "def obj_garch(θ, ϵ_t):\n",
    "    ω = θ[0]\n",
    "    α = θ[1]\n",
    "    β = θ[2]\n",
    "    T = len(ϵ_t)\n",
    "    σ2 = np.empty(0)\n",
    "    \n",
    "    σ2= np.append(σ2, ω)\n",
    "    for t in range(1,T):\n",
    "        σ2 = np.append(σ2, ω + α * ϵ_t[t-1]**2 + β * σ2[t-1])\n",
    "    qml = np.mean(np.log(σ2[1:T]) + np.square(ϵ_t[1:T]) / σ2[1:T])\n",
    "    return qml"
   ]
  },
  {
   "cell_type": "code",
   "execution_count": 76,
   "id": "cc869a13",
   "metadata": {},
   "outputs": [],
   "source": [
    "def estim_garch(θ, ϵ_t):\n",
    "    valinit = θ\n",
    "    res = minimize(obj_garch, valinit, args=(ϵ_t), bounds=((1e-4, math.inf), (0, math.inf), (0, 0.999))) \n",
    "    θ_hat = res.x\n",
    "    likeli = res.fun\n",
    "    return θ_hat, likeli"
   ]
  },
  {
   "cell_type": "code",
   "execution_count": 77,
   "id": "e73dda45",
   "metadata": {},
   "outputs": [],
   "source": [
    "ω = 1e-3\n",
    "α = 0.05\n",
    "β = 0.9\n",
    "θ = ω, α, β"
   ]
  },
  {
   "cell_type": "code",
   "execution_count": 78,
   "id": "3cb45664",
   "metadata": {},
   "outputs": [],
   "source": [
    "results = garch_simul(θ, T)\n",
    "ϵ_t = results[0]\n",
    "σ2 = results[1]"
   ]
  },
  {
   "cell_type": "code",
   "execution_count": 79,
   "id": "22d71eab",
   "metadata": {},
   "outputs": [
    {
     "data": {
      "text/plain": [
       "[<matplotlib.lines.Line2D at 0x19d62fb5280>]"
      ]
     },
     "execution_count": 79,
     "metadata": {},
     "output_type": "execute_result"
    },
    {
     "data": {
      "image/png": "[encoded data removed]",
      "text/plain": [
       "<Figure size 432x288 with 1 Axes>"
      ]
     },
     "metadata": {
      "needs_background": "light"
     },
     "output_type": "display_data"
    }
   ],
   "source": [
    "plt.plot(range(T), ϵ_t)\n",
    "plt.plot(range(T), np.sqrt(σ2))"
   ]
  },
  {
   "cell_type": "code",
   "execution_count": 80,
   "id": "4a32e4f6",
   "metadata": {},
   "outputs": [],
   "source": [
    "ω0 = 1e-3\n",
    "α0 = 0.1\n",
    "β0 = 0.8\n",
    "θ0 = ω0, α0, β0"
   ]
  },
  {
   "cell_type": "code",
   "execution_count": 81,
   "id": "5b50ceef",
   "metadata": {},
   "outputs": [
    {
     "data": {
      "text/plain": [
       "array([ 0.00146761,  0.03494167, -0.10814077])"
      ]
     },
     "execution_count": 81,
     "metadata": {},
     "output_type": "execute_result"
    }
   ],
   "source": [
    "estimation = estim_garch(θ0, ϵ_t)\n",
    "θ_hat = estimation[0]\n",
    "θ_hat - θ"
   ]
  },
  {
   "cell_type": "markdown",
   "id": "393a2b04",
   "metadata": {},
   "source": [
    "### GARCH Monte Carlo Experiment"
   ]
  },
  {
   "cell_type": "code",
   "execution_count": 82,
   "id": "00907936",
   "metadata": {},
   "outputs": [],
   "source": [
    "M = 100"
   ]
  },
  {
   "cell_type": "code",
   "execution_count": 83,
   "id": "c9571490",
   "metadata": {},
   "outputs": [],
   "source": [
    "ω_spread = np.empty(0)\n",
    "α_spread = np.empty(0)\n",
    "β_spread = np.empty(0)\n",
    "for j in range(M):\n",
    "    results = garch_simul(θ, T)\n",
    "    ϵ_t = results[0]\n",
    "    estimation = estim_garch(θ0, ϵ_t)\n",
    "    θ_hat = estimation[0]\n",
    "    ω_hat = θ_hat[0]\n",
    "    α_hat = θ_hat[1]\n",
    "    β_hat = θ_hat[2]\n",
    "    ω_spread = np.append(ω_spread, ω_hat - ω)\n",
    "    α_spread = np.append(α_spread, α_hat - α)\n",
    "    β_spread = np.append(β_spread, β_hat - β)"
   ]
  },
  {
   "cell_type": "code",
   "execution_count": 84,
   "id": "0711e0b0",
   "metadata": {},
   "outputs": [
    {
     "data": {
      "text/plain": [
       "{'divide': 'ignore', 'over': 'warn', 'under': 'ignore', 'invalid': 'warn'}"
      ]
     },
     "execution_count": 84,
     "metadata": {},
     "output_type": "execute_result"
    },
    {
     "data": {
      "image/png": "[encoded data removed]",
      "text/plain": [
       "<Figure size 432x288 with 1 Axes>"
      ]
     },
     "metadata": {
      "needs_background": "light"
     },
     "output_type": "display_data"
    }
   ],
   "source": [
    "plt.boxplot(ω_spread)\n",
    "np.seterr(divide = 'ignore') "
   ]
  },
  {
   "cell_type": "code",
   "execution_count": 85,
   "id": "6321f284",
   "metadata": {},
   "outputs": [
    {
     "data": {
      "text/plain": [
       "{'divide': 'ignore', 'over': 'warn', 'under': 'ignore', 'invalid': 'warn'}"
      ]
     },
     "execution_count": 85,
     "metadata": {},
     "output_type": "execute_result"
    },
    {
     "data": {
      "image/png": "[encoded data removed]",
      "text/plain": [
       "<Figure size 432x288 with 1 Axes>"
      ]
     },
     "metadata": {
      "needs_background": "light"
     },
     "output_type": "display_data"
    }
   ],
   "source": [
    "plt.boxplot(α_spread)\n",
    "np.seterr(divide = 'ignore') "
   ]
  },
  {
   "cell_type": "code",
   "execution_count": 86,
   "id": "2a92a4bc",
   "metadata": {},
   "outputs": [
    {
     "data": {
      "text/plain": [
       "{'divide': 'ignore', 'over': 'warn', 'under': 'ignore', 'invalid': 'warn'}"
      ]
     },
     "execution_count": 86,
     "metadata": {},
     "output_type": "execute_result"
    },
    {
     "data": {
      "image/png": "[encoded data removed]",
      "text/plain": [
       "<Figure size 432x288 with 1 Axes>"
      ]
     },
     "metadata": {
      "needs_background": "light"
     },
     "output_type": "display_data"
    }
   ],
   "source": [
    "plt.boxplot(β_spread)\n",
    "np.seterr(divide = 'ignore') "
   ]
  },
  {
   "cell_type": "code",
   "execution_count": null,
   "id": "b62dc3f3",
   "metadata": {},
   "outputs": [],
   "source": []
  }
 ],
 "metadata": {
  "kernelspec": {
   "display_name": "Python 3 (ipykernel)",
   "language": "python",
   "name": "python3"
  },
  "language_info": {
   "codemirror_mode": {
    "name": "ipython",
    "version": 3
   },
   "file_extension": ".py",
   "mimetype": "text/x-python",
   "name": "python",
   "nbconvert_exporter": "python",
   "pygments_lexer": "ipython3",
   "version": "3.9.7"
  }
 },
 "nbformat": 4,
 "nbformat_minor": 5
}
