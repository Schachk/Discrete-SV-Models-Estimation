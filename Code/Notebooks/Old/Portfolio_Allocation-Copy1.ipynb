{
 "cells": [
  {
   "cell_type": "markdown",
   "id": "1ae41d89",
   "metadata": {},
   "source": [
    "## Portfolio Allocation - Stochastic Volatility"
   ]
  },
  {
   "cell_type": "code",
   "execution_count": 39,
   "id": "6527931e",
   "metadata": {},
   "outputs": [],
   "source": [
    "ILLUS_PATH <- 'D:/Softwares/GitHub/Discrete-SV-Models-Estimation/Code/Illustration'"
   ]
  },
  {
   "cell_type": "code",
   "execution_count": 41,
   "id": "1873ae3c",
   "metadata": {},
   "outputs": [
    {
     "ename": "ERROR",
     "evalue": "Error in library(mvtnorm): there is no package called 'mvtnorm'\n",
     "output_type": "error",
     "traceback": [
      "Error in library(mvtnorm): there is no package called 'mvtnorm'\nTraceback:\n",
      "1. library(mvtnorm)"
     ]
    }
   ],
   "source": [
    "library(ggplot2)\n",
    "library(dplyr)\n",
    "library(tidyquant)\n",
    "library(stats)\n",
    "library(tibble)\n",
    "library(base)\n",
    "library(tidyverse)\n",
    "library(reshape2)\n",
    "library(mvtnorm)\n",
    "library(pbivnorm)\n",
    "library(MASS)"
   ]
  },
  {
   "cell_type": "markdown",
   "id": "fb070cdd",
   "metadata": {},
   "source": [
    "#### 0) Model"
   ]
  },
  {
   "cell_type": "code",
   "execution_count": 42,
   "id": "70676b28",
   "metadata": {},
   "outputs": [],
   "source": [
    "sv_simul_can <- function(theta, log_h0){\n",
    "    epsilon <- c()\n",
    "    log_h <- c()\n",
    "    omega <- theta[1]\n",
    "    beta <- theta[2]\n",
    "    sigma <- theta[3]\n",
    "    eta <- rnorm(T, 0, 1)\n",
    "    nu <- rnorm(T, 0, 1)\n",
    "    \n",
    "    log_h[1] <- omega + beta * log_h0 + sigma * nu[1]\n",
    "    epsilon[1] <- sqrt(exp(log_h[1])) * eta[1]\n",
    "    \n",
    "    for (t in 2:T){\n",
    "        log_h[t] <- omega + beta * log_h[t-1] + sigma * nu[t]\n",
    "        epsilon[t] <- sqrt(exp(log_h[t])) * eta[t]\n",
    "    }\n",
    "    list(epsilon, log_h)\n",
    "}"
   ]
  },
  {
   "cell_type": "code",
   "execution_count": 43,
   "id": "b814a244",
   "metadata": {},
   "outputs": [],
   "source": [
    "# Inputs\n",
    "# omega <- -0.736\n",
    "# beta <- 0.9\n",
    "# sigma <- 0.363\n",
    "\n",
    "omega <- 0\n",
    "beta <- 0.99\n",
    "sigma <- 0.2\n",
    "\n",
    "theta <- c(omega, beta, sigma)\n",
    "log_h0 <- omega\n",
    "T <- 2000"
   ]
  },
  {
   "cell_type": "code",
   "execution_count": 44,
   "id": "b032c278",
   "metadata": {},
   "outputs": [],
   "source": [
    "set.seed(123)\n",
    "data <- sv_simul_can(theta, log_h0)\n",
    "epsilon <- unlist(data[1])\n",
    "log_h <- unlist(data[2])"
   ]
  },
  {
   "cell_type": "code",
   "execution_count": 45,
   "id": "91dcd20d",
   "metadata": {},
   "outputs": [
    {
     "data": {
      "image/png": "[encoded data removed]",
      "text/plain": [
       "plot without title"
      ]
     },
     "metadata": {
      "image/png": {
       "height": 250,
       "width": 500
      }
     },
     "output_type": "display_data"
    }
   ],
   "source": [
    "selection <- 1:500\n",
    "plot(epsilon[selection], type='l', col='black')\n",
    "lines(sqrt(exp(log_h))[selection], type='l', col='red')"
   ]
  },
  {
   "cell_type": "code",
   "execution_count": 46,
   "id": "51292c5b",
   "metadata": {},
   "outputs": [],
   "source": [
    "# Input\n",
    "n <- 500\n",
    "selection <- 1:n\n",
    "\n",
    "# Load Data\n",
    "t<-1:n\n",
    "col_names<-c('t', 'returns', 'volatility')\n",
    "confidence_tab <- as.data.frame(epsilon[selection])\n",
    "confidence_tab <- cbind(confidence_tab, sqrt(exp(log_h))[selection])\n",
    "confidence_tab <- cbind(t, confidence_tab)\n",
    "colnames(confidence_tab) <- col_names\n",
    "confidence_tab <- melt(confidence_tab, id=\"t\")"
   ]
  },
  {
   "cell_type": "code",
   "execution_count": 47,
   "id": "5bb05c98",
   "metadata": {},
   "outputs": [],
   "source": [
    "options(repr.plot.width = 10, repr.plot.height = 5, repr.plot.res = 100)\n",
    "confidence_chart <-ggplot(data=confidence_tab, aes(x=t, y=value, colour=variable))+\n",
    "    geom_line(lwd=0.5)+\n",
    "    theme_classic()+\n",
    "    scale_color_manual(name = \"Variables\", values= c('black', 'red', 'blue'),\n",
    "                       labels = c('Returns', 'Volatility', 'Estimated Volatility'))+\n",
    "    labs(title = \"Returns vs. Stochastic Volatility\"\n",
    "         , x = \"Time\", y=\"Value\")+\n",
    "    theme(\n",
    "        axis.title = element_text(size =12),\n",
    "        axis.text = element_text(size = 12, color = 'black')\n",
    "    )"
   ]
  },
  {
   "cell_type": "code",
   "execution_count": 48,
   "id": "cfb27ae4",
   "metadata": {},
   "outputs": [
    {
     "data": {
      "image/png": "[encoded data removed]",
      "text/plain": [
       "plot without title"
      ]
     },
     "metadata": {
      "image/png": {
       "height": 250,
       "width": 500
      }
     },
     "output_type": "display_data"
    }
   ],
   "source": [
    "confidence_chart"
   ]
  },
  {
   "cell_type": "code",
   "execution_count": 49,
   "id": "866e4a32",
   "metadata": {},
   "outputs": [],
   "source": [
    "# pdf(file=paste0(ILLUS_PATH, \".pdf\"),width=10, height=5)\n",
    "# confidence_chart\n",
    "# dev.off()"
   ]
  },
  {
   "cell_type": "markdown",
   "id": "18681088",
   "metadata": {},
   "source": [
    "#### I) QML Method"
   ]
  },
  {
   "cell_type": "code",
   "execution_count": 50,
   "id": "73707621",
   "metadata": {},
   "outputs": [],
   "source": [
    "obj_sv <- function(theta, epsilon){\n",
    "    alpha_t <- c()\n",
    "    P_t <- c()\n",
    "    F_t <- c()\n",
    "    K_t <- c()\n",
    "    omega <- theta[1]\n",
    "    beta <- theta[2]\n",
    "    sigma <- theta[3]\n",
    "    mu_Z <- -1.270\n",
    "    sigma_Z <- sqrt(pi**2/2)\n",
    "    \n",
    "    a0 <- 0\n",
    "    beta0 <- 0.8\n",
    "    P0 <- sigma**2\n",
    "    F0 <- P0 + sigma_Z**2\n",
    "    \n",
    "    T <- length(epsilon)\n",
    "    y_t <- log(epsilon**2)\n",
    "    \n",
    "    alpha_t[1] <- beta0 * a0 + omega\n",
    "    P_t[1] <- beta**2 * P0 + sigma**2\n",
    "    K_t[1] <- beta * P0 * 1/F0\n",
    "    \n",
    "    for (t in 2:T){\n",
    "        F_t[t-1] <- P_t[t-1] + sigma_Z**2\n",
    "        K_t[t] <- beta * P_t[t-1] * 1/F_t[t-1]\n",
    "        alpha_t[t] <- beta * alpha_t[t-1] + K_t[t] *\n",
    "            (y_t[t-1] - alpha_t[t-1] - mu_Z) + omega\n",
    "        P_t[t] <- beta**2 * P_t[t-1] - K_t[t]**2 * F_t[t-1] + sigma**2\n",
    "    }\n",
    "    F_t[T] <- P_t[T-1] + sigma_Z**2\n",
    "    qml <- -T/2 * log(2*pi) - 1/2*sum(log(F_t) +\n",
    "        (log(epsilon**2) - alpha_t - mu_Z)**2 / F_t)\n",
    "    -qml\n",
    "}"
   ]
  },
  {
   "cell_type": "code",
   "execution_count": 51,
   "id": "75a9d03c",
   "metadata": {},
   "outputs": [],
   "source": [
    "estim_sv <- function(theta0, epsilon){\n",
    "    valinit <- theta0\n",
    "    lower <- c(-Inf, 0, 0)\n",
    "    upper <- c(Inf, 0.999, Inf)\n",
    "    res <- nlminb(valinit, obj_sv, lower=lower,\n",
    "                  upper=upper, epsilon=epsilon)\n",
    "    theta_hat <- res$par[1:3]\n",
    "    theta_hat\n",
    "}"
   ]
  },
  {
   "cell_type": "code",
   "execution_count": 52,
   "id": "62268615",
   "metadata": {},
   "outputs": [],
   "source": [
    "# Estimation Inputs\n",
    "omega0 <- -0.6\n",
    "beta0 <- 0.9\n",
    "sigma0 <- 0.5\n",
    "theta0 <- c(omega0, beta0, sigma0)"
   ]
  },
  {
   "cell_type": "code",
   "execution_count": 53,
   "id": "9ed492c3",
   "metadata": {},
   "outputs": [
    {
     "data": {
      "text/html": [
       "<style>\n",
       ".list-inline {list-style: none; margin:0; padding: 0}\n",
       ".list-inline>li {display: inline-block}\n",
       ".list-inline>li:not(:last-child)::after {content: \"\\00b7\"; padding: 0 .5ex}\n",
       "</style>\n",
       "<ol class=list-inline><li>-0.00451216208679353</li><li>0.985746469427502</li><li>0.24266570907554</li></ol>\n"
      ],
      "text/latex": [
       "\\begin{enumerate*}\n",
       "\\item -0.00451216208679353\n",
       "\\item 0.985746469427502\n",
       "\\item 0.24266570907554\n",
       "\\end{enumerate*}\n"
      ],
      "text/markdown": [
       "1. -0.00451216208679353\n",
       "2. 0.985746469427502\n",
       "3. 0.24266570907554\n",
       "\n",
       "\n"
      ],
      "text/plain": [
       "[1] -0.004512162  0.985746469  0.242665709"
      ]
     },
     "metadata": {},
     "output_type": "display_data"
    }
   ],
   "source": [
    "estimation <- estim_sv(theta0, epsilon)\n",
    "theta_hat <- estimation\n",
    "theta_hat"
   ]
  },
  {
   "cell_type": "code",
   "execution_count": 54,
   "id": "cf9dc1d5",
   "metadata": {},
   "outputs": [],
   "source": [
    "alpha_t <- c()\n",
    "P_t <- c()\n",
    "F_t <- c()\n",
    "K_t <- c()\n",
    "omega <- theta_hat[1]\n",
    "beta <- theta_hat[2]\n",
    "sigma <- theta_hat[3]\n",
    "mu_Z <- -1.270\n",
    "sigma_Z <- sqrt(pi**2/2)\n",
    "    \n",
    "a0 <- 0\n",
    "beta0 <- 0.8\n",
    "P0 <- sigma**2\n",
    "F0 <- P0 + sigma_Z**2\n",
    "    \n",
    "T <- length(epsilon)\n",
    "y_t <- log(epsilon**2)\n",
    "    \n",
    "alpha_t[1] <- beta0 * a0 + omega\n",
    "P_t[1] <- beta**2 * P0 + sigma**2\n",
    "K_t[1] <- beta * P0 * 1/F0\n",
    "    \n",
    "for (t in 2:T){\n",
    "    F_t[t-1] <- P_t[t-1] + sigma_Z**2\n",
    "    K_t[t] <- beta * P_t[t-1] * 1/F_t[t-1]\n",
    "    alpha_t[t] <- beta * alpha_t[t-1] + K_t[t] *\n",
    "            (y_t[t-1] - alpha_t[t-1] - mu_Z) + omega\n",
    "    P_t[t] <- beta**2 * P_t[t-1] - K_t[t]**2 * F_t[t-1] + sigma**2\n",
    "}"
   ]
  },
  {
   "cell_type": "code",
   "execution_count": 55,
   "id": "a3a34e18",
   "metadata": {},
   "outputs": [],
   "source": [
    "# Input\n",
    "n <- 500\n",
    "selection <- 1:n\n",
    "\n",
    "# Load Data\n",
    "t<-1:n\n",
    "col_names<-c('t', 'returns', 'volatility')\n",
    "confidence_tab <- as.data.frame(epsilon[selection])\n",
    "confidence_tab <- cbind(confidence_tab, sqrt(exp(log_h))[selection])\n",
    "confidence_tab <- cbind(confidence_tab, sqrt(exp(alpha_t))[selection])\n",
    "confidence_tab <- cbind(t, confidence_tab)\n",
    "colnames(confidence_tab) <- col_names\n",
    "confidence_tab <- melt(confidence_tab, id=\"t\")"
   ]
  },
  {
   "cell_type": "code",
   "execution_count": 56,
   "id": "330d07f5",
   "metadata": {},
   "outputs": [],
   "source": [
    "options(repr.plot.width = 10, repr.plot.height = 5, repr.plot.res = 100)\n",
    "confidence_chart <-ggplot(data=confidence_tab, aes(x=t, y=value, colour=variable))+\n",
    "    geom_line(lwd=0.5)+\n",
    "    theme_classic()+\n",
    "    scale_color_manual(name = \"Variables\", values= c('black', 'red', 'blue'),\n",
    "                       labels = c('Returns', 'Volatility', 'Estimated Volatility'))+\n",
    "    labs(title = \"Returns vs. Stochastic Volatility\"\n",
    "         , x = \"Time\", y=\"Value\")+\n",
    "    theme(\n",
    "        axis.title = element_text(size =12),\n",
    "        axis.text = element_text(size = 12, color = 'black')\n",
    "    )"
   ]
  },
  {
   "cell_type": "code",
   "execution_count": 57,
   "id": "17436d2a",
   "metadata": {},
   "outputs": [
    {
     "data": {
      "image/png": "[encoded data removed]",
      "text/plain": [
       "plot without title"
      ]
     },
     "metadata": {
      "image/png": {
       "height": 250,
       "width": 500
      }
     },
     "output_type": "display_data"
    }
   ],
   "source": [
    "confidence_chart"
   ]
  },
  {
   "cell_type": "code",
   "execution_count": 58,
   "id": "43321e89",
   "metadata": {},
   "outputs": [
    {
     "data": {
      "text/html": [
       "<strong>png:</strong> 2"
      ],
      "text/latex": [
       "\\textbf{png:} 2"
      ],
      "text/markdown": [
       "**png:** 2"
      ],
      "text/plain": [
       "png \n",
       "  2 "
      ]
     },
     "metadata": {},
     "output_type": "display_data"
    }
   ],
   "source": [
    "pdf(file=paste0(ILLUS_PATH, \"QML.pdf\"),width=10, height=5)\n",
    "confidence_chart\n",
    "dev.off()"
   ]
  }
 ],
 "metadata": {
  "kernelspec": {
   "display_name": "R",
   "language": "R",
   "name": "ir"
  },
  "language_info": {
   "codemirror_mode": "r",
   "file_extension": ".r",
   "mimetype": "text/x-r-source",
   "name": "R",
   "pygments_lexer": "r",
   "version": "4.1.2"
  }
 },
 "nbformat": 4,
 "nbformat_minor": 5
}
