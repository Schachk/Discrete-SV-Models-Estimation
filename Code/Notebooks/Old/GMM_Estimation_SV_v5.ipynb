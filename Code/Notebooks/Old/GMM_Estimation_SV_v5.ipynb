{
 "cells": [
  {
   "cell_type": "markdown",
   "id": "a6135927",
   "metadata": {},
   "source": [
    "### Generalized Methods of Moments Estimation of Stochastic Volatility Models - Andersen & Sorensen (1996)"
   ]
  },
  {
   "cell_type": "code",
   "execution_count": null,
   "id": "5d1e37dc",
   "metadata": {},
   "outputs": [],
   "source": []
  },
  {
   "cell_type": "markdown",
   "id": "4918c443",
   "metadata": {},
   "source": [
    "#### TODO: Find the correct lag number & find the best (or a correct) weighting matrix estimator"
   ]
  },
  {
   "cell_type": "code",
   "execution_count": 1018,
   "id": "d44c5045",
   "metadata": {},
   "outputs": [],
   "source": [
    "USER_PATH <- \"D:/Softwares/\"\n",
    "USER_PATH2 <- \"D:/Softwares/GitHub/Discrete-SV-Models-Estimation/Code/\" # Change only here\n",
    "ILLUS_PATH <- paste0(USER_PATH2, \"Illustration/\")\n",
    "DATA_INPUT_PATH <- paste0(USER_PATH,\"GitHub/Systemic_Risk_Measures/Code/Python/Data_Extraction/\")\n",
    "FUNCTION_PATH <- paste0(USER_PATH, \"GitHub/Systemic_Risk_Measures/Code/R/Functions/\")"
   ]
  },
  {
   "cell_type": "code",
   "execution_count": 1019,
   "id": "e598fc5f",
   "metadata": {},
   "outputs": [],
   "source": [
    "source(paste0(FUNCTION_PATH, \"CoVaR_project2.R\"))\n",
    "source(paste0(FUNCTION_PATH, \"CoVaR_Functions.R\"))"
   ]
  },
  {
   "cell_type": "code",
   "execution_count": 1043,
   "id": "bcf4978f",
   "metadata": {},
   "outputs": [
    {
     "name": "stderr",
     "output_type": "stream",
     "text": [
      "\n",
      "Please cite as: \n",
      "\n",
      "\n",
      " Hlavac, Marek (2022). stargazer: Well-Formatted Regression and Summary Statistics Tables.\n",
      "\n",
      " R package version 5.2.3. https://CRAN.R-project.org/package=stargazer \n",
      "\n",
      "\n"
     ]
    }
   ],
   "source": [
    "library(MASS)\n",
    "library(stargazer)"
   ]
  },
  {
   "cell_type": "code",
   "execution_count": 975,
   "id": "9e346430",
   "metadata": {},
   "outputs": [],
   "source": [
    "sv_simul <- function(theta, log_sigma0, T){\n",
    "    y_t <- c()\n",
    "    log_sigma2 <- c()\n",
    "    omega <- theta[1]\n",
    "    beta <- theta[2]\n",
    "    sigma_u <- theta[3]\n",
    "    \n",
    "    mean_m <- matrix(c(0,0), nrow=2, ncol=1)\n",
    "    std_m <- matrix(c(1, 0, 0, 1), nrow=2, ncol=2)\n",
    "    resid <- mvrnorm(T, mean_m, std_m)\n",
    "    z_t <- resid[,1]\n",
    "    u_t <- resid[,2]\n",
    "    \n",
    "    log_sigma2[1] <- omega + beta * log_sigma0 + sigma_u * u_t[1]\n",
    "    y_t[1] <- sqrt(exp(log_sigma2[1])) * z_t[1]\n",
    "    \n",
    "    for (t in 2:T){\n",
    "        log_sigma2[t] <- omega + beta * log_sigma2[t-1] + sigma_u * u_t[t]\n",
    "        y_t[t] <- sqrt(exp(log_sigma2[t])) * z_t[t]\n",
    "    }\n",
    "\n",
    "    sigma_t <- sqrt(exp(log_sigma2))\n",
    "    \n",
    "    list(y_t, sigma_t)\n",
    "}"
   ]
  },
  {
   "cell_type": "code",
   "execution_count": 976,
   "id": "7fb0f1f6",
   "metadata": {},
   "outputs": [],
   "source": [
    "# Inputs\n",
    "T <- 2000\n",
    "omega <- -0.736\n",
    "beta <- 0.9\n",
    "sigma_u <- 0.363\n",
    "theta_0 <- c(omega, beta, sigma_u) \n",
    "log_sigma0 <- omega"
   ]
  },
  {
   "cell_type": "code",
   "execution_count": 977,
   "id": "675b4332",
   "metadata": {},
   "outputs": [],
   "source": [
    "set.seed(2)\n",
    "data <- sv_simul(theta_0, log_sigma0, T)\n",
    "y_t <- unlist(data[1])\n",
    "sigma_t <- unlist(data[2])"
   ]
  },
  {
   "cell_type": "code",
   "execution_count": 978,
   "id": "3a40da51",
   "metadata": {},
   "outputs": [
    {
     "data": {
      "image/png": "[encoded data removed]",
      "text/plain": [
       "plot without title"
      ]
     },
     "metadata": {
      "image/png": {
       "height": 420,
       "width": 420
      }
     },
     "output_type": "display_data"
    }
   ],
   "source": [
    "selection <- 1:300\n",
    "plot(y_t[selection], type='l')\n",
    "lines(sigma_t[selection], type='l', col='red')"
   ]
  },
  {
   "cell_type": "markdown",
   "id": "2da46225",
   "metadata": {},
   "source": [
    "### Estimation Method"
   ]
  },
  {
   "cell_type": "markdown",
   "id": "89a30e8b",
   "metadata": {},
   "source": [
    "###### Analytical Expression"
   ]
  },
  {
   "cell_type": "code",
   "execution_count": 979,
   "id": "228d823a",
   "metadata": {},
   "outputs": [],
   "source": [
    "simple_moment <- function(r, mu, sigma2){\n",
    "    result <- exp(r * mu/2 + r**2 * sigma2 / 8)\n",
    "    result\n",
    "}"
   ]
  },
  {
   "cell_type": "code",
   "execution_count": 980,
   "id": "36a074bc",
   "metadata": {},
   "outputs": [],
   "source": [
    "double_moment <- function(i, r, s, mu, sigma2){\n",
    "    moment1 <- simple_moment(r, mu, sigma2)\n",
    "    moment2 <- simple_moment(s, mu, sigma2)\n",
    "    result <- moment1 * moment2 * exp(r * s * beta**i * sigma2/4)\n",
    "    result\n",
    "}"
   ]
  },
  {
   "cell_type": "code",
   "execution_count": 981,
   "id": "cf2f2c15",
   "metadata": {},
   "outputs": [
    {
     "data": {
      "text/html": [
       "<style>\n",
       ".list-inline {list-style: none; margin:0; padding: 0}\n",
       ".list-inline>li {display: inline-block}\n",
       ".list-inline>li:not(:last-child)::after {content: \"\\00b7\"; padding: 0 .5ex}\n",
       "</style>\n",
       "<ol class=list-inline><li>-0.985</li><li>0.863</li><li>0.48</li></ol>\n"
      ],
      "text/latex": [
       "\\begin{enumerate*}\n",
       "\\item -0.985\n",
       "\\item 0.863\n",
       "\\item 0.48\n",
       "\\end{enumerate*}\n"
      ],
      "text/markdown": [
       "1. -0.985\n",
       "2. 0.863\n",
       "3. 0.48\n",
       "\n",
       "\n"
      ],
      "text/plain": [
       "[1] -0.985  0.863  0.480"
      ]
     },
     "metadata": {},
     "output_type": "display_data"
    }
   ],
   "source": [
    "theta"
   ]
  },
  {
   "cell_type": "code",
   "execution_count": 982,
   "id": "46182eec",
   "metadata": {},
   "outputs": [
    {
     "data": {
      "text/html": [
       "0.693521052631579"
      ],
      "text/latex": [
       "0.693521052631579"
      ],
      "text/markdown": [
       "0.693521052631579"
      ],
      "text/plain": [
       "[1] 0.6935211"
      ]
     },
     "metadata": {},
     "output_type": "display_data"
    }
   ],
   "source": [
    "mu <- omega / (1 - beta)\n",
    "sigma2 <- sigma_u**2 / (1-beta**2)\n",
    "sigma2"
   ]
  },
  {
   "cell_type": "code",
   "execution_count": 983,
   "id": "cc1d69c5",
   "metadata": {},
   "outputs": [],
   "source": [
    "theta_init <- c(-0.6, 0.85, 0.2)\n",
    "theta_conj <- c(-0.597, 0.922, 0.7)\n",
    "theta_conj2 <- c(-0.985, 0.863, 0.48)\n",
    "mom_nb <- 24\n",
    "L_T <- 3000"
   ]
  },
  {
   "cell_type": "code",
   "execution_count": 984,
   "id": "00dcd6f0",
   "metadata": {},
   "outputs": [],
   "source": [
    "   Nabla <- matrix(0, nrow=24, ncol=24)\n",
    "    Gamma_j <- matrix(0, nrow=24*(2*(T-1)), ncol=24)    \n",
    "\n",
    "    theta <- theta_conj2\n",
    "    T <- length(y_t)\n",
    "    omega <- theta[1]\n",
    "    beta <- theta[2]\n",
    "    sigma_u <- theta[3]\n",
    "\n",
    "    A_vec <- matrix(0, nrow=mom_nb, ncol=1)\n",
    "    M_T <- matrix(0, nrow=mom_nb, ncol=1)\n",
    "    m_t <- matrix(0, nrow=mom_nb, ncol=T)\n",
    "\n",
    "    mu <- omega / (1 - beta)\n",
    "    sigma2 <- sigma_u**2 / (1-beta**2)\n",
    "    A_vec[1,1] <- sqrt(2/pi) * simple_moment(1, mu, sigma2)\n",
    "    A_vec[2,1] <- simple_moment(2, mu, sigma2)\n",
    "    A_vec[3,1] <- 2*sqrt(2/pi) * simple_moment(3, mu, sigma2)\n",
    "    A_vec[4,1] <- 3 * simple_moment(4, mu, sigma2)\n",
    "\n",
    "    for (i in 1:10){\n",
    "        A_vec[4+i,1] <- 2/pi * double_moment(i, 1, 1, mu, sigma2)\n",
    "        A_vec[14+i,1] <- double_moment(i, 2, 2, mu, sigma2)\n",
    "    }\n",
    "    \n",
    "    m_t[1,] <- abs(y_t)\n",
    "    m_t[2,] <- y_t**2\n",
    "    m_t[3,] <- abs(y_t**3)\n",
    "    m_t[4,] <- y_t**4\n",
    "    \n",
    "    M_T[1,] <- mean(abs(y_t))\n",
    "    M_T[2,] <- mean(y_t**2)\n",
    "    M_T[3,] <- mean(abs(y_t**3))\n",
    "    M_T[4,] <- mean(y_t**4)\n",
    "    \n",
    "    for (i in 1:10){\n",
    "        M_T[4+i,1] <- mean(abs(y_t[(i+1):T] * y_t[1:(T-i)]))\n",
    "        M_T[14+i,1] <- mean(abs(y_t[(i+1):T]**2 * y_t[1:(T-i)]**2))\n",
    "        \n",
    "        m_t[4+i,] <- abs(y_t * c(rep(0, i), y_t[1:(T-i)]))\n",
    "        m_t[14+i,] <- y_t**2 * c(rep(0, i), y_t[1:(T-i)]**2)\n",
    "    }\n",
    "    \n",
    "    # result <- mean((M_T[1:24,] - A_vec[1:24])**2)\n",
    "    Nabla <- var(t(m_t))\n",
    "    Nabla_inv <- solve(Nabla)\n",
    "    z1 <- 3\n",
    "    z2 <- 24\n",
    "    result <- as.numeric(t(M_T[z1:z2,] - A_vec[z1:z2,]) %*% Nabla_inv[z1:z2,z1:z2] %*%\n",
    "                         (M_T[z1:z2,] - A_vec[z1:z2,]))"
   ]
  },
  {
   "cell_type": "code",
   "execution_count": 985,
   "id": "be8a8eb3",
   "metadata": {},
   "outputs": [
    {
     "data": {
      "text/html": [
       "3.56942803954983"
      ],
      "text/latex": [
       "3.56942803954983"
      ],
      "text/markdown": [
       "3.56942803954983"
      ],
      "text/plain": [
       "[1] 3.569428"
      ]
     },
     "metadata": {},
     "output_type": "display_data"
    }
   ],
   "source": [
    "result"
   ]
  },
  {
   "cell_type": "code",
   "execution_count": 986,
   "id": "29dbb405",
   "metadata": {},
   "outputs": [
    {
     "data": {
      "image/png": "[encoded data removed]",
      "text/plain": [
       "plot without title"
      ]
     },
     "metadata": {
      "image/png": {
       "height": 420,
       "width": 420
      }
     },
     "output_type": "display_data"
    }
   ],
   "source": [
    "plot(M_T - A_vec, type='l', col='black')"
   ]
  },
  {
   "cell_type": "code",
   "execution_count": 987,
   "id": "b86fd6dd",
   "metadata": {},
   "outputs": [
    {
     "data": {
      "text/html": [
       "7.87236960172723e-08"
      ],
      "text/latex": [
       "7.87236960172723e-08"
      ],
      "text/markdown": [
       "7.87236960172723e-08"
      ],
      "text/plain": [
       "[1] 7.87237e-08"
      ]
     },
     "metadata": {},
     "output_type": "display_data"
    }
   ],
   "source": [
    "mean((M_T-A_vec)**2)"
   ]
  },
  {
   "cell_type": "code",
   "execution_count": 988,
   "id": "061036e5",
   "metadata": {},
   "outputs": [
    {
     "data": {
      "image/png": "[encoded data removed]",
      "text/plain": [
       "plot without title"
      ]
     },
     "metadata": {
      "image/png": {
       "height": 420,
       "width": 420
      }
     },
     "output_type": "display_data"
    }
   ],
   "source": [
    "plot(A_vec, type='l', col='black')"
   ]
  },
  {
   "cell_type": "code",
   "execution_count": 989,
   "id": "6b7a59a2",
   "metadata": {},
   "outputs": [
    {
     "data": {
      "image/png": "[encoded data removed]",
      "text/plain": [
       "plot without title"
      ]
     },
     "metadata": {
      "image/png": {
       "height": 420,
       "width": 420
      }
     },
     "output_type": "display_data"
    }
   ],
   "source": [
    "plot(M_T, type='l', col='black')"
   ]
  },
  {
   "cell_type": "code",
   "execution_count": null,
   "id": "4f38d0a6",
   "metadata": {},
   "outputs": [],
   "source": []
  },
  {
   "cell_type": "code",
   "execution_count": 990,
   "id": "d11c3c44",
   "metadata": {},
   "outputs": [
    {
     "data": {
      "text/html": [
       "1e-07"
      ],
      "text/latex": [
       "1e-07"
      ],
      "text/markdown": [
       "1e-07"
      ],
      "text/plain": [
       "[1] 1e-07"
      ]
     },
     "metadata": {},
     "output_type": "display_data"
    },
    {
     "data": {
      "text/html": [
       "1e-04"
      ],
      "text/latex": [
       "1e-04"
      ],
      "text/markdown": [
       "1e-04"
      ],
      "text/plain": [
       "[1] 1e-04"
      ]
     },
     "metadata": {},
     "output_type": "display_data"
    }
   ],
   "source": [
    "# T = 2,000\n",
    " # theta conj2  /// 0.0396732394274519\n",
    "1e-7 # theta_0  /// 0.396847769992839\n",
    "1e-4 # theta_init"
   ]
  },
  {
   "cell_type": "code",
   "execution_count": null,
   "id": "543a8a68",
   "metadata": {},
   "outputs": [],
   "source": []
  },
  {
   "cell_type": "code",
   "execution_count": null,
   "id": "eae9663f",
   "metadata": {},
   "outputs": [],
   "source": []
  },
  {
   "cell_type": "code",
   "execution_count": null,
   "id": "f5dfb763",
   "metadata": {},
   "outputs": [],
   "source": []
  },
  {
   "cell_type": "code",
   "execution_count": 991,
   "id": "9265c660",
   "metadata": {},
   "outputs": [],
   "source": [
    "obj_GMM <- function(theta, y_t){\n",
    "    \n",
    "   Nabla <- matrix(0, nrow=24, ncol=24)\n",
    "    Gamma_j <- matrix(0, nrow=24*(2*(T-1)), ncol=24)    \n",
    "\n",
    "    T <- length(y_t)\n",
    "    omega <- theta[1]\n",
    "    beta <- theta[2]\n",
    "    sigma_u <- theta[3]\n",
    "\n",
    "    A_vec <- matrix(0, nrow=mom_nb, ncol=1)\n",
    "    M_T <- matrix(0, nrow=mom_nb, ncol=1)\n",
    "    m_t <- matrix(0, nrow=mom_nb, ncol=T)\n",
    "\n",
    "    mu <- omega / (1 - beta)\n",
    "    sigma2 <- sigma_u**2 / (1-beta**2)\n",
    "    A_vec[1,1] <- sqrt(2/pi) * simple_moment(1, mu, sigma2)\n",
    "    A_vec[2,1] <- simple_moment(2, mu, sigma2)\n",
    "    A_vec[3,1] <- 2*sqrt(2/pi) * simple_moment(3, mu, sigma2)\n",
    "    A_vec[4,1] <- 3 * simple_moment(4, mu, sigma2)\n",
    "\n",
    "    for (i in 1:10){\n",
    "        A_vec[4+i,1] <- 2/pi * double_moment(i, 1, 1, mu, sigma2)\n",
    "        A_vec[14+i,1] <- double_moment(i, 2, 2, mu, sigma2)\n",
    "    }\n",
    "    \n",
    "    m_t[1,] <- abs(y_t)\n",
    "    m_t[2,] <- y_t**2\n",
    "    m_t[3,] <- abs(y_t**3)\n",
    "    m_t[4,] <- y_t**4\n",
    "    \n",
    "    M_T[1,] <- mean(abs(y_t))\n",
    "    M_T[2,] <- mean(y_t**2)\n",
    "    M_T[3,] <- mean(abs(y_t**3))\n",
    "    M_T[4,] <- mean(y_t**4)\n",
    "    \n",
    "    for (i in 1:10){\n",
    "        M_T[4+i,1] <- mean(abs(y_t[(i+1):T] * y_t[1:(T-i)]))\n",
    "        M_T[14+i,1] <- mean(abs(y_t[(i+1):T]**2 * y_t[1:(T-i)]**2))\n",
    "        \n",
    "        m_t[4+i,] <- abs(y_t * c(rep(0, i), y_t[1:(T-i)]))\n",
    "        m_t[14+i,] <- y_t**2 * c(rep(0, i), y_t[1:(T-i)]**2)\n",
    "    }\n",
    "    \n",
    "   # Nabla <- var(t(m_t))\n",
    "    Nabla <- diag(24)\n",
    "    Nabla_inv <- solve(Nabla)\n",
    "    result <- as.numeric(t(M_T - A_vec) %*% Nabla_inv %*% (M_T - A_vec))\n",
    "    # result <- t(M_T - A_vec) %*% Nabla %*% (M_T - A_vec)\n",
    "}"
   ]
  },
  {
   "cell_type": "code",
   "execution_count": 992,
   "id": "416a9743",
   "metadata": {},
   "outputs": [],
   "source": [
    "estim_GMM <- function(theta_init, y_t){\n",
    "    valinit <- theta_init\n",
    "    lower = c(-0.8, 0.3, 0.1)\n",
    "    upper = c(0, 0.95, 0.7)\n",
    "    res <- nlminb(valinit, obj_GMM, lower=lower, upper=upper, y_t=y_t)\n",
    "    omega <- res$par[1]\n",
    "    beta <- res$par[2]\n",
    "    sigma_u <- res$par[3]\n",
    "    list(coef=c(omega, beta, sigma_u))\n",
    "}"
   ]
  },
  {
   "cell_type": "markdown",
   "id": "c870cfdc",
   "metadata": {},
   "source": [
    "# Check algorithm running time\n"
   ]
  },
  {
   "cell_type": "code",
   "execution_count": 993,
   "id": "2b6c12d2",
   "metadata": {},
   "outputs": [],
   "source": [
    "start.time <- Sys.time()"
   ]
  },
  {
   "cell_type": "code",
   "execution_count": 994,
   "id": "fce69425",
   "metadata": {},
   "outputs": [],
   "source": [
    "set.seed(2)\n",
    "data <- sv_simul(theta_0, log_sigma0, T)\n",
    "y_t <- unlist(data[1])\n",
    "sigma_t <- unlist(data[2])"
   ]
  },
  {
   "cell_type": "code",
   "execution_count": 995,
   "id": "e9788138",
   "metadata": {},
   "outputs": [],
   "source": [
    "estimation <- estim_GMM(theta_init, y_t)\n",
    "theta_hat <- estimation$coef\n",
    "theta_hat <- matrix(theta_hat)"
   ]
  },
  {
   "cell_type": "code",
   "execution_count": 996,
   "id": "54ee4cdb",
   "metadata": {},
   "outputs": [
    {
     "data": {
      "text/html": [
       "<style>\n",
       ".list-inline {list-style: none; margin:0; padding: 0}\n",
       ".list-inline>li {display: inline-block}\n",
       ".list-inline>li:not(:last-child)::after {content: \"\\00b7\"; padding: 0 .5ex}\n",
       "</style>\n",
       "<ol class=list-inline><li>-0.6</li><li>0.85</li><li>0.2</li></ol>\n"
      ],
      "text/latex": [
       "\\begin{enumerate*}\n",
       "\\item -0.6\n",
       "\\item 0.85\n",
       "\\item 0.2\n",
       "\\end{enumerate*}\n"
      ],
      "text/markdown": [
       "1. -0.6\n",
       "2. 0.85\n",
       "3. 0.2\n",
       "\n",
       "\n"
      ],
      "text/plain": [
       "[1] -0.60  0.85  0.20"
      ]
     },
     "metadata": {},
     "output_type": "display_data"
    },
    {
     "data": {
      "text/html": [
       "<table class=\"dataframe\">\n",
       "<caption>A matrix: 3 × 1 of type dbl</caption>\n",
       "<tbody>\n",
       "\t<tr><td>-0.6101217</td></tr>\n",
       "\t<tr><td> 0.9178899</td></tr>\n",
       "\t<tr><td> 0.5884067</td></tr>\n",
       "</tbody>\n",
       "</table>\n"
      ],
      "text/latex": [
       "A matrix: 3 × 1 of type dbl\n",
       "\\begin{tabular}{l}\n",
       "\t -0.6101217\\\\\n",
       "\t  0.9178899\\\\\n",
       "\t  0.5884067\\\\\n",
       "\\end{tabular}\n"
      ],
      "text/markdown": [
       "\n",
       "A matrix: 3 × 1 of type dbl\n",
       "\n",
       "| -0.6101217 |\n",
       "|  0.9178899 |\n",
       "|  0.5884067 |\n",
       "\n"
      ],
      "text/plain": [
       "     [,1]      \n",
       "[1,] -0.6101217\n",
       "[2,]  0.9178899\n",
       "[3,]  0.5884067"
      ]
     },
     "metadata": {},
     "output_type": "display_data"
    },
    {
     "data": {
      "text/html": [
       "<style>\n",
       ".list-inline {list-style: none; margin:0; padding: 0}\n",
       ".list-inline>li {display: inline-block}\n",
       ".list-inline>li:not(:last-child)::after {content: \"\\00b7\"; padding: 0 .5ex}\n",
       "</style>\n",
       "<ol class=list-inline><li>-0.736</li><li>0.9</li><li>0.363</li></ol>\n"
      ],
      "text/latex": [
       "\\begin{enumerate*}\n",
       "\\item -0.736\n",
       "\\item 0.9\n",
       "\\item 0.363\n",
       "\\end{enumerate*}\n"
      ],
      "text/markdown": [
       "1. -0.736\n",
       "2. 0.9\n",
       "3. 0.363\n",
       "\n",
       "\n"
      ],
      "text/plain": [
       "[1] -0.736  0.900  0.363"
      ]
     },
     "metadata": {},
     "output_type": "display_data"
    }
   ],
   "source": [
    "theta_init\n",
    "theta_hat\n",
    "theta_0"
   ]
  },
  {
   "cell_type": "code",
   "execution_count": 997,
   "id": "ffb63a7e",
   "metadata": {},
   "outputs": [
    {
     "data": {
      "text/plain": [
       "Time difference of 2.87 secs"
      ]
     },
     "metadata": {},
     "output_type": "display_data"
    }
   ],
   "source": [
    "end.time <- Sys.time()\n",
    "time.taken<-round(end.time-start.time,2)\n",
    "time.taken"
   ]
  },
  {
   "cell_type": "markdown",
   "id": "caf5bcfc",
   "metadata": {},
   "source": [
    "#### Monte Carlo Experiment"
   ]
  },
  {
   "cell_type": "code",
   "execution_count": 998,
   "id": "aea41031",
   "metadata": {},
   "outputs": [],
   "source": [
    "# Inputs\n",
    "M <- 1000"
   ]
  },
  {
   "cell_type": "code",
   "execution_count": 999,
   "id": "034029ec",
   "metadata": {},
   "outputs": [],
   "source": [
    "spread_conso <- matrix(0, nrow=M, ncol=3)\n",
    "\n",
    "for (j in 1:M){\n",
    "    # Simulation\n",
    "    data <- sv_simul(theta_0, log_sigma0, T)\n",
    "    y_t <- unlist(data[1])\n",
    "    sigma_t <- unlist(data[2])\n",
    "    \n",
    "    estimation <- estim_GMM(theta_init, y_t)\n",
    "    theta_hat <- estimation$coef\n",
    "    theta_hat <- matrix(theta_hat)\n",
    "    \n",
    "    spread_conso[j,] <- theta_hat - theta_0\n",
    "}"
   ]
  },
  {
   "cell_type": "code",
   "execution_count": 1002,
   "id": "d2eb3fe2",
   "metadata": {},
   "outputs": [
    {
     "data": {
      "image/png": "[encoded data removed]",
      "text/plain": [
       "plot without title"
      ]
     },
     "metadata": {
      "image/png": {
       "height": 420,
       "width": 420
      }
     },
     "output_type": "display_data"
    },
    {
     "data": {
      "image/png": "[encoded data removed]",
      "text/plain": [
       "plot without title"
      ]
     },
     "metadata": {
      "image/png": {
       "height": 420,
       "width": 420
      }
     },
     "output_type": "display_data"
    },
    {
     "data": {
      "image/png": "[encoded data removed]",
      "text/plain": [
       "plot without title"
      ]
     },
     "metadata": {
      "image/png": {
       "height": 420,
       "width": 420
      }
     },
     "output_type": "display_data"
    }
   ],
   "source": [
    "boxplot(spread_conso[,1])\n",
    "boxplot(spread_conso[,2])\n",
    "boxplot(sqrt(spread_conso[,3] + theta_0[3]) - sqrt(theta_0[3]))"
   ]
  },
  {
   "cell_type": "code",
   "execution_count": 1010,
   "id": "783ddf1d",
   "metadata": {},
   "outputs": [
    {
     "data": {
      "text/html": [
       "0.107665346907397"
      ],
      "text/latex": [
       "0.107665346907397"
      ],
      "text/markdown": [
       "0.107665346907397"
      ],
      "text/plain": [
       "[1] 0.1076653"
      ]
     },
     "metadata": {},
     "output_type": "display_data"
    },
    {
     "data": {
      "text/html": [
       "0.016469710239447"
      ],
      "text/latex": [
       "0.016469710239447"
      ],
      "text/markdown": [
       "0.016469710239447"
      ],
      "text/plain": [
       "[1] 0.01646971"
      ]
     },
     "metadata": {},
     "output_type": "display_data"
    },
    {
     "data": {
      "text/html": [
       "0.105778440592245"
      ],
      "text/latex": [
       "0.105778440592245"
      ],
      "text/markdown": [
       "0.105778440592245"
      ],
      "text/plain": [
       "[1] 0.1057784"
      ]
     },
     "metadata": {},
     "output_type": "display_data"
    }
   ],
   "source": [
    "mean(abs(spread_conso[,1]))\n",
    "mean(abs(spread_conso[,2]))\n",
    "mean(abs((sqrt(spread_conso[,3] + theta_0[3]) - sqrt(theta_0[3]))))"
   ]
  },
  {
   "cell_type": "code",
   "execution_count": 1007,
   "id": "8f8cab67",
   "metadata": {},
   "outputs": [
    {
     "data": {
      "text/html": [
       "0.0455683606800008"
      ],
      "text/latex": [
       "0.0455683606800008"
      ],
      "text/markdown": [
       "0.0455683606800008"
      ],
      "text/plain": [
       "[1] 0.04556836"
      ]
     },
     "metadata": {},
     "output_type": "display_data"
    },
    {
     "data": {
      "text/html": [
       "0.00788275513492458"
      ],
      "text/latex": [
       "0.00788275513492458"
      ],
      "text/markdown": [
       "0.00788275513492458"
      ],
      "text/plain": [
       "[1] 0.007882755"
      ]
     },
     "metadata": {},
     "output_type": "display_data"
    },
    {
     "data": {
      "text/html": [
       "0.0647801107045249"
      ],
      "text/latex": [
       "0.0647801107045249"
      ],
      "text/markdown": [
       "0.0647801107045249"
      ],
      "text/plain": [
       "[1] 0.06478011"
      ]
     },
     "metadata": {},
     "output_type": "display_data"
    }
   ],
   "source": [
    "sd(spread_conso[,1])\n",
    "sd(spread_conso[,2])\n",
    "sd((sqrt(spread_conso[,3] + theta_0[3]) - sqrt(theta_0[3])))"
   ]
  },
  {
   "cell_type": "markdown",
   "id": "e9c18864",
   "metadata": {},
   "source": [
    "### Convergence Table"
   ]
  },
  {
   "cell_type": "code",
   "execution_count": 1012,
   "id": "7ec12f2d",
   "metadata": {},
   "outputs": [
    {
     "data": {
      "text/html": [
       "<style>\n",
       ".list-inline {list-style: none; margin:0; padding: 0}\n",
       ".list-inline>li {display: inline-block}\n",
       ".list-inline>li:not(:last-child)::after {content: \"\\00b7\"; padding: 0 .5ex}\n",
       "</style>\n",
       "<ol class=list-inline><li>-0.736</li><li>0.9</li><li>0.363</li></ol>\n"
      ],
      "text/latex": [
       "\\begin{enumerate*}\n",
       "\\item -0.736\n",
       "\\item 0.9\n",
       "\\item 0.363\n",
       "\\end{enumerate*}\n"
      ],
      "text/markdown": [
       "1. -0.736\n",
       "2. 0.9\n",
       "3. 0.363\n",
       "\n",
       "\n"
      ],
      "text/plain": [
       "[1] -0.736  0.900  0.363"
      ]
     },
     "metadata": {},
     "output_type": "display_data"
    }
   ],
   "source": [
    "paper_theta <- c(-0.839, 0.887, 0.309)\n",
    "theta_0\n",
    "paper_theta_sd <- c(0.429, 0.058, 0.101)"
   ]
  },
  {
   "cell_type": "code",
   "execution_count": 1034,
   "id": "9bda3f12",
   "metadata": {},
   "outputs": [],
   "source": [
    "convergence_table <- matrix(0, nrow=3, ncol=2)\n",
    "convergence_table[,1] <- c(mean(spread_conso[,1]), mean(spread_conso[,2]),\n",
    "                           mean((sqrt(spread_conso[,3] + theta_0[3]) - sqrt(theta_0[3]))))\n",
    "convergence_table[,2] <- abs(theta_0 - paper_theta)"
   ]
  },
  {
   "cell_type": "code",
   "execution_count": 1040,
   "id": "d6e9b978",
   "metadata": {},
   "outputs": [],
   "source": [
    "convergence_table <- round_df(convergence_table, 3)\n",
    "convergence_table <- as.data.frame(convergence_table)\n",
    "row_names <- c('omega spread', 'beta_spread', 'sigma_spread')\n",
    "col_names <- c('Our Results', 'Results from\n",
    "Andersen & Sorensen')\n",
    "rownames(convergence_table) <- row_names\n",
    "colnames(convergence_table) <- col_names"
   ]
  },
  {
   "cell_type": "code",
   "execution_count": 1041,
   "id": "424d1549",
   "metadata": {},
   "outputs": [
    {
     "data": {
      "text/html": [
       "<table class=\"dataframe\">\n",
       "<caption>A data.frame: 3 × 2</caption>\n",
       "<thead>\n",
       "\t<tr><th></th><th scope=col>Our Results</th><th scope=col>Results from\n",
       "Andersen &amp; Sorensen</th></tr>\n",
       "\t<tr><th></th><th scope=col>&lt;dbl&gt;</th><th scope=col>&lt;dbl&gt;</th></tr>\n",
       "</thead>\n",
       "<tbody>\n",
       "\t<tr><th scope=row>omega spread</th><td>0.108</td><td>0.103</td></tr>\n",
       "\t<tr><th scope=row>beta_spread</th><td>0.016</td><td>0.013</td></tr>\n",
       "\t<tr><th scope=row>sigma_spread</th><td>0.105</td><td>0.054</td></tr>\n",
       "</tbody>\n",
       "</table>\n"
      ],
      "text/latex": [
       "A data.frame: 3 × 2\n",
       "\\begin{tabular}{r|ll}\n",
       "  & Our Results & Results from\n",
       "Andersen \\& Sorensen\\\\\n",
       "  & <dbl> & <dbl>\\\\\n",
       "\\hline\n",
       "\tomega spread & 0.108 & 0.103\\\\\n",
       "\tbeta\\_spread & 0.016 & 0.013\\\\\n",
       "\tsigma\\_spread & 0.105 & 0.054\\\\\n",
       "\\end{tabular}\n"
      ],
      "text/markdown": [
       "\n",
       "A data.frame: 3 × 2\n",
       "\n",
       "| <!--/--> | Our Results &lt;dbl&gt; | Results from\n",
       "Andersen &amp; Sorensen &lt;dbl&gt; |\n",
       "|---|---|---|\n",
       "| omega spread | 0.108 | 0.103 |\n",
       "| beta_spread | 0.016 | 0.013 |\n",
       "| sigma_spread | 0.105 | 0.054 |\n",
       "\n"
      ],
      "text/plain": [
       "             Our Results Results from\\nAndersen & Sorensen\n",
       "omega spread 0.108       0.103                            \n",
       "beta_spread  0.016       0.013                            \n",
       "sigma_spread 0.105       0.054                            "
      ]
     },
     "metadata": {},
     "output_type": "display_data"
    }
   ],
   "source": [
    "convergence_table"
   ]
  },
  {
   "cell_type": "code",
   "execution_count": 1044,
   "id": "d80fbfbd",
   "metadata": {},
   "outputs": [
    {
     "name": "stdout",
     "output_type": "stream",
     "text": [
      "\n",
      "% Table created by stargazer v.5.2.3 by Marek Hlavac, Social Policy Institute. E-mail: marek.hlavac at gmail.com\n",
      "% Date and time: Fri, Sep 09, 2022 - 8:32:40 PM\n",
      "\\begin{table}[!htbp] \\centering \n",
      "  \\caption{Consistency Result} \n",
      "  \\label{} \n",
      "\\begin{tabular}{@{\\extracolsep{5pt}} ccc} \n",
      "\\\\[-1.8ex]\\hline \n",
      "\\hline \\\\[-1.8ex] \n",
      "A & b & c \\\\ \n",
      "\\hline \\\\[-1.8ex] \n",
      "omega spread & $0.108$ & $0.103$ \\\\ \n",
      "beta\\_spread & $0.016$ & $0.013$ \\\\ \n",
      "sigma\\_spread & $0.105$ & $0.054$ \\\\ \n",
      "\\hline \\\\[-1.8ex] \n",
      "\\end{tabular} \n",
      "\\end{table} \n"
     ]
    }
   ],
   "source": [
    "stargazer(convergence_table,  summary=FALSE, covariate.labels=c(\"A\",\"b\",\"c\"),\n",
    "          title = \"Consistency Result\",\n",
    "out = paste0(ILLUS_PATH, \"Convergence_table_gmm.tex\"))"
   ]
  }
 ],
 "metadata": {
  "kernelspec": {
   "display_name": "R",
   "language": "R",
   "name": "ir"
  },
  "language_info": {
   "codemirror_mode": "r",
   "file_extension": ".r",
   "mimetype": "text/x-r-source",
   "name": "R",
   "pygments_lexer": "r",
   "version": "4.1.2"
  }
 },
 "nbformat": 4,
 "nbformat_minor": 5
}
