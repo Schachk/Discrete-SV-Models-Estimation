{
 "cells": [
  {
   "cell_type": "markdown",
   "id": "af94362c",
   "metadata": {},
   "source": [
    "### Bayesian Estimation"
   ]
  },
  {
   "cell_type": "code",
   "execution_count": 1,
   "id": "2d850802",
   "metadata": {},
   "outputs": [
    {
     "name": "stderr",
     "output_type": "stream",
     "text": [
      "also installing the dependency 'coda'\n",
      "\n",
      "\n"
     ]
    },
    {
     "name": "stdout",
     "output_type": "stream",
     "text": [
      "package 'coda' successfully unpacked and MD5 sums checked\n",
      "package 'stochvol' successfully unpacked and MD5 sums checked\n",
      "\n",
      "The downloaded binary packages are in\n",
      "\tC:\\Users\\loicc\\AppData\\Local\\Temp\\RtmpMF1CpU\\downloaded_packages\n"
     ]
    }
   ],
   "source": [
    "install.packages('stochvol')"
   ]
  },
  {
   "cell_type": "code",
   "execution_count": 2,
   "id": "67412a87",
   "metadata": {},
   "outputs": [
    {
     "name": "stderr",
     "output_type": "stream",
     "text": [
      "Warning message:\n",
      "\"package 'stochvol' was built under R version 4.1.3\"\n"
     ]
    }
   ],
   "source": [
    "library(stochvol)"
   ]
  },
  {
   "cell_type": "code",
   "execution_count": 7,
   "id": "b549cd26",
   "metadata": {},
   "outputs": [
    {
     "name": "stderr",
     "output_type": "stream",
     "text": [
      "Done!\n",
      "\n",
      "Summarizing posterior draws...\n",
      "\n"
     ]
    }
   ],
   "source": [
    "set.seed(1)\n",
    "data(\"exrates\")\n",
    "ind <- which(exrates$date >= as.Date(\"2011-03-01\") &\n",
    "+ exrates$date <= as.Date(\"2012-03-01\"))\n",
    "CHF_price <- exrates$CHF[ind]\n",
    "res_sv <- svsample(CHF_price, designmatrix = \"ar1\")"
   ]
  },
  {
   "cell_type": "code",
   "execution_count": 56,
   "id": "864f7e90",
   "metadata": {},
   "outputs": [
    {
     "data": {
      "image/png": "[encoded data removed]",
      "text/plain": [
       "plot without title"
      ]
     },
     "metadata": {
      "image/png": {
       "height": 420,
       "width": 420
      }
     },
     "output_type": "display_data"
    }
   ],
   "source": [
    "plot(CHF_price, type='l')\n",
    "lines(sqrt(exp(h_t)), type='l', col='red')"
   ]
  },
  {
   "cell_type": "code",
   "execution_count": 23,
   "id": "7c4d700f",
   "metadata": {},
   "outputs": [
    {
     "data": {
      "text/plain": [
       "\n",
       "Summary of 'svdraws' object\n",
       "\n",
       "Prior distributions:\n",
       "mu        ~ Normal(mean = 0, sd = 100)\n",
       "(phi+1)/2 ~ Beta(a = 5, b = 1.5)\n",
       "sigma^2   ~ Gamma(shape = 0.5, rate = 0.5)\n",
       "nu        ~ Infinity\n",
       "rho       ~ Constant(value = 0)\n",
       "beta      ~ MultivariateNormal(...)\n",
       "\n",
       "Stored 10000 MCMC draws after a burn-in of 1000.\n",
       "No thinning.\n",
       "\n",
       "Posterior draws of SV parameters (thinning = 1):\n",
       "            mean      sd       5%      50%    95%  ESS\n",
       "mu        -11.00    2.08 -1.4e+01 -10.8811 -8.493 3409\n",
       "phi         0.97    0.02  9.3e-01   0.9787  0.997  328\n",
       "sigma       0.45    0.13  2.7e-01   0.4400  0.688  140\n",
       "exp(mu/2)  15.81 1497.29  9.3e-04   0.0043  0.014 3409\n",
       "sigma^2     0.22    0.13  7.1e-02   0.1936  0.473  140\n",
       "\n",
       "Posterior draws of regression coefficients (thinning = 1):\n",
       "       mean    sd      5%   50%   95%  ESS\n",
       "beta_0 0.02 0.014 -0.0016 0.021 0.043 2913\n",
       "beta_1 0.98 0.011  0.9643 0.983 1.001 2910\n"
      ]
     },
     "metadata": {},
     "output_type": "display_data"
    }
   ],
   "source": [
    "res_sv[1]"
   ]
  },
  {
   "cell_type": "code",
   "execution_count": 43,
   "id": "7618ca6f",
   "metadata": {},
   "outputs": [
    {
     "data": {
      "text/html": [
       "260"
      ],
      "text/latex": [
       "260"
      ],
      "text/markdown": [
       "260"
      ],
      "text/plain": [
       "[1] 260"
      ]
     },
     "metadata": {},
     "output_type": "display_data"
    }
   ],
   "source": [
    "length(CHF_price)\n",
    "lines(sqrt(exp(h_t)), type='l', col='red')"
   ]
  },
  {
   "cell_type": "code",
   "execution_count": null,
   "id": "ba94a7f2",
   "metadata": {},
   "outputs": [],
   "source": []
  },
  {
   "cell_type": "code",
   "execution_count": null,
   "id": "be56ba20",
   "metadata": {},
   "outputs": [],
   "source": []
  },
  {
   "cell_type": "code",
   "execution_count": null,
   "id": "ac01dff8",
   "metadata": {},
   "outputs": [],
   "source": []
  },
  {
   "cell_type": "markdown",
   "id": "79ec78ea",
   "metadata": {},
   "source": [
    "### Model"
   ]
  },
  {
   "cell_type": "code",
   "execution_count": 9,
   "id": "d2c2168d",
   "metadata": {},
   "outputs": [],
   "source": [
    "# Model\n",
    "T <- 3000\n",
    "alpha <- -1.2\n",
    "delta <- 0.83\n",
    "sigma_nu <- 0.4\n",
    "beta <- c(alpha, delta)\n",
    "omega <- c(beta, sigma_nu) \n",
    "log_h0 <- 0"
   ]
  },
  {
   "cell_type": "code",
   "execution_count": 14,
   "id": "33331328",
   "metadata": {},
   "outputs": [],
   "source": [
    "sv_simul <- function(omega, log_h0, T){\n",
    "    y_t = c()\n",
    "    log_h_t = c()\n",
    "    alpha <- omega[1]\n",
    "    delta <- omega[2]\n",
    "    sigma_nu <- omega[3]\n",
    "    \n",
    "    u_t <- rnorm(T, 0, 1)\n",
    "    nu_t <- rnorm(T, 0, 1)\n",
    "    \n",
    "    log_h_t[1] <- alpha + delta * log_h0 + sigma_nu * nu_t[1]\n",
    "    y_t[1] <- sqrt(exp(log_h_t[1])) * u_t[1]\n",
    "    \n",
    "    for (t in 2:T){\n",
    "        log_h_t[t] <- alpha + delta * log_h_t[t-1] + sigma_nu * nu_t[t]\n",
    "        y_t[t] <- sqrt(exp(log_h_t[t])) * u_t[t]\n",
    "    }\n",
    "    list(y_t, log_h_t)\n",
    "}"
   ]
  },
  {
   "cell_type": "code",
   "execution_count": 15,
   "id": "9de33ee0",
   "metadata": {},
   "outputs": [],
   "source": [
    "data <- sv_simul(theta, log_h0, T)\n",
    "y_t <- unlist(data[1])\n",
    "log_h_t <- unlist(data[2])"
   ]
  },
  {
   "cell_type": "code",
   "execution_count": 17,
   "id": "8de7dcb5",
   "metadata": {},
   "outputs": [
    {
     "data": {
      "image/png": "[encoded data removed]",
      "text/plain": [
       "plot without title"
      ]
     },
     "metadata": {
      "image/png": {
       "height": 420,
       "width": 420
      }
     },
     "output_type": "display_data"
    }
   ],
   "source": [
    "plot(y_t[1:200], type='l')\n",
    "lines(sqrt(exp(log_h_t[1:200])), type='l', col='red')"
   ]
  },
  {
   "cell_type": "markdown",
   "id": "8593705e",
   "metadata": {},
   "source": [
    "### The Algorithm"
   ]
  },
  {
   "cell_type": "code",
   "execution_count": 58,
   "id": "bb053aff",
   "metadata": {},
   "outputs": [],
   "source": [
    "# Inputs\n",
    "nu_0 <- 1\n",
    "s0 <- 0.005\n",
    "beta <- matrix(c(0.5, 0.5), nrow=2, ncol=1)\n",
    "library(invgamma)\n",
    "\n",
    "A <- matrix(c(1, 0, 0, 1), nrow=2, ncol=2)\n",
    "beta_bar <- matrix(rowMeans(beta), nrow=2, ncol=1)\n",
    "\n",
    "# Distribution of sigma\n",
    "sigma <- rinvgamma(1, nu_0, s0**2)\n",
    "\n",
    "# Distribution of beta knowing sigma\n",
    "library(MASS)\n",
    "beta_sim <- mvrnorm(1, beta_bar, sigma**2 * solve(A))"
   ]
  },
  {
   "cell_type": "code",
   "execution_count": 59,
   "id": "8af2d338",
   "metadata": {},
   "outputs": [
    {
     "data": {
      "text/html": [
       "<style>\n",
       ".list-inline {list-style: none; margin:0; padding: 0}\n",
       ".list-inline>li {display: inline-block}\n",
       ".list-inline>li:not(:last-child)::after {content: \"\\00b7\"; padding: 0 .5ex}\n",
       "</style>\n",
       "<ol class=list-inline><li>0.499981704123973</li><li>0.49995060296062</li></ol>\n"
      ],
      "text/latex": [
       "\\begin{enumerate*}\n",
       "\\item 0.499981704123973\n",
       "\\item 0.49995060296062\n",
       "\\end{enumerate*}\n"
      ],
      "text/markdown": [
       "1. 0.499981704123973\n",
       "2. 0.49995060296062\n",
       "\n",
       "\n"
      ],
      "text/plain": [
       "[1] 0.4999817 0.4999506"
      ]
     },
     "metadata": {},
     "output_type": "display_data"
    }
   ],
   "source": [
    "beta_sim"
   ]
  },
  {
   "cell_type": "code",
   "execution_count": 36,
   "id": "c16b52a6",
   "metadata": {},
   "outputs": [
    {
     "data": {
      "text/html": [
       "0.375869638711112"
      ],
      "text/latex": [
       "0.375869638711112"
      ],
      "text/markdown": [
       "0.375869638711112"
      ],
      "text/plain": [
       "[1] 0.3758696"
      ]
     },
     "metadata": {},
     "output_type": "display_data"
    }
   ],
   "source": [
    "sigma"
   ]
  }
 ],
 "metadata": {
  "kernelspec": {
   "display_name": "R",
   "language": "R",
   "name": "ir"
  },
  "language_info": {
   "codemirror_mode": "r",
   "file_extension": ".r",
   "mimetype": "text/x-r-source",
   "name": "R",
   "pygments_lexer": "r",
   "version": "4.1.2"
  }
 },
 "nbformat": 4,
 "nbformat_minor": 5
}
