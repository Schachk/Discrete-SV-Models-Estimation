{
 "cells": [
  {
   "cell_type": "markdown",
   "id": "1ae41d89",
   "metadata": {},
   "source": [
    "## Volatility Risk Premium - Stochastic Volatility"
   ]
  },
  {
   "cell_type": "code",
   "execution_count": 216,
   "id": "895c3e59",
   "metadata": {},
   "outputs": [],
   "source": [
    "USER_PATH <- \"D:/Softwares/\"\n",
    "USER_PATH2 <- \"D:/Softwares/GitHub/Discrete-SV-Models-Estimation/Code/\" # Change only here\n",
    "ILLUS_PATH <- paste0(USER_PATH2, \"Illustration/\")\n",
    "DATA_INPUT_PATH <- paste0(USER_PATH,\"GitHub/Systemic_Risk_Measures/Code/Python/Data_Extraction/\")\n",
    "FUNCTION_PATH <- paste0(USER_PATH, \"GitHub/Systemic_Risk_Measures/Code/R/Functions/\")"
   ]
  },
  {
   "cell_type": "code",
   "execution_count": 217,
   "id": "c125cbc3",
   "metadata": {},
   "outputs": [],
   "source": [
    "source(paste0(FUNCTION_PATH, \"CoVaR_project2.R\"))\n",
    "source(paste0(FUNCTION_PATH, \"CoVaR_Functions.R\"))"
   ]
  },
  {
   "cell_type": "code",
   "execution_count": 218,
   "id": "1873ae3c",
   "metadata": {},
   "outputs": [],
   "source": [
    "library(ggplot2)\n",
    "library(dplyr)\n",
    "library(tidyquant)\n",
    "library(stats)\n",
    "library(tibble)\n",
    "library(base)\n",
    "library(tidyverse)\n",
    "library(reshape2)\n",
    "library(pbivnorm)\n",
    "library(MASS)\n",
    "library(stargazer)"
   ]
  },
  {
   "cell_type": "markdown",
   "id": "fb070cdd",
   "metadata": {},
   "source": [
    "#### 0) Load Real Data"
   ]
  },
  {
   "cell_type": "code",
   "execution_count": 219,
   "id": "8b02b83f",
   "metadata": {},
   "outputs": [],
   "source": [
    "returns <- read.csv(paste0(DATA_INPUT_PATH, 'RD_RETURNS.csv'))\n",
    "# returns <- read.csv(paste0(DATA_INPUT_PATH, 'RD_RETURNS_01.csv'))\n",
    "returns <- returns[,2:length(returns[1,])]\n",
    "vix <- read.csv(paste0(DATA_INPUT_PATH, 'CBOE_VIX_DATA.csv'))"
   ]
  },
  {
   "cell_type": "code",
   "execution_count": 220,
   "id": "181798dd",
   "metadata": {},
   "outputs": [],
   "source": [
    "DATE <- returns[,1]\n",
    "data_returns <- returns[,2:length(returns[1,])]\n",
    "system <- data_returns[,1]\n",
    "stocks <- data_returns[,2:length(data_returns[1,])]\n",
    "tickers <- colnames(stocks)\n",
    "M <- length(tickers)\n",
    "date_vix <- vix[,1]\n",
    "vix_p <- vix[,2] / sqrt(252)"
   ]
  },
  {
   "cell_type": "code",
   "execution_count": 225,
   "id": "8e2caf34",
   "metadata": {},
   "outputs": [
    {
     "data": {
      "text/html": [
       "'2021-12-31'"
      ],
      "text/latex": [
       "'2021-12-31'"
      ],
      "text/markdown": [
       "'2021-12-31'"
      ],
      "text/plain": [
       "[1] \"2021-12-31\""
      ]
     },
     "metadata": {},
     "output_type": "display_data"
    }
   ],
   "source": [
    "DATE[3250]"
   ]
  },
  {
   "cell_type": "markdown",
   "id": "18681088",
   "metadata": {},
   "source": [
    "#### I) QML Method"
   ]
  },
  {
   "cell_type": "code",
   "execution_count": 176,
   "id": "73707621",
   "metadata": {},
   "outputs": [],
   "source": [
    "obj_sv <- function(theta, epsilon){\n",
    "    alpha_t <- c()\n",
    "    P_t <- c()\n",
    "    F_t <- c()\n",
    "    K_t <- c()\n",
    "    omega <- theta[1]\n",
    "    beta <- theta[2]\n",
    "    sigma <- theta[3]\n",
    "    mu_Z <- -1.270\n",
    "    sigma_Z <- sqrt(pi**2/2)\n",
    "    \n",
    "    a0 <- 0\n",
    "    beta0 <- 0.8\n",
    "    P0 <- sigma**2\n",
    "    F0 <- P0 + sigma_Z**2\n",
    "    \n",
    "    T <- length(epsilon)\n",
    "    y_t <- log(epsilon**2)\n",
    "    \n",
    "    alpha_t[1] <- beta0 * a0 + omega\n",
    "    P_t[1] <- beta**2 * P0 + sigma**2\n",
    "    K_t[1] <- beta * P0 * 1/F0\n",
    "    \n",
    "    for (t in 2:T){\n",
    "        F_t[t-1] <- P_t[t-1] + sigma_Z**2\n",
    "        K_t[t] <- beta * P_t[t-1] * 1/F_t[t-1]\n",
    "        alpha_t[t] <- beta * alpha_t[t-1] + K_t[t] *\n",
    "            (y_t[t-1] - alpha_t[t-1] - mu_Z) + omega\n",
    "        P_t[t] <- beta**2 * P_t[t-1] - K_t[t]**2 * F_t[t-1] + sigma**2\n",
    "    }\n",
    "    F_t[T] <- P_t[T-1] + sigma_Z**2\n",
    "    qml <- -T/2 * log(2*pi) - 1/2*sum(log(F_t) +\n",
    "        (log(epsilon**2) - alpha_t - mu_Z)**2 / F_t)\n",
    "    -qml\n",
    "}"
   ]
  },
  {
   "cell_type": "code",
   "execution_count": 177,
   "id": "75a9d03c",
   "metadata": {},
   "outputs": [],
   "source": [
    "estim_sv <- function(theta0, epsilon){\n",
    "    valinit <- theta0\n",
    "    lower <- c(-Inf, 0, 0)\n",
    "    upper <- c(Inf, 0.999, Inf)\n",
    "    res <- nlminb(valinit, obj_sv, lower=lower,\n",
    "                  upper=upper, epsilon=epsilon)\n",
    "    theta_hat <- res$par[1:3]\n",
    "    theta_hat\n",
    "}"
   ]
  },
  {
   "cell_type": "code",
   "execution_count": 178,
   "id": "d12eab15",
   "metadata": {},
   "outputs": [],
   "source": [
    "# stocks <- stocks[,5]\n",
    "stocks <- system"
   ]
  },
  {
   "cell_type": "code",
   "execution_count": 179,
   "id": "357195a2",
   "metadata": {},
   "outputs": [],
   "source": [
    "selection <- 2500:3000\n",
    "epsilon <- (stocks+0.000001) * 100\n",
    "epsilon <- epsilon[selection]\n",
    "DATE <- as.Date(returns[selection,1])\n",
    "DATE_VIX <- as.Date(date_vix)\n",
    "T <- length(epsilon)"
   ]
  },
  {
   "cell_type": "code",
   "execution_count": 180,
   "id": "b9741fc4",
   "metadata": {},
   "outputs": [
    {
     "data": {
      "image/png": "[encoded data removed]",
      "text/plain": [
       "plot without title"
      ]
     },
     "metadata": {
      "image/png": {
       "height": 250,
       "width": 500
      }
     },
     "output_type": "display_data"
    }
   ],
   "source": [
    "plot(epsilon, type='l')"
   ]
  },
  {
   "cell_type": "code",
   "execution_count": 181,
   "id": "62268615",
   "metadata": {},
   "outputs": [],
   "source": [
    "# Estimation Inputs\n",
    "omega0 <- -0.6\n",
    "beta0 <- 0.9\n",
    "sigma0 <- 0.5\n",
    "theta0 <- c(omega0, beta0, sigma0)"
   ]
  },
  {
   "cell_type": "markdown",
   "id": "8c35f02f",
   "metadata": {},
   "source": [
    "### A/ Stochastic Volatility Model"
   ]
  },
  {
   "cell_type": "code",
   "execution_count": 182,
   "id": "9ed492c3",
   "metadata": {},
   "outputs": [
    {
     "data": {
      "text/html": [
       "<style>\n",
       ".list-inline {list-style: none; margin:0; padding: 0}\n",
       ".list-inline>li {display: inline-block}\n",
       ".list-inline>li:not(:last-child)::after {content: \"\\00b7\"; padding: 0 .5ex}\n",
       "</style>\n",
       "<ol class=list-inline><li>-0.00539285705212135</li><li>0.963549671644635</li><li>0.384444629905957</li></ol>\n"
      ],
      "text/latex": [
       "\\begin{enumerate*}\n",
       "\\item -0.00539285705212135\n",
       "\\item 0.963549671644635\n",
       "\\item 0.384444629905957\n",
       "\\end{enumerate*}\n"
      ],
      "text/markdown": [
       "1. -0.00539285705212135\n",
       "2. 0.963549671644635\n",
       "3. 0.384444629905957\n",
       "\n",
       "\n"
      ],
      "text/plain": [
       "[1] -0.005392857  0.963549672  0.384444630"
      ]
     },
     "metadata": {},
     "output_type": "display_data"
    }
   ],
   "source": [
    "estimation <- estim_sv(theta0, epsilon)\n",
    "theta_hat <- estimation\n",
    "theta_hat"
   ]
  },
  {
   "cell_type": "code",
   "execution_count": 183,
   "id": "cf9dc1d5",
   "metadata": {},
   "outputs": [],
   "source": [
    "alpha_t <- c()\n",
    "P_t <- c()\n",
    "F_t <- c()\n",
    "K_t <- c()\n",
    "omega <- theta_hat[1]\n",
    "beta <- theta_hat[2]\n",
    "sigma <- theta_hat[3]\n",
    "mu_Z <- -1.270\n",
    "sigma_Z <- sqrt(pi**2/2)\n",
    "    \n",
    "a0 <- 0\n",
    "beta0 <- 0.8\n",
    "P0 <- sigma**2\n",
    "F0 <- P0 + sigma_Z**2\n",
    "    \n",
    "T <- length(epsilon)\n",
    "y_t <- log(epsilon**2)\n",
    "    \n",
    "alpha_t[1] <- beta0 * a0 + omega\n",
    "P_t[1] <- beta**2 * P0 + sigma**2\n",
    "K_t[1] <- beta * P0 * 1/F0\n",
    "    \n",
    "for (t in 2:T){\n",
    "    F_t[t-1] <- P_t[t-1] + sigma_Z**2\n",
    "    K_t[t] <- beta * P_t[t-1] * 1/F_t[t-1]\n",
    "    alpha_t[t] <- beta * alpha_t[t-1] + K_t[t] *\n",
    "            (y_t[t-1] - alpha_t[t-1] - mu_Z) + omega\n",
    "    P_t[t] <- beta**2 * P_t[t-1] - K_t[t]**2 * F_t[t-1] + sigma**2\n",
    "}"
   ]
  },
  {
   "cell_type": "markdown",
   "id": "36560ecf",
   "metadata": {},
   "source": [
    "## GARCH Model"
   ]
  },
  {
   "cell_type": "code",
   "execution_count": 184,
   "id": "ddd103b3",
   "metadata": {},
   "outputs": [],
   "source": [
    "omega_0 <- -0.6\n",
    "alpha_0 <- 0.1\n",
    "beta_0 <- 0.85"
   ]
  },
  {
   "cell_type": "code",
   "execution_count": 185,
   "id": "b522c2a8",
   "metadata": {},
   "outputs": [],
   "source": [
    "# Initialisation\n",
    "sigma2_hat <- c()\n",
    "eta_hat <- c()\n",
    "\n",
    "estimation <- estimgarch11(omega_0, alpha_0, beta_0, epsilon)\n",
    "theta_hat_g <- estimation$coef\n",
    "\n",
    "omega_hat_g <- theta_hat_g[1]\n",
    "alpha_hat_g <- theta_hat_g[2]\n",
    "beta_hat_g <- theta_hat_g[3]\n",
    "\n",
    "sigma2_hat[1]<-omega_hat_g\n",
    "eta_hat[1] <- epsilon[1] / sqrt(sigma2_hat[1])\n",
    "for (i in 2:T){\n",
    "    sigma2_hat[i]<-omega_hat_g + alpha_hat_g * epsilon[i-1]**2 + beta_hat_g * sigma2_hat[i-1]\n",
    "    eta_hat[i] <- epsilon[i] / sqrt(sigma2_hat[i])\n",
    "}"
   ]
  },
  {
   "cell_type": "code",
   "execution_count": 186,
   "id": "a3a34e18",
   "metadata": {},
   "outputs": [],
   "source": [
    "# Load Data\n",
    "t<-1:T\n",
    "col_names<-c('t', 'returns', 'stochastic volatility', 'garch volatility')\n",
    "confidence_tab <- as.data.frame(epsilon)\n",
    "confidence_tab <- cbind(confidence_tab, sqrt(exp(alpha_t)))\n",
    "confidence_tab <- cbind(confidence_tab, sqrt(sigma2_hat))\n",
    "confidence_tab <- cbind(t, confidence_tab)\n",
    "colnames(confidence_tab) <- col_names\n",
    "confidence_tab <- melt(confidence_tab, id=\"t\")\n",
    "confidence_tab <- cbind(rep(DATE[1:T]), confidence_tab)\n",
    "colnames(confidence_tab) <- c('Date', 't', 'variable', 'value')"
   ]
  },
  {
   "cell_type": "code",
   "execution_count": 187,
   "id": "330d07f5",
   "metadata": {},
   "outputs": [],
   "source": [
    "options(repr.plot.width = 10, repr.plot.height = 5, repr.plot.res = 100)\n",
    "confidence_chart <-ggplot(data=confidence_tab, aes(x=Date, y=value, colour=variable))+\n",
    "    geom_line(lwd=0.5)+\n",
    "    theme_classic()+\n",
    "    scale_color_manual(name = \"Variables\", values= c('black', 'blue', 'red'),\n",
    "                       labels = c('Returns', 'Stochastic Volatility', 'Garch Volatility'))+\n",
    "    labs(title = \"S&P 500 Returns vs. Stochastic & GARCH Volatility\"\n",
    "         , x = \"Time\", y=\"Value\")+\n",
    "    theme(\n",
    "        axis.title = element_text(size =12),\n",
    "        axis.text = element_text(size = 12, color = 'black')\n",
    "    )"
   ]
  },
  {
   "cell_type": "code",
   "execution_count": 188,
   "id": "17436d2a",
   "metadata": {},
   "outputs": [
    {
     "data": {
      "image/png": "[encoded data removed]",
      "text/plain": [
       "plot without title"
      ]
     },
     "metadata": {
      "image/png": {
       "height": 250,
       "width": 500
      }
     },
     "output_type": "display_data"
    }
   ],
   "source": [
    "confidence_chart"
   ]
  },
  {
   "cell_type": "code",
   "execution_count": 189,
   "id": "43321e89",
   "metadata": {},
   "outputs": [],
   "source": [
    "# pdf(file=paste0(ILLUS_PATH, \"QML_volat_RD.pdf\"),width=10, height=5)\n",
    "# confidence_chart\n",
    "# dev.off()"
   ]
  },
  {
   "cell_type": "code",
   "execution_count": null,
   "id": "9aa81349",
   "metadata": {},
   "outputs": [],
   "source": []
  },
  {
   "cell_type": "code",
   "execution_count": 190,
   "id": "8366ec27",
   "metadata": {},
   "outputs": [
    {
     "data": {
      "image/png": "[encoded data removed]",
      "text/plain": [
       "plot without title"
      ]
     },
     "metadata": {
      "image/png": {
       "height": 250,
       "width": 500
      }
     },
     "output_type": "display_data"
    }
   ],
   "source": [
    "plot(sqrt(exp(alpha_t)), type='l', col='black')\n",
    "lines(vix_p, type='l', col='red')\n",
    "lines(sqrt(var(epsilon)), type='l', col='blue')"
   ]
  },
  {
   "cell_type": "code",
   "execution_count": 191,
   "id": "29371ecb",
   "metadata": {},
   "outputs": [
    {
     "data": {
      "image/png": "[encoded data removed]",
      "text/plain": [
       "plot without title"
      ]
     },
     "metadata": {
      "image/png": {
       "height": 250,
       "width": 500
      }
     },
     "output_type": "display_data"
    }
   ],
   "source": [
    "plot(epsilon**2, type='l', col='blue')"
   ]
  },
  {
   "cell_type": "code",
   "execution_count": 192,
   "id": "da065ba0",
   "metadata": {},
   "outputs": [],
   "source": [
    "epsilon <- (stocks+0.000001) * 100\n",
    "stop <- length(epsilon)\n",
    "realized_vol <- c()\n",
    "trad <- 21\n",
    "for (t in (1+trad):stop){\n",
    "    realized_vol[t] <- sqrt(var(epsilon[(t-trad):t]))\n",
    "}"
   ]
  },
  {
   "cell_type": "code",
   "execution_count": 193,
   "id": "b27eed19",
   "metadata": {},
   "outputs": [
    {
     "data": {
      "image/png": "[encoded data removed]",
      "text/plain": [
       "plot without title"
      ]
     },
     "metadata": {
      "image/png": {
       "height": 250,
       "width": 500
      }
     },
     "output_type": "display_data"
    }
   ],
   "source": [
    "plot(realized_vol[selection], type='l')"
   ]
  },
  {
   "cell_type": "code",
   "execution_count": 204,
   "id": "8c3c90da",
   "metadata": {},
   "outputs": [],
   "source": [
    "vix_100 <- vix_p[1:501] \n",
    "garch_100 <- sqrt(sigma2_hat) / mean(sqrt(sigma2_hat))\n",
    "realized_100 <- realized_vol[selection]\n",
    "stoch_100 <- sqrt(exp(alpha_t))"
   ]
  },
  {
   "cell_type": "code",
   "execution_count": 205,
   "id": "2783d0b3",
   "metadata": {},
   "outputs": [],
   "source": [
    "# Load Data\n",
    "t<-1:T\n",
    "col_names<-c('t', 'vix', 'SV volatility', 'realized volatility (1 month lagging)')\n",
    "confidence_tab_vix <- as.data.frame(vix_100)\n",
    "confidence_tab_vix <- cbind(confidence_tab_vix, stoch_100)\n",
    "confidence_tab_vix <- cbind(confidence_tab_vix, realized_100)\n",
    "confidence_tab_vix <- cbind(t, confidence_tab_vix)\n",
    "colnames(confidence_tab_vix) <- col_names\n",
    "confidence_tab_vix <- melt(confidence_tab_vix, id=\"t\")\n",
    "confidence_tab_vix <- cbind(rep(DATE[1:T]), confidence_tab_vix)\n",
    "colnames(confidence_tab_vix) <- c('Date', 't', 'variable', 'value')"
   ]
  },
  {
   "cell_type": "code",
   "execution_count": 206,
   "id": "a9e99724",
   "metadata": {},
   "outputs": [],
   "source": [
    "options(repr.plot.width = 10, repr.plot.height = 5, repr.plot.res = 100)\n",
    "confidence_chart_vix <-ggplot(data=confidence_tab_vix, aes(x=Date, y=value, colour=variable))+\n",
    "    geom_line(lwd=0.5)+\n",
    "    theme_classic()+\n",
    "    scale_color_manual(name = \"Variables\", values= c('blue', 'red', 'purple'),\n",
    "                       labels = c('Vix', 'SV Volatility', 'Realized Volatility (1 month lagging)'))+\n",
    "    labs(title = \"S&P 500 Volatility vs. VIX\"\n",
    "         , x = \"Time\", y=\"Value\")+\n",
    "    theme(\n",
    "        axis.title = element_text(size =12),\n",
    "        axis.text = element_text(size = 12, color = 'black')\n",
    "    )"
   ]
  },
  {
   "cell_type": "code",
   "execution_count": 208,
   "id": "a59b2c5a",
   "metadata": {},
   "outputs": [
    {
     "data": {
      "image/png": "[encoded data removed]",
      "text/plain": [
       "plot without title"
      ]
     },
     "metadata": {
      "image/png": {
       "height": 250,
       "width": 500
      }
     },
     "output_type": "display_data"
    }
   ],
   "source": [
    "confidence_chart_vix"
   ]
  },
  {
   "cell_type": "code",
   "execution_count": 209,
   "id": "2ebfa612",
   "metadata": {},
   "outputs": [
    {
     "data": {
      "text/html": [
       "<strong>png:</strong> 2"
      ],
      "text/latex": [
       "\\textbf{png:} 2"
      ],
      "text/markdown": [
       "**png:** 2"
      ],
      "text/plain": [
       "png \n",
       "  2 "
      ]
     },
     "metadata": {},
     "output_type": "display_data"
    }
   ],
   "source": [
    "pdf(file=paste0(ILLUS_PATH, \"VRP_Comp.pdf\"),width=10, height=5)\n",
    "confidence_chart_vix\n",
    "dev.off()"
   ]
  },
  {
   "cell_type": "markdown",
   "id": "a2d89e9a",
   "metadata": {},
   "source": [
    "#### Spread"
   ]
  },
  {
   "cell_type": "code",
   "execution_count": 210,
   "id": "b6f312cf",
   "metadata": {},
   "outputs": [],
   "source": [
    "# Load Data\n",
    "t<-1:T\n",
    "col_names<-c('t', 'volatility risk premium (conditional)', 'volatility risk premium (realized)',\n",
    "             'zero line')\n",
    "confidence_tab_spread <- as.data.frame(vix_100 - stoch_100)\n",
    "confidence_tab_spread <- cbind(confidence_tab_spread, vix_100 - realized_100)\n",
    "confidence_tab_spread <- cbind(confidence_tab_spread, rep(0, 501))\n",
    "confidence_tab_spread <- cbind(t, confidence_tab_spread)\n",
    "colnames(confidence_tab_spread) <- col_names\n",
    "confidence_tab_spread <- melt(confidence_tab_spread, id=\"t\")\n",
    "confidence_tab_spread <- cbind(rep(DATE[1:T]), confidence_tab_spread)\n",
    "colnames(confidence_tab_spread) <- c('Date', 't', 'variable', 'value')"
   ]
  },
  {
   "cell_type": "code",
   "execution_count": 211,
   "id": "80db9982",
   "metadata": {},
   "outputs": [],
   "source": [
    "options(repr.plot.width = 10, repr.plot.height = 5, repr.plot.res = 100)\n",
    "confidence_chart_spread <-ggplot(data=confidence_tab_spread, aes(x=Date, y=value, colour=variable))+\n",
    "    geom_line(lwd=0.5)+\n",
    "    theme_classic()+\n",
    "    scale_color_manual(name = \"Variables\", values= c('black', 'red', 'blue'),\n",
    "                       labels = c('Volatility Risk Premium (stochastic)',\n",
    "                                  'Volatility Risk Premium (realized)','Zero Line'))+\n",
    "    labs(title = \"Volatility Risk Premium\"\n",
    "         , x = \"Time\", y=\"Value\")+\n",
    "    theme(\n",
    "        axis.title = element_text(size =12),\n",
    "        axis.text = element_text(size = 12, color = 'black')\n",
    "    )"
   ]
  },
  {
   "cell_type": "code",
   "execution_count": 212,
   "id": "97fecc16",
   "metadata": {},
   "outputs": [
    {
     "data": {
      "image/png": "[encoded data removed]",
      "text/plain": [
       "plot without title"
      ]
     },
     "metadata": {
      "image/png": {
       "height": 250,
       "width": 500
      }
     },
     "output_type": "display_data"
    }
   ],
   "source": [
    "confidence_chart_spread"
   ]
  },
  {
   "cell_type": "code",
   "execution_count": 213,
   "id": "96bd7989",
   "metadata": {},
   "outputs": [
    {
     "data": {
      "text/html": [
       "<strong>png:</strong> 2"
      ],
      "text/latex": [
       "\\textbf{png:} 2"
      ],
      "text/markdown": [
       "**png:** 2"
      ],
      "text/plain": [
       "png \n",
       "  2 "
      ]
     },
     "metadata": {},
     "output_type": "display_data"
    }
   ],
   "source": [
    "pdf(file=paste0(ILLUS_PATH, \"VRP_Spread.pdf\"),width=10, height=5)\n",
    "confidence_chart_spread\n",
    "dev.off()"
   ]
  },
  {
   "cell_type": "code",
   "execution_count": 163,
   "id": "8a6537d4",
   "metadata": {},
   "outputs": [
    {
     "data": {
      "text/html": [
       "<style>\n",
       ".list-inline {list-style: none; margin:0; padding: 0}\n",
       ".list-inline>li {display: inline-block}\n",
       ".list-inline>li:not(:last-child)::after {content: \"\\00b7\"; padding: 0 .5ex}\n",
       "</style>\n",
       "<ol class=list-inline><li>-0.591448287586582</li><li>-0.673229928312081</li><li>-0.620343504756722</li><li>-0.662090494453592</li><li>-0.635415284765812</li><li>-0.655806532517365</li><li>-0.62311127259518</li><li>-0.657754783266191</li><li>-0.427596691405083</li><li>-0.460325645662813</li><li>-0.415867582181865</li><li>-0.371372756745471</li><li>0.0742398625544622</li><li>0.0650913453211883</li><li>-0.027734023765206</li><li>-0.0931669510966051</li><li>-0.121178114880207</li><li>0.0522384425076373</li><li>0.28295815384912</li><li>0.224611129560931</li><li>0.302411167860366</li><li>0.261859579666772</li><li>0.244059412162297</li><li>0.212334134256495</li><li>0.237240850431939</li><li>0.272361630455297</li><li>0.189419316633294</li><li>0.19696396941354</li><li>0.22407096896554</li><li>0.26030192879427</li><li>0.28732307929406</li><li>0.223698927805159</li><li>0.31929784602943</li><li>0.369835446386215</li><li>0.339132139928424</li><li>0.401439391255546</li><li>0.343648819925588</li><li>0.382937815980322</li><li>0.371191032747492</li><li>0.440273153799621</li><li>0.416630280260985</li><li>0.424821944716189</li><li>0.30518286601798</li><li>0.267721196299922</li><li>0.293287246634033</li><li>0.297740764187528</li><li>0.264700782627796</li><li>0.313667956176646</li><li>0.299906710639728</li><li>0.172562514560241</li><li>0.159509805815723</li><li>0.335723617516963</li><li>0.31835387092248</li><li>0.21106006525424</li><li>0.228332960874112</li><li>0.152307088887553</li><li>0.116806776110983</li><li>0.105118311510322</li><li>0.104446470034441</li><li>0.147784411619883</li><li>0.173484738388431</li><li>0.108210180184449</li><li>0.186568613891681</li><li>0.255599223011935</li><li>0.1951696166329</li><li>0.177936403296626</li><li>0.118620058911695</li><li>0.135944334734026</li><li>0.127615500514833</li><li>0.160612334752369</li><li>0.141372530819934</li><li>0.330325095247979</li><li>0.352477754335107</li><li>0.354639482452174</li><li>0.434597793345679</li><li>0.442003623561845</li><li>0.373822888133291</li><li>0.456120298886387</li><li>0.412576022670459</li><li>0.501643794475863</li><li>0.338884292271158</li><li>0.249525361319331</li><li>0.409050281525009</li><li>0.66192732689556</li><li>0.466418550833748</li><li>0.422653013959894</li><li>0.233204368795534</li><li>0.489957946248667</li><li>0.325351475191588</li><li>0.213678263726926</li><li>0.118363547067261</li><li>0.160179383430662</li><li>0.178676403049367</li><li>0.090502967775859</li><li>0.0662509111160098</li><li>0.210010053499271</li><li>0.140297513310103</li><li>0.113874200395744</li><li>0.223381703880668</li><li>0.109367659491233</li><li>0.0789271715450903</li><li>0.155544560138415</li><li>0.194659337180752</li><li>0.0709686654324883</li><li>0.0179167537773335</li><li>0.00985033551489944</li><li>0.193592263387246</li><li>0.182691821218968</li><li>0.193396466803517</li><li>0.184253655625721</li><li>0.190436669419975</li><li>0.157302180482798</li><li>0.173482728488456</li><li>0.163287428754179</li><li>0.129811346441869</li><li>0.154057395846598</li><li>0.225381343819795</li><li>0.239872832231061</li><li>0.296036223654272</li><li>0.385732444663383</li><li>0.371469450258025</li><li>0.44595808163136</li><li>0.369568489675538</li><li>0.304909512117174</li><li>0.313634370282667</li><li>0.317572159895766</li><li>0.360960346957285</li><li>0.410398811523058</li><li>0.406827200932204</li><li>0.312911268945108</li><li>0.304917631327385</li><li>0.277900464996755</li><li>0.296464238002952</li><li>0.32611558112362</li><li>0.391438749136482</li><li>0.348500715317487</li><li>0.445789280386036</li><li>0.386628987054678</li><li>0.322953897597437</li><li>0.232115858128258</li><li>0.260780326154671</li><li>0.208334240894479</li><li>-0.00699334286664777</li><li>8.64444184426327e-05</li><li>0.138893796634008</li><li>0.151408765433088</li><li>0.134063287449158</li><li>0.548453364874173</li><li>0.215108240895389</li><li>0.0122509891283247</li><li>-0.155071745361643</li><li>-0.134992506009868</li><li>0.0329634724373065</li><li>-0.195737071209665</li><li>0.0798594781550044</li><li>0.0332797835378034</li><li>-0.234009868137525</li><li>-0.362196550514753</li><li>-0.308045281447717</li><li>-0.427955968688227</li><li>-0.40624530095506</li><li>-0.189843246689608</li><li>-0.219447563249589</li><li>-0.169383980260608</li><li>-0.0846869560171502</li><li>-0.1544958761519</li><li>-0.0855696607950176</li><li>-0.027171298222342</li><li>0.0192630308218633</li><li>-0.088913169424131</li><li>-0.11992296639714</li><li>0.0242120407465929</li><li>0.0412164170119876</li><li>0.0751658407897016</li><li>0.0675325831456275</li><li>0.0562526222558973</li><li>0.0394825435773658</li><li>0.0739883177385435</li><li>0.302995926158189</li><li>0.297847712177853</li><li>0.294208538411102</li><li>0.379478372840857</li><li>0.340155052547517</li><li>0.359297785412147</li><li>0.282968172581921</li><li>0.26334794711925</li><li>0.386143959086216</li><li>0.255043491422711</li><li>0.370010428995732</li><li>0.481188523434926</li><li>0.370104605887046</li><li>0.242263434201798</li><li>0.263944928919974</li><li>0.417915877646456</li><li>0.314326492295251</li><li>0.243200166479815</li><li>0.1044286000221</li><li>0.043899903499605</li><li>-0.0229790084846675</li><li>0.00692925497917041</li><li>⋯</li><li>-2.57053118983946</li><li>-2.2712095742796</li><li>-2.72893790924261</li><li>-2.49943063741561</li><li>-1.16632410012969</li><li>-2.2862880666549</li><li>-0.724242412150333</li><li>-1.0927529753468</li><li>-1.08370956302926</li><li>-1.26183906703227</li><li>-1.84260160708262</li><li>-2.11798517395318</li><li>-1.92916854122991</li><li>-1.69615268032558</li><li>-1.78291620629148</li><li>-1.05928613885216</li><li>-1.28168011621017</li><li>-0.565277517849144</li><li>-0.203474605956372</li><li>-0.399716302056148</li><li>-0.751303085793265</li><li>-0.689690452537809</li><li>-0.499621817362228</li><li>-0.221148615167756</li><li>-0.330143102473819</li><li>-0.0835660518969616</li><li>-0.0147664394002764</li><li>-0.181324362364199</li><li>-0.0478014329744205</li><li>0.148112414199223</li><li>0.0511911376652763</li><li>0.43769480722334</li><li>0.983966799723845</li><li>0.751320690221162</li><li>0.827431936952928</li><li>0.435443095778421</li><li>0.240200104020706</li><li>0.357437403978541</li><li>0.281601388985534</li><li>0.351574676618664</li><li>0.606337856267831</li><li>0.551501480902425</li><li>0.554433481410301</li><li>0.647061058980319</li><li>0.465835454494229</li><li>0.24472225965888</li><li>0.237578888051032</li><li>0.591076519849894</li><li>0.826570056588022</li><li>0.674511947099233</li><li>0.798509206686599</li><li>0.623849165186415</li><li>0.619041149757749</li><li>0.478819322332698</li><li>0.55102640652748</li><li>0.475446272168093</li><li>-0.120213873251673</li><li>-0.080439041572766</li><li>-0.0514857177975097</li><li>-0.0119552708701036</li><li>-0.0875169838107261</li><li>0.0618247355898902</li><li>-0.0112996566809884</li><li>-0.0599279664477039</li><li>-0.0359368665933195</li><li>-0.228077826351401</li><li>-0.143227683983043</li><li>-0.0883860078816359</li><li>-0.115453231800245</li><li>0.691993802086282</li><li>0.39479235370713</li><li>0.293470116017313</li><li>0.239734484871427</li><li>0.212426147001036</li><li>0.256758981173627</li><li>0.412174848567723</li><li>0.19142143080581</li><li>0.158769660860584</li><li>0.888255201504845</li><li>0.798672420827736</li><li>0.956837318125569</li><li>0.827947828158099</li><li>0.73961370717879</li><li>0.625973606179272</li><li>0.577188906262909</li><li>0.538722564258346</li><li>0.545164697686618</li><li>0.799377792562458</li><li>0.713270620391561</li><li>0.947187865215714</li><li>0.844873242850151</li><li>1.19126059470367</li><li>1.01868577211477</li><li>0.908630900506738</li><li>0.971760099385242</li><li>0.876022257123777</li><li>0.806210501727173</li><li>0.853266965997028</li><li>0.804829014334475</li><li>0.921162417541023</li><li>0.935547345778574</li><li>0.880402815617499</li><li>0.935359036822444</li><li>0.85106007789608</li><li>0.892640966503352</li><li>0.873011529941185</li><li>0.866403643361626</li><li>0.890085857064815</li><li>0.874803075868603</li><li>0.840664284760058</li><li>0.853040304709794</li><li>0.878615166173919</li><li>1.00756327690002</li><li>0.897887294064156</li><li>0.833496501564058</li><li>0.376436606853542</li><li>0.315044799376814</li><li>0.156459661884273</li><li>0.146308084131342</li><li>0.100151030336692</li><li>0.0999696167289241</li><li>0.0951744784805217</li><li>0.0701580998533624</li><li>0.143972833666232</li><li>0.208412768854766</li><li>0.0948970679297434</li><li>0.294751157054685</li><li>0.256482986873436</li><li>0.205134449128424</li><li>0.668225808399341</li><li>0.441272949579314</li><li>0.413853314994271</li><li>0.459114439276391</li><li>0.287739601550644</li><li>0.336784067016833</li><li>0.162694020628191</li><li>0.0834858271050534</li><li>0.230611352868233</li><li>0.213980416271271</li><li>0.377343425075293</li><li>0.392811545300182</li><li>0.549402903034175</li><li>0.477056208723649</li><li>0.594356467376312</li><li>0.591545235523081</li><li>0.463866190862975</li><li>0.409389945421039</li><li>0.442720543738081</li><li>0.482090293430892</li><li>0.515392585305012</li><li>0.726974926630576</li><li>0.645657212190361</li><li>0.780180494769057</li><li>0.480647397496989</li><li>0.347541618057783</li><li>0.253151849935394</li><li>0.233005467033384</li><li>0.254693945024243</li><li>0.24908580445523</li><li>0.269573364084073</li><li>0.338185018648844</li><li>0.439022676481766</li><li>0.458611922294915</li><li>0.448338346170743</li><li>0.403210087772463</li><li>0.349417886111654</li><li>0.643097423787453</li><li>0.692370700603548</li><li>1.15492875101676</li><li>0.986148128973982</li><li>1.00340799957878</li><li>0.946801599506647</li><li>0.813879690992865</li><li>0.512275083524914</li><li>0.393434403221509</li><li>0.524459632823443</li><li>0.582643960499094</li><li>0.589855636712918</li><li>0.510298009499727</li><li>0.668986361226453</li><li>0.606525154299748</li><li>0.645549077878001</li><li>0.632110809826526</li><li>0.729917691132307</li><li>0.684166670348323</li><li>0.724389729652855</li><li>0.659684080716092</li><li>0.639927681095201</li><li>0.644177460416983</li><li>0.648931292025829</li><li>0.673937019590257</li><li>0.654588120180451</li><li>0.693121557740123</li><li>0.723126915937752</li><li>0.79648198376104</li><li>0.763855129586602</li><li>0.796614619584153</li><li>0.762396405252068</li><li>0.799742930312427</li><li>0.799757407137114</li></ol>\n"
      ],
      "text/latex": [
       "\\begin{enumerate*}\n",
       "\\item -0.591448287586582\n",
       "\\item -0.673229928312081\n",
       "\\item -0.620343504756722\n",
       "\\item -0.662090494453592\n",
       "\\item -0.635415284765812\n",
       "\\item -0.655806532517365\n",
       "\\item -0.62311127259518\n",
       "\\item -0.657754783266191\n",
       "\\item -0.427596691405083\n",
       "\\item -0.460325645662813\n",
       "\\item -0.415867582181865\n",
       "\\item -0.371372756745471\n",
       "\\item 0.0742398625544622\n",
       "\\item 0.0650913453211883\n",
       "\\item -0.027734023765206\n",
       "\\item -0.0931669510966051\n",
       "\\item -0.121178114880207\n",
       "\\item 0.0522384425076373\n",
       "\\item 0.28295815384912\n",
       "\\item 0.224611129560931\n",
       "\\item 0.302411167860366\n",
       "\\item 0.261859579666772\n",
       "\\item 0.244059412162297\n",
       "\\item 0.212334134256495\n",
       "\\item 0.237240850431939\n",
       "\\item 0.272361630455297\n",
       "\\item 0.189419316633294\n",
       "\\item 0.19696396941354\n",
       "\\item 0.22407096896554\n",
       "\\item 0.26030192879427\n",
       "\\item 0.28732307929406\n",
       "\\item 0.223698927805159\n",
       "\\item 0.31929784602943\n",
       "\\item 0.369835446386215\n",
       "\\item 0.339132139928424\n",
       "\\item 0.401439391255546\n",
       "\\item 0.343648819925588\n",
       "\\item 0.382937815980322\n",
       "\\item 0.371191032747492\n",
       "\\item 0.440273153799621\n",
       "\\item 0.416630280260985\n",
       "\\item 0.424821944716189\n",
       "\\item 0.30518286601798\n",
       "\\item 0.267721196299922\n",
       "\\item 0.293287246634033\n",
       "\\item 0.297740764187528\n",
       "\\item 0.264700782627796\n",
       "\\item 0.313667956176646\n",
       "\\item 0.299906710639728\n",
       "\\item 0.172562514560241\n",
       "\\item 0.159509805815723\n",
       "\\item 0.335723617516963\n",
       "\\item 0.31835387092248\n",
       "\\item 0.21106006525424\n",
       "\\item 0.228332960874112\n",
       "\\item 0.152307088887553\n",
       "\\item 0.116806776110983\n",
       "\\item 0.105118311510322\n",
       "\\item 0.104446470034441\n",
       "\\item 0.147784411619883\n",
       "\\item 0.173484738388431\n",
       "\\item 0.108210180184449\n",
       "\\item 0.186568613891681\n",
       "\\item 0.255599223011935\n",
       "\\item 0.1951696166329\n",
       "\\item 0.177936403296626\n",
       "\\item 0.118620058911695\n",
       "\\item 0.135944334734026\n",
       "\\item 0.127615500514833\n",
       "\\item 0.160612334752369\n",
       "\\item 0.141372530819934\n",
       "\\item 0.330325095247979\n",
       "\\item 0.352477754335107\n",
       "\\item 0.354639482452174\n",
       "\\item 0.434597793345679\n",
       "\\item 0.442003623561845\n",
       "\\item 0.373822888133291\n",
       "\\item 0.456120298886387\n",
       "\\item 0.412576022670459\n",
       "\\item 0.501643794475863\n",
       "\\item 0.338884292271158\n",
       "\\item 0.249525361319331\n",
       "\\item 0.409050281525009\n",
       "\\item 0.66192732689556\n",
       "\\item 0.466418550833748\n",
       "\\item 0.422653013959894\n",
       "\\item 0.233204368795534\n",
       "\\item 0.489957946248667\n",
       "\\item 0.325351475191588\n",
       "\\item 0.213678263726926\n",
       "\\item 0.118363547067261\n",
       "\\item 0.160179383430662\n",
       "\\item 0.178676403049367\n",
       "\\item 0.090502967775859\n",
       "\\item 0.0662509111160098\n",
       "\\item 0.210010053499271\n",
       "\\item 0.140297513310103\n",
       "\\item 0.113874200395744\n",
       "\\item 0.223381703880668\n",
       "\\item 0.109367659491233\n",
       "\\item 0.0789271715450903\n",
       "\\item 0.155544560138415\n",
       "\\item 0.194659337180752\n",
       "\\item 0.0709686654324883\n",
       "\\item 0.0179167537773335\n",
       "\\item 0.00985033551489944\n",
       "\\item 0.193592263387246\n",
       "\\item 0.182691821218968\n",
       "\\item 0.193396466803517\n",
       "\\item 0.184253655625721\n",
       "\\item 0.190436669419975\n",
       "\\item 0.157302180482798\n",
       "\\item 0.173482728488456\n",
       "\\item 0.163287428754179\n",
       "\\item 0.129811346441869\n",
       "\\item 0.154057395846598\n",
       "\\item 0.225381343819795\n",
       "\\item 0.239872832231061\n",
       "\\item 0.296036223654272\n",
       "\\item 0.385732444663383\n",
       "\\item 0.371469450258025\n",
       "\\item 0.44595808163136\n",
       "\\item 0.369568489675538\n",
       "\\item 0.304909512117174\n",
       "\\item 0.313634370282667\n",
       "\\item 0.317572159895766\n",
       "\\item 0.360960346957285\n",
       "\\item 0.410398811523058\n",
       "\\item 0.406827200932204\n",
       "\\item 0.312911268945108\n",
       "\\item 0.304917631327385\n",
       "\\item 0.277900464996755\n",
       "\\item 0.296464238002952\n",
       "\\item 0.32611558112362\n",
       "\\item 0.391438749136482\n",
       "\\item 0.348500715317487\n",
       "\\item 0.445789280386036\n",
       "\\item 0.386628987054678\n",
       "\\item 0.322953897597437\n",
       "\\item 0.232115858128258\n",
       "\\item 0.260780326154671\n",
       "\\item 0.208334240894479\n",
       "\\item -0.00699334286664777\n",
       "\\item 8.64444184426327e-05\n",
       "\\item 0.138893796634008\n",
       "\\item 0.151408765433088\n",
       "\\item 0.134063287449158\n",
       "\\item 0.548453364874173\n",
       "\\item 0.215108240895389\n",
       "\\item 0.0122509891283247\n",
       "\\item -0.155071745361643\n",
       "\\item -0.134992506009868\n",
       "\\item 0.0329634724373065\n",
       "\\item -0.195737071209665\n",
       "\\item 0.0798594781550044\n",
       "\\item 0.0332797835378034\n",
       "\\item -0.234009868137525\n",
       "\\item -0.362196550514753\n",
       "\\item -0.308045281447717\n",
       "\\item -0.427955968688227\n",
       "\\item -0.40624530095506\n",
       "\\item -0.189843246689608\n",
       "\\item -0.219447563249589\n",
       "\\item -0.169383980260608\n",
       "\\item -0.0846869560171502\n",
       "\\item -0.1544958761519\n",
       "\\item -0.0855696607950176\n",
       "\\item -0.027171298222342\n",
       "\\item 0.0192630308218633\n",
       "\\item -0.088913169424131\n",
       "\\item -0.11992296639714\n",
       "\\item 0.0242120407465929\n",
       "\\item 0.0412164170119876\n",
       "\\item 0.0751658407897016\n",
       "\\item 0.0675325831456275\n",
       "\\item 0.0562526222558973\n",
       "\\item 0.0394825435773658\n",
       "\\item 0.0739883177385435\n",
       "\\item 0.302995926158189\n",
       "\\item 0.297847712177853\n",
       "\\item 0.294208538411102\n",
       "\\item 0.379478372840857\n",
       "\\item 0.340155052547517\n",
       "\\item 0.359297785412147\n",
       "\\item 0.282968172581921\n",
       "\\item 0.26334794711925\n",
       "\\item 0.386143959086216\n",
       "\\item 0.255043491422711\n",
       "\\item 0.370010428995732\n",
       "\\item 0.481188523434926\n",
       "\\item 0.370104605887046\n",
       "\\item 0.242263434201798\n",
       "\\item 0.263944928919974\n",
       "\\item 0.417915877646456\n",
       "\\item 0.314326492295251\n",
       "\\item 0.243200166479815\n",
       "\\item 0.1044286000221\n",
       "\\item 0.043899903499605\n",
       "\\item -0.0229790084846675\n",
       "\\item 0.00692925497917041\n",
       "\\item ⋯\n",
       "\\item -2.57053118983946\n",
       "\\item -2.2712095742796\n",
       "\\item -2.72893790924261\n",
       "\\item -2.49943063741561\n",
       "\\item -1.16632410012969\n",
       "\\item -2.2862880666549\n",
       "\\item -0.724242412150333\n",
       "\\item -1.0927529753468\n",
       "\\item -1.08370956302926\n",
       "\\item -1.26183906703227\n",
       "\\item -1.84260160708262\n",
       "\\item -2.11798517395318\n",
       "\\item -1.92916854122991\n",
       "\\item -1.69615268032558\n",
       "\\item -1.78291620629148\n",
       "\\item -1.05928613885216\n",
       "\\item -1.28168011621017\n",
       "\\item -0.565277517849144\n",
       "\\item -0.203474605956372\n",
       "\\item -0.399716302056148\n",
       "\\item -0.751303085793265\n",
       "\\item -0.689690452537809\n",
       "\\item -0.499621817362228\n",
       "\\item -0.221148615167756\n",
       "\\item -0.330143102473819\n",
       "\\item -0.0835660518969616\n",
       "\\item -0.0147664394002764\n",
       "\\item -0.181324362364199\n",
       "\\item -0.0478014329744205\n",
       "\\item 0.148112414199223\n",
       "\\item 0.0511911376652763\n",
       "\\item 0.43769480722334\n",
       "\\item 0.983966799723845\n",
       "\\item 0.751320690221162\n",
       "\\item 0.827431936952928\n",
       "\\item 0.435443095778421\n",
       "\\item 0.240200104020706\n",
       "\\item 0.357437403978541\n",
       "\\item 0.281601388985534\n",
       "\\item 0.351574676618664\n",
       "\\item 0.606337856267831\n",
       "\\item 0.551501480902425\n",
       "\\item 0.554433481410301\n",
       "\\item 0.647061058980319\n",
       "\\item 0.465835454494229\n",
       "\\item 0.24472225965888\n",
       "\\item 0.237578888051032\n",
       "\\item 0.591076519849894\n",
       "\\item 0.826570056588022\n",
       "\\item 0.674511947099233\n",
       "\\item 0.798509206686599\n",
       "\\item 0.623849165186415\n",
       "\\item 0.619041149757749\n",
       "\\item 0.478819322332698\n",
       "\\item 0.55102640652748\n",
       "\\item 0.475446272168093\n",
       "\\item -0.120213873251673\n",
       "\\item -0.080439041572766\n",
       "\\item -0.0514857177975097\n",
       "\\item -0.0119552708701036\n",
       "\\item -0.0875169838107261\n",
       "\\item 0.0618247355898902\n",
       "\\item -0.0112996566809884\n",
       "\\item -0.0599279664477039\n",
       "\\item -0.0359368665933195\n",
       "\\item -0.228077826351401\n",
       "\\item -0.143227683983043\n",
       "\\item -0.0883860078816359\n",
       "\\item -0.115453231800245\n",
       "\\item 0.691993802086282\n",
       "\\item 0.39479235370713\n",
       "\\item 0.293470116017313\n",
       "\\item 0.239734484871427\n",
       "\\item 0.212426147001036\n",
       "\\item 0.256758981173627\n",
       "\\item 0.412174848567723\n",
       "\\item 0.19142143080581\n",
       "\\item 0.158769660860584\n",
       "\\item 0.888255201504845\n",
       "\\item 0.798672420827736\n",
       "\\item 0.956837318125569\n",
       "\\item 0.827947828158099\n",
       "\\item 0.73961370717879\n",
       "\\item 0.625973606179272\n",
       "\\item 0.577188906262909\n",
       "\\item 0.538722564258346\n",
       "\\item 0.545164697686618\n",
       "\\item 0.799377792562458\n",
       "\\item 0.713270620391561\n",
       "\\item 0.947187865215714\n",
       "\\item 0.844873242850151\n",
       "\\item 1.19126059470367\n",
       "\\item 1.01868577211477\n",
       "\\item 0.908630900506738\n",
       "\\item 0.971760099385242\n",
       "\\item 0.876022257123777\n",
       "\\item 0.806210501727173\n",
       "\\item 0.853266965997028\n",
       "\\item 0.804829014334475\n",
       "\\item 0.921162417541023\n",
       "\\item 0.935547345778574\n",
       "\\item 0.880402815617499\n",
       "\\item 0.935359036822444\n",
       "\\item 0.85106007789608\n",
       "\\item 0.892640966503352\n",
       "\\item 0.873011529941185\n",
       "\\item 0.866403643361626\n",
       "\\item 0.890085857064815\n",
       "\\item 0.874803075868603\n",
       "\\item 0.840664284760058\n",
       "\\item 0.853040304709794\n",
       "\\item 0.878615166173919\n",
       "\\item 1.00756327690002\n",
       "\\item 0.897887294064156\n",
       "\\item 0.833496501564058\n",
       "\\item 0.376436606853542\n",
       "\\item 0.315044799376814\n",
       "\\item 0.156459661884273\n",
       "\\item 0.146308084131342\n",
       "\\item 0.100151030336692\n",
       "\\item 0.0999696167289241\n",
       "\\item 0.0951744784805217\n",
       "\\item 0.0701580998533624\n",
       "\\item 0.143972833666232\n",
       "\\item 0.208412768854766\n",
       "\\item 0.0948970679297434\n",
       "\\item 0.294751157054685\n",
       "\\item 0.256482986873436\n",
       "\\item 0.205134449128424\n",
       "\\item 0.668225808399341\n",
       "\\item 0.441272949579314\n",
       "\\item 0.413853314994271\n",
       "\\item 0.459114439276391\n",
       "\\item 0.287739601550644\n",
       "\\item 0.336784067016833\n",
       "\\item 0.162694020628191\n",
       "\\item 0.0834858271050534\n",
       "\\item 0.230611352868233\n",
       "\\item 0.213980416271271\n",
       "\\item 0.377343425075293\n",
       "\\item 0.392811545300182\n",
       "\\item 0.549402903034175\n",
       "\\item 0.477056208723649\n",
       "\\item 0.594356467376312\n",
       "\\item 0.591545235523081\n",
       "\\item 0.463866190862975\n",
       "\\item 0.409389945421039\n",
       "\\item 0.442720543738081\n",
       "\\item 0.482090293430892\n",
       "\\item 0.515392585305012\n",
       "\\item 0.726974926630576\n",
       "\\item 0.645657212190361\n",
       "\\item 0.780180494769057\n",
       "\\item 0.480647397496989\n",
       "\\item 0.347541618057783\n",
       "\\item 0.253151849935394\n",
       "\\item 0.233005467033384\n",
       "\\item 0.254693945024243\n",
       "\\item 0.24908580445523\n",
       "\\item 0.269573364084073\n",
       "\\item 0.338185018648844\n",
       "\\item 0.439022676481766\n",
       "\\item 0.458611922294915\n",
       "\\item 0.448338346170743\n",
       "\\item 0.403210087772463\n",
       "\\item 0.349417886111654\n",
       "\\item 0.643097423787453\n",
       "\\item 0.692370700603548\n",
       "\\item 1.15492875101676\n",
       "\\item 0.986148128973982\n",
       "\\item 1.00340799957878\n",
       "\\item 0.946801599506647\n",
       "\\item 0.813879690992865\n",
       "\\item 0.512275083524914\n",
       "\\item 0.393434403221509\n",
       "\\item 0.524459632823443\n",
       "\\item 0.582643960499094\n",
       "\\item 0.589855636712918\n",
       "\\item 0.510298009499727\n",
       "\\item 0.668986361226453\n",
       "\\item 0.606525154299748\n",
       "\\item 0.645549077878001\n",
       "\\item 0.632110809826526\n",
       "\\item 0.729917691132307\n",
       "\\item 0.684166670348323\n",
       "\\item 0.724389729652855\n",
       "\\item 0.659684080716092\n",
       "\\item 0.639927681095201\n",
       "\\item 0.644177460416983\n",
       "\\item 0.648931292025829\n",
       "\\item 0.673937019590257\n",
       "\\item 0.654588120180451\n",
       "\\item 0.693121557740123\n",
       "\\item 0.723126915937752\n",
       "\\item 0.79648198376104\n",
       "\\item 0.763855129586602\n",
       "\\item 0.796614619584153\n",
       "\\item 0.762396405252068\n",
       "\\item 0.799742930312427\n",
       "\\item 0.799757407137114\n",
       "\\end{enumerate*}\n"
      ],
      "text/markdown": [
       "1. -0.591448287586582\n",
       "2. -0.673229928312081\n",
       "3. -0.620343504756722\n",
       "4. -0.662090494453592\n",
       "5. -0.635415284765812\n",
       "6. -0.655806532517365\n",
       "7. -0.62311127259518\n",
       "8. -0.657754783266191\n",
       "9. -0.427596691405083\n",
       "10. -0.460325645662813\n",
       "11. -0.415867582181865\n",
       "12. -0.371372756745471\n",
       "13. 0.0742398625544622\n",
       "14. 0.0650913453211883\n",
       "15. -0.027734023765206\n",
       "16. -0.0931669510966051\n",
       "17. -0.121178114880207\n",
       "18. 0.0522384425076373\n",
       "19. 0.28295815384912\n",
       "20. 0.224611129560931\n",
       "21. 0.302411167860366\n",
       "22. 0.261859579666772\n",
       "23. 0.244059412162297\n",
       "24. 0.212334134256495\n",
       "25. 0.237240850431939\n",
       "26. 0.272361630455297\n",
       "27. 0.189419316633294\n",
       "28. 0.19696396941354\n",
       "29. 0.22407096896554\n",
       "30. 0.26030192879427\n",
       "31. 0.28732307929406\n",
       "32. 0.223698927805159\n",
       "33. 0.31929784602943\n",
       "34. 0.369835446386215\n",
       "35. 0.339132139928424\n",
       "36. 0.401439391255546\n",
       "37. 0.343648819925588\n",
       "38. 0.382937815980322\n",
       "39. 0.371191032747492\n",
       "40. 0.440273153799621\n",
       "41. 0.416630280260985\n",
       "42. 0.424821944716189\n",
       "43. 0.30518286601798\n",
       "44. 0.267721196299922\n",
       "45. 0.293287246634033\n",
       "46. 0.297740764187528\n",
       "47. 0.264700782627796\n",
       "48. 0.313667956176646\n",
       "49. 0.299906710639728\n",
       "50. 0.172562514560241\n",
       "51. 0.159509805815723\n",
       "52. 0.335723617516963\n",
       "53. 0.31835387092248\n",
       "54. 0.21106006525424\n",
       "55. 0.228332960874112\n",
       "56. 0.152307088887553\n",
       "57. 0.116806776110983\n",
       "58. 0.105118311510322\n",
       "59. 0.104446470034441\n",
       "60. 0.147784411619883\n",
       "61. 0.173484738388431\n",
       "62. 0.108210180184449\n",
       "63. 0.186568613891681\n",
       "64. 0.255599223011935\n",
       "65. 0.1951696166329\n",
       "66. 0.177936403296626\n",
       "67. 0.118620058911695\n",
       "68. 0.135944334734026\n",
       "69. 0.127615500514833\n",
       "70. 0.160612334752369\n",
       "71. 0.141372530819934\n",
       "72. 0.330325095247979\n",
       "73. 0.352477754335107\n",
       "74. 0.354639482452174\n",
       "75. 0.434597793345679\n",
       "76. 0.442003623561845\n",
       "77. 0.373822888133291\n",
       "78. 0.456120298886387\n",
       "79. 0.412576022670459\n",
       "80. 0.501643794475863\n",
       "81. 0.338884292271158\n",
       "82. 0.249525361319331\n",
       "83. 0.409050281525009\n",
       "84. 0.66192732689556\n",
       "85. 0.466418550833748\n",
       "86. 0.422653013959894\n",
       "87. 0.233204368795534\n",
       "88. 0.489957946248667\n",
       "89. 0.325351475191588\n",
       "90. 0.213678263726926\n",
       "91. 0.118363547067261\n",
       "92. 0.160179383430662\n",
       "93. 0.178676403049367\n",
       "94. 0.090502967775859\n",
       "95. 0.0662509111160098\n",
       "96. 0.210010053499271\n",
       "97. 0.140297513310103\n",
       "98. 0.113874200395744\n",
       "99. 0.223381703880668\n",
       "100. 0.109367659491233\n",
       "101. 0.0789271715450903\n",
       "102. 0.155544560138415\n",
       "103. 0.194659337180752\n",
       "104. 0.0709686654324883\n",
       "105. 0.0179167537773335\n",
       "106. 0.00985033551489944\n",
       "107. 0.193592263387246\n",
       "108. 0.182691821218968\n",
       "109. 0.193396466803517\n",
       "110. 0.184253655625721\n",
       "111. 0.190436669419975\n",
       "112. 0.157302180482798\n",
       "113. 0.173482728488456\n",
       "114. 0.163287428754179\n",
       "115. 0.129811346441869\n",
       "116. 0.154057395846598\n",
       "117. 0.225381343819795\n",
       "118. 0.239872832231061\n",
       "119. 0.296036223654272\n",
       "120. 0.385732444663383\n",
       "121. 0.371469450258025\n",
       "122. 0.44595808163136\n",
       "123. 0.369568489675538\n",
       "124. 0.304909512117174\n",
       "125. 0.313634370282667\n",
       "126. 0.317572159895766\n",
       "127. 0.360960346957285\n",
       "128. 0.410398811523058\n",
       "129. 0.406827200932204\n",
       "130. 0.312911268945108\n",
       "131. 0.304917631327385\n",
       "132. 0.277900464996755\n",
       "133. 0.296464238002952\n",
       "134. 0.32611558112362\n",
       "135. 0.391438749136482\n",
       "136. 0.348500715317487\n",
       "137. 0.445789280386036\n",
       "138. 0.386628987054678\n",
       "139. 0.322953897597437\n",
       "140. 0.232115858128258\n",
       "141. 0.260780326154671\n",
       "142. 0.208334240894479\n",
       "143. -0.00699334286664777\n",
       "144. 8.64444184426327e-05\n",
       "145. 0.138893796634008\n",
       "146. 0.151408765433088\n",
       "147. 0.134063287449158\n",
       "148. 0.548453364874173\n",
       "149. 0.215108240895389\n",
       "150. 0.0122509891283247\n",
       "151. -0.155071745361643\n",
       "152. -0.134992506009868\n",
       "153. 0.0329634724373065\n",
       "154. -0.195737071209665\n",
       "155. 0.0798594781550044\n",
       "156. 0.0332797835378034\n",
       "157. -0.234009868137525\n",
       "158. -0.362196550514753\n",
       "159. -0.308045281447717\n",
       "160. -0.427955968688227\n",
       "161. -0.40624530095506\n",
       "162. -0.189843246689608\n",
       "163. -0.219447563249589\n",
       "164. -0.169383980260608\n",
       "165. -0.0846869560171502\n",
       "166. -0.1544958761519\n",
       "167. -0.0855696607950176\n",
       "168. -0.027171298222342\n",
       "169. 0.0192630308218633\n",
       "170. -0.088913169424131\n",
       "171. -0.11992296639714\n",
       "172. 0.0242120407465929\n",
       "173. 0.0412164170119876\n",
       "174. 0.0751658407897016\n",
       "175. 0.0675325831456275\n",
       "176. 0.0562526222558973\n",
       "177. 0.0394825435773658\n",
       "178. 0.0739883177385435\n",
       "179. 0.302995926158189\n",
       "180. 0.297847712177853\n",
       "181. 0.294208538411102\n",
       "182. 0.379478372840857\n",
       "183. 0.340155052547517\n",
       "184. 0.359297785412147\n",
       "185. 0.282968172581921\n",
       "186. 0.26334794711925\n",
       "187. 0.386143959086216\n",
       "188. 0.255043491422711\n",
       "189. 0.370010428995732\n",
       "190. 0.481188523434926\n",
       "191. 0.370104605887046\n",
       "192. 0.242263434201798\n",
       "193. 0.263944928919974\n",
       "194. 0.417915877646456\n",
       "195. 0.314326492295251\n",
       "196. 0.243200166479815\n",
       "197. 0.1044286000221\n",
       "198. 0.043899903499605\n",
       "199. -0.0229790084846675\n",
       "200. 0.00692925497917041\n",
       "201. ⋯\n",
       "202. -2.57053118983946\n",
       "203. -2.2712095742796\n",
       "204. -2.72893790924261\n",
       "205. -2.49943063741561\n",
       "206. -1.16632410012969\n",
       "207. -2.2862880666549\n",
       "208. -0.724242412150333\n",
       "209. -1.0927529753468\n",
       "210. -1.08370956302926\n",
       "211. -1.26183906703227\n",
       "212. -1.84260160708262\n",
       "213. -2.11798517395318\n",
       "214. -1.92916854122991\n",
       "215. -1.69615268032558\n",
       "216. -1.78291620629148\n",
       "217. -1.05928613885216\n",
       "218. -1.28168011621017\n",
       "219. -0.565277517849144\n",
       "220. -0.203474605956372\n",
       "221. -0.399716302056148\n",
       "222. -0.751303085793265\n",
       "223. -0.689690452537809\n",
       "224. -0.499621817362228\n",
       "225. -0.221148615167756\n",
       "226. -0.330143102473819\n",
       "227. -0.0835660518969616\n",
       "228. -0.0147664394002764\n",
       "229. -0.181324362364199\n",
       "230. -0.0478014329744205\n",
       "231. 0.148112414199223\n",
       "232. 0.0511911376652763\n",
       "233. 0.43769480722334\n",
       "234. 0.983966799723845\n",
       "235. 0.751320690221162\n",
       "236. 0.827431936952928\n",
       "237. 0.435443095778421\n",
       "238. 0.240200104020706\n",
       "239. 0.357437403978541\n",
       "240. 0.281601388985534\n",
       "241. 0.351574676618664\n",
       "242. 0.606337856267831\n",
       "243. 0.551501480902425\n",
       "244. 0.554433481410301\n",
       "245. 0.647061058980319\n",
       "246. 0.465835454494229\n",
       "247. 0.24472225965888\n",
       "248. 0.237578888051032\n",
       "249. 0.591076519849894\n",
       "250. 0.826570056588022\n",
       "251. 0.674511947099233\n",
       "252. 0.798509206686599\n",
       "253. 0.623849165186415\n",
       "254. 0.619041149757749\n",
       "255. 0.478819322332698\n",
       "256. 0.55102640652748\n",
       "257. 0.475446272168093\n",
       "258. -0.120213873251673\n",
       "259. -0.080439041572766\n",
       "260. -0.0514857177975097\n",
       "261. -0.0119552708701036\n",
       "262. -0.0875169838107261\n",
       "263. 0.0618247355898902\n",
       "264. -0.0112996566809884\n",
       "265. -0.0599279664477039\n",
       "266. -0.0359368665933195\n",
       "267. -0.228077826351401\n",
       "268. -0.143227683983043\n",
       "269. -0.0883860078816359\n",
       "270. -0.115453231800245\n",
       "271. 0.691993802086282\n",
       "272. 0.39479235370713\n",
       "273. 0.293470116017313\n",
       "274. 0.239734484871427\n",
       "275. 0.212426147001036\n",
       "276. 0.256758981173627\n",
       "277. 0.412174848567723\n",
       "278. 0.19142143080581\n",
       "279. 0.158769660860584\n",
       "280. 0.888255201504845\n",
       "281. 0.798672420827736\n",
       "282. 0.956837318125569\n",
       "283. 0.827947828158099\n",
       "284. 0.73961370717879\n",
       "285. 0.625973606179272\n",
       "286. 0.577188906262909\n",
       "287. 0.538722564258346\n",
       "288. 0.545164697686618\n",
       "289. 0.799377792562458\n",
       "290. 0.713270620391561\n",
       "291. 0.947187865215714\n",
       "292. 0.844873242850151\n",
       "293. 1.19126059470367\n",
       "294. 1.01868577211477\n",
       "295. 0.908630900506738\n",
       "296. 0.971760099385242\n",
       "297. 0.876022257123777\n",
       "298. 0.806210501727173\n",
       "299. 0.853266965997028\n",
       "300. 0.804829014334475\n",
       "301. 0.921162417541023\n",
       "302. 0.935547345778574\n",
       "303. 0.880402815617499\n",
       "304. 0.935359036822444\n",
       "305. 0.85106007789608\n",
       "306. 0.892640966503352\n",
       "307. 0.873011529941185\n",
       "308. 0.866403643361626\n",
       "309. 0.890085857064815\n",
       "310. 0.874803075868603\n",
       "311. 0.840664284760058\n",
       "312. 0.853040304709794\n",
       "313. 0.878615166173919\n",
       "314. 1.00756327690002\n",
       "315. 0.897887294064156\n",
       "316. 0.833496501564058\n",
       "317. 0.376436606853542\n",
       "318. 0.315044799376814\n",
       "319. 0.156459661884273\n",
       "320. 0.146308084131342\n",
       "321. 0.100151030336692\n",
       "322. 0.0999696167289241\n",
       "323. 0.0951744784805217\n",
       "324. 0.0701580998533624\n",
       "325. 0.143972833666232\n",
       "326. 0.208412768854766\n",
       "327. 0.0948970679297434\n",
       "328. 0.294751157054685\n",
       "329. 0.256482986873436\n",
       "330. 0.205134449128424\n",
       "331. 0.668225808399341\n",
       "332. 0.441272949579314\n",
       "333. 0.413853314994271\n",
       "334. 0.459114439276391\n",
       "335. 0.287739601550644\n",
       "336. 0.336784067016833\n",
       "337. 0.162694020628191\n",
       "338. 0.0834858271050534\n",
       "339. 0.230611352868233\n",
       "340. 0.213980416271271\n",
       "341. 0.377343425075293\n",
       "342. 0.392811545300182\n",
       "343. 0.549402903034175\n",
       "344. 0.477056208723649\n",
       "345. 0.594356467376312\n",
       "346. 0.591545235523081\n",
       "347. 0.463866190862975\n",
       "348. 0.409389945421039\n",
       "349. 0.442720543738081\n",
       "350. 0.482090293430892\n",
       "351. 0.515392585305012\n",
       "352. 0.726974926630576\n",
       "353. 0.645657212190361\n",
       "354. 0.780180494769057\n",
       "355. 0.480647397496989\n",
       "356. 0.347541618057783\n",
       "357. 0.253151849935394\n",
       "358. 0.233005467033384\n",
       "359. 0.254693945024243\n",
       "360. 0.24908580445523\n",
       "361. 0.269573364084073\n",
       "362. 0.338185018648844\n",
       "363. 0.439022676481766\n",
       "364. 0.458611922294915\n",
       "365. 0.448338346170743\n",
       "366. 0.403210087772463\n",
       "367. 0.349417886111654\n",
       "368. 0.643097423787453\n",
       "369. 0.692370700603548\n",
       "370. 1.15492875101676\n",
       "371. 0.986148128973982\n",
       "372. 1.00340799957878\n",
       "373. 0.946801599506647\n",
       "374. 0.813879690992865\n",
       "375. 0.512275083524914\n",
       "376. 0.393434403221509\n",
       "377. 0.524459632823443\n",
       "378. 0.582643960499094\n",
       "379. 0.589855636712918\n",
       "380. 0.510298009499727\n",
       "381. 0.668986361226453\n",
       "382. 0.606525154299748\n",
       "383. 0.645549077878001\n",
       "384. 0.632110809826526\n",
       "385. 0.729917691132307\n",
       "386. 0.684166670348323\n",
       "387. 0.724389729652855\n",
       "388. 0.659684080716092\n",
       "389. 0.639927681095201\n",
       "390. 0.644177460416983\n",
       "391. 0.648931292025829\n",
       "392. 0.673937019590257\n",
       "393. 0.654588120180451\n",
       "394. 0.693121557740123\n",
       "395. 0.723126915937752\n",
       "396. 0.79648198376104\n",
       "397. 0.763855129586602\n",
       "398. 0.796614619584153\n",
       "399. 0.762396405252068\n",
       "400. 0.799742930312427\n",
       "401. 0.799757407137114\n",
       "\n",
       "\n"
      ],
      "text/plain": [
       "  [1] -5.914483e-01 -6.732299e-01 -6.203435e-01 -6.620905e-01 -6.354153e-01\n",
       "  [6] -6.558065e-01 -6.231113e-01 -6.577548e-01 -4.275967e-01 -4.603256e-01\n",
       " [11] -4.158676e-01 -3.713728e-01  7.423986e-02  6.509135e-02 -2.773402e-02\n",
       " [16] -9.316695e-02 -1.211781e-01  5.223844e-02  2.829582e-01  2.246111e-01\n",
       " [21]  3.024112e-01  2.618596e-01  2.440594e-01  2.123341e-01  2.372409e-01\n",
       " [26]  2.723616e-01  1.894193e-01  1.969640e-01  2.240710e-01  2.603019e-01\n",
       " [31]  2.873231e-01  2.236989e-01  3.192978e-01  3.698354e-01  3.391321e-01\n",
       " [36]  4.014394e-01  3.436488e-01  3.829378e-01  3.711910e-01  4.402732e-01\n",
       " [41]  4.166303e-01  4.248219e-01  3.051829e-01  2.677212e-01  2.932872e-01\n",
       " [46]  2.977408e-01  2.647008e-01  3.136680e-01  2.999067e-01  1.725625e-01\n",
       " [51]  1.595098e-01  3.357236e-01  3.183539e-01  2.110601e-01  2.283330e-01\n",
       " [56]  1.523071e-01  1.168068e-01  1.051183e-01  1.044465e-01  1.477844e-01\n",
       " [61]  1.734847e-01  1.082102e-01  1.865686e-01  2.555992e-01  1.951696e-01\n",
       " [66]  1.779364e-01  1.186201e-01  1.359443e-01  1.276155e-01  1.606123e-01\n",
       " [71]  1.413725e-01  3.303251e-01  3.524778e-01  3.546395e-01  4.345978e-01\n",
       " [76]  4.420036e-01  3.738229e-01  4.561203e-01  4.125760e-01  5.016438e-01\n",
       " [81]  3.388843e-01  2.495254e-01  4.090503e-01  6.619273e-01  4.664186e-01\n",
       " [86]  4.226530e-01  2.332044e-01  4.899579e-01  3.253515e-01  2.136783e-01\n",
       " [91]  1.183635e-01  1.601794e-01  1.786764e-01  9.050297e-02  6.625091e-02\n",
       " [96]  2.100101e-01  1.402975e-01  1.138742e-01  2.233817e-01  1.093677e-01\n",
       "[101]  7.892717e-02  1.555446e-01  1.946593e-01  7.096867e-02  1.791675e-02\n",
       "[106]  9.850336e-03  1.935923e-01  1.826918e-01  1.933965e-01  1.842537e-01\n",
       "[111]  1.904367e-01  1.573022e-01  1.734827e-01  1.632874e-01  1.298113e-01\n",
       "[116]  1.540574e-01  2.253813e-01  2.398728e-01  2.960362e-01  3.857324e-01\n",
       "[121]  3.714695e-01  4.459581e-01  3.695685e-01  3.049095e-01  3.136344e-01\n",
       "[126]  3.175722e-01  3.609603e-01  4.103988e-01  4.068272e-01  3.129113e-01\n",
       "[131]  3.049176e-01  2.779005e-01  2.964642e-01  3.261156e-01  3.914387e-01\n",
       "[136]  3.485007e-01  4.457893e-01  3.866290e-01  3.229539e-01  2.321159e-01\n",
       "[141]  2.607803e-01  2.083342e-01 -6.993343e-03  8.644442e-05  1.388938e-01\n",
       "[146]  1.514088e-01  1.340633e-01  5.484534e-01  2.151082e-01  1.225099e-02\n",
       "[151] -1.550717e-01 -1.349925e-01  3.296347e-02 -1.957371e-01  7.985948e-02\n",
       "[156]  3.327978e-02 -2.340099e-01 -3.621966e-01 -3.080453e-01 -4.279560e-01\n",
       "[161] -4.062453e-01 -1.898432e-01 -2.194476e-01 -1.693840e-01 -8.468696e-02\n",
       "[166] -1.544959e-01 -8.556966e-02 -2.717130e-02  1.926303e-02 -8.891317e-02\n",
       "[171] -1.199230e-01  2.421204e-02  4.121642e-02  7.516584e-02  6.753258e-02\n",
       "[176]  5.625262e-02  3.948254e-02  7.398832e-02  3.029959e-01  2.978477e-01\n",
       "[181]  2.942085e-01  3.794784e-01  3.401551e-01  3.592978e-01  2.829682e-01\n",
       "[186]  2.633479e-01  3.861440e-01  2.550435e-01  3.700104e-01  4.811885e-01\n",
       "[191]  3.701046e-01  2.422634e-01  2.639449e-01  4.179159e-01  3.143265e-01\n",
       "[196]  2.432002e-01  1.044286e-01  4.389990e-02 -2.297901e-02  6.929255e-03\n",
       "[201]  1.905889e-02  4.439080e-02  3.904123e-02  7.109691e-02  9.138470e-02\n",
       "[206]  1.861850e-01  1.289536e-01  2.062389e-01  2.275058e-01  3.213643e-01\n",
       "[211]  3.985737e-01  3.385942e-01  4.168638e-01  4.395575e-01  4.527396e-01\n",
       "[216]  4.451017e-01  4.027327e-01  4.608520e-01  4.570819e-01  4.889203e-01\n",
       "[221]  4.929613e-01  4.066565e-01  4.359038e-01  4.671858e-01  4.447535e-01\n",
       "[226]  4.089092e-01  3.359936e-01  3.329525e-01  3.171752e-01  2.944043e-01\n",
       "[231]  2.854539e-01  3.404003e-01  4.839202e-01  5.250423e-01  4.514766e-01\n",
       "[236]  4.172758e-01  3.601917e-01  5.203704e-01  5.036895e-01  4.556420e-01\n",
       "[241]  4.032362e-01  3.243202e-01  2.879706e-01  3.130688e-01  3.061313e-01\n",
       "[246]  3.040097e-01  2.951996e-01  3.163708e-01  3.574376e-01  3.550781e-01\n",
       "[251]  3.489742e-01  4.140502e-01  5.032630e-01  4.297488e-01  4.230342e-01\n",
       "[256]  3.651193e-01  4.416357e-01  4.433939e-01  4.297092e-01  4.097639e-01\n",
       "[261]  3.562256e-01  3.075788e-01  1.730128e-01  1.430003e-01  1.517213e-01\n",
       "[266]  1.429867e-01  2.696093e-02  1.340448e-02  1.551843e-02  7.494471e-03\n",
       "[271]  1.215446e-02  1.033640e-01  3.278324e-01  2.133878e-01  2.179130e-01\n",
       "[276]  1.677379e-01  3.809162e-01  3.211915e-01  2.120559e-01  1.519368e-01\n",
       "[281]  1.076042e-01 -1.355101e-01 -3.250930e-01 -3.087693e-01 -6.715251e-01\n",
       "[286] -6.162397e-01 -9.813884e-01 -1.056328e+00 -1.185598e+00 -1.317624e+00\n",
       "[291] -1.223802e+00 -1.605316e+00 -1.359982e+00 -1.323607e+00 -1.877264e+00\n",
       "[296] -1.750026e+00 -2.361117e+00 -3.025835e+00 -2.869279e+00 -3.184939e+00\n",
       "[301] -2.719743e+00 -2.570531e+00 -2.271210e+00 -2.728938e+00 -2.499431e+00\n",
       "[306] -1.166324e+00 -2.286288e+00 -7.242424e-01 -1.092753e+00 -1.083710e+00\n",
       "[311] -1.261839e+00 -1.842602e+00 -2.117985e+00 -1.929169e+00 -1.696153e+00\n",
       "[316] -1.782916e+00 -1.059286e+00 -1.281680e+00 -5.652775e-01 -2.034746e-01\n",
       "[321] -3.997163e-01 -7.513031e-01 -6.896905e-01 -4.996218e-01 -2.211486e-01\n",
       "[326] -3.301431e-01 -8.356605e-02 -1.476644e-02 -1.813244e-01 -4.780143e-02\n",
       "[331]  1.481124e-01  5.119114e-02  4.376948e-01  9.839668e-01  7.513207e-01\n",
       "[336]  8.274319e-01  4.354431e-01  2.402001e-01  3.574374e-01  2.816014e-01\n",
       "[341]  3.515747e-01  6.063379e-01  5.515015e-01  5.544335e-01  6.470611e-01\n",
       "[346]  4.658355e-01  2.447223e-01  2.375789e-01  5.910765e-01  8.265701e-01\n",
       "[351]  6.745119e-01  7.985092e-01  6.238492e-01  6.190411e-01  4.788193e-01\n",
       "[356]  5.510264e-01  4.754463e-01 -1.202139e-01 -8.043904e-02 -5.148572e-02\n",
       "[361] -1.195527e-02 -8.751698e-02  6.182474e-02 -1.129966e-02 -5.992797e-02\n",
       "[366] -3.593687e-02 -2.280778e-01 -1.432277e-01 -8.838601e-02 -1.154532e-01\n",
       "[371]  6.919938e-01  3.947924e-01  2.934701e-01  2.397345e-01  2.124261e-01\n",
       "[376]  2.567590e-01  4.121748e-01  1.914214e-01  1.587697e-01  8.882552e-01\n",
       "[381]  7.986724e-01  9.568373e-01  8.279478e-01  7.396137e-01  6.259736e-01\n",
       "[386]  5.771889e-01  5.387226e-01  5.451647e-01  7.993778e-01  7.132706e-01\n",
       "[391]  9.471879e-01  8.448732e-01  1.191261e+00  1.018686e+00  9.086309e-01\n",
       "[396]  9.717601e-01  8.760223e-01  8.062105e-01  8.532670e-01  8.048290e-01\n",
       "[401]  9.211624e-01  9.355473e-01  8.804028e-01  9.353590e-01  8.510601e-01\n",
       "[406]  8.926410e-01  8.730115e-01  8.664036e-01  8.900859e-01  8.748031e-01\n",
       "[411]  8.406643e-01  8.530403e-01  8.786152e-01  1.007563e+00  8.978873e-01\n",
       "[416]  8.334965e-01  3.764366e-01  3.150448e-01  1.564597e-01  1.463081e-01\n",
       "[421]  1.001510e-01  9.996962e-02  9.517448e-02  7.015810e-02  1.439728e-01\n",
       "[426]  2.084128e-01  9.489707e-02  2.947512e-01  2.564830e-01  2.051344e-01\n",
       "[431]  6.682258e-01  4.412729e-01  4.138533e-01  4.591144e-01  2.877396e-01\n",
       "[436]  3.367841e-01  1.626940e-01  8.348583e-02  2.306114e-01  2.139804e-01\n",
       "[441]  3.773434e-01  3.928115e-01  5.494029e-01  4.770562e-01  5.943565e-01\n",
       "[446]  5.915452e-01  4.638662e-01  4.093899e-01  4.427205e-01  4.820903e-01\n",
       "[451]  5.153926e-01  7.269749e-01  6.456572e-01  7.801805e-01  4.806474e-01\n",
       "[456]  3.475416e-01  2.531518e-01  2.330055e-01  2.546939e-01  2.490858e-01\n",
       "[461]  2.695734e-01  3.381850e-01  4.390227e-01  4.586119e-01  4.483383e-01\n",
       "[466]  4.032101e-01  3.494179e-01  6.430974e-01  6.923707e-01  1.154929e+00\n",
       "[471]  9.861481e-01  1.003408e+00  9.468016e-01  8.138797e-01  5.122751e-01\n",
       "[476]  3.934344e-01  5.244596e-01  5.826440e-01  5.898556e-01  5.102980e-01\n",
       "[481]  6.689864e-01  6.065252e-01  6.455491e-01  6.321108e-01  7.299177e-01\n",
       "[486]  6.841667e-01  7.243897e-01  6.596841e-01  6.399277e-01  6.441775e-01\n",
       "[491]  6.489313e-01  6.739370e-01  6.545881e-01  6.931216e-01  7.231269e-01\n",
       "[496]  7.964820e-01  7.638551e-01  7.966146e-01  7.623964e-01  7.997429e-01\n",
       "[501]  7.997574e-01"
      ]
     },
     "metadata": {},
     "output_type": "display_data"
    }
   ],
   "source": [
    "vix_100 -realized_100"
   ]
  },
  {
   "cell_type": "markdown",
   "id": "ecae16c6",
   "metadata": {},
   "source": [
    "#### Risk"
   ]
  },
  {
   "cell_type": "markdown",
   "id": "218f227c",
   "metadata": {},
   "source": [
    "#### A/ Stochastic Volatility"
   ]
  },
  {
   "cell_type": "code",
   "execution_count": 877,
   "id": "9dfce90d",
   "metadata": {},
   "outputs": [],
   "source": [
    "alpha1 <- 0.20\n",
    "eta_hat <- epsilon / sqrt(exp(alpha_t))\n",
    "xi_hat <- quantile(eta_hat, probs = seq(0, 1, 0.01))[alpha1*100+1]\n",
    "VaR_SV <- sqrt(exp(alpha_t)) * xi_hat"
   ]
  },
  {
   "cell_type": "markdown",
   "id": "2c0efd4b",
   "metadata": {},
   "source": [
    "#### B/ GARCH"
   ]
  },
  {
   "cell_type": "code",
   "execution_count": 878,
   "id": "f4ad4447",
   "metadata": {},
   "outputs": [],
   "source": [
    "eta_hat_g <- epsilon / sqrt(sigma2_hat)\n",
    "xi_hat_g <- quantile(eta_hat_g, probs = seq(0, 1, 0.01))[alpha1*100+1]\n",
    "VaR_G <- sqrt(sigma2_hat) * xi_hat_g"
   ]
  },
  {
   "cell_type": "markdown",
   "id": "009b2f6c",
   "metadata": {},
   "source": [
    "#### C/ UNCONDITIONAL"
   ]
  },
  {
   "cell_type": "code",
   "execution_count": 879,
   "id": "b7ade95c",
   "metadata": {},
   "outputs": [],
   "source": [
    "VaR_U <- quantile(epsilon, probs = seq(0, 1, 0.01))[alpha1*100+1]"
   ]
  },
  {
   "cell_type": "code",
   "execution_count": 880,
   "id": "9d96d5f3",
   "metadata": {},
   "outputs": [
    {
     "name": "stderr",
     "output_type": "stream",
     "text": [
      "Warning message in data.frame(..., check.names = FALSE):\n",
      "\"row names were found from a short variable and have been discarded\"\n"
     ]
    }
   ],
   "source": [
    "col_names<-c('t', 'returns', 'VaR_SV', 'VaR_G', 'VaR_U')\n",
    "confidence_tab_var <- as.data.frame(epsilon)\n",
    "confidence_tab_var <- cbind(confidence_tab_var, VaR_SV)\n",
    "confidence_tab_var <- cbind(confidence_tab_var, VaR_G)\n",
    "confidence_tab_var <- cbind(confidence_tab_var, VaR_U)\n",
    "confidence_tab_var <- cbind(t, confidence_tab_var)\n",
    "colnames(confidence_tab_var) <- col_names\n",
    "confidence_tab_var <- melt(confidence_tab_var, id=\"t\")\n",
    "confidence_tab_var <- cbind(rep(DATE[1:T]), confidence_tab_var)\n",
    "colnames(confidence_tab_var) <- c('Date', 't', 'variable', 'value')"
   ]
  },
  {
   "cell_type": "code",
   "execution_count": 881,
   "id": "b9512987",
   "metadata": {},
   "outputs": [],
   "source": [
    "options(repr.plot.width = 10, repr.plot.height = 5, repr.plot.res = 100)\n",
    "confidence_chart_var <-ggplot(data=confidence_tab_var, aes(x=Date, y=value, colour=variable))+\n",
    "    geom_line(lwd=0.5)+\n",
    "    theme_classic()+\n",
    "    scale_color_manual(name = \"Variables\", values= c('black', 'red', 'blue', 'cyan'),\n",
    "                       labels = c('Returns', '-VaR SV', '-VaR Garch', '-Unconditional VaR'))+\n",
    "    labs(title = \"Returns vs. VaR\"\n",
    "         , x = \"Time\", y=\"Value\")+\n",
    "    theme(\n",
    "        axis.title = element_text(size =12),\n",
    "        axis.text = element_text(size = 12, color = 'black')\n",
    "    )"
   ]
  },
  {
   "cell_type": "code",
   "execution_count": 882,
   "id": "9d1c87c4",
   "metadata": {},
   "outputs": [
    {
     "data": {
      "image/png": "[encoded data removed]",
      "text/plain": [
       "plot without title"
      ]
     },
     "metadata": {
      "image/png": {
       "height": 250,
       "width": 500
      }
     },
     "output_type": "display_data"
    }
   ],
   "source": [
    "confidence_chart_var"
   ]
  },
  {
   "cell_type": "code",
   "execution_count": 883,
   "id": "1816a959",
   "metadata": {},
   "outputs": [
    {
     "data": {
      "text/html": [
       "<strong>png:</strong> 2"
      ],
      "text/latex": [
       "\\textbf{png:} 2"
      ],
      "text/markdown": [
       "**png:** 2"
      ],
      "text/plain": [
       "png \n",
       "  2 "
      ]
     },
     "metadata": {},
     "output_type": "display_data"
    }
   ],
   "source": [
    "pdf(file=paste0(ILLUS_PATH, \"VaR_RD_020.pdf\"),width=10, height=5)\n",
    "confidence_chart_var\n",
    "dev.off()"
   ]
  },
  {
   "cell_type": "code",
   "execution_count": null,
   "id": "9ebcefcd",
   "metadata": {},
   "outputs": [],
   "source": []
  },
  {
   "cell_type": "markdown",
   "id": "b8a036a8",
   "metadata": {},
   "source": [
    "### Expected Shortfall"
   ]
  },
  {
   "cell_type": "code",
   "execution_count": 884,
   "id": "7320c6ea",
   "metadata": {},
   "outputs": [],
   "source": [
    "ES_g <- c()\n",
    "id_g <- c()\n",
    "ES_sv <- c()\n",
    "id_sv <- c()\n",
    "\n",
    "ES_u <- rep(quantile(epsilon, probs = seq(0, 1, 0.01))[alpha1*100+1], 500)\n",
    "\n",
    "for (t in 1:T){\n",
    "    if (eta_hat_g[t] < xi_hat_g){\n",
    "        id_g[t] <- 1\n",
    "    } else {\n",
    "        id_g[t] <- 0\n",
    "    }\n",
    "}   \n",
    "eta_hat_g_mod <- id_g * eta_hat_g\n",
    "eta_hat_g_mod <- eta_hat_g_mod[eta_hat_g_mod!=0]\n",
    "\n",
    "ES_g <- mean(eta_hat_g_mod) * sqrt(exp(alpha_t))\n",
    "\n",
    "for (t in 1:T){\n",
    "    if (eta_hat[t] < xi_hat){\n",
    "        id_sv[t] <- 1\n",
    "    } else {\n",
    "        id_sv[t] <- 0\n",
    "    }\n",
    "}   \n",
    "\n",
    "eta_hat_sv_mod <- id_sv * eta_hat\n",
    "eta_hat_sv_mod <- eta_hat_sv_mod[eta_hat_sv_mod!=0]\n",
    "\n",
    "ES_sv <- mean(eta_hat_sv_mod) * sqrt(sigma2_hat)"
   ]
  },
  {
   "cell_type": "code",
   "execution_count": 885,
   "id": "3b1b4b6b",
   "metadata": {},
   "outputs": [
    {
     "data": {
      "image/png": "[encoded data removed]",
      "text/plain": [
       "plot without title"
      ]
     },
     "metadata": {
      "image/png": {
       "height": 250,
       "width": 500
      }
     },
     "output_type": "display_data"
    }
   ],
   "source": [
    "plot(epsilon, type='l', col='black')\n",
    "lines(ES_sv, type='l', col='blue')\n",
    "lines(ES_g, type='l', col='red')\n",
    "lines(ES_u, type='l', col='cyan')"
   ]
  },
  {
   "cell_type": "code",
   "execution_count": 886,
   "id": "8d856b34",
   "metadata": {},
   "outputs": [],
   "source": [
    "# Load Data\n",
    "t<-1:T\n",
    "col_names<-c('t', 'Log-Returns', 'ES Stochastic Volatility', 'ES GARCH', 'ES Unconditional')\n",
    "es_tab <- as.data.frame(epsilon[1:T])\n",
    "es_tab <- cbind(es_tab, ES_sv[1:T])\n",
    "es_tab <- cbind(es_tab, ES_g[1:T])\n",
    "es_tab <- cbind(es_tab, ES_u[1:T])\n",
    "es_tab <- cbind(t, es_tab)\n",
    "colnames(es_tab) <- col_names\n",
    "es_tab <- melt(es_tab, id=\"t\")\n",
    "es_tab <- cbind(rep(DATE[1:T]), es_tab)\n",
    "colnames(es_tab) <- c('Date', 't', 'variable', 'value')"
   ]
  },
  {
   "cell_type": "code",
   "execution_count": 887,
   "id": "e386ebf8",
   "metadata": {},
   "outputs": [],
   "source": [
    "options(repr.plot.width = 10, repr.plot.height = 5, repr.plot.res = 100)\n",
    "es_chart <-ggplot(data=es_tab, aes(x=Date, y=value, colour=variable))+\n",
    "    geom_line(lwd=0.5)+\n",
    "    theme_classic()+\n",
    "    scale_color_manual(name = \"Variables\", values= c('black', 'red', 'blue', 'cyan'),\n",
    "                       labels = c('Returns', 'Expected Shortfall SV',\n",
    "                                  'Expected  Shortfall Garch',\n",
    "                                  'Unconditional Expected Shortfall'))+\n",
    "    labs(title = \"Returns vs. Expected Shortfall\"\n",
    "         , x = \"Time\", y=\"Value\")+\n",
    "    theme(\n",
    "        axis.title = element_text(size =12),\n",
    "        axis.text = element_text(size = 12, color = 'black')\n",
    "    )"
   ]
  },
  {
   "cell_type": "code",
   "execution_count": 888,
   "id": "1f7c4835",
   "metadata": {},
   "outputs": [
    {
     "name": "stderr",
     "output_type": "stream",
     "text": [
      "Warning message:\n",
      "\"Removed 1 row(s) containing missing values (geom_path).\"\n"
     ]
    },
    {
     "data": {
      "image/png": "[encoded data removed]",
      "text/plain": [
       "plot without title"
      ]
     },
     "metadata": {
      "image/png": {
       "height": 250,
       "width": 500
      }
     },
     "output_type": "display_data"
    }
   ],
   "source": [
    "es_chart"
   ]
  },
  {
   "cell_type": "code",
   "execution_count": 889,
   "id": "2dfe9e6c",
   "metadata": {},
   "outputs": [
    {
     "name": "stderr",
     "output_type": "stream",
     "text": [
      "Warning message:\n",
      "\"Removed 1 row(s) containing missing values (geom_path).\"\n"
     ]
    },
    {
     "data": {
      "text/html": [
       "<strong>png:</strong> 2"
      ],
      "text/latex": [
       "\\textbf{png:} 2"
      ],
      "text/markdown": [
       "**png:** 2"
      ],
      "text/plain": [
       "png \n",
       "  2 "
      ]
     },
     "metadata": {},
     "output_type": "display_data"
    }
   ],
   "source": [
    "pdf(file=paste0(ILLUS_PATH, \"ES_RD_020.pdf\"),width=10, height=5)\n",
    "es_chart\n",
    "dev.off()"
   ]
  },
  {
   "cell_type": "markdown",
   "id": "abedec65",
   "metadata": {},
   "source": [
    "### Monte Carlo - on Real Data"
   ]
  },
  {
   "cell_type": "code",
   "execution_count": 643,
   "id": "55314f5c",
   "metadata": {},
   "outputs": [],
   "source": [
    "T <- 3000\n",
    "n <- 250\n",
    "N <- T+n\n",
    "M <- length(returns[1,]) - 1\n",
    "epsilon_conso <- returns[,2:(M+1)]"
   ]
  },
  {
   "cell_type": "code",
   "execution_count": 644,
   "id": "2b7d1deb",
   "metadata": {},
   "outputs": [],
   "source": [
    "# Initialistation\n",
    "sigma2_hat_g <- matrix(0, nrow=M, ncol=N)\n",
    "eta_hat_g <- matrix(0, nrow=M, ncol=N)\n",
    "VaR_mat_g <- matrix(0, nrow=M, ncol=N)\n",
    "xi_hat_g <- c()\n",
    "    \n",
    "sigma2_hat_sv <- matrix(0, nrow=M, ncol=N)\n",
    "eta_hat_sv <- matrix(0, nrow=M, ncol=N)\n",
    "VaR_mat_sv <- matrix(0, nrow=M, ncol=N)\n",
    "xi_hat_sv <- c()\n",
    "\n",
    "VaR_mat_u <- matrix(0, nrow=M, ncol=N)\n",
    "\n",
    "for (j in 1:M){\n",
    "    epsilon <- epsilon_conso[,j]\n",
    "    epsilon <- (epsilon+0.00001) * 100\n",
    "    \n",
    "    ## 1) Stochastic Volatility Model\n",
    "    estimation <- estim_sv(theta0, epsilon)\n",
    "    theta_hat <- estimation\n",
    "    theta_hat\n",
    "    \n",
    "    alpha_t <- c()\n",
    "    P_t <- c()\n",
    "    F_t <- c()\n",
    "    K_t <- c()\n",
    "    omega <- theta_hat[1]\n",
    "    beta <- theta_hat[2]\n",
    "    sigma <- theta_hat[3]\n",
    "    mu_Z <- -1.270\n",
    "    sigma_Z <- sqrt(pi**2/2)\n",
    "    \n",
    "    a0 <- 0\n",
    "    beta0 <- 0.8\n",
    "    P0 <- sigma**2\n",
    "    F0 <- P0 + sigma_Z**2\n",
    "    \n",
    "    y_t <- log(epsilon**2)\n",
    "    \n",
    "    alpha_t[1] <- beta0 * a0 + omega\n",
    "    P_t[1] <- beta**2 * P0 + sigma**2\n",
    "    K_t[1] <- beta * P0 * 1/F0\n",
    "    \n",
    "    for (i in 2:N){\n",
    "        F_t[i-1] <- P_t[i-1] + sigma_Z**2\n",
    "        K_t[i] <- beta * P_t[i-1] * 1/F_t[i-1]\n",
    "        alpha_t[i] <- beta * alpha_t[i-1] + K_t[i] *\n",
    "                (y_t[i-1] - alpha_t[i-1] - mu_Z) + omega\n",
    "        P_t[i] <- beta**2 * P_t[i-1] - K_t[i]**2 * F_t[i-1] + sigma**2\n",
    "    }\n",
    "    \n",
    "    sigma2_hat_sv[j,] <- exp(alpha_t)\n",
    "    eta_hat_sv[j,] <- epsilon / sqrt(exp(alpha_t))\n",
    "    xi_hat_sv[j] <- quantile(eta_hat_sv[j,1:T], probs = seq(0, 1, 0.01))[alpha1*100+1]\n",
    "    VaR_mat_sv[j,] <- xi_hat_sv[j] * sqrt(sigma2_hat_sv[j,])\n",
    "    \n",
    "    ## 2) GARCH\n",
    "    estimation_g <- estimgarch11(omega_0, alpha_0, beta_0, epsilon)\n",
    "    theta_hat_g <- estimation_g$coef\n",
    "\n",
    "    omega_hat_g <- theta_hat_g[1]\n",
    "    alpha_hat_g <- theta_hat_g[2]\n",
    "    beta_hat_g <- theta_hat_g[3]\n",
    "\n",
    "    sigma2_hat_g[j,1]<-omega_hat_g\n",
    "    eta_hat_g[j,1] <- epsilon[1] / sqrt(sigma2_hat_g[j,1])\n",
    "    for (i in 2:N){\n",
    "        sigma2_hat_g[j,i]<-omega_hat_g + alpha_hat_g * epsilon[i-1]**2 +\n",
    "            beta_hat_g * sigma2_hat_g[j,i-1]\n",
    "        eta_hat_g[j,i] <- epsilon[i] / sqrt(sigma2_hat_g[j,i])\n",
    "    }\n",
    "    xi_hat_g[j] <- quantile(eta_hat_g[j,1:T], probs = seq(0, 1, 0.01))[alpha1*100+1]\n",
    "    VaR_mat_g[j,] <- xi_hat_g[j] * sqrt(sigma2_hat_g[j,])\n",
    "    \n",
    "    ## 3) unconditional Model\n",
    "    VaR_mat_u[j,] <- quantile(epsilon[1:T], probs = seq(0, 1, 0.01))[alpha1*100+1]\n",
    "}"
   ]
  },
  {
   "cell_type": "code",
   "execution_count": 645,
   "id": "b44d619c",
   "metadata": {},
   "outputs": [
    {
     "data": {
      "image/png": "[encoded data removed]",
      "text/plain": [
       "plot without title"
      ]
     },
     "metadata": {
      "image/png": {
       "height": 250,
       "width": 500
      }
     },
     "output_type": "display_data"
    }
   ],
   "source": [
    "z <- 4\n",
    "epsilon <- epsilon_conso[,z]\n",
    "epsilon <- (epsilon+0.00001) * 100\n",
    "plot(epsilon, type='l', col='black')\n",
    "lines(sqrt(sigma2_hat_g[z,]), type='l', col='blue')\n",
    "lines(sqrt(sigma2_hat_sv[z,]), type='l', col='red')"
   ]
  },
  {
   "cell_type": "code",
   "execution_count": 646,
   "id": "5c2c1c2e",
   "metadata": {},
   "outputs": [
    {
     "data": {
      "image/png": "[encoded data removed]",
      "text/plain": [
       "plot without title"
      ]
     },
     "metadata": {
      "image/png": {
       "height": 250,
       "width": 500
      }
     },
     "output_type": "display_data"
    }
   ],
   "source": [
    "z <- 4\n",
    "plot(epsilon, type='l', col='black')\n",
    "lines(VaR_mat_g[z,], type='l', col='blue')\n",
    "lines(VaR_mat_sv[z,], type='l', col='red')"
   ]
  },
  {
   "cell_type": "markdown",
   "id": "c2617275",
   "metadata": {},
   "source": [
    "## Functions"
   ]
  },
  {
   "cell_type": "code",
   "execution_count": 647,
   "id": "41b4aeb3",
   "metadata": {},
   "outputs": [],
   "source": [
    "Hit_conso_g <- matrix(0, nrow=M, ncol=n)\n",
    "Hit_conso_sv <- matrix(0, nrow=M, ncol=n)\n",
    "Hit_conso_u <- matrix(0, nrow=M, ncol=n)\n",
    "\n",
    "for (j in 1:M){\n",
    "    epsilon <- epsilon_conso[,j]\n",
    "    epsilon <- (epsilon+0.00001) * 100\n",
    "    VaR_g <- VaR_mat_g[j,]\n",
    "    VaR_sv <- VaR_mat_sv[j,]\n",
    "    VaR_u <- VaR_mat_u[j,]\n",
    "    for (t in (T+1):N){\n",
    "        if (epsilon[t] < VaR_g[t]){\n",
    "            Hit_conso_g[j,t-T] <- 1\n",
    "        }\n",
    "        if (epsilon[t] < VaR_sv[t]){\n",
    "            Hit_conso_sv[j,t-T] <- 1\n",
    "        }\n",
    "        if (epsilon[t] < VaR_u[t]){\n",
    "            Hit_conso_u[j,t-T] <- 1\n",
    "        }\n",
    "    }\n",
    "}"
   ]
  },
  {
   "cell_type": "markdown",
   "id": "deafbc31",
   "metadata": {},
   "source": [
    "### Backtests"
   ]
  },
  {
   "cell_type": "code",
   "execution_count": 648,
   "id": "82cf44b2",
   "metadata": {},
   "outputs": [],
   "source": [
    "chi_level <- c(3.841)"
   ]
  },
  {
   "cell_type": "code",
   "execution_count": 649,
   "id": "a66cd3a0",
   "metadata": {},
   "outputs": [
    {
     "data": {
      "text/html": [
       "0.207521826729349"
      ],
      "text/latex": [
       "0.207521826729349"
      ],
      "text/markdown": [
       "0.207521826729349"
      ],
      "text/plain": [
       "[1] 0.2075218"
      ]
     },
     "metadata": {},
     "output_type": "display_data"
    }
   ],
   "source": [
    "# STOCHASTIC VOLATILITY MODEL\n",
    "########################################\n",
    "###### UNCONDITIONAL COVERAGE TEST #####\n",
    "########################################\n",
    "\n",
    "UC_test_SV <- LR_uc_test(Hit_conso_sv, alpha1, chi_level)\n",
    "\n",
    "UC_test_SV$Test_uc # To be compared with 5%"
   ]
  },
  {
   "cell_type": "code",
   "execution_count": 650,
   "id": "481144c0",
   "metadata": {},
   "outputs": [
    {
     "data": {
      "text/html": [
       "0.107454667562122"
      ],
      "text/latex": [
       "0.107454667562122"
      ],
      "text/markdown": [
       "0.107454667562122"
      ],
      "text/plain": [
       "[1] 0.1074547"
      ]
     },
     "metadata": {},
     "output_type": "display_data"
    }
   ],
   "source": [
    "# GARCH MODEL\n",
    "########################################\n",
    "###### UNCONDITIONAL COVERAGE TEST #####\n",
    "########################################\n",
    "\n",
    "UC_test_G <- LR_uc_test(Hit_conso_g, alpha1, chi_level)\n",
    "\n",
    "UC_test_G$Test_uc # To be compared with 5%"
   ]
  },
  {
   "cell_type": "code",
   "execution_count": 651,
   "id": "b76ae61c",
   "metadata": {},
   "outputs": [
    {
     "data": {
      "text/html": [
       "0.409670920080591"
      ],
      "text/latex": [
       "0.409670920080591"
      ],
      "text/markdown": [
       "0.409670920080591"
      ],
      "text/plain": [
       "[1] 0.4096709"
      ]
     },
     "metadata": {},
     "output_type": "display_data"
    }
   ],
   "source": [
    "# unconditional MODEL\n",
    "########################################\n",
    "###### UNCONDITIONAL COVERAGE TEST #####\n",
    "########################################\n",
    "\n",
    "UC_test_U <- LR_uc_test(Hit_conso_u, alpha1, chi_level)\n",
    "\n",
    "UC_test_U$Test_uc # To be compared with 5%"
   ]
  },
  {
   "cell_type": "code",
   "execution_count": 652,
   "id": "7c24a150",
   "metadata": {},
   "outputs": [
    {
     "data": {
      "text/html": [
       "0.0174613834788449"
      ],
      "text/latex": [
       "0.0174613834788449"
      ],
      "text/markdown": [
       "0.0174613834788449"
      ],
      "text/plain": [
       "[1] 0.01746138"
      ]
     },
     "metadata": {},
     "output_type": "display_data"
    }
   ],
   "source": [
    "# STOCHASTIC VOLATILITY MODEL\n",
    "########################################\n",
    "########## INDEPENDENCE TEST ###########\n",
    "########################################\n",
    "\n",
    "Ind_test_SV <- LR_ind_test(Hit_conso_sv, alpha1, chi_level)\n",
    "\n",
    "Ind_test_SV$Test_ind # To be compared with 5%"
   ]
  },
  {
   "cell_type": "code",
   "execution_count": 653,
   "id": "6fbb0494",
   "metadata": {},
   "outputs": [
    {
     "data": {
      "text/html": [
       "0.0134318334452653"
      ],
      "text/latex": [
       "0.0134318334452653"
      ],
      "text/markdown": [
       "0.0134318334452653"
      ],
      "text/plain": [
       "[1] 0.01343183"
      ]
     },
     "metadata": {},
     "output_type": "display_data"
    }
   ],
   "source": [
    "# GARCH MODEL\n",
    "########################################\n",
    "########## INDEPENDENCE TEST ###########\n",
    "########################################\n",
    "\n",
    "Ind_test_G <- LR_ind_test(Hit_conso_g, alpha1, chi_level)\n",
    "\n",
    "Ind_test_G$Test_ind # To be compared with 5%"
   ]
  },
  {
   "cell_type": "code",
   "execution_count": 654,
   "id": "17b080da",
   "metadata": {},
   "outputs": [
    {
     "data": {
      "text/html": [
       "0.0167897918065816"
      ],
      "text/latex": [
       "0.0167897918065816"
      ],
      "text/markdown": [
       "0.0167897918065816"
      ],
      "text/plain": [
       "[1] 0.01678979"
      ]
     },
     "metadata": {},
     "output_type": "display_data"
    }
   ],
   "source": [
    "# UNCONDITIONAL MODEL\n",
    "########################################\n",
    "########## INDEPENDENCE TEST ###########\n",
    "########################################\n",
    "\n",
    "Ind_test_U <- LR_ind_test(Hit_conso_u, alpha1, chi_level)\n",
    "\n",
    "Ind_test_U$Test_ind # To be compared with 5%"
   ]
  },
  {
   "cell_type": "code",
   "execution_count": 891,
   "id": "782e8013",
   "metadata": {},
   "outputs": [
    {
     "name": "stdout",
     "output_type": "stream",
     "text": [
      "[1] 1\n",
      "[1] 2\n",
      "[1] 3\n",
      "[1] 4\n",
      "[1] 5\n"
     ]
    }
   ],
   "source": [
    "for (k in 1:5){\n",
    "    print(k)\n",
    "}"
   ]
  },
  {
   "cell_type": "code",
   "execution_count": 661,
   "id": "dc573531",
   "metadata": {},
   "outputs": [],
   "source": [
    "chi_level2 <- 5.991"
   ]
  },
  {
   "cell_type": "code",
   "execution_count": 662,
   "id": "d75d7b07",
   "metadata": {},
   "outputs": [],
   "source": [
    "CC_test_G <- LR_cc_test(UC_test_G$LR_uc, Ind_test_G$LR_ind, alpha1, chi_level2)$Test_cc\n",
    "CC_test_SV <- LR_cc_test(UC_test_SV$LR_uc, Ind_test_SV$LR_ind, alpha1, chi_level2)$Test_cc\n",
    "CC_test_U <- LR_cc_test(UC_test_U$LR_uc, Ind_test_U$LR_ind, alpha1, chi_level2)$Test_cc"
   ]
  },
  {
   "cell_type": "code",
   "execution_count": null,
   "id": "2f31cc52",
   "metadata": {},
   "outputs": [],
   "source": []
  },
  {
   "cell_type": "code",
   "execution_count": 663,
   "id": "61bf641e",
   "metadata": {},
   "outputs": [],
   "source": [
    "alpha_crit_g <- alpha_crit((epsilon_conso[(T+1):N,]+0.00001) * 100, VaR_mat_g[,(T+1):N], alpha1)\n",
    "alpha_crit_sv <- alpha_crit((epsilon_conso[(T+1):N,]+0.00001) * 100, VaR_mat_sv[,(T+1):N], alpha1)\n",
    "alpha_crit_u <- alpha_crit((epsilon_conso[(T+1):N,]+0.00001) * 100, VaR_mat_u[,(T+1):N], alpha1)"
   ]
  },
  {
   "cell_type": "code",
   "execution_count": 664,
   "id": "09563acc",
   "metadata": {},
   "outputs": [],
   "source": [
    "results_SV <- c(UC_test_SV$Test_uc, Ind_test_SV$Test_ind, CC_test_SV, mean(alpha_crit_sv$crit))\n",
    "results_GARCH <- c(UC_test_G$Test_uc, Ind_test_G$Test_ind, CC_test_G, mean(alpha_crit_g$crit))\n",
    "results_U <- c(UC_test_U$Test_uc, Ind_test_U$Test_ind, CC_test_U, mean(alpha_crit_u$crit))"
   ]
  },
  {
   "cell_type": "markdown",
   "id": "d406c88c",
   "metadata": {},
   "source": [
    "#### Results"
   ]
  },
  {
   "cell_type": "code",
   "execution_count": 665,
   "id": "452b8c1e",
   "metadata": {},
   "outputs": [],
   "source": [
    "Test_table <- matrix(0, nrow=3, ncol=4)\n",
    "row_name <- c('SV Model', 'GARCH Model', 'Unconditional Model')\n",
    "col_name <- c('UC', 'Ind.', 'CC', 'alpha-criterion')\n",
    "Test_table[1,] <- results_SV\n",
    "Test_table[2,] <- results_GARCH\n",
    "Test_table[3,] <- results_U\n",
    "Test_table <- as.data.frame(Test_table)\n",
    "rownames(Test_table) <- row_name\n",
    "colnames(Test_table) <- col_name"
   ]
  },
  {
   "cell_type": "code",
   "execution_count": 666,
   "id": "4e3387f0",
   "metadata": {},
   "outputs": [
    {
     "data": {
      "text/html": [
       "<table class=\"dataframe\">\n",
       "<caption>A data.frame: 3 × 4</caption>\n",
       "<thead>\n",
       "\t<tr><th></th><th scope=col>UC</th><th scope=col>Ind.</th><th scope=col>CC</th><th scope=col>alpha-criterion</th></tr>\n",
       "\t<tr><th></th><th scope=col>&lt;dbl&gt;</th><th scope=col>&lt;dbl&gt;</th><th scope=col>&lt;dbl&gt;</th><th scope=col>&lt;dbl&gt;</th></tr>\n",
       "</thead>\n",
       "<tbody>\n",
       "\t<tr><th scope=row>SV Model</th><td>0.208</td><td>0.017</td><td>0.021</td><td>0.171</td></tr>\n",
       "\t<tr><th scope=row>GARCH Model</th><td>0.107</td><td>0.013</td><td>0.013</td><td>0.199</td></tr>\n",
       "\t<tr><th scope=row>Unconditional Model</th><td>0.410</td><td>0.017</td><td>0.020</td><td>0.155</td></tr>\n",
       "</tbody>\n",
       "</table>\n"
      ],
      "text/latex": [
       "A data.frame: 3 × 4\n",
       "\\begin{tabular}{r|llll}\n",
       "  & UC & Ind. & CC & alpha-criterion\\\\\n",
       "  & <dbl> & <dbl> & <dbl> & <dbl>\\\\\n",
       "\\hline\n",
       "\tSV Model & 0.208 & 0.017 & 0.021 & 0.171\\\\\n",
       "\tGARCH Model & 0.107 & 0.013 & 0.013 & 0.199\\\\\n",
       "\tUnconditional Model & 0.410 & 0.017 & 0.020 & 0.155\\\\\n",
       "\\end{tabular}\n"
      ],
      "text/markdown": [
       "\n",
       "A data.frame: 3 × 4\n",
       "\n",
       "| <!--/--> | UC &lt;dbl&gt; | Ind. &lt;dbl&gt; | CC &lt;dbl&gt; | alpha-criterion &lt;dbl&gt; |\n",
       "|---|---|---|---|---|\n",
       "| SV Model | 0.208 | 0.017 | 0.021 | 0.171 |\n",
       "| GARCH Model | 0.107 | 0.013 | 0.013 | 0.199 |\n",
       "| Unconditional Model | 0.410 | 0.017 | 0.020 | 0.155 |\n",
       "\n"
      ],
      "text/plain": [
       "                    UC    Ind.  CC    alpha-criterion\n",
       "SV Model            0.208 0.017 0.021 0.171          \n",
       "GARCH Model         0.107 0.013 0.013 0.199          \n",
       "Unconditional Model 0.410 0.017 0.020 0.155          "
      ]
     },
     "metadata": {},
     "output_type": "display_data"
    }
   ],
   "source": [
    "Test_table <- round_df(Test_table, 3)\n",
    "Test_table"
   ]
  },
  {
   "cell_type": "code",
   "execution_count": 660,
   "id": "fe5925af",
   "metadata": {},
   "outputs": [
    {
     "name": "stdout",
     "output_type": "stream",
     "text": [
      "\n",
      "% Table created by stargazer v.5.2.3 by Marek Hlavac, Social Policy Institute. E-mail: marek.hlavac at gmail.com\n",
      "% Date and time: Fri, Sep 09, 2022 - 6:45:12 PM\n",
      "\\begin{table}[!htbp] \\centering \n",
      "  \\caption{Backtesting Results - alpha=0.01} \n",
      "  \\label{} \n",
      "\\begin{tabular}{@{\\extracolsep{5pt}} ccccc} \n",
      "\\\\[-1.8ex]\\hline \n",
      "\\hline \\\\[-1.8ex] \n",
      "A & b & c & CC & alpha-criterion \\\\ \n",
      "\\hline \\\\[-1.8ex] \n",
      "SV Model & $0.208$ & $0.017$ & $0.238$ & $0.171$ \\\\ \n",
      "GARCH Model & $0.107$ & $0.013$ & $0.148$ & $0.199$ \\\\ \n",
      "Unconditional Model & $0.410$ & $0.017$ & $0.441$ & $0.155$ \\\\ \n",
      "\\hline \\\\[-1.8ex] \n",
      "\\end{tabular} \n",
      "\\end{table} \n"
     ]
    }
   ],
   "source": [
    "stargazer(Test_table,  summary=FALSE, covariate.labels=c(\"A\",\"b\",\"c\"),\n",
    "          title = \"Backtesting Results - alpha=0.01\",\n",
    "out = paste0(ILLUS_PATH, \"BTEST_Results_SV_001.tex\"))"
   ]
  },
  {
   "cell_type": "code",
   "execution_count": null,
   "id": "a359efcb",
   "metadata": {},
   "outputs": [],
   "source": []
  },
  {
   "cell_type": "code",
   "execution_count": null,
   "id": "8e19fbc4",
   "metadata": {},
   "outputs": [],
   "source": []
  },
  {
   "cell_type": "code",
   "execution_count": null,
   "id": "334a923f",
   "metadata": {},
   "outputs": [],
   "source": []
  },
  {
   "cell_type": "code",
   "execution_count": null,
   "id": "cbed6541",
   "metadata": {},
   "outputs": [],
   "source": []
  },
  {
   "cell_type": "code",
   "execution_count": null,
   "id": "968a7d95",
   "metadata": {},
   "outputs": [],
   "source": []
  },
  {
   "cell_type": "code",
   "execution_count": null,
   "id": "0c4376ed",
   "metadata": {},
   "outputs": [],
   "source": []
  },
  {
   "cell_type": "code",
   "execution_count": null,
   "id": "f850b39a",
   "metadata": {},
   "outputs": [],
   "source": []
  },
  {
   "cell_type": "code",
   "execution_count": null,
   "id": "c7016257",
   "metadata": {},
   "outputs": [],
   "source": []
  },
  {
   "cell_type": "code",
   "execution_count": null,
   "id": "94b5d19f",
   "metadata": {},
   "outputs": [],
   "source": []
  },
  {
   "cell_type": "code",
   "execution_count": null,
   "id": "df5a2d49",
   "metadata": {},
   "outputs": [],
   "source": []
  },
  {
   "cell_type": "code",
   "execution_count": null,
   "id": "ba82fdc1",
   "metadata": {},
   "outputs": [],
   "source": []
  },
  {
   "cell_type": "code",
   "execution_count": null,
   "id": "76f28f07",
   "metadata": {},
   "outputs": [],
   "source": []
  },
  {
   "cell_type": "code",
   "execution_count": null,
   "id": "f06f4664",
   "metadata": {},
   "outputs": [],
   "source": []
  },
  {
   "cell_type": "code",
   "execution_count": null,
   "id": "a4705d32",
   "metadata": {},
   "outputs": [],
   "source": []
  }
 ],
 "metadata": {
  "kernelspec": {
   "display_name": "R",
   "language": "R",
   "name": "ir"
  },
  "language_info": {
   "codemirror_mode": "r",
   "file_extension": ".r",
   "mimetype": "text/x-r-source",
   "name": "R",
   "pygments_lexer": "r",
   "version": "4.1.2"
  }
 },
 "nbformat": 4,
 "nbformat_minor": 5
}
