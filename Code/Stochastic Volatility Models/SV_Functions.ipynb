{
 "cells": [
  {
   "cell_type": "markdown",
   "id": "c8b25405",
   "metadata": {},
   "source": [
    "## Stochastic Volatility Functions"
   ]
  },
  {
   "cell_type": "code",
   "execution_count": 3,
   "id": "f117324a",
   "metadata": {},
   "outputs": [],
   "source": [
    "import numpy as np\n",
    "import pandas as pd\n",
    "import random as rd\n",
    "import math"
   ]
  },
  {
   "cell_type": "code",
   "execution_count": 4,
   "id": "dcff96ff",
   "metadata": {},
   "outputs": [],
   "source": [
    "def sv_simul(μ, ϕ, τ, T, h0):\n",
    "    z = np.random.normal(0, 1, T)\n",
    "    u  = np.random.normal(0, τ**2, T)\n",
    "    ϵ = []\n",
    "    r = []\n",
    "    h = []\n",
    "\n",
    "    h.append(μ + ϕ*(h0 - μ) + u[0])\n",
    "    ϵ.append(z[0] * np.exp(h[0] / 2))\n",
    "    r.append(μ + ϵ[0])\n",
    "\n",
    "    for t in range(1, T):\n",
    "        h.append(μ + ϕ*(h[t-1] - μ) + u[t])\n",
    "        ϵ.append(z[t] * np.exp(h[t] / 2))\n",
    "        r.append(μ + ϵ[t])\n",
    "        \n",
    "    return r, h, ϵ"
   ]
  },
  {
   "cell_type": "code",
   "execution_count": 21,
   "id": "75a11c90",
   "metadata": {},
   "outputs": [],
   "source": [
    "def sv_simul_v2(μ, ϕ, σ1, σ2, T, h0):\n",
    "    ξ = np.random.normal(0, σ2**2, T)\n",
    "    ϵ = []\n",
    "    y = []\n",
    "    h = []\n",
    "    \n",
    "    h.append(μ + ϕ*(h0 - μ) + ξ[0])\n",
    "    ϵ.append(float(np.random.normal(0, σ1**2 * np.exp(h[0]), 1)))\n",
    "    y.append(μ + ϵ[0])\n",
    "    \n",
    "    for t in range(1, T):\n",
    "        h.append(μ + ϕ*(h[t-1] - μ) + ξ[t])\n",
    "        ϵ.append(float(np.random.normal(0, σ1**2 * np.exp(h[t]), 1)))\n",
    "        y.append(μ + ϵ[t])\n",
    "        \n",
    "    return y, h, ϵ\n",
    "    "
   ]
  },
  {
   "cell_type": "code",
   "execution_count": 19,
   "id": "14ae6aad",
   "metadata": {},
   "outputs": [],
   "source": [
    "# Inputs\n",
    "μ = 1\n",
    "ϕ = 0.4\n",
    "σ1 = 0.76\n",
    "σ2 = 1\n",
    "T = 500\n",
    "h0 = 0"
   ]
  }
 ],
 "metadata": {
  "kernelspec": {
   "display_name": "Python 3 (ipykernel)",
   "language": "python",
   "name": "python3"
  },
  "language_info": {
   "codemirror_mode": {
    "name": "ipython",
    "version": 3
   },
   "file_extension": ".py",
   "mimetype": "text/x-python",
   "name": "python",
   "nbconvert_exporter": "python",
   "pygments_lexer": "ipython3",
   "version": "3.10.4"
  }
 },
 "nbformat": 4,
 "nbformat_minor": 5
}
