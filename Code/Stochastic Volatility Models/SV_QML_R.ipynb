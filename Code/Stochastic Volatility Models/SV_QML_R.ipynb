{
 "cells": [
  {
   "cell_type": "markdown",
   "id": "cab33b02",
   "metadata": {},
   "source": [
    "### ARMA Linear Representation"
   ]
  },
  {
   "cell_type": "code",
   "execution_count": 108,
   "id": "0b546a9a",
   "metadata": {},
   "outputs": [],
   "source": [
    "ILLUS_PATH <- 'D:/Softwares/GitHub/Discrete-SV-Models-Estimation/Code/Illustration'"
   ]
  },
  {
   "cell_type": "code",
   "execution_count": 109,
   "id": "3a942425",
   "metadata": {},
   "outputs": [],
   "source": [
    "sv_simul_can <- function(theta, log_h0){\n",
    "    epsilon <- c()\n",
    "    log_h <- c()\n",
    "    omega <- theta[1]\n",
    "    beta <- theta[2]\n",
    "    sigma <- theta[3]\n",
    "    eta <- rnorm(T, 0, 1)\n",
    "    nu <- rnorm(T, 0, 1)\n",
    "    \n",
    "    log_h[1] <- omega + beta * log_h0 + sigma * nu[1]\n",
    "    epsilon[1] <- sqrt(exp(log_h[1])) * eta[1]\n",
    "    \n",
    "    for (t in 2:T){\n",
    "        log_h[t] <- omega + beta * log_h[t-1] + sigma * nu[t]\n",
    "        epsilon[t] <- sqrt(exp(log_h[t])) * eta[t]\n",
    "    }\n",
    "    list(epsilon, log_h)\n",
    "}"
   ]
  },
  {
   "cell_type": "code",
   "execution_count": 110,
   "id": "7c0d7124",
   "metadata": {},
   "outputs": [],
   "source": [
    "# Inputs\n",
    "# omega <- -0.736\n",
    "# beta <- 0.9\n",
    "# sigma <- 0.363\n",
    "\n",
    "omega <- 0\n",
    "beta <- 0.99\n",
    "sigma <- 0.2\n",
    "\n",
    "theta <- c(omega, beta, sigma)\n",
    "log_h0 <- omega\n",
    "T <- 10000"
   ]
  },
  {
   "cell_type": "code",
   "execution_count": 111,
   "id": "0bd97d01",
   "metadata": {},
   "outputs": [],
   "source": [
    "set.seed(123)\n",
    "data <- sv_simul_can(theta, log_h0)\n",
    "epsilon <- unlist(data[1])\n",
    "log_h <- unlist(data[2])"
   ]
  },
  {
   "cell_type": "code",
   "execution_count": 112,
   "id": "dc9d578b",
   "metadata": {},
   "outputs": [
    {
     "data": {
      "image/png": "[encoded data removed]",
      "text/plain": [
       "plot without title"
      ]
     },
     "metadata": {
      "image/png": {
       "height": 420,
       "width": 420
      }
     },
     "output_type": "display_data"
    }
   ],
   "source": [
    "selection <- 1:500\n",
    "plot(epsilon[selection], type='l', col='black')\n",
    "lines(sqrt(exp(log_h))[selection], type='l', col='red')"
   ]
  },
  {
   "cell_type": "code",
   "execution_count": null,
   "id": "13bef132",
   "metadata": {},
   "outputs": [],
   "source": []
  },
  {
   "cell_type": "code",
   "execution_count": null,
   "id": "f3a1ac92",
   "metadata": {},
   "outputs": [],
   "source": []
  },
  {
   "cell_type": "code",
   "execution_count": null,
   "id": "d3b85992",
   "metadata": {},
   "outputs": [],
   "source": []
  },
  {
   "cell_type": "code",
   "execution_count": null,
   "id": "22ee74af",
   "metadata": {},
   "outputs": [],
   "source": []
  },
  {
   "cell_type": "code",
   "execution_count": null,
   "id": "ff9df851",
   "metadata": {},
   "outputs": [],
   "source": []
  },
  {
   "cell_type": "code",
   "execution_count": null,
   "id": "0cded34f",
   "metadata": {},
   "outputs": [],
   "source": []
  },
  {
   "cell_type": "markdown",
   "id": "d43f0e22",
   "metadata": {},
   "source": [
    "##### Pre-calculation of the Kalman Filter quantities"
   ]
  },
  {
   "cell_type": "code",
   "execution_count": 113,
   "id": "50a14d29",
   "metadata": {},
   "outputs": [],
   "source": [
    "obj_sv <- function(theta, epsilon){\n",
    "    alpha_t <- c()\n",
    "    P_t <- c()\n",
    "    F_t <- c()\n",
    "    K_t <- c()\n",
    "    omega <- theta[1]\n",
    "    beta <- theta[2]\n",
    "    sigma <- theta[3]\n",
    "    mu_Z <- -1.270\n",
    "    sigma_Z <- sqrt(pi**2/2)\n",
    "    \n",
    "    a0 <- 0\n",
    "    beta0 <- 0.8\n",
    "    P0 <- sigma**2\n",
    "    F0 <- P0 + sigma_Z**2\n",
    "    \n",
    "    T <- length(epsilon)\n",
    "    y_t <- log(epsilon**2)\n",
    "    \n",
    "    alpha_t[1] <- beta0 * a0 + omega\n",
    "    P_t[1] <- beta**2 * P0 + sigma**2\n",
    "    K_t[1] <- beta * P0 * 1/F0\n",
    "    \n",
    "    for (t in 2:T){\n",
    "        F_t[t-1] <- P_t[t-1] + sigma_Z**2\n",
    "        K_t[t] <- beta * P_t[t-1] * 1/F_t[t-1]\n",
    "        alpha_t[t] <- beta * alpha_t[t-1] + K_t[t] *\n",
    "            (y_t[t-1] - alpha_t[t-1] - mu_Z) + omega\n",
    "        P_t[t] <- beta**2 * P_t[t-1] - K_t[t]**2 * F_t[t-1] + sigma**2\n",
    "    }\n",
    "    F_t[T] <- P_t[T-1] + sigma_Z**2\n",
    "    qml <- -T/2 * log(2*pi) - 1/2*sum(log(F_t) +\n",
    "        (log(epsilon**2) - alpha_t - mu_Z)**2 / F_t)\n",
    "    -qml\n",
    "}"
   ]
  },
  {
   "cell_type": "code",
   "execution_count": 114,
   "id": "64c2254d",
   "metadata": {},
   "outputs": [],
   "source": [
    "estim_sv <- function(theta0, epsilon){\n",
    "    valinit <- theta0\n",
    "    lower <- c(-Inf, 0, 0)\n",
    "    upper <- c(Inf, 0.999, Inf)\n",
    "    res <- nlminb(valinit, obj_sv, lower=lower,\n",
    "                  upper=upper, epsilon=epsilon)\n",
    "    theta_hat <- res$par[1:3]\n",
    "    theta_hat\n",
    "}"
   ]
  },
  {
   "cell_type": "code",
   "execution_count": 115,
   "id": "d5df430e",
   "metadata": {},
   "outputs": [],
   "source": [
    "# Estimation Inputs\n",
    "omega0 <- -0.6\n",
    "beta0 <- 0.9\n",
    "sigma0 <- 0.5\n",
    "theta0 <- c(omega0, beta0, sigma0)"
   ]
  },
  {
   "cell_type": "code",
   "execution_count": 116,
   "id": "fc1ed471",
   "metadata": {},
   "outputs": [
    {
     "data": {
      "text/html": [
       "<style>\n",
       ".list-inline {list-style: none; margin:0; padding: 0}\n",
       ".list-inline>li {display: inline-block}\n",
       ".list-inline>li:not(:last-child)::after {content: \"\\00b7\"; padding: 0 .5ex}\n",
       "</style>\n",
       "<ol class=list-inline><li>-0.00218577271767729</li><li>0.988377174280987</li><li>0.199121406433255</li></ol>\n"
      ],
      "text/latex": [
       "\\begin{enumerate*}\n",
       "\\item -0.00218577271767729\n",
       "\\item 0.988377174280987\n",
       "\\item 0.199121406433255\n",
       "\\end{enumerate*}\n"
      ],
      "text/markdown": [
       "1. -0.00218577271767729\n",
       "2. 0.988377174280987\n",
       "3. 0.199121406433255\n",
       "\n",
       "\n"
      ],
      "text/plain": [
       "[1] -0.002185773  0.988377174  0.199121406"
      ]
     },
     "metadata": {},
     "output_type": "display_data"
    },
    {
     "data": {
      "text/html": [
       "<style>\n",
       ".list-inline {list-style: none; margin:0; padding: 0}\n",
       ".list-inline>li {display: inline-block}\n",
       ".list-inline>li:not(:last-child)::after {content: \"\\00b7\"; padding: 0 .5ex}\n",
       "</style>\n",
       "<ol class=list-inline><li>0</li><li>0.99</li><li>0.2</li></ol>\n"
      ],
      "text/latex": [
       "\\begin{enumerate*}\n",
       "\\item 0\n",
       "\\item 0.99\n",
       "\\item 0.2\n",
       "\\end{enumerate*}\n"
      ],
      "text/markdown": [
       "1. 0\n",
       "2. 0.99\n",
       "3. 0.2\n",
       "\n",
       "\n"
      ],
      "text/plain": [
       "[1] 0.00 0.99 0.20"
      ]
     },
     "metadata": {},
     "output_type": "display_data"
    }
   ],
   "source": [
    "estimation <- estim_sv(theta0, epsilon)\n",
    "theta_hat <- estimation\n",
    "theta_hat\n",
    "theta"
   ]
  },
  {
   "cell_type": "markdown",
   "id": "cc6acf74",
   "metadata": {},
   "source": [
    "  ####  SV Estimation Motne Carlo"
   ]
  },
  {
   "cell_type": "code",
   "execution_count": 117,
   "id": "d2b99ba0",
   "metadata": {},
   "outputs": [],
   "source": [
    "M <- 1000"
   ]
  },
  {
   "cell_type": "code",
   "execution_count": 118,
   "id": "ab6bd875",
   "metadata": {},
   "outputs": [],
   "source": [
    "omega_spread <- c()\n",
    "beta_spread <- c()\n",
    "sigma_spread <- c()\n",
    "\n",
    "for (j in 1:M){\n",
    "    results <- sv_simul_can(theta, log_h0)\n",
    "    epsilon <- unlist(results[1])\n",
    "    estimation <- estim_sv(theta0, epsilon)\n",
    "    theta_hat <- estimation\n",
    "    omega_hat <- theta_hat[1]\n",
    "    beta_hat <- theta_hat[2]\n",
    "    sigma_hat <- theta_hat[3]\n",
    "    omega_spread[j] <- omega_hat - omega\n",
    "    beta_spread[j] <- beta_hat - beta\n",
    "    sigma_spread[j] <- sigma_hat - sigma\n",
    "}"
   ]
  },
  {
   "cell_type": "code",
   "execution_count": null,
   "id": "bac7e27d",
   "metadata": {},
   "outputs": [],
   "source": []
  },
  {
   "cell_type": "markdown",
   "id": "8934c785",
   "metadata": {},
   "source": [
    "### Table"
   ]
  },
  {
   "cell_type": "code",
   "execution_count": null,
   "id": "aa745f18",
   "metadata": {},
   "outputs": [],
   "source": []
  },
  {
   "cell_type": "code",
   "execution_count": null,
   "id": "46e057b7",
   "metadata": {},
   "outputs": [],
   "source": []
  },
  {
   "cell_type": "code",
   "execution_count": null,
   "id": "526afe08",
   "metadata": {},
   "outputs": [],
   "source": []
  },
  {
   "cell_type": "code",
   "execution_count": 119,
   "id": "77875cbe",
   "metadata": {},
   "outputs": [
    {
     "data": {
      "image/png": "[encoded data removed]",
      "text/plain": [
       "plot without title"
      ]
     },
     "metadata": {
      "image/png": {
       "height": 420,
       "width": 420
      }
     },
     "output_type": "display_data"
    },
    {
     "data": {
      "image/png": "[encoded data removed]",
      "text/plain": [
       "plot without title"
      ]
     },
     "metadata": {
      "image/png": {
       "height": 420,
       "width": 420
      }
     },
     "output_type": "display_data"
    },
    {
     "data": {
      "image/png": "[encoded data removed]",
      "text/plain": [
       "plot without title"
      ]
     },
     "metadata": {
      "image/png": {
       "height": 420,
       "width": 420
      }
     },
     "output_type": "display_data"
    }
   ],
   "source": [
    "boxplot(omega_spread)\n",
    "boxplot(beta_spread)\n",
    "boxplot(sigma_spread)"
   ]
  },
  {
   "cell_type": "code",
   "execution_count": 120,
   "id": "1d2a23dd",
   "metadata": {},
   "outputs": [
    {
     "data": {
      "text/html": [
       "6.48483531923495e-05"
      ],
      "text/latex": [
       "6.48483531923495e-05"
      ],
      "text/markdown": [
       "6.48483531923495e-05"
      ],
      "text/plain": [
       "[1] 6.484835e-05"
      ]
     },
     "metadata": {},
     "output_type": "display_data"
    },
    {
     "data": {
      "text/html": [
       "-0.000541223912177748"
      ],
      "text/latex": [
       "-0.000541223912177748"
      ],
      "text/markdown": [
       "-0.000541223912177748"
      ],
      "text/plain": [
       "[1] -0.0005412239"
      ]
     },
     "metadata": {},
     "output_type": "display_data"
    },
    {
     "data": {
      "text/html": [
       "0.000620233746164132"
      ],
      "text/latex": [
       "0.000620233746164132"
      ],
      "text/markdown": [
       "0.000620233746164132"
      ],
      "text/plain": [
       "[1] 0.0006202337"
      ]
     },
     "metadata": {},
     "output_type": "display_data"
    }
   ],
   "source": [
    "mean(omega_spread)\n",
    "mean(beta_spread)\n",
    "mean(sigma_spread)"
   ]
  },
  {
   "cell_type": "code",
   "execution_count": 121,
   "id": "06096e5e",
   "metadata": {},
   "outputs": [
    {
     "data": {
      "image/png": "[encoded data removed]",
      "text/plain": [
       "plot without title"
      ]
     },
     "metadata": {
      "image/png": {
       "height": 420,
       "width": 420
      }
     },
     "output_type": "display_data"
    }
   ],
   "source": [
    "boxplot(omega_spread, beta_spread, sigma_spread)"
   ]
  },
  {
   "cell_type": "code",
   "execution_count": 122,
   "id": "5de3914f",
   "metadata": {},
   "outputs": [],
   "source": [
    "spread_conso <- matrix(0, nrow=M, ncol=3)\n",
    "spread_conso[,1] <- omega_spread\n",
    "spread_conso[,2] <- beta_spread\n",
    "spread_conso[,3] <- sigma_spread"
   ]
  },
  {
   "cell_type": "code",
   "execution_count": 123,
   "id": "4b130d4f",
   "metadata": {},
   "outputs": [
    {
     "data": {
      "image/png": "[encoded data removed]",
      "text/plain": [
       "Plot with title \"Consistency - Illustration of Estimated Parameter Convergence\""
      ]
     },
     "metadata": {
      "image/png": {
       "height": 420,
       "width": 420
      }
     },
     "output_type": "display_data"
    }
   ],
   "source": [
    "boxplot(spread_conso,\n",
    "names=c(\"Omega\",\"Beta\",\"Sigma\"),\n",
    "data=airquality,\n",
    "main=\"Consistency - Illustration of Estimated Parameter Convergence\",\n",
    "xlab=\"Coefficient\",\n",
    "ylab=\"Spread with True Coefficient\",\n",
    "col=\"orange\",\n",
    "border=\"brown\"\n",
    ")"
   ]
  },
  {
   "cell_type": "code",
   "execution_count": 124,
   "id": "7196582e",
   "metadata": {},
   "outputs": [
    {
     "data": {
      "text/html": [
       "<strong>png:</strong> 2"
      ],
      "text/latex": [
       "\\textbf{png:} 2"
      ],
      "text/markdown": [
       "**png:** 2"
      ],
      "text/plain": [
       "png \n",
       "  2 "
      ]
     },
     "metadata": {},
     "output_type": "display_data"
    }
   ],
   "source": [
    "pdf(file=paste0(ILLUS_PATH, \"boxplot_QML.pdf\"),width=10, height=5)\n",
    "boxplot(spread_conso,\n",
    "names=c(\"Omega\",\"Beta\",\"Sigma\"),\n",
    "data=airquality,\n",
    "main=\"Consistency - Illustration of Estimated Parameter Convergence\",\n",
    "xlab=\"Coefficient\",\n",
    "ylab=\"Spread with True Coefficient\",\n",
    "col=\"orange\",\n",
    "border=\"brown\"\n",
    ")\n",
    "dev.off()"
   ]
  },
  {
   "cell_type": "code",
   "execution_count": 125,
   "id": "f710ae42",
   "metadata": {},
   "outputs": [],
   "source": [
    "spread_conso_bis <- matrix(0, nrow=M, ncol=3)\n",
    "spread_conso_bis[,1] <- sqrt(T) * omega_spread\n",
    "spread_conso_bis[,2] <- sqrt(T) * beta_spread\n",
    "spread_conso_bis[,3] <- sqrt(T) * sigma_spread"
   ]
  },
  {
   "cell_type": "code",
   "execution_count": 126,
   "id": "51485e7f",
   "metadata": {},
   "outputs": [
    {
     "data": {
      "image/png": "[encoded data removed]",
      "text/plain": [
       "Plot with title \"Consistency - Illustration of Estimated Parameter Convergence\""
      ]
     },
     "metadata": {
      "image/png": {
       "height": 420,
       "width": 420
      }
     },
     "output_type": "display_data"
    }
   ],
   "source": [
    "boxplot(spread_conso_bis,\n",
    "names=c(\"Omega\",\"Beta\",\"Sigma\"),\n",
    "data=airquality,\n",
    "main=\"Consistency - Illustration of Estimated Parameter Convergence\",\n",
    "xlab=\"Coefficient\",\n",
    "ylab=\"Spread with True Coefficient\",\n",
    "col=\"orange\",\n",
    "border=\"brown\"\n",
    ")"
   ]
  },
  {
   "cell_type": "code",
   "execution_count": 127,
   "id": "e17468a7",
   "metadata": {},
   "outputs": [
    {
     "data": {
      "text/html": [
       "10000"
      ],
      "text/latex": [
       "10000"
      ],
      "text/markdown": [
       "10000"
      ],
      "text/plain": [
       "[1] 10000"
      ]
     },
     "metadata": {},
     "output_type": "display_data"
    }
   ],
   "source": [
    "T"
   ]
  },
  {
   "cell_type": "markdown",
   "id": "4ad000e7",
   "metadata": {},
   "source": [
    "#### Present the data"
   ]
  },
  {
   "cell_type": "code",
   "execution_count": 128,
   "id": "5bc8631f",
   "metadata": {},
   "outputs": [],
   "source": [
    "theta_spread_conso <- matrix(0, nrow=3, ncol=M)\n",
    "theta_spread_conso[1,] <- sqrt(T) * omega_spread\n",
    "theta_spread_conso[2,] <- sqrt(T) * beta_spread\n",
    "theta_spread_conso[3,] <- sqrt(T) * sigma_spread"
   ]
  },
  {
   "cell_type": "code",
   "execution_count": 129,
   "id": "6d031467",
   "metadata": {},
   "outputs": [],
   "source": [
    "write.csv(theta_spread_conso, paste0(ILLUS_PATH, \"theta_spread_conso_10000.csv\"))"
   ]
  },
  {
   "cell_type": "code",
   "execution_count": null,
   "id": "79a30976",
   "metadata": {},
   "outputs": [],
   "source": []
  },
  {
   "cell_type": "code",
   "execution_count": 158,
   "id": "f090b42a",
   "metadata": {},
   "outputs": [
    {
     "data": {
      "text/html": [
       "999"
      ],
      "text/latex": [
       "999"
      ],
      "text/markdown": [
       "999"
      ],
      "text/plain": [
       "[1] 999"
      ]
     },
     "metadata": {},
     "output_type": "display_data"
    },
    {
     "data": {
      "text/html": [
       "999"
      ],
      "text/latex": [
       "999"
      ],
      "text/markdown": [
       "999"
      ],
      "text/plain": [
       "[1] 999"
      ]
     },
     "metadata": {},
     "output_type": "display_data"
    },
    {
     "data": {
      "text/html": [
       "999"
      ],
      "text/latex": [
       "999"
      ],
      "text/markdown": [
       "999"
      ],
      "text/plain": [
       "[1] 999"
      ]
     },
     "metadata": {},
     "output_type": "display_data"
    }
   ],
   "source": [
    "length(theta_spread_conso_500[1,])\n",
    "length(theta_spread_conso_1000[1,])\n",
    "length(omega_conso[,2])"
   ]
  },
  {
   "cell_type": "markdown",
   "id": "926180ce",
   "metadata": {},
   "source": [
    "### Load the Data"
   ]
  },
  {
   "cell_type": "code",
   "execution_count": 186,
   "id": "ebacd8f9",
   "metadata": {},
   "outputs": [],
   "source": [
    "theta_spread_conso_500 <- read.csv(paste0(ILLUS_PATH, 'theta_spread_conso_500.csv'))[,2:M]\n",
    "theta_spread_conso_1000 <- read.csv(paste0(ILLUS_PATH, 'theta_spread_conso_1000.csv'))[,2:M]\n",
    "theta_spread_conso_3000 <- read.csv(paste0(ILLUS_PATH, 'theta_spread_conso_3000.csv'))[,2:M]\n",
    "theta_spread_conso_10000 <- read.csv(paste0(ILLUS_PATH, 'theta_spread_conso_10000.csv'))[,2:M]"
   ]
  },
  {
   "cell_type": "code",
   "execution_count": null,
   "id": "5df10f95",
   "metadata": {},
   "outputs": [],
   "source": []
  },
  {
   "cell_type": "code",
   "execution_count": null,
   "id": "9525f25b",
   "metadata": {},
   "outputs": [],
   "source": []
  },
  {
   "cell_type": "code",
   "execution_count": 215,
   "id": "39f1d123",
   "metadata": {},
   "outputs": [],
   "source": [
    "omega_conso <- matrix(0, nrow=M-1, ncol=4)\n",
    "omega_conso[,1] <- unlist(theta_spread_conso_500[1,])\n",
    "omega_conso[,2] <- unlist(theta_spread_conso_1000[1,])\n",
    "omega_conso[,3] <- unlist(theta_spread_conso_3000[1,])\n",
    "omega_conso[,4] <- unlist(theta_spread_conso_10000[1,])\n",
    "\n",
    "beta_conso <- matrix(0, nrow=M-1, ncol=4)\n",
    "beta_conso[,1] <- unlist(theta_spread_conso_500[2,])\n",
    "beta_conso[,2] <- unlist(theta_spread_conso_1000[2,])\n",
    "beta_conso[,3] <- unlist(theta_spread_conso_3000[2,])\n",
    "beta_conso[,4] <- unlist(theta_spread_conso_10000[2,])\n",
    "\n",
    "sigma_conso <- matrix(0, nrow=M-1, ncol=4)\n",
    "sigma_conso[,1] <- unlist(theta_spread_conso_500[3,])\n",
    "sigma_conso[,2] <- unlist(theta_spread_conso_1000[3,])\n",
    "sigma_conso[,3] <- unlist(theta_spread_conso_3000[3,])\n",
    "sigma_conso[,4] <- unlist(theta_spread_conso_10000[3,])"
   ]
  },
  {
   "cell_type": "code",
   "execution_count": 216,
   "id": "90e5ffa6",
   "metadata": {},
   "outputs": [
    {
     "data": {
      "image/png": "[encoded data removed]",
      "text/plain": [
       "Plot with title \"Consistency - Illustration of Estimated Parameter Convergence - Omega\""
      ]
     },
     "metadata": {
      "image/png": {
       "height": 420,
       "width": 420
      }
     },
     "output_type": "display_data"
    }
   ],
   "source": [
    "boxplot(omega_conso,\n",
    "names=c(\"T=500\",\"T=1,000\",\"T=3,000\", \"T=5,000\"),\n",
    "data=airquality,\n",
    "main=\"Consistency - Illustration of Estimated Parameter Convergence - Omega\",\n",
    "xlab=\"Coefficient\",\n",
    "ylab=\"Spread with True Coefficient\",\n",
    "col=\"orange\",\n",
    "border=\"brown\"\n",
    ")"
   ]
  },
  {
   "cell_type": "code",
   "execution_count": 217,
   "id": "e6e7845a",
   "metadata": {},
   "outputs": [
    {
     "data": {
      "text/html": [
       "<strong>png:</strong> 2"
      ],
      "text/latex": [
       "\\textbf{png:} 2"
      ],
      "text/markdown": [
       "**png:** 2"
      ],
      "text/plain": [
       "png \n",
       "  2 "
      ]
     },
     "metadata": {},
     "output_type": "display_data"
    }
   ],
   "source": [
    "pdf(file=paste0(ILLUS_PATH, \"boxplot_omega.pdf\"),width=10, height=5)\n",
    "boxplot(omega_conso,\n",
    "names=c(\"T=500\",\"T=1,000\",\"T=3,000\", \"T=5,000\"),\n",
    "data=airquality,\n",
    "main=\"Consistency - Illustration of Estimated Parameter Convergence\n",
    "omega\",\n",
    "xlab=\"Coefficient\",\n",
    "ylab=\"Spread with True Coefficient\",\n",
    "col=\"orange\",\n",
    "border=\"brown\"\n",
    ")\n",
    "dev.off()"
   ]
  },
  {
   "cell_type": "code",
   "execution_count": 218,
   "id": "e482118d",
   "metadata": {},
   "outputs": [
    {
     "data": {
      "image/png": "[encoded data removed]",
      "text/plain": [
       "Plot with title \"Consistency - Illustration of Estimated Parameter Convergence - Beta\""
      ]
     },
     "metadata": {
      "image/png": {
       "height": 420,
       "width": 420
      }
     },
     "output_type": "display_data"
    }
   ],
   "source": [
    "boxplot(beta_conso,\n",
    "names=c(\"T=500\",\"T=1,000\",\"T=3,000\", \"T=5,000\"),\n",
    "data=airquality,\n",
    "main=\"Consistency - Illustration of Estimated Parameter Convergence - Beta\",\n",
    "xlab=\"Coefficient\",\n",
    "ylab=\"Spread with True Coefficient\",\n",
    "col=\"orange\",\n",
    "border=\"brown\"\n",
    ")"
   ]
  },
  {
   "cell_type": "code",
   "execution_count": 219,
   "id": "8c614adf",
   "metadata": {},
   "outputs": [
    {
     "data": {
      "text/html": [
       "<strong>png:</strong> 2"
      ],
      "text/latex": [
       "\\textbf{png:} 2"
      ],
      "text/markdown": [
       "**png:** 2"
      ],
      "text/plain": [
       "png \n",
       "  2 "
      ]
     },
     "metadata": {},
     "output_type": "display_data"
    }
   ],
   "source": [
    "pdf(file=paste0(ILLUS_PATH, \"boxplot_beta.pdf\"),width=10, height=5)\n",
    "boxplot(beta_conso,\n",
    "names=c(\"T=500\",\"T=1,000\",\"T=3,000\", \"T=5,000\"),\n",
    "data=airquality,\n",
    "main=\"Consistency - Illustration of Estimated Parameter Convergence\n",
    "beta\",\n",
    "xlab=\"Coefficient\",\n",
    "ylab=\"Spread with True Coefficient\",\n",
    "col=\"orange\",\n",
    "border=\"brown\"\n",
    ")\n",
    "dev.off()"
   ]
  },
  {
   "cell_type": "code",
   "execution_count": 220,
   "id": "10333321",
   "metadata": {},
   "outputs": [
    {
     "data": {
      "image/png": "[encoded data removed]",
      "text/plain": [
       "Plot with title \"Consistency - Illustration of Estimated Parameter Convergence\n",
       "sigma\""
      ]
     },
     "metadata": {
      "image/png": {
       "height": 420,
       "width": 420
      }
     },
     "output_type": "display_data"
    }
   ],
   "source": [
    "boxplot(sigma_conso,\n",
    "names=c(\"T=500\",\"T=1,000\",\"T=3,000\", \"T=5,000\"),\n",
    "data=airquality,\n",
    "main=\"Consistency - Illustration of Estimated Parameter Convergence\n",
    "sigma\",\n",
    "xlab=\"Coefficient\",\n",
    "ylab=\"Spread with True Coefficient\",\n",
    "col=\"orange\",\n",
    "border=\"brown\"\n",
    ")"
   ]
  },
  {
   "cell_type": "code",
   "execution_count": 221,
   "id": "d08edcf7",
   "metadata": {},
   "outputs": [
    {
     "data": {
      "text/html": [
       "<strong>png:</strong> 2"
      ],
      "text/latex": [
       "\\textbf{png:} 2"
      ],
      "text/markdown": [
       "**png:** 2"
      ],
      "text/plain": [
       "png \n",
       "  2 "
      ]
     },
     "metadata": {},
     "output_type": "display_data"
    }
   ],
   "source": [
    "pdf(file=paste0(ILLUS_PATH, \"boxplot_sigma.pdf\"),width=10, height=5)\n",
    "boxplot(sigma_conso,\n",
    "names=c(\"T=500\",\"T=1,000\",\"T=3,000\", \"T=5,000\"),\n",
    "data=airquality,\n",
    "main=\"Consistency - Illustration of Estimated Parameter Convergence\n",
    "sigma\",\n",
    "xlab=\"Coefficient\",\n",
    "ylab=\"Spread with True Coefficient\",\n",
    "col=\"orange\",\n",
    "border=\"brown\"\n",
    ")\n",
    "dev.off()"
   ]
  }
 ],
 "metadata": {
  "kernelspec": {
   "display_name": "R",
   "language": "R",
   "name": "ir"
  },
  "language_info": {
   "codemirror_mode": "r",
   "file_extension": ".r",
   "mimetype": "text/x-r-source",
   "name": "R",
   "pygments_lexer": "r",
   "version": "4.1.2"
  }
 },
 "nbformat": 4,
 "nbformat_minor": 5
}
