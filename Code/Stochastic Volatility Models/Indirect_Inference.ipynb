{
 "cells": [
  {
   "cell_type": "markdown",
   "id": "7b4751cf",
   "metadata": {},
   "source": [
    "### Indirect Inference"
   ]
  },
  {
   "cell_type": "code",
   "execution_count": 46,
   "id": "1f2d9fac",
   "metadata": {},
   "outputs": [],
   "source": [
    "import numpy as np\n",
    "import pandas as pd\n",
    "import random as rd\n",
    "import math\n",
    "import scipy as sp\n",
    "import matplotlib.pyplot as plt"
   ]
  },
  {
   "cell_type": "markdown",
   "id": "568be831",
   "metadata": {},
   "source": [
    "##### i) Simulate the Model"
   ]
  },
  {
   "cell_type": "code",
   "execution_count": 47,
   "id": "ca09a2a2",
   "metadata": {},
   "outputs": [],
   "source": [
    "from SV_Functions import sv_simul, sv_simul_v2\n",
    "from scipy.optimize import minimize"
   ]
  },
  {
   "cell_type": "markdown",
   "id": "ff87b85f",
   "metadata": {},
   "source": [
    "Model\n",
    "$\n",
    "y_t = exp (\\frac{1}{2} h_t) u_t \\\\\n",
    "h_t = \\mu + \\rho h_{t-1} + v_t\n",
    "$\n",
    "\n",
    "$\n",
    "u_t \\sim \\mathcal{N}(0,1) \\\\\n",
    "v_t \\sim \\mathcal{N}(0,\\sigma^2)\n",
    "$"
   ]
  },
  {
   "cell_type": "code",
   "execution_count": 48,
   "id": "58cc0fb8",
   "metadata": {},
   "outputs": [],
   "source": [
    "# Real Model\n",
    "μ = 1e-3\n",
    "ρ = 0.95\n",
    "σ2 = 0.2\n",
    "θ = μ, ρ, σ2\n",
    "h0 = μ\n",
    "T = 3000"
   ]
  },
  {
   "cell_type": "code",
   "execution_count": 49,
   "id": "d6d5b387",
   "metadata": {},
   "outputs": [],
   "source": [
    "def sv_simul(θ, h0, T):\n",
    "    μ = θ[0]\n",
    "    ρ = θ[1]\n",
    "    σ2 = θ[2]\n",
    "    u_t = np.random.normal(0, 1, T)\n",
    "    v_t  = np.random.normal(0, σ2, T)\n",
    "    y_t = np.empty(0)\n",
    "    h_t = np.empty(0)\n",
    "\n",
    "    h_t = np.append(h_t, μ + ρ * h0 + v_t[0])\n",
    "    y_t = np.append(y_t, np.exp(h_t[0]) * u_t[0])\n",
    "\n",
    "    for t in range(1, T):\n",
    "        h_t = np.append(h_t, μ + ρ * h_t[t-1] + v_t[t])\n",
    "        y_t = np.append(y_t, np.exp(h_t[t]) * u_t[t])\n",
    "        \n",
    "    return y_t, h_t"
   ]
  },
  {
   "cell_type": "code",
   "execution_count": 50,
   "id": "1b395a23",
   "metadata": {},
   "outputs": [],
   "source": [
    "data = sv_simul(θ, h0, T)\n",
    "y_t = data[0]\n",
    "h_t = data[1]"
   ]
  },
  {
   "cell_type": "code",
   "execution_count": 51,
   "id": "e4fbad15",
   "metadata": {},
   "outputs": [
    {
     "data": {
      "text/plain": [
       "[<matplotlib.lines.Line2D at 0x219a2660250>]"
      ]
     },
     "execution_count": 51,
     "metadata": {},
     "output_type": "execute_result"
    },
    {
     "data": {
      "image/png": "[encoded data removed]",
      "text/plain": [
       "<Figure size 432x288 with 1 Axes>"
      ]
     },
     "metadata": {
      "needs_background": "light"
     },
     "output_type": "display_data"
    }
   ],
   "source": [
    "plt.plot(range(T), y_t)\n",
    "plt.plot(range(T), h_t)"
   ]
  },
  {
   "cell_type": "markdown",
   "id": "13a8b880",
   "metadata": {},
   "source": [
    "Auxiliary Model\n",
    "\n",
    "$\n",
    "ln(y_t^2) = \\alpha^*_0 + \\alpha^*_1 ln(y_{t-1}^2) + \\omega_t - \\alpha^*_2 \\omega_{t-1}\\\\\n",
    "\\omega_t \\sim \\mathcal{N}(0,\\nu^2) \\\\\n",
    "$"
   ]
  },
  {
   "cell_type": "code",
   "execution_count": 52,
   "id": "9fe9b40c",
   "metadata": {},
   "outputs": [],
   "source": [
    "# Inputs\n",
    "α_init = 0.1, 0.1, 0.1, 1"
   ]
  },
  {
   "cell_type": "code",
   "execution_count": 53,
   "id": "cfe01b8a",
   "metadata": {},
   "outputs": [
    {
     "data": {
      "text/plain": [
       "4"
      ]
     },
     "execution_count": 53,
     "metadata": {},
     "output_type": "execute_result"
    }
   ],
   "source": [
    "len(α_init)"
   ]
  },
  {
   "cell_type": "code",
   "execution_count": 54,
   "id": "48670dd1",
   "metadata": {},
   "outputs": [],
   "source": [
    "def obj_aux_arma(α, x_t):\n",
    "    α_star = α[0:3]\n",
    "    α0 = α_star[0]\n",
    "    α1 = α_star[1]\n",
    "    α2 = α_star[2]\n",
    "    ν2 = α[3]\n",
    "    ω_t = np.empty(0)\n",
    "    ω_t = np.append(ω_t, 0)\n",
    "    \n",
    "    for t in range(1,T):\n",
    "        ω_t = np.append(ω_t, x_t[t] - α0 - α1 * x_t[t-1])\n",
    "    \n",
    "    qml = -1/2 * np.log(2*np.pi) - 1/2 * np.log(ν2) - 1/(2*T*ν2) * np.sum(ω_t**2)\n",
    "    return -qml"
   ]
  },
  {
   "cell_type": "code",
   "execution_count": 55,
   "id": "2f728316",
   "metadata": {},
   "outputs": [],
   "source": [
    "def estim_aux_arma(α_init, y_t):\n",
    "    valinit = α_init\n",
    "    x_t = np.log(y_t**2)\n",
    "    res = minimize(obj_aux_arma, valinit, args=(x_t),\n",
    "                   bounds=((1e-5, 1), (0, 1), (0, 1), (0,1)))\n",
    "    α_hat = res.x\n",
    "    likeli = res.fun\n",
    "    return α_hat, likeli"
   ]
  },
  {
   "cell_type": "code",
   "execution_count": 56,
   "id": "61a5e724",
   "metadata": {},
   "outputs": [
    {
     "data": {
      "text/plain": [
       "array([1.00000000e-05, 3.87830359e-01, 1.00000000e-01, 1.00000000e+00])"
      ]
     },
     "execution_count": 56,
     "metadata": {},
     "output_type": "execute_result"
    }
   ],
   "source": [
    "estimation = estim_aux_arma(α_init, y_t)\n",
    "α_hat = estimation[0]\n",
    "α_hat"
   ]
  },
  {
   "cell_type": "markdown",
   "id": "e527b876",
   "metadata": {},
   "source": [
    "#### Simulations"
   ]
  },
  {
   "cell_type": "code",
   "execution_count": 57,
   "id": "390ea3ce",
   "metadata": {},
   "outputs": [],
   "source": [
    "# Inputs\n",
    "H = 10\n",
    "h0 = 0\n",
    "θ0 = 1e-3, 0.85, 0.15"
   ]
  },
  {
   "cell_type": "code",
   "execution_count": 82,
   "id": "6d91df68",
   "metadata": {},
   "outputs": [],
   "source": [
    "def minim_crit_arma(θ, T, H, h0, α_init, α_hat):\n",
    "    data_sim = sv_simul(θ, h0, T+H)\n",
    "    y_sim = data_sim[0]\n",
    "    estimation = estim_aux_arma(α_init, y_sim)\n",
    "    α_sim = estimation[0]\n",
    "    Omega = np.identity(4)\n",
    "    crit = float(np.matmul(np.matmul(α_hat - α_sim, Omega), α_hat-α_sim))"
   ]
  },
  {
   "cell_type": "code",
   "execution_count": 90,
   "id": "be624600",
   "metadata": {},
   "outputs": [],
   "source": [
    "def estim_sv_ind_inf_arma(θ0, T, H, h0, α_init, α_hat):\n",
    "    valinit = θ0\n",
    "    res = minimize(minim_crit_arma, valinit, args=(T, H, h0, α_init, α_hat),\n",
    "                   bounds=((1e-5, 1), (1e-5, 1), (1e-5, 1)))\n",
    "    θ_hat = res.x\n",
    "    return θ_hat"
   ]
  },
  {
   "cell_type": "code",
   "execution_count": 91,
   "id": "4512d8cf",
   "metadata": {},
   "outputs": [
    {
     "ename": "TypeError",
     "evalue": "'<' not supported between instances of 'NoneType' and 'float'",
     "output_type": "error",
     "traceback": [
      "\u001b[1;31m---------------------------------------------------------------------------\u001b[0m",
      "\u001b[1;31mTypeError\u001b[0m                                 Traceback (most recent call last)",
      "\u001b[1;32m~\\AppData\\Local\\Temp/ipykernel_8520/1453437333.py\u001b[0m in \u001b[0;36m<module>\u001b[1;34m\u001b[0m\n\u001b[1;32m----> 1\u001b[1;33m \u001b[0mestimation\u001b[0m \u001b[1;33m=\u001b[0m \u001b[0mestim_sv_ind_inf_arma\u001b[0m\u001b[1;33m(\u001b[0m\u001b[0mθ0\u001b[0m\u001b[1;33m,\u001b[0m \u001b[0mT\u001b[0m\u001b[1;33m,\u001b[0m \u001b[0mH\u001b[0m\u001b[1;33m,\u001b[0m \u001b[0mh0\u001b[0m\u001b[1;33m,\u001b[0m \u001b[0mα_init\u001b[0m\u001b[1;33m,\u001b[0m \u001b[0mα_hat\u001b[0m\u001b[1;33m)\u001b[0m\u001b[1;33m\u001b[0m\u001b[1;33m\u001b[0m\u001b[0m\n\u001b[0m\u001b[0;32m      2\u001b[0m \u001b[0mθ_hat\u001b[0m \u001b[1;33m=\u001b[0m \u001b[0mestimation\u001b[0m\u001b[1;33m\u001b[0m\u001b[1;33m\u001b[0m\u001b[0m\n\u001b[0;32m      3\u001b[0m \u001b[0mθ_hat\u001b[0m \u001b[1;33m-\u001b[0m \u001b[0mθ\u001b[0m\u001b[1;33m\u001b[0m\u001b[1;33m\u001b[0m\u001b[0m\n",
      "\u001b[1;32m~\\AppData\\Local\\Temp/ipykernel_8520/2465721209.py\u001b[0m in \u001b[0;36mestim_sv_ind_inf_arma\u001b[1;34m(θ0, T, H, h0, α_init, α_hat)\u001b[0m\n\u001b[0;32m      1\u001b[0m \u001b[1;32mdef\u001b[0m \u001b[0mestim_sv_ind_inf_arma\u001b[0m\u001b[1;33m(\u001b[0m\u001b[0mθ0\u001b[0m\u001b[1;33m,\u001b[0m \u001b[0mT\u001b[0m\u001b[1;33m,\u001b[0m \u001b[0mH\u001b[0m\u001b[1;33m,\u001b[0m \u001b[0mh0\u001b[0m\u001b[1;33m,\u001b[0m \u001b[0mα_init\u001b[0m\u001b[1;33m,\u001b[0m \u001b[0mα_hat\u001b[0m\u001b[1;33m)\u001b[0m\u001b[1;33m:\u001b[0m\u001b[1;33m\u001b[0m\u001b[1;33m\u001b[0m\u001b[0m\n\u001b[0;32m      2\u001b[0m     \u001b[0mvalinit\u001b[0m \u001b[1;33m=\u001b[0m \u001b[0mθ0\u001b[0m\u001b[1;33m\u001b[0m\u001b[1;33m\u001b[0m\u001b[0m\n\u001b[1;32m----> 3\u001b[1;33m     res = minimize(minim_crit_arma, valinit, args=(T, H, h0, α_init, α_hat),\n\u001b[0m\u001b[0;32m      4\u001b[0m                    bounds=((1e-5, 1), (1e-5, 1), (1e-5, 1)))\n\u001b[0;32m      5\u001b[0m     \u001b[0mθ_hat\u001b[0m \u001b[1;33m=\u001b[0m \u001b[0mres\u001b[0m\u001b[1;33m.\u001b[0m\u001b[0mx\u001b[0m\u001b[1;33m\u001b[0m\u001b[1;33m\u001b[0m\u001b[0m\n",
      "\u001b[1;32mD:\\Softwares\\Anaconda\\lib\\site-packages\\scipy\\optimize\\_minimize.py\u001b[0m in \u001b[0;36mminimize\u001b[1;34m(fun, x0, args, method, jac, hess, hessp, bounds, constraints, tol, callback, options)\u001b[0m\n\u001b[0;32m    679\u001b[0m                                  **options)\n\u001b[0;32m    680\u001b[0m     \u001b[1;32melif\u001b[0m \u001b[0mmeth\u001b[0m \u001b[1;33m==\u001b[0m \u001b[1;34m'l-bfgs-b'\u001b[0m\u001b[1;33m:\u001b[0m\u001b[1;33m\u001b[0m\u001b[1;33m\u001b[0m\u001b[0m\n\u001b[1;32m--> 681\u001b[1;33m         res = _minimize_lbfgsb(fun, x0, args, jac, bounds,\n\u001b[0m\u001b[0;32m    682\u001b[0m                                callback=callback, **options)\n\u001b[0;32m    683\u001b[0m     \u001b[1;32melif\u001b[0m \u001b[0mmeth\u001b[0m \u001b[1;33m==\u001b[0m \u001b[1;34m'tnc'\u001b[0m\u001b[1;33m:\u001b[0m\u001b[1;33m\u001b[0m\u001b[1;33m\u001b[0m\u001b[0m\n",
      "\u001b[1;32mD:\\Softwares\\Anaconda\\lib\\site-packages\\scipy\\optimize\\_lbfgsb_py.py\u001b[0m in \u001b[0;36m_minimize_lbfgsb\u001b[1;34m(fun, x0, args, jac, bounds, disp, maxcor, ftol, gtol, eps, maxfun, maxiter, iprint, callback, maxls, finite_diff_rel_step, **unknown_options)\u001b[0m\n\u001b[0;32m    306\u001b[0m             \u001b[0miprint\u001b[0m \u001b[1;33m=\u001b[0m \u001b[0mdisp\u001b[0m\u001b[1;33m\u001b[0m\u001b[1;33m\u001b[0m\u001b[0m\n\u001b[0;32m    307\u001b[0m \u001b[1;33m\u001b[0m\u001b[0m\n\u001b[1;32m--> 308\u001b[1;33m     sf = _prepare_scalar_function(fun, x0, jac=jac, args=args, epsilon=eps,\n\u001b[0m\u001b[0;32m    309\u001b[0m                                   \u001b[0mbounds\u001b[0m\u001b[1;33m=\u001b[0m\u001b[0mnew_bounds\u001b[0m\u001b[1;33m,\u001b[0m\u001b[1;33m\u001b[0m\u001b[1;33m\u001b[0m\u001b[0m\n\u001b[0;32m    310\u001b[0m                                   finite_diff_rel_step=finite_diff_rel_step)\n",
      "\u001b[1;32mD:\\Softwares\\Anaconda\\lib\\site-packages\\scipy\\optimize\\_optimize.py\u001b[0m in \u001b[0;36m_prepare_scalar_function\u001b[1;34m(fun, x0, jac, args, bounds, epsilon, finite_diff_rel_step, hess)\u001b[0m\n\u001b[0;32m    261\u001b[0m     \u001b[1;31m# ScalarFunction caches. Reuse of fun(x) during grad\u001b[0m\u001b[1;33m\u001b[0m\u001b[1;33m\u001b[0m\u001b[0m\n\u001b[0;32m    262\u001b[0m     \u001b[1;31m# calculation reduces overall function evaluations.\u001b[0m\u001b[1;33m\u001b[0m\u001b[1;33m\u001b[0m\u001b[0m\n\u001b[1;32m--> 263\u001b[1;33m     sf = ScalarFunction(fun, x0, args, grad, hess,\n\u001b[0m\u001b[0;32m    264\u001b[0m                         finite_diff_rel_step, bounds, epsilon=epsilon)\n\u001b[0;32m    265\u001b[0m \u001b[1;33m\u001b[0m\u001b[0m\n",
      "\u001b[1;32mD:\\Softwares\\Anaconda\\lib\\site-packages\\scipy\\optimize\\_differentiable_functions.py\u001b[0m in \u001b[0;36m__init__\u001b[1;34m(self, fun, x0, args, grad, hess, finite_diff_rel_step, finite_diff_bounds, epsilon)\u001b[0m\n\u001b[0;32m    156\u001b[0m \u001b[1;33m\u001b[0m\u001b[0m\n\u001b[0;32m    157\u001b[0m         \u001b[0mself\u001b[0m\u001b[1;33m.\u001b[0m\u001b[0m_update_fun_impl\u001b[0m \u001b[1;33m=\u001b[0m \u001b[0mupdate_fun\u001b[0m\u001b[1;33m\u001b[0m\u001b[1;33m\u001b[0m\u001b[0m\n\u001b[1;32m--> 158\u001b[1;33m         \u001b[0mself\u001b[0m\u001b[1;33m.\u001b[0m\u001b[0m_update_fun\u001b[0m\u001b[1;33m(\u001b[0m\u001b[1;33m)\u001b[0m\u001b[1;33m\u001b[0m\u001b[1;33m\u001b[0m\u001b[0m\n\u001b[0m\u001b[0;32m    159\u001b[0m \u001b[1;33m\u001b[0m\u001b[0m\n\u001b[0;32m    160\u001b[0m         \u001b[1;31m# Gradient evaluation\u001b[0m\u001b[1;33m\u001b[0m\u001b[1;33m\u001b[0m\u001b[0m\n",
      "\u001b[1;32mD:\\Softwares\\Anaconda\\lib\\site-packages\\scipy\\optimize\\_differentiable_functions.py\u001b[0m in \u001b[0;36m_update_fun\u001b[1;34m(self)\u001b[0m\n\u001b[0;32m    249\u001b[0m     \u001b[1;32mdef\u001b[0m \u001b[0m_update_fun\u001b[0m\u001b[1;33m(\u001b[0m\u001b[0mself\u001b[0m\u001b[1;33m)\u001b[0m\u001b[1;33m:\u001b[0m\u001b[1;33m\u001b[0m\u001b[1;33m\u001b[0m\u001b[0m\n\u001b[0;32m    250\u001b[0m         \u001b[1;32mif\u001b[0m \u001b[1;32mnot\u001b[0m \u001b[0mself\u001b[0m\u001b[1;33m.\u001b[0m\u001b[0mf_updated\u001b[0m\u001b[1;33m:\u001b[0m\u001b[1;33m\u001b[0m\u001b[1;33m\u001b[0m\u001b[0m\n\u001b[1;32m--> 251\u001b[1;33m             \u001b[0mself\u001b[0m\u001b[1;33m.\u001b[0m\u001b[0m_update_fun_impl\u001b[0m\u001b[1;33m(\u001b[0m\u001b[1;33m)\u001b[0m\u001b[1;33m\u001b[0m\u001b[1;33m\u001b[0m\u001b[0m\n\u001b[0m\u001b[0;32m    252\u001b[0m             \u001b[0mself\u001b[0m\u001b[1;33m.\u001b[0m\u001b[0mf_updated\u001b[0m \u001b[1;33m=\u001b[0m \u001b[1;32mTrue\u001b[0m\u001b[1;33m\u001b[0m\u001b[1;33m\u001b[0m\u001b[0m\n\u001b[0;32m    253\u001b[0m \u001b[1;33m\u001b[0m\u001b[0m\n",
      "\u001b[1;32mD:\\Softwares\\Anaconda\\lib\\site-packages\\scipy\\optimize\\_differentiable_functions.py\u001b[0m in \u001b[0;36mupdate_fun\u001b[1;34m()\u001b[0m\n\u001b[0;32m    153\u001b[0m \u001b[1;33m\u001b[0m\u001b[0m\n\u001b[0;32m    154\u001b[0m         \u001b[1;32mdef\u001b[0m \u001b[0mupdate_fun\u001b[0m\u001b[1;33m(\u001b[0m\u001b[1;33m)\u001b[0m\u001b[1;33m:\u001b[0m\u001b[1;33m\u001b[0m\u001b[1;33m\u001b[0m\u001b[0m\n\u001b[1;32m--> 155\u001b[1;33m             \u001b[0mself\u001b[0m\u001b[1;33m.\u001b[0m\u001b[0mf\u001b[0m \u001b[1;33m=\u001b[0m \u001b[0mfun_wrapped\u001b[0m\u001b[1;33m(\u001b[0m\u001b[0mself\u001b[0m\u001b[1;33m.\u001b[0m\u001b[0mx\u001b[0m\u001b[1;33m)\u001b[0m\u001b[1;33m\u001b[0m\u001b[1;33m\u001b[0m\u001b[0m\n\u001b[0m\u001b[0;32m    156\u001b[0m \u001b[1;33m\u001b[0m\u001b[0m\n\u001b[0;32m    157\u001b[0m         \u001b[0mself\u001b[0m\u001b[1;33m.\u001b[0m\u001b[0m_update_fun_impl\u001b[0m \u001b[1;33m=\u001b[0m \u001b[0mupdate_fun\u001b[0m\u001b[1;33m\u001b[0m\u001b[1;33m\u001b[0m\u001b[0m\n",
      "\u001b[1;32mD:\\Softwares\\Anaconda\\lib\\site-packages\\scipy\\optimize\\_differentiable_functions.py\u001b[0m in \u001b[0;36mfun_wrapped\u001b[1;34m(x)\u001b[0m\n\u001b[0;32m    146\u001b[0m                     ) from e\n\u001b[0;32m    147\u001b[0m \u001b[1;33m\u001b[0m\u001b[0m\n\u001b[1;32m--> 148\u001b[1;33m             \u001b[1;32mif\u001b[0m \u001b[0mfx\u001b[0m \u001b[1;33m<\u001b[0m \u001b[0mself\u001b[0m\u001b[1;33m.\u001b[0m\u001b[0m_lowest_f\u001b[0m\u001b[1;33m:\u001b[0m\u001b[1;33m\u001b[0m\u001b[1;33m\u001b[0m\u001b[0m\n\u001b[0m\u001b[0;32m    149\u001b[0m                 \u001b[0mself\u001b[0m\u001b[1;33m.\u001b[0m\u001b[0m_lowest_x\u001b[0m \u001b[1;33m=\u001b[0m \u001b[0mx\u001b[0m\u001b[1;33m\u001b[0m\u001b[1;33m\u001b[0m\u001b[0m\n\u001b[0;32m    150\u001b[0m                 \u001b[0mself\u001b[0m\u001b[1;33m.\u001b[0m\u001b[0m_lowest_f\u001b[0m \u001b[1;33m=\u001b[0m \u001b[0mfx\u001b[0m\u001b[1;33m\u001b[0m\u001b[1;33m\u001b[0m\u001b[0m\n",
      "\u001b[1;31mTypeError\u001b[0m: '<' not supported between instances of 'NoneType' and 'float'"
     ]
    }
   ],
   "source": [
    "estimation = estim_sv_ind_inf_arma(θ0, T, H, h0, α_init, α_hat)\n",
    "θ_hat = estimation\n",
    "θ_hat - θ"
   ]
  },
  {
   "cell_type": "code",
   "execution_count": null,
   "id": "8a9d22de",
   "metadata": {},
   "outputs": [],
   "source": []
  },
  {
   "cell_type": "code",
   "execution_count": null,
   "id": "e025329b",
   "metadata": {},
   "outputs": [],
   "source": []
  },
  {
   "cell_type": "code",
   "execution_count": null,
   "id": "a9b46a04",
   "metadata": {},
   "outputs": [],
   "source": []
  },
  {
   "cell_type": "code",
   "execution_count": null,
   "id": "9d6fa523",
   "metadata": {},
   "outputs": [],
   "source": []
  },
  {
   "cell_type": "code",
   "execution_count": null,
   "id": "3ddfa7f0",
   "metadata": {},
   "outputs": [],
   "source": []
  },
  {
   "cell_type": "code",
   "execution_count": 3,
   "id": "00deb6e7",
   "metadata": {},
   "outputs": [],
   "source": [
    "def sv_simul_can(θ, log_h0):\n",
    "    ω = θ[0]\n",
    "    α = θ[1]\n",
    "    σ = θ[2]\n",
    "    η = np.random.normal(0, 1, T)\n",
    "    v  = np.random.normal(0, 1, T)\n",
    "    ϵ_t = np.empty(0)\n",
    "    log_h = np.empty(0)\n",
    "\n",
    "    log_h = np.append(log_h, ω + β * log_h0 + σ * v[0])\n",
    "    ϵ_t = np.append(ϵ_t, np.sqrt(np.exp(log_h[0])) * η[0])\n",
    "\n",
    "    for t in range(1, T):\n",
    "        log_h = np.append(log_h, ω + β * log_h[t-1] + σ * v[t])\n",
    "        ϵ_t = np.append(ϵ_t, np.sqrt(np.exp(log_h[t])) * η[t])\n",
    "        \n",
    "    return ϵ_t, log_h"
   ]
  },
  {
   "cell_type": "code",
   "execution_count": 4,
   "id": "279a0680",
   "metadata": {},
   "outputs": [],
   "source": []
  },
  {
   "cell_type": "code",
   "execution_count": 5,
   "id": "49ddee2a",
   "metadata": {},
   "outputs": [],
   "source": [
    "data = sv_simul_can(θ, log_h0)\n",
    "ϵ_t = data[0]\n",
    "log_h = data[1]"
   ]
  },
  {
   "cell_type": "code",
   "execution_count": 6,
   "id": "557aa4ab",
   "metadata": {},
   "outputs": [
    {
     "data": {
      "text/plain": [
       "[<matplotlib.lines.Line2D at 0x1ac011969a0>]"
      ]
     },
     "execution_count": 6,
     "metadata": {},
     "output_type": "execute_result"
    },
    {
     "data": {
      "image/png": "[encoded data removed]",
      "text/plain": [
       "<Figure size 432x288 with 1 Axes>"
      ]
     },
     "metadata": {
      "needs_background": "light"
     },
     "output_type": "display_data"
    }
   ],
   "source": [
    "plt.plot(range(T), ϵ_t)\n",
    "plt.plot(range(T), np.sqrt(np.exp(log_h)))"
   ]
  },
  {
   "cell_type": "code",
   "execution_count": null,
   "id": "818afb5f",
   "metadata": {},
   "outputs": [],
   "source": []
  },
  {
   "cell_type": "code",
   "execution_count": null,
   "id": "c2fb7fb3",
   "metadata": {},
   "outputs": [],
   "source": []
  },
  {
   "cell_type": "code",
   "execution_count": null,
   "id": "509decf7",
   "metadata": {},
   "outputs": [],
   "source": []
  }
 ],
 "metadata": {
  "kernelspec": {
   "display_name": "Python 3 (ipykernel)",
   "language": "python",
   "name": "python3"
  },
  "language_info": {
   "codemirror_mode": {
    "name": "ipython",
    "version": 3
   },
   "file_extension": ".py",
   "mimetype": "text/x-python",
   "name": "python",
   "nbconvert_exporter": "python",
   "pygments_lexer": "ipython3",
   "version": "3.9.7"
  }
 },
 "nbformat": 4,
 "nbformat_minor": 5
}
